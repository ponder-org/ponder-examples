{
 "cells": [
  {
   "cell_type": "markdown",
   "id": "10931462-726a-45b0-b335-01f942a03a46",
   "metadata": {},
   "source": [
    "# Tutorial 6: Advanced Usage - Working with SQL"
   ]
  },
  {
   "cell_type": "markdown",
   "id": "8a32d0d3-cf40-4089-8c8a-a62fe76b26f9",
   "metadata": {},
   "source": [
    "<div class=\"alert alert-block alert-info\"> <b>Before we get started: </b> \n",
    "    <ul style=\"list-style-type: none;margin: 0;padding: 0;\">\n",
    "        <li>✍️ To run this notebook, you need to have Ponder installed and set up on your machine. If you have not done so already, please refer to our <a href=\"https://docs.ponder.io/getting_started/quickstart.html\">Quickstart guide</a> to get started.</li>\n",
    "        <li>📖 Otherwise, if you're just interested in browsing through the tutorial, keep reading below!</li>\n",
    "    </ul>\n",
    "</div>"
   ]
  },
  {
   "cell_type": "markdown",
   "id": "42201643-37bd-472c-b3f7-ba10cfeb309a",
   "metadata": {},
   "source": [
    "In this tutorial, we will showcase a few tips and tricks that helps you more easily move between Ponder and SQL. We will be using the [MIMIC-III demo dataset](https://physionet.org/content/mimiciii-demo/1.4/) as an example dataset. The MIMIC-III Clinical Database contains deidentified health-related data of patients who stayed in an intensive care unit (ICU) at the Beth Israel Deaconess Medical Center in Boston. The demo dataset contains records for 100 patients across three tables `PATIENTS`, `ICUSTAYS`, and `ADMISSIONS`. "
   ]
  },
  {
   "cell_type": "code",
   "execution_count": 1,
   "id": "c9d6d1ba-9399-4053-b86d-eef1e496f36f",
   "metadata": {},
   "outputs": [],
   "source": [
    "import os; os.chdir(\"..\")"
   ]
  },
  {
   "cell_type": "code",
   "execution_count": 2,
   "id": "ea3509cc-fdae-40cb-aa26-313834012074",
   "metadata": {},
   "outputs": [
    {
     "name": "stdout",
     "output_type": "stream",
     "text": [
      "2023-04-21 05:51:49,505 - <module ponder> - WARNING - New version of Ponder is available! `pip install --upgrade ponder` to install!\n"
     ]
    }
   ],
   "source": [
    "import ponder; ponder.init()\n",
    "import modin.pandas as pd"
   ]
  },
  {
   "cell_type": "markdown",
   "id": "e13d4e70-9c07-4d8c-ae20-64a1fc60115f",
   "metadata": {
    "tags": []
   },
   "source": [
    "### Data Definition (DDL) with DuckDB"
   ]
  },
  {
   "cell_type": "markdown",
   "id": "6119561b-0c30-45a6-8527-8d3a97dd1d5a",
   "metadata": {},
   "source": [
    "In SQL, DDL statements involve modifications to the database schema, e.g., `CREATE`, `ALTER`, `DROP`. Oftentimes, you may want to run a DDL statement alongside your analysis, either via an external query editor or through SQLAlchemy. \n",
    "\n"
   ]
  },
  {
   "cell_type": "markdown",
   "id": "59a21b2a-26a7-4b6a-9fe6-0b31dfbfe77e",
   "metadata": {},
   "source": [
    "You can reuse the same DuckDB connection used for Ponder to run any SQL queries."
   ]
  },
  {
   "cell_type": "code",
   "execution_count": 3,
   "id": "6d0cb867-f3f3-491d-96f0-d34b92f75ba7",
   "metadata": {},
   "outputs": [],
   "source": [
    "import duckdb\n",
    "duckdb_con = duckdb.connect(\"ponder.db\")"
   ]
  },
  {
   "cell_type": "code",
   "execution_count": 4,
   "id": "359a2285-8c84-4824-9bb8-f813386d9221",
   "metadata": {},
   "outputs": [],
   "source": [
    "ponder.configure(default_connection=duckdb_con)"
   ]
  },
  {
   "cell_type": "markdown",
   "id": "bc3020f9-9694-4af2-9063-cddd19266ca0",
   "metadata": {},
   "source": [
    "Then we can run the SQL query directly to create a new database named `MIMIC3`"
   ]
  },
  {
   "cell_type": "code",
   "execution_count": 5,
   "id": "ac5d670a-a171-47e0-9491-a6072acc2d2d",
   "metadata": {
    "tags": []
   },
   "outputs": [
    {
     "data": {
      "text/plain": [
       "<duckdb.DuckDBPyConnection at 0x16c78a6f0>"
      ]
     },
     "execution_count": 5,
     "metadata": {},
     "output_type": "execute_result"
    }
   ],
   "source": [
    "duckdb_con.execute(\"CREATE SCHEMA IF NOT EXISTS MIMIC3;\") "
   ]
  },
  {
   "cell_type": "markdown",
   "id": "7b3bde16-fe9f-4160-99b4-a4d56a1e7009",
   "metadata": {},
   "source": [
    "Now if we print out the database, we can see the new schema MIMIC3 added: "
   ]
  },
  {
   "cell_type": "code",
   "execution_count": 6,
   "id": "891a5c82-39e8-4f42-8651-a6e6c252c457",
   "metadata": {},
   "outputs": [
    {
     "data": {
      "text/html": [
       "<div>\n",
       "<style scoped>\n",
       "    .dataframe tbody tr th:only-of-type {\n",
       "        vertical-align: middle;\n",
       "    }\n",
       "\n",
       "    .dataframe tbody tr th {\n",
       "        vertical-align: top;\n",
       "    }\n",
       "\n",
       "    .dataframe thead th {\n",
       "        text-align: right;\n",
       "    }\n",
       "</style>\n",
       "<table border=\"1\" class=\"dataframe\">\n",
       "  <thead>\n",
       "    <tr style=\"text-align: right;\">\n",
       "      <th></th>\n",
       "      <th>catalog_name</th>\n",
       "      <th>schema_name</th>\n",
       "      <th>schema_owner</th>\n",
       "      <th>default_character_set_catalog</th>\n",
       "      <th>default_character_set_schema</th>\n",
       "      <th>default_character_set_name</th>\n",
       "      <th>sql_path</th>\n",
       "    </tr>\n",
       "  </thead>\n",
       "  <tbody>\n",
       "    <tr>\n",
       "      <th>0</th>\n",
       "      <td>ponder</td>\n",
       "      <td>MIMIC3</td>\n",
       "      <td>duckdb</td>\n",
       "      <td>NaN</td>\n",
       "      <td>NaN</td>\n",
       "      <td>NaN</td>\n",
       "      <td>NaN</td>\n",
       "    </tr>\n",
       "    <tr>\n",
       "      <th>1</th>\n",
       "      <td>ponder</td>\n",
       "      <td>information_schema</td>\n",
       "      <td>duckdb</td>\n",
       "      <td>NaN</td>\n",
       "      <td>NaN</td>\n",
       "      <td>NaN</td>\n",
       "      <td>NaN</td>\n",
       "    </tr>\n",
       "    <tr>\n",
       "      <th>2</th>\n",
       "      <td>ponder</td>\n",
       "      <td>main</td>\n",
       "      <td>duckdb</td>\n",
       "      <td>NaN</td>\n",
       "      <td>NaN</td>\n",
       "      <td>NaN</td>\n",
       "      <td>NaN</td>\n",
       "    </tr>\n",
       "    <tr>\n",
       "      <th>3</th>\n",
       "      <td>ponder</td>\n",
       "      <td>pg_catalog</td>\n",
       "      <td>duckdb</td>\n",
       "      <td>NaN</td>\n",
       "      <td>NaN</td>\n",
       "      <td>NaN</td>\n",
       "      <td>NaN</td>\n",
       "    </tr>\n",
       "    <tr>\n",
       "      <th>4</th>\n",
       "      <td>system</td>\n",
       "      <td>information_schema</td>\n",
       "      <td>duckdb</td>\n",
       "      <td>NaN</td>\n",
       "      <td>NaN</td>\n",
       "      <td>NaN</td>\n",
       "      <td>NaN</td>\n",
       "    </tr>\n",
       "    <tr>\n",
       "      <th>5</th>\n",
       "      <td>system</td>\n",
       "      <td>main</td>\n",
       "      <td>duckdb</td>\n",
       "      <td>NaN</td>\n",
       "      <td>NaN</td>\n",
       "      <td>NaN</td>\n",
       "      <td>NaN</td>\n",
       "    </tr>\n",
       "    <tr>\n",
       "      <th>6</th>\n",
       "      <td>system</td>\n",
       "      <td>pg_catalog</td>\n",
       "      <td>duckdb</td>\n",
       "      <td>NaN</td>\n",
       "      <td>NaN</td>\n",
       "      <td>NaN</td>\n",
       "      <td>NaN</td>\n",
       "    </tr>\n",
       "    <tr>\n",
       "      <th>7</th>\n",
       "      <td>temp</td>\n",
       "      <td>information_schema</td>\n",
       "      <td>duckdb</td>\n",
       "      <td>NaN</td>\n",
       "      <td>NaN</td>\n",
       "      <td>NaN</td>\n",
       "      <td>NaN</td>\n",
       "    </tr>\n",
       "    <tr>\n",
       "      <th>8</th>\n",
       "      <td>temp</td>\n",
       "      <td>main</td>\n",
       "      <td>duckdb</td>\n",
       "      <td>NaN</td>\n",
       "      <td>NaN</td>\n",
       "      <td>NaN</td>\n",
       "      <td>NaN</td>\n",
       "    </tr>\n",
       "    <tr>\n",
       "      <th>9</th>\n",
       "      <td>temp</td>\n",
       "      <td>pg_catalog</td>\n",
       "      <td>duckdb</td>\n",
       "      <td>NaN</td>\n",
       "      <td>NaN</td>\n",
       "      <td>NaN</td>\n",
       "      <td>NaN</td>\n",
       "    </tr>\n",
       "  </tbody>\n",
       "</table>\n",
       "</div>"
      ],
      "text/plain": [
       "  catalog_name         schema_name schema_owner  \\\n",
       "0       ponder              MIMIC3       duckdb   \n",
       "1       ponder  information_schema       duckdb   \n",
       "2       ponder                main       duckdb   \n",
       "3       ponder          pg_catalog       duckdb   \n",
       "4       system  information_schema       duckdb   \n",
       "5       system                main       duckdb   \n",
       "6       system          pg_catalog       duckdb   \n",
       "7         temp  information_schema       duckdb   \n",
       "8         temp                main       duckdb   \n",
       "9         temp          pg_catalog       duckdb   \n",
       "\n",
       "   default_character_set_catalog  default_character_set_schema  \\\n",
       "0                            NaN                           NaN   \n",
       "1                            NaN                           NaN   \n",
       "2                            NaN                           NaN   \n",
       "3                            NaN                           NaN   \n",
       "4                            NaN                           NaN   \n",
       "5                            NaN                           NaN   \n",
       "6                            NaN                           NaN   \n",
       "7                            NaN                           NaN   \n",
       "8                            NaN                           NaN   \n",
       "9                            NaN                           NaN   \n",
       "\n",
       "   default_character_set_name sql_path  \n",
       "0                         NaN      NaN  \n",
       "1                         NaN      NaN  \n",
       "2                         NaN      NaN  \n",
       "3                         NaN      NaN  \n",
       "4                         NaN      NaN  \n",
       "5                         NaN      NaN  \n",
       "6                         NaN      NaN  \n",
       "7                         NaN      NaN  \n",
       "8                         NaN      NaN  \n",
       "9                         NaN      NaN  "
      ]
     },
     "execution_count": 6,
     "metadata": {},
     "output_type": "execute_result"
    }
   ],
   "source": [
    "duckdb_con.execute('SELECT * FROM information_schema.schemata;').df()"
   ]
  },
  {
   "cell_type": "markdown",
   "id": "a9fcc00c-ea17-442d-9fa7-ce0c2e3446a3",
   "metadata": {},
   "source": [
    "In DuckDB, the default schema is `main`, you can print out the list of tables in `main`:"
   ]
  },
  {
   "cell_type": "code",
   "execution_count": 7,
   "id": "3a645f3e-5462-4df1-8466-3d491c03f396",
   "metadata": {},
   "outputs": [
    {
     "data": {
      "text/html": [
       "<div>\n",
       "<style scoped>\n",
       "    .dataframe tbody tr th:only-of-type {\n",
       "        vertical-align: middle;\n",
       "    }\n",
       "\n",
       "    .dataframe tbody tr th {\n",
       "        vertical-align: top;\n",
       "    }\n",
       "\n",
       "    .dataframe thead th {\n",
       "        text-align: right;\n",
       "    }\n",
       "</style>\n",
       "<table border=\"1\" class=\"dataframe\">\n",
       "  <thead>\n",
       "    <tr style=\"text-align: right;\">\n",
       "      <th></th>\n",
       "      <th>database_name</th>\n",
       "      <th>database_oid</th>\n",
       "      <th>schema_name</th>\n",
       "      <th>schema_oid</th>\n",
       "      <th>table_name</th>\n",
       "      <th>table_oid</th>\n",
       "      <th>internal</th>\n",
       "      <th>temporary</th>\n",
       "      <th>has_primary_key</th>\n",
       "      <th>estimated_size</th>\n",
       "      <th>column_count</th>\n",
       "      <th>index_count</th>\n",
       "      <th>check_constraint_count</th>\n",
       "      <th>sql</th>\n",
       "    </tr>\n",
       "  </thead>\n",
       "  <tbody>\n",
       "    <tr>\n",
       "      <th>0</th>\n",
       "      <td>ponder</td>\n",
       "      <td>4</td>\n",
       "      <td>main</td>\n",
       "      <td>856</td>\n",
       "      <td>PONDER_CITIBIKE</td>\n",
       "      <td>878</td>\n",
       "      <td>False</td>\n",
       "      <td>False</td>\n",
       "      <td>False</td>\n",
       "      <td>118865</td>\n",
       "      <td>15</td>\n",
       "      <td>0</td>\n",
       "      <td>0</td>\n",
       "      <td>CREATE TABLE \"PONDER_CITIBIKE\"(tripduration DO...</td>\n",
       "    </tr>\n",
       "    <tr>\n",
       "      <th>1</th>\n",
       "      <td>ponder</td>\n",
       "      <td>4</td>\n",
       "      <td>main</td>\n",
       "      <td>856</td>\n",
       "      <td>PONDER_BOOKS</td>\n",
       "      <td>876</td>\n",
       "      <td>False</td>\n",
       "      <td>False</td>\n",
       "      <td>False</td>\n",
       "      <td>11123</td>\n",
       "      <td>12</td>\n",
       "      <td>0</td>\n",
       "      <td>0</td>\n",
       "      <td>CREATE TABLE \"PONDER_BOOKS\"(\"bookID\" BIGINT, t...</td>\n",
       "    </tr>\n",
       "    <tr>\n",
       "      <th>2</th>\n",
       "      <td>ponder</td>\n",
       "      <td>4</td>\n",
       "      <td>main</td>\n",
       "      <td>856</td>\n",
       "      <td>PONDER_TAXI</td>\n",
       "      <td>874</td>\n",
       "      <td>False</td>\n",
       "      <td>False</td>\n",
       "      <td>False</td>\n",
       "      <td>210035</td>\n",
       "      <td>17</td>\n",
       "      <td>0</td>\n",
       "      <td>0</td>\n",
       "      <td>CREATE TABLE \"PONDER_TAXI\"(\"VENDORID\" BIGINT, ...</td>\n",
       "    </tr>\n",
       "    <tr>\n",
       "      <th>3</th>\n",
       "      <td>ponder</td>\n",
       "      <td>4</td>\n",
       "      <td>main</td>\n",
       "      <td>856</td>\n",
       "      <td>PONDER_CUSTOMER</td>\n",
       "      <td>872</td>\n",
       "      <td>False</td>\n",
       "      <td>False</td>\n",
       "      <td>False</td>\n",
       "      <td>100</td>\n",
       "      <td>8</td>\n",
       "      <td>0</td>\n",
       "      <td>0</td>\n",
       "      <td>CREATE TABLE \"PONDER_CUSTOMER\"(\"C_CUSTKEY\" BIG...</td>\n",
       "    </tr>\n",
       "    <tr>\n",
       "      <th>4</th>\n",
       "      <td>ponder</td>\n",
       "      <td>4</td>\n",
       "      <td>main</td>\n",
       "      <td>856</td>\n",
       "      <td>PONDER_ORDERS</td>\n",
       "      <td>870</td>\n",
       "      <td>False</td>\n",
       "      <td>False</td>\n",
       "      <td>False</td>\n",
       "      <td>145</td>\n",
       "      <td>9</td>\n",
       "      <td>0</td>\n",
       "      <td>0</td>\n",
       "      <td>CREATE TABLE \"PONDER_ORDERS\"(\"O_ORDERKEY\" BIGI...</td>\n",
       "    </tr>\n",
       "    <tr>\n",
       "      <th>5</th>\n",
       "      <td>ponder</td>\n",
       "      <td>4</td>\n",
       "      <td>main</td>\n",
       "      <td>856</td>\n",
       "      <td>PONDER_PART</td>\n",
       "      <td>868</td>\n",
       "      <td>False</td>\n",
       "      <td>False</td>\n",
       "      <td>False</td>\n",
       "      <td>3893</td>\n",
       "      <td>9</td>\n",
       "      <td>0</td>\n",
       "      <td>0</td>\n",
       "      <td>CREATE TABLE \"PONDER_PART\"(\"P_PARTKEY\" BIGINT,...</td>\n",
       "    </tr>\n",
       "    <tr>\n",
       "      <th>6</th>\n",
       "      <td>ponder</td>\n",
       "      <td>4</td>\n",
       "      <td>main</td>\n",
       "      <td>856</td>\n",
       "      <td>PONDER_SUPPLIER</td>\n",
       "      <td>866</td>\n",
       "      <td>False</td>\n",
       "      <td>False</td>\n",
       "      <td>False</td>\n",
       "      <td>3255</td>\n",
       "      <td>7</td>\n",
       "      <td>0</td>\n",
       "      <td>0</td>\n",
       "      <td>CREATE TABLE \"PONDER_SUPPLIER\"(\"S_SUPPKEY\" BIG...</td>\n",
       "    </tr>\n",
       "  </tbody>\n",
       "</table>\n",
       "</div>"
      ],
      "text/plain": [
       "  database_name  database_oid schema_name  schema_oid       table_name  \\\n",
       "0        ponder             4        main         856  PONDER_CITIBIKE   \n",
       "1        ponder             4        main         856     PONDER_BOOKS   \n",
       "2        ponder             4        main         856      PONDER_TAXI   \n",
       "3        ponder             4        main         856  PONDER_CUSTOMER   \n",
       "4        ponder             4        main         856    PONDER_ORDERS   \n",
       "5        ponder             4        main         856      PONDER_PART   \n",
       "6        ponder             4        main         856  PONDER_SUPPLIER   \n",
       "\n",
       "   table_oid  internal  temporary  has_primary_key  estimated_size  \\\n",
       "0        878     False      False            False          118865   \n",
       "1        876     False      False            False           11123   \n",
       "2        874     False      False            False          210035   \n",
       "3        872     False      False            False             100   \n",
       "4        870     False      False            False             145   \n",
       "5        868     False      False            False            3893   \n",
       "6        866     False      False            False            3255   \n",
       "\n",
       "   column_count  index_count  check_constraint_count  \\\n",
       "0            15            0                       0   \n",
       "1            12            0                       0   \n",
       "2            17            0                       0   \n",
       "3             8            0                       0   \n",
       "4             9            0                       0   \n",
       "5             9            0                       0   \n",
       "6             7            0                       0   \n",
       "\n",
       "                                                 sql  \n",
       "0  CREATE TABLE \"PONDER_CITIBIKE\"(tripduration DO...  \n",
       "1  CREATE TABLE \"PONDER_BOOKS\"(\"bookID\" BIGINT, t...  \n",
       "2  CREATE TABLE \"PONDER_TAXI\"(\"VENDORID\" BIGINT, ...  \n",
       "3  CREATE TABLE \"PONDER_CUSTOMER\"(\"C_CUSTKEY\" BIG...  \n",
       "4  CREATE TABLE \"PONDER_ORDERS\"(\"O_ORDERKEY\" BIGI...  \n",
       "5  CREATE TABLE \"PONDER_PART\"(\"P_PARTKEY\" BIGINT,...  \n",
       "6  CREATE TABLE \"PONDER_SUPPLIER\"(\"S_SUPPKEY\" BIG...  "
      ]
     },
     "execution_count": 7,
     "metadata": {},
     "output_type": "execute_result"
    }
   ],
   "source": [
    "duckdb_con.execute('SELECT * FROM duckdb_tables;').df()"
   ]
  },
  {
   "cell_type": "markdown",
   "id": "4f77a8a2-b887-46b9-b976-29b3a8f5b003",
   "metadata": {},
   "source": [
    "Finally, you can close the DuckDB connection when you finish. "
   ]
  },
  {
   "cell_type": "code",
   "execution_count": 8,
   "id": "6cedcb9a-58aa-4644-8420-0525a19ac294",
   "metadata": {},
   "outputs": [],
   "source": [
    "duckdb_con.close()"
   ]
  },
  {
   "cell_type": "markdown",
   "id": "500047be-bb6a-496a-83cc-c169a58f4194",
   "metadata": {},
   "source": [
    "### Existing SQL DML with Ponder"
   ]
  },
  {
   "cell_type": "markdown",
   "id": "16afc971-155e-4efd-8175-9c2c0940122c",
   "metadata": {},
   "source": [
    "We will be using a few example tables for the remainder of this tutorial. You can run this python script to populate the required datasets to your database. This will populate three different tables `PATIENTS`, `ADMISSIONS`, and `ICUSTAYS` to your database. "
   ]
  },
  {
   "cell_type": "code",
   "execution_count": 9,
   "id": "e222b37f-ca2a-4ef7-b7c3-d0b795eb5942",
   "metadata": {},
   "outputs": [
    {
     "name": "stdout",
     "output_type": "stream",
     "text": [
      "2023-04-21 05:52:07,305 - <module ponder> - WARNING - New version of Ponder is available! `pip install --upgrade ponder` to install!\n",
      "Uploaded dataset to ICUSTAYS\n",
      "Uploaded dataset to PATIENTS\n",
      "Uploaded dataset to ADMISSIONS\n"
     ]
    }
   ],
   "source": [
    "!python populate_mimic3.py"
   ]
  },
  {
   "cell_type": "code",
   "execution_count": 10,
   "id": "f27049ca-288b-4c1d-b5a4-f36e79454a1d",
   "metadata": {},
   "outputs": [],
   "source": [
    "import duckdb\n",
    "duckdb_con = duckdb.connect(\"mimic3.db\")\n",
    "ponder.configure(default_connection=duckdb_con)"
   ]
  },
  {
   "cell_type": "code",
   "execution_count": 11,
   "id": "421e9163-70f0-4e51-96b9-ebdd24ada441",
   "metadata": {},
   "outputs": [
    {
     "data": {
      "text/html": [
       "<div>\n",
       "<style scoped>\n",
       "    .dataframe tbody tr th:only-of-type {\n",
       "        vertical-align: middle;\n",
       "    }\n",
       "\n",
       "    .dataframe tbody tr th {\n",
       "        vertical-align: top;\n",
       "    }\n",
       "\n",
       "    .dataframe thead th {\n",
       "        text-align: right;\n",
       "    }\n",
       "</style>\n",
       "<table border=\"1\" class=\"dataframe\">\n",
       "  <thead>\n",
       "    <tr style=\"text-align: right;\">\n",
       "      <th></th>\n",
       "      <th>database_name</th>\n",
       "      <th>database_oid</th>\n",
       "      <th>schema_name</th>\n",
       "      <th>schema_oid</th>\n",
       "      <th>table_name</th>\n",
       "      <th>table_oid</th>\n",
       "      <th>internal</th>\n",
       "      <th>temporary</th>\n",
       "      <th>has_primary_key</th>\n",
       "      <th>estimated_size</th>\n",
       "      <th>column_count</th>\n",
       "      <th>index_count</th>\n",
       "      <th>check_constraint_count</th>\n",
       "      <th>sql</th>\n",
       "    </tr>\n",
       "  </thead>\n",
       "  <tbody>\n",
       "    <tr>\n",
       "      <th>0</th>\n",
       "      <td>mimic3</td>\n",
       "      <td>4</td>\n",
       "      <td>main</td>\n",
       "      <td>856</td>\n",
       "      <td>ICUSTAYS</td>\n",
       "      <td>870</td>\n",
       "      <td>False</td>\n",
       "      <td>False</td>\n",
       "      <td>False</td>\n",
       "      <td>136</td>\n",
       "      <td>12</td>\n",
       "      <td>0</td>\n",
       "      <td>0</td>\n",
       "      <td>CREATE TABLE \"ICUSTAYS\"(row_id BIGINT, subject...</td>\n",
       "    </tr>\n",
       "    <tr>\n",
       "      <th>1</th>\n",
       "      <td>mimic3</td>\n",
       "      <td>4</td>\n",
       "      <td>main</td>\n",
       "      <td>856</td>\n",
       "      <td>PATIENTS</td>\n",
       "      <td>868</td>\n",
       "      <td>False</td>\n",
       "      <td>False</td>\n",
       "      <td>False</td>\n",
       "      <td>100</td>\n",
       "      <td>8</td>\n",
       "      <td>0</td>\n",
       "      <td>0</td>\n",
       "      <td>CREATE TABLE \"PATIENTS\"(row_id BIGINT, subject...</td>\n",
       "    </tr>\n",
       "    <tr>\n",
       "      <th>2</th>\n",
       "      <td>mimic3</td>\n",
       "      <td>4</td>\n",
       "      <td>main</td>\n",
       "      <td>856</td>\n",
       "      <td>ADMISSIONS</td>\n",
       "      <td>866</td>\n",
       "      <td>False</td>\n",
       "      <td>False</td>\n",
       "      <td>False</td>\n",
       "      <td>129</td>\n",
       "      <td>19</td>\n",
       "      <td>0</td>\n",
       "      <td>0</td>\n",
       "      <td>CREATE TABLE \"ADMISSIONS\"(row_id BIGINT, subje...</td>\n",
       "    </tr>\n",
       "  </tbody>\n",
       "</table>\n",
       "</div>"
      ],
      "text/plain": [
       "  database_name  database_oid schema_name  schema_oid  table_name  table_oid  \\\n",
       "0        mimic3             4        main         856    ICUSTAYS        870   \n",
       "1        mimic3             4        main         856    PATIENTS        868   \n",
       "2        mimic3             4        main         856  ADMISSIONS        866   \n",
       "\n",
       "   internal  temporary  has_primary_key  estimated_size  column_count  \\\n",
       "0     False      False            False             136            12   \n",
       "1     False      False            False             100             8   \n",
       "2     False      False            False             129            19   \n",
       "\n",
       "   index_count  check_constraint_count  \\\n",
       "0            0                       0   \n",
       "1            0                       0   \n",
       "2            0                       0   \n",
       "\n",
       "                                                 sql  \n",
       "0  CREATE TABLE \"ICUSTAYS\"(row_id BIGINT, subject...  \n",
       "1  CREATE TABLE \"PATIENTS\"(row_id BIGINT, subject...  \n",
       "2  CREATE TABLE \"ADMISSIONS\"(row_id BIGINT, subje...  "
      ]
     },
     "execution_count": 11,
     "metadata": {},
     "output_type": "execute_result"
    }
   ],
   "source": [
    "duckdb_con.execute('SELECT * FROM duckdb_tables;').df()"
   ]
  },
  {
   "cell_type": "markdown",
   "id": "19310b11-3fe3-46b3-8f03-9e939ff4a2c1",
   "metadata": {},
   "source": [
    "Oftentime, you may already have an existing SQL script that you've been using to join and denormalize some tables or perform some pre-aggregation or ETL before you perform your analysis. You want to reuse that SQL code while working with Ponder for the remaining analysis workflow. In this example, we show how you can feed this into the `pd.read_sql` to operate on the resulting table."
   ]
  },
  {
   "cell_type": "code",
   "execution_count": 12,
   "id": "98005f0e-199b-4648-a921-0217648b37c1",
   "metadata": {},
   "outputs": [],
   "source": [
    "ponder.configure(default_connection=duckdb_con)"
   ]
  },
  {
   "cell_type": "markdown",
   "id": "846673b7-00bc-454d-b84b-4f87319edca5",
   "metadata": {},
   "source": [
    "For example, we may want to use [this existing SQL query](https://mimic.mit.edu/docs/iii/tutorials/intro-to-mimic-iii/#5-patient-age-and-mortality) from the MIT MIMIC-III tutorial to jumpstart our analysis. "
   ]
  },
  {
   "cell_type": "code",
   "execution_count": 13,
   "id": "51691fd9-958d-4a6c-8ba7-76386892727c",
   "metadata": {},
   "outputs": [],
   "source": [
    "df = pd.read_sql('''SELECT p.\"subject_id\", p.\"dob\", a.\"hadm_id\",\n",
    "                    a.\"admittime\", p.\"expire_flag\"\n",
    "                    FROM ADMISSIONS as a\n",
    "                    INNER JOIN PATIENTS as p\n",
    "                    ON p.\"subject_id\" = a.\"subject_id\"''', con = duckdb_con)"
   ]
  },
  {
   "cell_type": "code",
   "execution_count": 14,
   "id": "377809f1-8759-43be-9621-7b0516df077d",
   "metadata": {
    "tags": []
   },
   "outputs": [
    {
     "data": {
      "text/html": [
       "<div>\n",
       "<style scoped>\n",
       "    .dataframe tbody tr th:only-of-type {\n",
       "        vertical-align: middle;\n",
       "    }\n",
       "\n",
       "    .dataframe tbody tr th {\n",
       "        vertical-align: top;\n",
       "    }\n",
       "\n",
       "    .dataframe thead th {\n",
       "        text-align: right;\n",
       "    }\n",
       "</style>\n",
       "<table border=\"1\" class=\"dataframe\">\n",
       "  <thead>\n",
       "    <tr style=\"text-align: right;\">\n",
       "      <th></th>\n",
       "      <th>subject_id</th>\n",
       "      <th>dob</th>\n",
       "      <th>hadm_id</th>\n",
       "      <th>admittime</th>\n",
       "      <th>expire_flag</th>\n",
       "    </tr>\n",
       "  </thead>\n",
       "  <tbody>\n",
       "    <tr>\n",
       "      <th>0</th>\n",
       "      <td>10006</td>\n",
       "      <td>2094-03-05 00:00:00</td>\n",
       "      <td>142345</td>\n",
       "      <td>2164-10-23 21:09:00</td>\n",
       "      <td>1</td>\n",
       "    </tr>\n",
       "    <tr>\n",
       "      <th>1</th>\n",
       "      <td>10011</td>\n",
       "      <td>2090-06-05 00:00:00</td>\n",
       "      <td>105331</td>\n",
       "      <td>2126-08-14 22:32:00</td>\n",
       "      <td>1</td>\n",
       "    </tr>\n",
       "    <tr>\n",
       "      <th>2</th>\n",
       "      <td>10013</td>\n",
       "      <td>2038-09-03 00:00:00</td>\n",
       "      <td>165520</td>\n",
       "      <td>2125-10-04 23:36:00</td>\n",
       "      <td>1</td>\n",
       "    </tr>\n",
       "    <tr>\n",
       "      <th>3</th>\n",
       "      <td>10017</td>\n",
       "      <td>2075-09-21 00:00:00</td>\n",
       "      <td>199207</td>\n",
       "      <td>2149-05-26 17:19:00</td>\n",
       "      <td>1</td>\n",
       "    </tr>\n",
       "    <tr>\n",
       "      <th>4</th>\n",
       "      <td>10019</td>\n",
       "      <td>2114-06-20 00:00:00</td>\n",
       "      <td>177759</td>\n",
       "      <td>2163-05-14 20:43:00</td>\n",
       "      <td>1</td>\n",
       "    </tr>\n",
       "    <tr>\n",
       "      <th>...</th>\n",
       "      <td>...</td>\n",
       "      <td>...</td>\n",
       "      <td>...</td>\n",
       "      <td>...</td>\n",
       "      <td>...</td>\n",
       "    </tr>\n",
       "    <tr>\n",
       "      <th>124</th>\n",
       "      <td>44083</td>\n",
       "      <td>2057-11-15 00:00:00</td>\n",
       "      <td>198330</td>\n",
       "      <td>2112-05-28 15:45:00</td>\n",
       "      <td>1</td>\n",
       "    </tr>\n",
       "    <tr>\n",
       "      <th>125</th>\n",
       "      <td>44154</td>\n",
       "      <td>1878-05-14 00:00:00</td>\n",
       "      <td>174245</td>\n",
       "      <td>2178-05-14 20:29:00</td>\n",
       "      <td>1</td>\n",
       "    </tr>\n",
       "    <tr>\n",
       "      <th>126</th>\n",
       "      <td>44212</td>\n",
       "      <td>2078-06-16 00:00:00</td>\n",
       "      <td>163189</td>\n",
       "      <td>2123-11-24 14:14:00</td>\n",
       "      <td>1</td>\n",
       "    </tr>\n",
       "    <tr>\n",
       "      <th>127</th>\n",
       "      <td>44222</td>\n",
       "      <td>2107-06-27 00:00:00</td>\n",
       "      <td>192189</td>\n",
       "      <td>2180-07-19 06:55:00</td>\n",
       "      <td>1</td>\n",
       "    </tr>\n",
       "    <tr>\n",
       "      <th>128</th>\n",
       "      <td>44228</td>\n",
       "      <td>2112-10-22 00:00:00</td>\n",
       "      <td>103379</td>\n",
       "      <td>2170-12-15 03:14:00</td>\n",
       "      <td>1</td>\n",
       "    </tr>\n",
       "  </tbody>\n",
       "</table>\n",
       "<p>129 rows x 5 columns</p>\n",
       "</div>"
      ],
      "text/plain": [
       "     subject_id                  dob  hadm_id            admittime  \\\n",
       "0         10006  2094-03-05 00:00:00   142345  2164-10-23 21:09:00   \n",
       "1         10011  2090-06-05 00:00:00   105331  2126-08-14 22:32:00   \n",
       "2         10013  2038-09-03 00:00:00   165520  2125-10-04 23:36:00   \n",
       "3         10017  2075-09-21 00:00:00   199207  2149-05-26 17:19:00   \n",
       "4         10019  2114-06-20 00:00:00   177759  2163-05-14 20:43:00   \n",
       "..          ...                  ...      ...                  ...   \n",
       "124       44083  2057-11-15 00:00:00   198330  2112-05-28 15:45:00   \n",
       "125       44154  1878-05-14 00:00:00   174245  2178-05-14 20:29:00   \n",
       "126       44212  2078-06-16 00:00:00   163189  2123-11-24 14:14:00   \n",
       "127       44222  2107-06-27 00:00:00   192189  2180-07-19 06:55:00   \n",
       "128       44228  2112-10-22 00:00:00   103379  2170-12-15 03:14:00   \n",
       "\n",
       "     expire_flag  \n",
       "0              1  \n",
       "1              1  \n",
       "2              1  \n",
       "3              1  \n",
       "4              1  \n",
       "..           ...  \n",
       "124            1  \n",
       "125            1  \n",
       "126            1  \n",
       "127            1  \n",
       "128            1  \n",
       "\n",
       "[129 rows x 5 columns]"
      ]
     },
     "execution_count": 14,
     "metadata": {},
     "output_type": "execute_result"
    }
   ],
   "source": [
    "df"
   ]
  },
  {
   "cell_type": "markdown",
   "id": "99e022f1-8bbf-4f97-b265-173415c00f6f",
   "metadata": {},
   "source": [
    "Then we can continue using Ponder by writing pandas as always."
   ]
  },
  {
   "cell_type": "code",
   "execution_count": 15,
   "id": "7880e9c7-0ac8-4208-b9ea-18e9c9990e1b",
   "metadata": {
    "tags": []
   },
   "outputs": [],
   "source": [
    "df[\"dob\"] = pd.to_datetime(df[\"dob\"])\n",
    "df[\"admittime\"] = pd.to_datetime(df[\"admittime\"])"
   ]
  },
  {
   "cell_type": "code",
   "execution_count": 16,
   "id": "c8e01754-4685-418e-8d62-927914bfe894",
   "metadata": {
    "tags": []
   },
   "outputs": [],
   "source": [
    "df[\"age\"] = df[\"admittime\"].dt.year  - df[\"dob\"].dt.year"
   ]
  },
  {
   "cell_type": "code",
   "execution_count": 17,
   "id": "9a9efb8f-3f08-4c1f-a5a6-7ad76806d142",
   "metadata": {
    "tags": []
   },
   "outputs": [
    {
     "data": {
      "text/plain": [
       "0       70\n",
       "1       36\n",
       "2       87\n",
       "3       74\n",
       "4       49\n",
       "      ... \n",
       "124     55\n",
       "125    300\n",
       "126     45\n",
       "127     73\n",
       "128     58\n",
       "Name: age, Length: 129, dtype: int64"
      ]
     },
     "execution_count": 17,
     "metadata": {},
     "output_type": "execute_result"
    }
   ],
   "source": [
    "df[\"age\"]"
   ]
  },
  {
   "cell_type": "markdown",
   "id": "5b6d7a31-9713-4932-b08e-26f6f4867601",
   "metadata": {},
   "source": [
    "### Working with multiple tables"
   ]
  },
  {
   "cell_type": "markdown",
   "id": "626f2c71-3a51-4e88-b38e-45b6c9197469",
   "metadata": {},
   "source": [
    "With Ponder, you can work with multiple tables at the same time by creating different dataframes using the `read_sql` or `read_csv` command."
   ]
  },
  {
   "cell_type": "code",
   "execution_count": 18,
   "id": "12f6b2e2-4e65-4aeb-9c66-e8656af36304",
   "metadata": {},
   "outputs": [],
   "source": [
    "patients = pd.read_sql(\"PATIENTS\", con=duckdb_con)\n",
    "admissions = pd.read_sql(\"ADMISSIONS\", con=duckdb_con)"
   ]
  },
  {
   "cell_type": "markdown",
   "id": "8bc6eb01-50fd-4b3c-bb99-b87f220e4915",
   "metadata": {},
   "source": [
    "Now we can work with these two dataframes in pandas. Here, we perform the same query as the SQL query above: \n",
    "```sql\n",
    "SELECT p.\"subject_id\", p.\"dob\", a.\"hadm_id\",\n",
    "       a.\"admittime\", p.\"expire_flag\"\n",
    "       FROM ADMISSIONS as a\n",
    "       INNER JOIN PATIENTS as p\n",
    "       ON p.\"subject_id\" = a.\"subject_id\"\n",
    "```"
   ]
  },
  {
   "cell_type": "code",
   "execution_count": 19,
   "id": "9a5620ba-ab16-4bcd-803d-023aa50e731e",
   "metadata": {
    "tags": []
   },
   "outputs": [
    {
     "data": {
      "text/html": [
       "<div>\n",
       "<style scoped>\n",
       "    .dataframe tbody tr th:only-of-type {\n",
       "        vertical-align: middle;\n",
       "    }\n",
       "\n",
       "    .dataframe tbody tr th {\n",
       "        vertical-align: top;\n",
       "    }\n",
       "\n",
       "    .dataframe thead th {\n",
       "        text-align: right;\n",
       "    }\n",
       "</style>\n",
       "<table border=\"1\" class=\"dataframe\">\n",
       "  <thead>\n",
       "    <tr style=\"text-align: right;\">\n",
       "      <th></th>\n",
       "      <th>subject_id</th>\n",
       "      <th>dob</th>\n",
       "      <th>hadm_id</th>\n",
       "      <th>admittime</th>\n",
       "      <th>expire_flag</th>\n",
       "    </tr>\n",
       "  </thead>\n",
       "  <tbody>\n",
       "    <tr>\n",
       "      <th>0</th>\n",
       "      <td>10006</td>\n",
       "      <td>2094-03-05 00:00:00</td>\n",
       "      <td>142345</td>\n",
       "      <td>2164-10-23 21:09:00</td>\n",
       "      <td>1</td>\n",
       "    </tr>\n",
       "    <tr>\n",
       "      <th>1</th>\n",
       "      <td>10011</td>\n",
       "      <td>2090-06-05 00:00:00</td>\n",
       "      <td>105331</td>\n",
       "      <td>2126-08-14 22:32:00</td>\n",
       "      <td>1</td>\n",
       "    </tr>\n",
       "    <tr>\n",
       "      <th>2</th>\n",
       "      <td>10013</td>\n",
       "      <td>2038-09-03 00:00:00</td>\n",
       "      <td>165520</td>\n",
       "      <td>2125-10-04 23:36:00</td>\n",
       "      <td>1</td>\n",
       "    </tr>\n",
       "    <tr>\n",
       "      <th>3</th>\n",
       "      <td>10017</td>\n",
       "      <td>2075-09-21 00:00:00</td>\n",
       "      <td>199207</td>\n",
       "      <td>2149-05-26 17:19:00</td>\n",
       "      <td>1</td>\n",
       "    </tr>\n",
       "    <tr>\n",
       "      <th>4</th>\n",
       "      <td>10019</td>\n",
       "      <td>2114-06-20 00:00:00</td>\n",
       "      <td>177759</td>\n",
       "      <td>2163-05-14 20:43:00</td>\n",
       "      <td>1</td>\n",
       "    </tr>\n",
       "    <tr>\n",
       "      <th>...</th>\n",
       "      <td>...</td>\n",
       "      <td>...</td>\n",
       "      <td>...</td>\n",
       "      <td>...</td>\n",
       "      <td>...</td>\n",
       "    </tr>\n",
       "    <tr>\n",
       "      <th>124</th>\n",
       "      <td>44083</td>\n",
       "      <td>2057-11-15 00:00:00</td>\n",
       "      <td>198330</td>\n",
       "      <td>2112-05-28 15:45:00</td>\n",
       "      <td>1</td>\n",
       "    </tr>\n",
       "    <tr>\n",
       "      <th>125</th>\n",
       "      <td>44154</td>\n",
       "      <td>1878-05-14 00:00:00</td>\n",
       "      <td>174245</td>\n",
       "      <td>2178-05-14 20:29:00</td>\n",
       "      <td>1</td>\n",
       "    </tr>\n",
       "    <tr>\n",
       "      <th>126</th>\n",
       "      <td>44212</td>\n",
       "      <td>2078-06-16 00:00:00</td>\n",
       "      <td>163189</td>\n",
       "      <td>2123-11-24 14:14:00</td>\n",
       "      <td>1</td>\n",
       "    </tr>\n",
       "    <tr>\n",
       "      <th>127</th>\n",
       "      <td>44222</td>\n",
       "      <td>2107-06-27 00:00:00</td>\n",
       "      <td>192189</td>\n",
       "      <td>2180-07-19 06:55:00</td>\n",
       "      <td>1</td>\n",
       "    </tr>\n",
       "    <tr>\n",
       "      <th>128</th>\n",
       "      <td>44228</td>\n",
       "      <td>2112-10-22 00:00:00</td>\n",
       "      <td>103379</td>\n",
       "      <td>2170-12-15 03:14:00</td>\n",
       "      <td>1</td>\n",
       "    </tr>\n",
       "  </tbody>\n",
       "</table>\n",
       "<p>129 rows x 5 columns</p>\n",
       "</div>"
      ],
      "text/plain": [
       "     subject_id                  dob  hadm_id            admittime  \\\n",
       "0         10006  2094-03-05 00:00:00   142345  2164-10-23 21:09:00   \n",
       "1         10011  2090-06-05 00:00:00   105331  2126-08-14 22:32:00   \n",
       "2         10013  2038-09-03 00:00:00   165520  2125-10-04 23:36:00   \n",
       "3         10017  2075-09-21 00:00:00   199207  2149-05-26 17:19:00   \n",
       "4         10019  2114-06-20 00:00:00   177759  2163-05-14 20:43:00   \n",
       "..          ...                  ...      ...                  ...   \n",
       "124       44083  2057-11-15 00:00:00   198330  2112-05-28 15:45:00   \n",
       "125       44154  1878-05-14 00:00:00   174245  2178-05-14 20:29:00   \n",
       "126       44212  2078-06-16 00:00:00   163189  2123-11-24 14:14:00   \n",
       "127       44222  2107-06-27 00:00:00   192189  2180-07-19 06:55:00   \n",
       "128       44228  2112-10-22 00:00:00   103379  2170-12-15 03:14:00   \n",
       "\n",
       "     expire_flag  \n",
       "0              1  \n",
       "1              1  \n",
       "2              1  \n",
       "3              1  \n",
       "4              1  \n",
       "..           ...  \n",
       "124            1  \n",
       "125            1  \n",
       "126            1  \n",
       "127            1  \n",
       "128            1  \n",
       "\n",
       "[129 rows x 5 columns]"
      ]
     },
     "execution_count": 19,
     "metadata": {},
     "output_type": "execute_result"
    }
   ],
   "source": [
    "patients.merge(admissions,on=\"subject_id\")[[\"subject_id\", \"dob\", \"hadm_id\",\"admittime\", \"expire_flag\"]]"
   ]
  },
  {
   "cell_type": "code",
   "execution_count": 20,
   "id": "797b7317-6dac-4964-a4e5-c1d1737db35b",
   "metadata": {},
   "outputs": [],
   "source": [
    "duckdb_con.close()"
   ]
  }
 ],
 "metadata": {
  "kernelspec": {
   "display_name": "Python 3 (ipykernel)",
   "language": "python",
   "name": "python3"
  },
  "language_info": {
   "codemirror_mode": {
    "name": "ipython",
    "version": 3
   },
   "file_extension": ".py",
   "mimetype": "text/x-python",
   "name": "python",
   "nbconvert_exporter": "python",
   "pygments_lexer": "ipython3",
   "version": "3.10.6"
  }
 },
 "nbformat": 4,
 "nbformat_minor": 5
}
