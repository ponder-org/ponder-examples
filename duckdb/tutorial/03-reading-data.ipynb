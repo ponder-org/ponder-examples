{
 "cells": [
  {
   "cell_type": "markdown",
   "id": "98b117c8-51b2-4a7c-acac-5db439945586",
   "metadata": {},
   "source": [
    "# Tutorial 3: Connecting to Your Data Source"
   ]
  },
  {
   "cell_type": "markdown",
   "id": "717362a0-0929-480b-8bf6-3f7a851365e0",
   "metadata": {},
   "source": [
    "<div class=\"alert alert-block alert-info\"> <b>Before we get started: </b> \n",
    "    <ul style=\"list-style-type: none;margin: 0;padding: 0;\">\n",
    "        <li>✍️ To run this notebook, you need to have Ponder installed and set up on your machine. If you have not done so already, please refer to our <a href=\"https://docs.ponder.io/getting_started/quickstart.html\">Quickstart guide</a> to get started.</li> \n",
    "        <li>📁 This tutorial makes use of the <code>ponder.db</code> database that we created in <a href=\"https://github.com/ponder-org/ponder-notebooks/blob/main/duckdb/tutorial/01-getting-started.ipynb\">Tutorial #1</a>. You can also download the file <a href=\"https://github.com/ponder-org/ponder-datasets/raw/main/ponder.db\">here</a>.</li> \n",
    "        <li>📖 Otherwise, if you're just interested in browsing through the tutorial, keep reading below!</li>\n",
    "    </ul>\n",
    "</div>"
   ]
  },
  {
   "cell_type": "code",
   "execution_count": 1,
   "id": "dd606f0d-37ba-4f91-9514-41653e6482cb",
   "metadata": {},
   "outputs": [
    {
     "name": "stderr",
     "output_type": "stream",
     "text": [
      "2023-05-19 17:05:38 - Creating session 4OjWgQsoYnOH6i4mWuzmw8T0-H9KvEJAnyGGBRXt8u\n"
     ]
    },
    {
     "name": "stdout",
     "output_type": "stream",
     "text": [
      "2023-05-19 17:05:38,079 - authenticate_and_verify - INFO - Ponder package successfully imported\n"
     ]
    }
   ],
   "source": [
    "import ponder; ponder.init()\n",
    "import modin.pandas as pd\n",
    "import duckdb\n",
    "duckdb_con = duckdb.connect(\"../ponder.db\")"
   ]
  },
  {
   "cell_type": "markdown",
   "id": "90cd1e5e-fd2b-4b04-9a3b-a0bf5be06240",
   "metadata": {},
   "source": [
    "Before we start can start our analysis, we need to first connect to a data source. Ponder currently supports `read_csv` for operating on CSV files and `read_sql` for operating on tables that are already stored in DuckDB."
   ]
  },
  {
   "cell_type": "markdown",
   "id": "511071e4-0121-45fc-8fe0-6574609f61b5",
   "metadata": {
    "jp-MarkdownHeadingCollapsed": true,
    "tags": []
   },
   "source": [
    "## ``read_sql:``Working with existing tables\n",
    "\n",
    "To work with data stored in an existing table in DuckDB, we use the ``read_sql`` command and provide the name of the table ``PONDER_CUSTOMER`` and pass in the connections object we created earlier."
   ]
  },
  {
   "cell_type": "code",
   "execution_count": 2,
   "id": "96c3f33a-c621-4bf1-b2c2-01b05531fb2b",
   "metadata": {},
   "outputs": [
    {
     "name": "stderr",
     "output_type": "stream",
     "text": [
      "2023-05-19 17:05:39 - Ponder DataFrame successfully configured in DuckDB\n"
     ]
    }
   ],
   "source": [
    "df = pd.read_sql(\"PONDER_CUSTOMER\", duckdb_con)"
   ]
  },
  {
   "cell_type": "markdown",
   "id": "fd8c4d0e-c38b-4f62-a87f-8155ac869dfc",
   "metadata": {},
   "source": [
    "Now that we have a Ponder DataFrame that points to the ``PONDER_CUSTOMER`` table in your database, you can now work on your DataFrame ``df`` just like you would typically do with any pandas dataframe – with all the computation happening in DuckDB!"
   ]
  },
  {
   "cell_type": "code",
   "execution_count": 3,
   "id": "bc3a73e8-54e8-4ff8-bdcd-6ade394e33ea",
   "metadata": {},
   "outputs": [
    {
     "data": {
      "text/html": [
       "<div>\n",
       "<style scoped>\n",
       "    .dataframe tbody tr th:only-of-type {\n",
       "        vertical-align: middle;\n",
       "    }\n",
       "\n",
       "    .dataframe tbody tr th {\n",
       "        vertical-align: top;\n",
       "    }\n",
       "\n",
       "    .dataframe thead th {\n",
       "        text-align: right;\n",
       "    }\n",
       "</style>\n",
       "<table border=\"1\" class=\"dataframe\">\n",
       "  <thead>\n",
       "    <tr style=\"text-align: right;\">\n",
       "      <th></th>\n",
       "      <th>C_CUSTKEY</th>\n",
       "      <th>C_NAME</th>\n",
       "      <th>C_ADDRESS</th>\n",
       "      <th>C_NATIONKEY</th>\n",
       "      <th>C_PHONE</th>\n",
       "      <th>C_ACCTBAL</th>\n",
       "      <th>C_MKTSEGMENT</th>\n",
       "      <th>C_COMMENT</th>\n",
       "    </tr>\n",
       "  </thead>\n",
       "  <tbody>\n",
       "    <tr>\n",
       "      <th>0</th>\n",
       "      <td>60001</td>\n",
       "      <td>Customer#000060001</td>\n",
       "      <td>9Ii4zQn9cX</td>\n",
       "      <td>14</td>\n",
       "      <td>24-678-784-9652</td>\n",
       "      <td>9957.56</td>\n",
       "      <td>HOUSEHOLD</td>\n",
       "      <td>l theodolites boost slyly at the platelets: pe...</td>\n",
       "    </tr>\n",
       "    <tr>\n",
       "      <th>1</th>\n",
       "      <td>60002</td>\n",
       "      <td>Customer#000060002</td>\n",
       "      <td>ThGBMjDwKzkoOxhz</td>\n",
       "      <td>15</td>\n",
       "      <td>25-782-500-8435</td>\n",
       "      <td>742.46</td>\n",
       "      <td>BUILDING</td>\n",
       "      <td>beans. fluffily regular packages</td>\n",
       "    </tr>\n",
       "    <tr>\n",
       "      <th>2</th>\n",
       "      <td>60003</td>\n",
       "      <td>Customer#000060003</td>\n",
       "      <td>Ed hbPtTXMTAsgGhCr4HuTzK,Md2</td>\n",
       "      <td>16</td>\n",
       "      <td>26-859-847-7640</td>\n",
       "      <td>2526.92</td>\n",
       "      <td>BUILDING</td>\n",
       "      <td>fully pending deposits sleep quickly. blithely...</td>\n",
       "    </tr>\n",
       "    <tr>\n",
       "      <th>3</th>\n",
       "      <td>60004</td>\n",
       "      <td>Customer#000060004</td>\n",
       "      <td>NivCT2RVaavl,yUnKwBjDyMvB42WayXCnky</td>\n",
       "      <td>10</td>\n",
       "      <td>20-573-674-7999</td>\n",
       "      <td>7975.22</td>\n",
       "      <td>AUTOMOBILE</td>\n",
       "      <td>furiously above the ironic packages. slyly br...</td>\n",
       "    </tr>\n",
       "    <tr>\n",
       "      <th>4</th>\n",
       "      <td>60005</td>\n",
       "      <td>Customer#000060005</td>\n",
       "      <td>1F3KM3ccEXEtI, B22XmCMOWJMl</td>\n",
       "      <td>12</td>\n",
       "      <td>22-741-208-1316</td>\n",
       "      <td>2504.74</td>\n",
       "      <td>MACHINERY</td>\n",
       "      <td>express instructions sleep quickly. ironic bra...</td>\n",
       "    </tr>\n",
       "    <tr>\n",
       "      <th>...</th>\n",
       "      <td>...</td>\n",
       "      <td>...</td>\n",
       "      <td>...</td>\n",
       "      <td>...</td>\n",
       "      <td>...</td>\n",
       "      <td>...</td>\n",
       "      <td>...</td>\n",
       "      <td>...</td>\n",
       "    </tr>\n",
       "    <tr>\n",
       "      <th>95</th>\n",
       "      <td>60096</td>\n",
       "      <td>Customer#000060096</td>\n",
       "      <td>T9KQ0gc6NvnTSSsFkJOk</td>\n",
       "      <td>12</td>\n",
       "      <td>22-822-538-4011</td>\n",
       "      <td>4620.25</td>\n",
       "      <td>AUTOMOBILE</td>\n",
       "      <td>ial platelets wake carefully express theodolit...</td>\n",
       "    </tr>\n",
       "    <tr>\n",
       "      <th>96</th>\n",
       "      <td>60097</td>\n",
       "      <td>Customer#000060097</td>\n",
       "      <td>I55jg art2HQL8YEHwh8FgEx</td>\n",
       "      <td>21</td>\n",
       "      <td>31-526-630-1617</td>\n",
       "      <td>1626.61</td>\n",
       "      <td>FURNITURE</td>\n",
       "      <td>. even asymptotes sleep even dependencies. bli...</td>\n",
       "    </tr>\n",
       "    <tr>\n",
       "      <th>97</th>\n",
       "      <td>60098</td>\n",
       "      <td>Customer#000060098</td>\n",
       "      <td>2y,ZeGm0u0 LYJ7waqsZkmWqmU8vn</td>\n",
       "      <td>0</td>\n",
       "      <td>10-972-910-3772</td>\n",
       "      <td>1449.68</td>\n",
       "      <td>AUTOMOBILE</td>\n",
       "      <td>al requests; packages cajole accounts; idly ev...</td>\n",
       "    </tr>\n",
       "    <tr>\n",
       "      <th>98</th>\n",
       "      <td>60099</td>\n",
       "      <td>Customer#000060099</td>\n",
       "      <td>Zc1GskAO8ANH8yGchAqhs31MrKzHbAlhpyy3</td>\n",
       "      <td>21</td>\n",
       "      <td>31-696-159-3613</td>\n",
       "      <td>8767.65</td>\n",
       "      <td>HOUSEHOLD</td>\n",
       "      <td>ns detect slyly quickly bold fox</td>\n",
       "    </tr>\n",
       "    <tr>\n",
       "      <th>99</th>\n",
       "      <td>60100</td>\n",
       "      <td>Customer#000060100</td>\n",
       "      <td>9CZqojrnLk ZY</td>\n",
       "      <td>16</td>\n",
       "      <td>26-775-586-4254</td>\n",
       "      <td>-5.85</td>\n",
       "      <td>HOUSEHOLD</td>\n",
       "      <td>y doggedly ironic theodolites. caref</td>\n",
       "    </tr>\n",
       "  </tbody>\n",
       "</table>\n",
       "<p>100 rows x 8 columns</p>\n",
       "</div>"
      ],
      "text/plain": [
       "    C_CUSTKEY              C_NAME                             C_ADDRESS  \\\n",
       "0       60001  Customer#000060001                            9Ii4zQn9cX   \n",
       "1       60002  Customer#000060002                      ThGBMjDwKzkoOxhz   \n",
       "2       60003  Customer#000060003          Ed hbPtTXMTAsgGhCr4HuTzK,Md2   \n",
       "3       60004  Customer#000060004   NivCT2RVaavl,yUnKwBjDyMvB42WayXCnky   \n",
       "4       60005  Customer#000060005           1F3KM3ccEXEtI, B22XmCMOWJMl   \n",
       "..        ...                 ...                                   ...   \n",
       "95      60096  Customer#000060096                  T9KQ0gc6NvnTSSsFkJOk   \n",
       "96      60097  Customer#000060097              I55jg art2HQL8YEHwh8FgEx   \n",
       "97      60098  Customer#000060098         2y,ZeGm0u0 LYJ7waqsZkmWqmU8vn   \n",
       "98      60099  Customer#000060099  Zc1GskAO8ANH8yGchAqhs31MrKzHbAlhpyy3   \n",
       "99      60100  Customer#000060100                         9CZqojrnLk ZY   \n",
       "\n",
       "    C_NATIONKEY          C_PHONE  C_ACCTBAL C_MKTSEGMENT  \\\n",
       "0            14  24-678-784-9652    9957.56    HOUSEHOLD   \n",
       "1            15  25-782-500-8435     742.46     BUILDING   \n",
       "2            16  26-859-847-7640    2526.92     BUILDING   \n",
       "3            10  20-573-674-7999    7975.22   AUTOMOBILE   \n",
       "4            12  22-741-208-1316    2504.74    MACHINERY   \n",
       "..          ...              ...        ...          ...   \n",
       "95           12  22-822-538-4011    4620.25   AUTOMOBILE   \n",
       "96           21  31-526-630-1617    1626.61    FURNITURE   \n",
       "97            0  10-972-910-3772    1449.68   AUTOMOBILE   \n",
       "98           21  31-696-159-3613    8767.65    HOUSEHOLD   \n",
       "99           16  26-775-586-4254      -5.85    HOUSEHOLD   \n",
       "\n",
       "                                            C_COMMENT  \n",
       "0   l theodolites boost slyly at the platelets: pe...  \n",
       "1                    beans. fluffily regular packages  \n",
       "2   fully pending deposits sleep quickly. blithely...  \n",
       "3    furiously above the ironic packages. slyly br...  \n",
       "4   express instructions sleep quickly. ironic bra...  \n",
       "..                                                ...  \n",
       "95  ial platelets wake carefully express theodolit...  \n",
       "96  . even asymptotes sleep even dependencies. bli...  \n",
       "97  al requests; packages cajole accounts; idly ev...  \n",
       "98                   ns detect slyly quickly bold fox  \n",
       "99               y doggedly ironic theodolites. caref  \n",
       "\n",
       "[100 rows x 8 columns]"
      ]
     },
     "execution_count": 3,
     "metadata": {},
     "output_type": "execute_result"
    }
   ],
   "source": [
    "df"
   ]
  },
  {
   "cell_type": "markdown",
   "id": "0fadeace-bb12-4ba2-82a5-f205b30cc39e",
   "metadata": {},
   "source": [
    "<div class=\"alert alert-block alert-info\"> <b>Note: </b> <span> Unlike in pandas, the data ingestion (read_*) command in Ponder does not actually load in the data into a dataframe in memory. Instead, you can think of the Ponder DataFrame acting as a pointer to the table in DuckDB that stores the data and relays all the operations to be performed on the tables in DuckDB. </span></div>"
   ]
  },
  {
   "cell_type": "markdown",
   "id": "566beb4d-4036-49fc-af83-aae9e07953c6",
   "metadata": {},
   "source": [
    "Going beyond ``read_sql``, we need to configure Ponder to leverage the DuckDB connection that we established earlier. "
   ]
  },
  {
   "cell_type": "code",
   "execution_count": 4,
   "id": "2d634068-c576-4450-9e17-3cecf35fc0f5",
   "metadata": {},
   "outputs": [],
   "source": [
    "ponder.configure(default_connection=duckdb_con)"
   ]
  },
  {
   "cell_type": "markdown",
   "id": "d5163c1e-0d52-4b37-be60-57f812cd1e28",
   "metadata": {
    "tags": []
   },
   "source": [
    "## ``read_csv:`` Working with CSV files"
   ]
  },
  {
   "cell_type": "markdown",
   "id": "4cc75665-806a-48e5-adac-9b46a6533d4c",
   "metadata": {},
   "source": [
    "Then, we can use the ``read_csv`` command to feed in the file path to the CSV file."
   ]
  },
  {
   "cell_type": "code",
   "execution_count": 5,
   "id": "0ed43ec0-a077-40e7-9037-74c85644cd15",
   "metadata": {},
   "outputs": [
    {
     "name": "stderr",
     "output_type": "stream",
     "text": [
      "2023-05-19 17:05:44 - Preparing table in DuckDB using CSV file...\n",
      "2023-05-19 17:05:45 - Configuring Ponder DataFrame in DuckDB...\n",
      "2023-05-19 17:05:45 - Ponder DataFrame successfully configured in DuckDB\n"
     ]
    }
   ],
   "source": [
    "df = pd.read_csv(\"https://github.com/ponder-org/ponder-datasets/blob/main/tpch/orders.csv?raw=True\", header=0)"
   ]
  },
  {
   "cell_type": "markdown",
   "id": "96659862-0482-440f-a433-a81270e92d50",
   "metadata": {},
   "source": [
    "Now that your data is loaded into a temporary table in your database and Ponder DataFrame is pointing to the table, you can now work on your DataFrame ``df`` just like you would typically do with any pandas dataframe – with all the computation happening on DuckDB!"
   ]
  },
  {
   "cell_type": "markdown",
   "id": "a3c6fd35-004b-4447-be7c-7672f3ea26b4",
   "metadata": {},
   "source": [
    "## ``read_parquet:`` Working with Parquet files"
   ]
  },
  {
   "cell_type": "markdown",
   "id": "972689b0-850a-4dc0-accd-3bd42ee41474",
   "metadata": {},
   "source": [
    "To work with Parquet files, use the ``read_parquet`` command to feed in the file path to the file that you'd like to work with."
   ]
  },
  {
   "cell_type": "code",
   "execution_count": 6,
   "id": "6ced3c82-d59d-481c-9ae5-4189037e2415",
   "metadata": {},
   "outputs": [
    {
     "data": {
      "text/plain": [
       "<duckdb.DuckDBPyConnection at 0x1740fd2b0>"
      ]
     },
     "execution_count": 6,
     "metadata": {},
     "output_type": "execute_result"
    }
   ],
   "source": [
    "duckdb_con.execute(\"INSTALL httpfs\")"
   ]
  },
  {
   "cell_type": "code",
   "execution_count": 7,
   "id": "b5a7849e-fa38-4726-abe5-315be12965dc",
   "metadata": {},
   "outputs": [
    {
     "name": "stderr",
     "output_type": "stream",
     "text": [
      "2023-05-19 17:05:48 - Preparing table in DuckDB using Parquet file(s)...\n",
      "2023-05-19 17:05:48 - Configuring Ponder DataFrame in DuckDB...\n",
      "2023-05-19 17:05:49 - Ponder DataFrame successfully configured in DuckDB\n"
     ]
    }
   ],
   "source": [
    "df = pd.read_parquet(\"https://github.com/ponder-org/ponder-datasets/blob/main/userdatasample.parquet?raw=True\",header=0)"
   ]
  },
  {
   "cell_type": "code",
   "execution_count": 8,
   "id": "e4538ff2-9bfe-42f0-9194-f51a27e38080",
   "metadata": {},
   "outputs": [
    {
     "data": {
      "text/html": [
       "<div>\n",
       "<style scoped>\n",
       "    .dataframe tbody tr th:only-of-type {\n",
       "        vertical-align: middle;\n",
       "    }\n",
       "\n",
       "    .dataframe tbody tr th {\n",
       "        vertical-align: top;\n",
       "    }\n",
       "\n",
       "    .dataframe thead th {\n",
       "        text-align: right;\n",
       "    }\n",
       "</style>\n",
       "<table border=\"1\" class=\"dataframe\">\n",
       "  <thead>\n",
       "    <tr style=\"text-align: right;\">\n",
       "      <th></th>\n",
       "      <th>registration_dttm</th>\n",
       "      <th>id</th>\n",
       "      <th>first_name</th>\n",
       "      <th>last_name</th>\n",
       "      <th>email</th>\n",
       "      <th>gender</th>\n",
       "      <th>ip_address</th>\n",
       "      <th>cc</th>\n",
       "      <th>country</th>\n",
       "      <th>birthdate</th>\n",
       "      <th>salary</th>\n",
       "      <th>title</th>\n",
       "      <th>comments</th>\n",
       "    </tr>\n",
       "  </thead>\n",
       "  <tbody>\n",
       "    <tr>\n",
       "      <th>0</th>\n",
       "      <td>2016-02-03 07:55:29</td>\n",
       "      <td>1</td>\n",
       "      <td>Amanda</td>\n",
       "      <td>Jordan</td>\n",
       "      <td>ajordan0@com.com</td>\n",
       "      <td>Female</td>\n",
       "      <td>1.197.201.2</td>\n",
       "      <td>6759521864920116</td>\n",
       "      <td>Indonesia</td>\n",
       "      <td>3/8/1971</td>\n",
       "      <td>49756.53</td>\n",
       "      <td>Internal Auditor</td>\n",
       "      <td>1E+02</td>\n",
       "    </tr>\n",
       "    <tr>\n",
       "      <th>1</th>\n",
       "      <td>2016-02-03 17:04:03</td>\n",
       "      <td>2</td>\n",
       "      <td>Albert</td>\n",
       "      <td>Freeman</td>\n",
       "      <td>afreeman1@is.gd</td>\n",
       "      <td>Male</td>\n",
       "      <td>218.111.175.34</td>\n",
       "      <td></td>\n",
       "      <td>Canada</td>\n",
       "      <td>1/16/1968</td>\n",
       "      <td>150280.17</td>\n",
       "      <td>Accountant IV</td>\n",
       "      <td></td>\n",
       "    </tr>\n",
       "    <tr>\n",
       "      <th>2</th>\n",
       "      <td>2016-02-03 01:09:31</td>\n",
       "      <td>3</td>\n",
       "      <td>Evelyn</td>\n",
       "      <td>Morgan</td>\n",
       "      <td>emorgan2@altervista.org</td>\n",
       "      <td>Female</td>\n",
       "      <td>7.161.136.94</td>\n",
       "      <td>6767119071901597</td>\n",
       "      <td>Russia</td>\n",
       "      <td>2/1/1960</td>\n",
       "      <td>144972.51</td>\n",
       "      <td>Structural Engineer</td>\n",
       "      <td></td>\n",
       "    </tr>\n",
       "    <tr>\n",
       "      <th>3</th>\n",
       "      <td>2016-02-03 00:36:21</td>\n",
       "      <td>4</td>\n",
       "      <td>Denise</td>\n",
       "      <td>Riley</td>\n",
       "      <td>driley3@gmpg.org</td>\n",
       "      <td>Female</td>\n",
       "      <td>140.35.109.83</td>\n",
       "      <td>3576031598965625</td>\n",
       "      <td>China</td>\n",
       "      <td>4/8/1997</td>\n",
       "      <td>90263.05</td>\n",
       "      <td>Senior Cost Accountant</td>\n",
       "      <td></td>\n",
       "    </tr>\n",
       "    <tr>\n",
       "      <th>4</th>\n",
       "      <td>2016-02-03 05:05:31</td>\n",
       "      <td>5</td>\n",
       "      <td>Carlos</td>\n",
       "      <td>Burns</td>\n",
       "      <td>cburns4@miitbeian.gov.cn</td>\n",
       "      <td></td>\n",
       "      <td>169.113.235.40</td>\n",
       "      <td>5602256255204850</td>\n",
       "      <td>South Africa</td>\n",
       "      <td></td>\n",
       "      <td>NaN</td>\n",
       "      <td></td>\n",
       "      <td></td>\n",
       "    </tr>\n",
       "    <tr>\n",
       "      <th>...</th>\n",
       "      <td>...</td>\n",
       "      <td>...</td>\n",
       "      <td>...</td>\n",
       "      <td>...</td>\n",
       "      <td>...</td>\n",
       "      <td>...</td>\n",
       "      <td>...</td>\n",
       "      <td>...</td>\n",
       "      <td>...</td>\n",
       "      <td>...</td>\n",
       "      <td>...</td>\n",
       "      <td>...</td>\n",
       "      <td>...</td>\n",
       "    </tr>\n",
       "    <tr>\n",
       "      <th>995</th>\n",
       "      <td>2016-02-03 10:30:59</td>\n",
       "      <td>996</td>\n",
       "      <td>Dennis</td>\n",
       "      <td>Harris</td>\n",
       "      <td>dharrisrn@eepurl.com</td>\n",
       "      <td>Male</td>\n",
       "      <td>178.180.111.236</td>\n",
       "      <td>374288806662929</td>\n",
       "      <td>Greece</td>\n",
       "      <td>7/8/1965</td>\n",
       "      <td>263399.54</td>\n",
       "      <td>Editor</td>\n",
       "      <td></td>\n",
       "    </tr>\n",
       "    <tr>\n",
       "      <th>996</th>\n",
       "      <td>2016-02-03 17:16:53</td>\n",
       "      <td>997</td>\n",
       "      <td>Gloria</td>\n",
       "      <td>Hamilton</td>\n",
       "      <td>ghamiltonro@rambler.ru</td>\n",
       "      <td>Female</td>\n",
       "      <td>71.50.39.137</td>\n",
       "      <td></td>\n",
       "      <td>China</td>\n",
       "      <td>4/22/1975</td>\n",
       "      <td>83183.54</td>\n",
       "      <td>VP Product Management</td>\n",
       "      <td></td>\n",
       "    </tr>\n",
       "    <tr>\n",
       "      <th>997</th>\n",
       "      <td>2016-02-03 05:02:20</td>\n",
       "      <td>998</td>\n",
       "      <td>Nancy</td>\n",
       "      <td>Morris</td>\n",
       "      <td>nmorrisrp@ask.com</td>\n",
       "      <td></td>\n",
       "      <td>6.188.121.221</td>\n",
       "      <td>3553564071014997</td>\n",
       "      <td>Sweden</td>\n",
       "      <td>5/1/1979</td>\n",
       "      <td>NaN</td>\n",
       "      <td>Junior Executive</td>\n",
       "      <td></td>\n",
       "    </tr>\n",
       "    <tr>\n",
       "      <th>998</th>\n",
       "      <td>2016-02-03 02:41:32</td>\n",
       "      <td>999</td>\n",
       "      <td>Annie</td>\n",
       "      <td>Daniels</td>\n",
       "      <td>adanielsrq@squidoo.com</td>\n",
       "      <td>Female</td>\n",
       "      <td>97.221.132.35</td>\n",
       "      <td>30424803513734</td>\n",
       "      <td>China</td>\n",
       "      <td>10/9/1991</td>\n",
       "      <td>18433.85</td>\n",
       "      <td>Editor</td>\n",
       "      <td>​</td>\n",
       "    </tr>\n",
       "    <tr>\n",
       "      <th>999</th>\n",
       "      <td>2016-02-03 09:52:18</td>\n",
       "      <td>1000</td>\n",
       "      <td>Julie</td>\n",
       "      <td>Meyer</td>\n",
       "      <td>jmeyerrr@flavors.me</td>\n",
       "      <td>Female</td>\n",
       "      <td>217.1.147.132</td>\n",
       "      <td>374288099198540</td>\n",
       "      <td>China</td>\n",
       "      <td></td>\n",
       "      <td>222561.13</td>\n",
       "      <td></td>\n",
       "      <td></td>\n",
       "    </tr>\n",
       "  </tbody>\n",
       "</table>\n",
       "<p>1000 rows x 13 columns</p>\n",
       "</div>"
      ],
      "text/plain": [
       "      registration_dttm    id first_name last_name                     email  \\\n",
       "0   2016-02-03 07:55:29     1     Amanda    Jordan          ajordan0@com.com   \n",
       "1   2016-02-03 17:04:03     2     Albert   Freeman           afreeman1@is.gd   \n",
       "2   2016-02-03 01:09:31     3     Evelyn    Morgan   emorgan2@altervista.org   \n",
       "3   2016-02-03 00:36:21     4     Denise     Riley          driley3@gmpg.org   \n",
       "4   2016-02-03 05:05:31     5     Carlos     Burns  cburns4@miitbeian.gov.cn   \n",
       "..                  ...   ...        ...       ...                       ...   \n",
       "995 2016-02-03 10:30:59   996     Dennis    Harris      dharrisrn@eepurl.com   \n",
       "996 2016-02-03 17:16:53   997     Gloria  Hamilton    ghamiltonro@rambler.ru   \n",
       "997 2016-02-03 05:02:20   998      Nancy    Morris         nmorrisrp@ask.com   \n",
       "998 2016-02-03 02:41:32   999      Annie   Daniels    adanielsrq@squidoo.com   \n",
       "999 2016-02-03 09:52:18  1000      Julie     Meyer       jmeyerrr@flavors.me   \n",
       "\n",
       "     gender       ip_address                cc       country  birthdate  \\\n",
       "0    Female      1.197.201.2  6759521864920116     Indonesia   3/8/1971   \n",
       "1      Male   218.111.175.34                          Canada  1/16/1968   \n",
       "2    Female     7.161.136.94  6767119071901597        Russia   2/1/1960   \n",
       "3    Female    140.35.109.83  3576031598965625         China   4/8/1997   \n",
       "4             169.113.235.40  5602256255204850  South Africa              \n",
       "..      ...              ...               ...           ...        ...   \n",
       "995    Male  178.180.111.236   374288806662929        Greece   7/8/1965   \n",
       "996  Female     71.50.39.137                           China  4/22/1975   \n",
       "997            6.188.121.221  3553564071014997        Sweden   5/1/1979   \n",
       "998  Female    97.221.132.35    30424803513734         China  10/9/1991   \n",
       "999  Female    217.1.147.132   374288099198540         China              \n",
       "\n",
       "        salary                   title comments  \n",
       "0     49756.53        Internal Auditor    1E+02  \n",
       "1    150280.17           Accountant IV           \n",
       "2    144972.51     Structural Engineer           \n",
       "3     90263.05  Senior Cost Accountant           \n",
       "4          NaN                                   \n",
       "..         ...                     ...      ...  \n",
       "995  263399.54                  Editor           \n",
       "996   83183.54   VP Product Management           \n",
       "997        NaN        Junior Executive           \n",
       "998   18433.85                  Editor        ​  \n",
       "999  222561.13                                   \n",
       "\n",
       "[1000 rows x 13 columns]"
      ]
     },
     "execution_count": 8,
     "metadata": {},
     "output_type": "execute_result"
    }
   ],
   "source": [
    "df"
   ]
  },
  {
   "cell_type": "markdown",
   "id": "640b533c-dfe1-48d6-8ffa-d3e0a01f2aba",
   "metadata": {},
   "source": [
    "Ponder will automatically process your Parquet file and load it into a temporary table in your database for analysis."
   ]
  },
  {
   "cell_type": "code",
   "execution_count": 9,
   "id": "a976bf94-118d-4f2e-9ca9-3b02b6b684e0",
   "metadata": {},
   "outputs": [],
   "source": [
    "duckdb_con.close()"
   ]
  },
  {
   "cell_type": "markdown",
   "id": "aaf0cde0-7954-42a7-b1e8-4a73d3b4d76a",
   "metadata": {
    "tags": []
   },
   "source": [
    "## Summary"
   ]
  },
  {
   "cell_type": "markdown",
   "id": "33f1d881-5184-4c5f-932f-6f5be6bead82",
   "metadata": {},
   "source": [
    "In this tutorial, we learned how you can leverage the same pandas API for `pd.read_*` to work with your database tables, CSV and Parquet files. \n",
    "\n",
    "In our [next tutorial](https://github.com/ponder-org/ponder-notebooks/blob/main/duckdb/tutorial/04-writing-data.ipynb), we will discuss how you can use `pd.to_*` to save your dataframes with Ponder."
   ]
  }
 ],
 "metadata": {
  "kernelspec": {
   "display_name": "Python 3 (ipykernel)",
   "language": "python",
   "name": "python3"
  },
  "language_info": {
   "codemirror_mode": {
    "name": "ipython",
    "version": 3
   },
   "file_extension": ".py",
   "mimetype": "text/x-python",
   "name": "python",
   "nbconvert_exporter": "python",
   "pygments_lexer": "ipython3",
   "version": "3.10.6"
  }
 },
 "nbformat": 4,
 "nbformat_minor": 5
}
