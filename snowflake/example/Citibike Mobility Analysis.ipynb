{
 "cells": [
  {
   "cell_type": "markdown",
   "id": "8895b4ab",
   "metadata": {},
   "source": [
    "# Comparing Pandas v.s. SQL: Ponder Citibike Mobility Analysis"
   ]
  },
  {
   "cell_type": "markdown",
   "id": "87696145-e8ba-45b7-832e-39847f9c9beb",
   "metadata": {},
   "source": [
    "<div class=\"alert alert-block alert-info\"> <b>Before we get started: </b> \n",
    "    <ul style=\"list-style-type: none;margin: 0;padding: 0;\">\n",
    "        <li>✍️ To run this notebook, you need to have Ponder installed and set up on your machine. If you have not done so already, please refer to our <a href=\"https://docs.ponder.io/getting_started/quickstart.html\">Quickstart guide</a> to get started.</li>\n",
    "        <li>📖 Otherwise, if you're just interested in browsing through the notebook, keep reading below!</li>\n",
    "    </ul>\n",
    "</div>"
   ]
  },
  {
   "cell_type": "markdown",
   "id": "6a27064c",
   "metadata": {},
   "source": [
    "Pandas is easy to use, flexible, and concise. Relational databases are scalable and reliable, but force you to use SQL. This demo shows you how Ponder allows your to combine the best of both worlds. With Ponder you can write more concise and maintainable code relative to SQL AND you can do operations that aren't even relational in nature!\n",
    "\n",
    "This notebook shows you how you can use Ponder to unleash your pandas code directly in your database! Ponder gives you a native pandas interface to your data warehouse. If you haven't already, sign up for a free trial account at [***app.ponder.io***](www.app.ponder.io) to try it out!"
   ]
  },
  {
   "cell_type": "markdown",
   "id": "505626d2",
   "metadata": {},
   "source": [
    "# Tutorial Overview"
   ]
  },
  {
   "cell_type": "markdown",
   "id": "af52932c",
   "metadata": {},
   "source": [
    "In this notebook, we will walk through a simple analysis of Citbike bikeshare data to show you how easy it is to use Ponder. The dataset includes specific bikeshare trips in New York City and we'll answer 6 mobility questions inspired by Kevin Chan's [Kaggle notebook](https://www.kaggle.com/code/cjinquan/citibike-analysis-sql/notebook). We use a sample of the public data available [here](https://console.cloud.google.com/bigquery?p=bigquery-public-data&d=new_york_citibike&page=dataset&project=geocoding-314221&ws=!1m4!1m3!3m2!1sbigquery-public-data!2snew_york_citibike) for this analysis.\n",
    "\n",
    "**To answer these questions with SQL it takes about 72 lines of code. With Pandas, we can answer these same questions with almost 10X less code.**\n",
    "\n",
    "\n",
    "Specifically we'll show you:\n",
    "\n",
    "#### [How to setup Ponder ](#setup)\n",
    "\n",
    "\n",
    "#### [ How Ponder Works](#how-it-works)\n",
    "\n",
    "\n",
    "#### [The Citbike Use Case](#key-questions)\n",
    "    \n"
   ]
  },
  {
   "cell_type": "markdown",
   "id": "f44d4fec",
   "metadata": {},
   "source": [
    " <h1 align=\"center\">🔥9 lines of pandas vs. ~70 lines with the SQL🔥</h1>"
   ]
  },
  {
   "cell_type": "markdown",
   "id": "847c7c02",
   "metadata": {},
   "source": [
    "&nbsp;"
   ]
  },
  {
   "cell_type": "markdown",
   "id": "f3345a01",
   "metadata": {},
   "source": [
    "<a class=\"anchor\" id=\"setup\"></a>\n",
    "# 🛠️ How to setup Ponder 🛠️"
   ]
  },
  {
   "cell_type": "markdown",
   "id": "af5188c5",
   "metadata": {
    "slideshow": {
     "slide_type": "slide"
    }
   },
   "source": [
    "### Import Requirements "
   ]
  },
  {
   "cell_type": "code",
   "execution_count": 1,
   "id": "12522b66",
   "metadata": {
    "tags": []
   },
   "outputs": [
    {
     "name": "stderr",
     "output_type": "stream",
     "text": [
      "2023-05-25 06:13:19 - Ponder package successfully imported\n",
      "2023-05-25 06:13:19 - Creating session LvN3TVvaeRH2K6mJiEtlcEVgmvzfD84mCJ7lF57PC8\n"
     ]
    }
   ],
   "source": [
    "import ponder; ponder.init()\n",
    "import modin.pandas as pd\n",
    "import snowflake.connector"
   ]
  },
  {
   "cell_type": "markdown",
   "id": "70dc5230",
   "metadata": {},
   "source": [
    "###  Configure  Database Connection"
   ]
  },
  {
   "cell_type": "markdown",
   "id": "12537ac3",
   "metadata": {},
   "source": [
    "This example uses your Snowflake database as the backend engine. If you have Snowflake, you can find the documentation for the Snowflake Python Connector [here](https://docs.snowflake.com/en/developer-guide/python-connector/python-connector).\n",
    "\n",
    "If you don't have Snowflake, visit our documentation visit our documentation to [Connect Ponder to your DB](https://docs.ponder.io/getting_started/connection.html) and for a list of other supported databases, orreach out to support@ponder.io."
   ]
  },
  {
   "cell_type": "code",
   "execution_count": 2,
   "id": "5e8efceb-b8f3-4b08-a3b2-8239288879a7",
   "metadata": {},
   "outputs": [],
   "source": [
    "import os; os.chdir(\"..\")\n",
    "import credential\n",
    "sfcon = snowflake.connector.connect(\n",
    "    user=credential.params[\"user\"],\n",
    "    password=credential.params[\"password\"],\n",
    "    account=credential.params[\"account\"],\n",
    "    role=credential.params[\"role\"],\n",
    "    database=credential.params[\"database\"],\n",
    "    schema=credential.params[\"schema\"],\n",
    "    warehouse=credential.params[\"warehouse\"]\n",
    ")"
   ]
  },
  {
   "cell_type": "markdown",
   "id": "36dea5f3",
   "metadata": {},
   "source": [
    "### Select Data Source"
   ]
  },
  {
   "cell_type": "markdown",
   "id": "b59e4a4c",
   "metadata": {},
   "source": [
    "Ponder allows you to work with data in flat files as well as in your exisiting database tables. Below, we will use a csv file stored in my local machine.\n",
    "\n",
    "**So how is Ponder different than vanilla pandas?**\n",
    "\n",
    "* With vanilla pandas, the `read_csv()` method pulls the data from disk into a dataframe in your local memory.\n",
    "\n",
    "* With Ponder, the `read_csv()` method automatically creates a database table, configures the schema for your csv file, and loads the data into the warehouse for analysis."
   ]
  },
  {
   "cell_type": "markdown",
   "id": "8c536577-877f-420d-8046-74f2646a7339",
   "metadata": {},
   "source": [
    "Here, we configure Snowflake as the default database connection to use when reading CSVs."
   ]
  },
  {
   "cell_type": "code",
   "execution_count": 3,
   "id": "90ad960f-9251-4957-a62b-728ec87acf24",
   "metadata": {},
   "outputs": [],
   "source": [
    "ponder.configure(default_connection=sfcon)"
   ]
  },
  {
   "cell_type": "code",
   "execution_count": 4,
   "id": "2b13e640",
   "metadata": {},
   "outputs": [
    {
     "name": "stderr",
     "output_type": "stream",
     "text": [
      "2023-05-25 06:13:23 - Preparing table in Snowflake using CSV file...\n",
      "2023-05-25 06:13:26 - Configuring Ponder DataFrame in Snowflake...\n",
      "2023-05-25 06:13:30 - Ponder DataFrame successfully configured in Snowflake\n"
     ]
    }
   ],
   "source": [
    "df = pd.read_csv('https://raw.githubusercontent.com/ponder-org/ponder-datasets/main/citibike_tutorial.csv')"
   ]
  },
  {
   "cell_type": "markdown",
   "id": "507f7394",
   "metadata": {
    "slideshow": {
     "slide_type": "slide"
    },
    "tags": []
   },
   "source": [
    "<a class=\"anchor\" id=\"how-it-works\"></a>\n",
    "#    🧪 How it Works 🧪\n",
    "\n",
    "As you go through the rest of this notebook, it may seem like any other pandas tutorial notebook, and that is the magic of Ponder! \n",
    "\n",
    "Ponder gives you a pandas interface for your data warehouse. As you run each code block, Ponder automatically compiles your pandas code into SQL and runs it directly in your database. None of the computation is done in your local python enviornment!\n",
    "\n",
    "Dont believe us? Try operating on a large dataset that doesn't fit into your local RAM and run a memory profiler to see how Ponder can help you scale up your workflows! And for more background on what we've been building, check out this [Ponder Overview Blogpost](https://ponder.io/run-pandas-on-1tb-directly-in-your-data-warehouse/) for more "
   ]
  },
  {
   "cell_type": "markdown",
   "id": "3f3433db",
   "metadata": {},
   "source": [
    "When we print the dataframe, we see that our dataframe contains Citibike trips and associated details, including pickup/drop of stations and times."
   ]
  },
  {
   "cell_type": "code",
   "execution_count": 5,
   "id": "a21fff42-6cd2-4c5b-b22f-c7ccb1aa93e6",
   "metadata": {},
   "outputs": [
    {
     "data": {
      "text/html": [
       "<div>\n",
       "<style scoped>\n",
       "    .dataframe tbody tr th:only-of-type {\n",
       "        vertical-align: middle;\n",
       "    }\n",
       "\n",
       "    .dataframe tbody tr th {\n",
       "        vertical-align: top;\n",
       "    }\n",
       "\n",
       "    .dataframe thead th {\n",
       "        text-align: right;\n",
       "    }\n",
       "</style>\n",
       "<table border=\"1\" class=\"dataframe\">\n",
       "  <thead>\n",
       "    <tr style=\"text-align: right;\">\n",
       "      <th></th>\n",
       "      <th>tripduration</th>\n",
       "      <th>starttime</th>\n",
       "      <th>stoptime</th>\n",
       "      <th>start_station_id</th>\n",
       "      <th>start_station_name</th>\n",
       "      <th>start_station_latitude</th>\n",
       "      <th>start_station_longitude</th>\n",
       "      <th>end_station_id</th>\n",
       "      <th>end_station_name</th>\n",
       "      <th>end_station_latitude</th>\n",
       "      <th>end_station_longitude</th>\n",
       "      <th>bikeid</th>\n",
       "      <th>usertype</th>\n",
       "      <th>birth_year</th>\n",
       "      <th>gender</th>\n",
       "    </tr>\n",
       "  </thead>\n",
       "  <tbody>\n",
       "    <tr>\n",
       "      <th>0</th>\n",
       "      <td>730</td>\n",
       "      <td>2/9/15 8:37</td>\n",
       "      <td>2/9/15 8:49</td>\n",
       "      <td>72</td>\n",
       "      <td>W 52 St &amp; 11 Ave</td>\n",
       "      <td>40.767272</td>\n",
       "      <td>-73.993929</td>\n",
       "      <td>520</td>\n",
       "      <td>W 52 St &amp; 5 Ave</td>\n",
       "      <td>40.759923</td>\n",
       "      <td>-73.976485</td>\n",
       "      <td>18809</td>\n",
       "      <td>Subscriber</td>\n",
       "      <td>1975.0</td>\n",
       "      <td>male</td>\n",
       "    </tr>\n",
       "    <tr>\n",
       "      <th>1</th>\n",
       "      <td>704</td>\n",
       "      <td>11/20/13 20:21</td>\n",
       "      <td>11/20/13 20:33</td>\n",
       "      <td>72</td>\n",
       "      <td>W 52 St &amp; 11 Ave</td>\n",
       "      <td>40.767272</td>\n",
       "      <td>-73.993929</td>\n",
       "      <td>470</td>\n",
       "      <td>W 20 St &amp; 8 Ave</td>\n",
       "      <td>40.743453</td>\n",
       "      <td>-74.000040</td>\n",
       "      <td>20515</td>\n",
       "      <td>Subscriber</td>\n",
       "      <td>1981.0</td>\n",
       "      <td>male</td>\n",
       "    </tr>\n",
       "    <tr>\n",
       "      <th>2</th>\n",
       "      <td>425</td>\n",
       "      <td>1/6/16 17:01</td>\n",
       "      <td>1/6/16 17:08</td>\n",
       "      <td>72</td>\n",
       "      <td>W 52 St &amp; 11 Ave</td>\n",
       "      <td>40.767272</td>\n",
       "      <td>-73.993929</td>\n",
       "      <td>469</td>\n",
       "      <td>Broadway &amp; W 53 St</td>\n",
       "      <td>40.763441</td>\n",
       "      <td>-73.982681</td>\n",
       "      <td>17116</td>\n",
       "      <td>Subscriber</td>\n",
       "      <td>1947.0</td>\n",
       "      <td>male</td>\n",
       "    </tr>\n",
       "    <tr>\n",
       "      <th>3</th>\n",
       "      <td>373</td>\n",
       "      <td>11/9/15 12:50</td>\n",
       "      <td>11/9/15 12:56</td>\n",
       "      <td>72</td>\n",
       "      <td>W 52 St &amp; 11 Ave</td>\n",
       "      <td>40.767272</td>\n",
       "      <td>-73.993929</td>\n",
       "      <td>469</td>\n",
       "      <td>Broadway &amp; W 53 St</td>\n",
       "      <td>40.763441</td>\n",
       "      <td>-73.982681</td>\n",
       "      <td>20892</td>\n",
       "      <td>Subscriber</td>\n",
       "      <td>1947.0</td>\n",
       "      <td>male</td>\n",
       "    </tr>\n",
       "    <tr>\n",
       "      <th>4</th>\n",
       "      <td>1149</td>\n",
       "      <td>8/3/13 17:14</td>\n",
       "      <td>8/3/13 17:33</td>\n",
       "      <td>72</td>\n",
       "      <td>W 52 St &amp; 11 Ave</td>\n",
       "      <td>40.767272</td>\n",
       "      <td>-73.993929</td>\n",
       "      <td>325</td>\n",
       "      <td>E 19 St &amp; 3 Ave</td>\n",
       "      <td>40.736245</td>\n",
       "      <td>-73.984738</td>\n",
       "      <td>17711</td>\n",
       "      <td>Subscriber</td>\n",
       "      <td>1981.0</td>\n",
       "      <td>female</td>\n",
       "    </tr>\n",
       "  </tbody>\n",
       "</table>\n",
       "</div>"
      ],
      "text/plain": [
       "   tripduration       starttime        stoptime  start_station_id  \\\n",
       "0           730     2/9/15 8:37     2/9/15 8:49                72   \n",
       "1           704  11/20/13 20:21  11/20/13 20:33                72   \n",
       "2           425    1/6/16 17:01    1/6/16 17:08                72   \n",
       "3           373   11/9/15 12:50   11/9/15 12:56                72   \n",
       "4          1149    8/3/13 17:14    8/3/13 17:33                72   \n",
       "\n",
       "  start_station_name  start_station_latitude  start_station_longitude  \\\n",
       "0   W 52 St & 11 Ave               40.767272               -73.993929   \n",
       "1   W 52 St & 11 Ave               40.767272               -73.993929   \n",
       "2   W 52 St & 11 Ave               40.767272               -73.993929   \n",
       "3   W 52 St & 11 Ave               40.767272               -73.993929   \n",
       "4   W 52 St & 11 Ave               40.767272               -73.993929   \n",
       "\n",
       "   end_station_id    end_station_name  end_station_latitude  \\\n",
       "0             520     W 52 St & 5 Ave             40.759923   \n",
       "1             470     W 20 St & 8 Ave             40.743453   \n",
       "2             469  Broadway & W 53 St             40.763441   \n",
       "3             469  Broadway & W 53 St             40.763441   \n",
       "4             325     E 19 St & 3 Ave             40.736245   \n",
       "\n",
       "   end_station_longitude  bikeid    usertype  birth_year  gender  \n",
       "0             -73.976485   18809  Subscriber      1975.0    male  \n",
       "1             -74.000040   20515  Subscriber      1981.0    male  \n",
       "2             -73.982681   17116  Subscriber      1947.0    male  \n",
       "3             -73.982681   20892  Subscriber      1947.0    male  \n",
       "4             -73.984738   17711  Subscriber      1981.0  female  "
      ]
     },
     "execution_count": 5,
     "metadata": {},
     "output_type": "execute_result"
    }
   ],
   "source": [
    "df.head()"
   ]
  },
  {
   "cell_type": "markdown",
   "id": "c0d1a2b9",
   "metadata": {},
   "source": [
    "&nbsp;"
   ]
  },
  {
   "cell_type": "markdown",
   "id": "ae7c8e93",
   "metadata": {},
   "source": [
    "<a class=\"anchor\" id=\"key-questions\"></a>\n",
    "# 6 Mobility Trend Questions Answered"
   ]
  },
  {
   "cell_type": "markdown",
   "id": "220a78f4",
   "metadata": {},
   "source": [
    "The following 6 exploratory questions were answered using SQL in the bikeshare analysis on Kaggle, so we'll walk you through how you can do the same with Ponder + pandas."
   ]
  },
  {
   "cell_type": "markdown",
   "id": "583e85e3-f6e3-4f23-b4c6-90e9b5e02f70",
   "metadata": {},
   "source": [
    "\n",
    "\n",
    "* [What time fram does the data set contain?](#first-question)\n",
    "* [Which age group uses Citi Bike most often and the trend?](#second-question)\n",
    "* [Which gender uses Citi Bike most often and the trend?](#third-question)\n",
    "* [Which day of the week is Citi Bike most utilized?](#fourth-question)\n",
    "* [What is the average trip duration per day of the week?](#fifth-question)\n",
    "* [What is the total number of trips per month?](#sixth-question)"
   ]
  },
  {
   "cell_type": "markdown",
   "id": "d2642f4e",
   "metadata": {},
   "source": [
    "We have quite a few mobility time series related questions, so above we convert our trip start time variable `starttime` to a datetime type for simplifying our analysis."
   ]
  },
  {
   "cell_type": "code",
   "execution_count": 6,
   "id": "cad9106c",
   "metadata": {},
   "outputs": [],
   "source": [
    "df['starttime'] = pd.to_datetime(df.starttime,format=\"%m/%d/%y %H:%M\")"
   ]
  },
  {
   "cell_type": "markdown",
   "id": "a16fd184",
   "metadata": {},
   "source": [
    "<a class=\"anchor\" id=\"first-question\"></a>\n",
    "# ❓Q1: What time frame does the data set contain ❓"
   ]
  },
  {
   "cell_type": "markdown",
   "id": "f662f0bf",
   "metadata": {},
   "source": [
    "### pandas  - 1 line of code"
   ]
  },
  {
   "cell_type": "markdown",
   "id": "5a50145a",
   "metadata": {},
   "source": [
    "Calculate the min and max values of trip starts."
   ]
  },
  {
   "cell_type": "code",
   "execution_count": 7,
   "id": "556ab786",
   "metadata": {
    "tags": []
   },
   "outputs": [
    {
     "data": {
      "text/plain": [
       "(Timestamp('2013-07-01 08:43:00'), Timestamp('2016-09-30 18:10:00'))"
      ]
     },
     "execution_count": 7,
     "metadata": {},
     "output_type": "execute_result"
    }
   ],
   "source": [
    "df.starttime.min(),df.starttime.max()"
   ]
  },
  {
   "cell_type": "markdown",
   "id": "bd884f68",
   "metadata": {},
   "source": [
    "## <h2 align=\"center\"> 💡 5 lines of code required using SQL Approach [below](https://www.kaggle.com/code/cjinquan/citibike-analysis-sql?scriptVersionId=78471031&cellId=4) </h2>"
   ]
  },
  {
   "cell_type": "markdown",
   "id": "f7d680be",
   "metadata": {},
   "source": [
    "<style type=\"text/css\">\n",
    ".tg  {border-collapse:collapse;border-spacing:0;}\n",
    ".tg td{border-color:black;border-style:solid;border-width:1px;font-family:Arial, sans-serif;font-size:14px;\n",
    "  overflow:hidden;padding:10px 5px;word-break:normal;}\n",
    ".tg th{border-color:black;border-style:solid;border-width:1px;font-family:Arial, sans-serif;font-size:14px;\n",
    "  font-weight:normal;overflow:hidden;padding:10px 5px;word-break:normal;}\n",
    ".tg .tg-0pky{border-color:inherit;text-align:left;vertical-align:top}\n",
    ".tg .tg-y698{background-color:#efefef;border-color:inherit;text-align:left;vertical-align:top}\n",
    "</style>\n",
    "<table class=\"tg\">\n",
    "<thead>\n",
    "  <tr>\n",
    "    <th class=\"tg-0pky\">In Python</th>\n",
    "    <th class=\"tg-0pky\">With SQL</th>\n",
    "  </tr>\n",
    "</thead>\n",
    "<tbody>\n",
    "  <tr>\n",
    "    <td class=\"tg-0pky\"><div class=\"lm-Widget p-Widget jp-RenderedHTMLCommon jp-RenderedMarkdown jp-MarkdownOutput\" data-mime-type=\"text/markdown\"><pre style=\"\"><code class=\"cm-s-jupyter language-python\"><span class=\"cm-variable\">df</span>.<span class=\"cm-property\">starttime</span>.<span class=\"cm-property\">min</span>(),<span class=\"cm-variable\">df</span>.<span class=\"cm-property\">starttime</span>.<span class=\"cm-property\">max</span>()\n",
    "</code></pre>\n",
    "</div></td>\n",
    "    <td class=\"tg-0pky\"><div class=\"lm-Widget p-Widget jp-RenderedHTMLCommon jp-RenderedMarkdown jp-MarkdownOutput\" data-mime-type=\"text/markdown\"><pre style=\"\"><code class=\"cm-s-jupyter language-sql\"><span class=\"cm-keyword\">SELECT</span>  \n",
    "    MAX<span class=\"cm-bracket\">(</span><span class=\"cm-builtin\">DATE</span><span class=\"cm-bracket\">(</span>starttime<span class=\"cm-bracket\">)</span><span class=\"cm-bracket\">)</span> <span class=\"cm-keyword\">AS</span> max_date<span class=\"cm-punctuation\">,</span>\n",
    "    MIN<span class=\"cm-bracket\">(</span><span class=\"cm-builtin\">DATE</span><span class=\"cm-bracket\">(</span>starttime<span class=\"cm-bracket\">)</span><span class=\"cm-bracket\">)</span> <span class=\"cm-keyword\">AS</span> min_date\n",
    "<span class=\"cm-keyword\">FROM</span> \n",
    "    `citibike<span class=\"cm-operator\">-</span>project<span class=\"cm-operator\">-</span><span class=\"cm-number\">330415</span><span class=\"cm-variable-2\">.CITIBIKE</span><span class=\"cm-variable-2\">.citibike_trips</span>` \n",
    "</code></pre>\n",
    "</div></td>\n",
    "  </tr>\n",
    "  <tr>\n",
    "    <td class=\"tg-y698\">1 Line </td>\n",
    "    <td class=\"tg-y698\">5 Lines</td>\n",
    "  </tr>\n",
    "</tbody>\n",
    "</table>"
   ]
  },
  {
   "cell_type": "markdown",
   "id": "5e6290ac",
   "metadata": {},
   "source": [
    "&nbsp;"
   ]
  },
  {
   "cell_type": "markdown",
   "id": "0cf5468f",
   "metadata": {},
   "source": [
    "<a class=\"anchor\" id=\"second-question\"></a>\n",
    "# ❓Q2: Which age group uses CitiBike most often & what is the trend ❓"
   ]
  },
  {
   "cell_type": "markdown",
   "id": "ff60b4f9",
   "metadata": {},
   "source": [
    "### pandas - 3 lines of code"
   ]
  },
  {
   "cell_type": "markdown",
   "id": "db79e72c",
   "metadata": {},
   "source": [
    "Define mappings of birth years to age groups, replace birth years with age groups, calcualte how many trips per age group per year"
   ]
  },
  {
   "cell_type": "code",
   "execution_count": 8,
   "id": "8be38237",
   "metadata": {
    "tags": []
   },
   "outputs": [
    {
     "data": {
      "text/html": [
       "<div>\n",
       "<style scoped>\n",
       "    .dataframe tbody tr th:only-of-type {\n",
       "        vertical-align: middle;\n",
       "    }\n",
       "\n",
       "    .dataframe tbody tr th {\n",
       "        vertical-align: top;\n",
       "    }\n",
       "\n",
       "    .dataframe thead th {\n",
       "        text-align: right;\n",
       "    }\n",
       "</style>\n",
       "<table border=\"1\" class=\"dataframe\">\n",
       "  <thead>\n",
       "    <tr style=\"text-align: right;\">\n",
       "      <th></th>\n",
       "      <th>birth_year</th>\n",
       "      <th>tripduration</th>\n",
       "    </tr>\n",
       "  </thead>\n",
       "  <tbody>\n",
       "    <tr>\n",
       "      <th>0</th>\n",
       "      <td>boomer</td>\n",
       "      <td>1029</td>\n",
       "    </tr>\n",
       "    <tr>\n",
       "      <th>1</th>\n",
       "      <td>genx</td>\n",
       "      <td>4490</td>\n",
       "    </tr>\n",
       "    <tr>\n",
       "      <th>2</th>\n",
       "      <td>geny</td>\n",
       "      <td>3932</td>\n",
       "    </tr>\n",
       "    <tr>\n",
       "      <th>3</th>\n",
       "      <td>genz</td>\n",
       "      <td>125</td>\n",
       "    </tr>\n",
       "  </tbody>\n",
       "</table>\n",
       "</div>"
      ],
      "text/plain": [
       "  birth_year  tripduration\n",
       "0     boomer          1029\n",
       "1       genx          4490\n",
       "2       geny          3932\n",
       "3       genz           125"
      ]
     },
     "execution_count": 8,
     "metadata": {},
     "output_type": "execute_result"
    }
   ],
   "source": [
    "replace_dict = { 'boomer': 1960, 'genx': 1980, 'geny': 1994,'genz':2023,\"missing\":2030}\n",
    "df['birth_year'] = pd.cut(df['birth_year'],bins=[1]+list(replace_dict.values()),labels=list(replace_dict.keys()))\n",
    "\n",
    "df.groupby('birth_year',as_index=False)['tripduration'].count()"
   ]
  },
  {
   "cell_type": "markdown",
   "id": "4db48e48-fa0f-4866-a136-2627c1d8b18d",
   "metadata": {
    "tags": []
   },
   "source": [
    "### <h2 align=\"center\"> 💡 3 lines of pandas vs. 14 lines of code required using SQL approach [below](https://www.kaggle.com/code/cjinquan/citibike-analysis-sql?scriptVersionId=78471031&cellId=4) </h2>"
   ]
  },
  {
   "cell_type": "markdown",
   "id": "e6889de1",
   "metadata": {},
   "source": [
    "<style type=\"text/css\">\n",
    ".tg  {border-collapse:collapse;border-spacing:0;}\n",
    ".tg td{border-color:black;border-style:solid;border-width:1px;font-family:Arial, sans-serif;font-size:14px;\n",
    "  overflow:hidden;padding:10px 5px;word-break:normal;}\n",
    ".tg th{border-color:black;border-style:solid;border-width:1px;font-family:Arial, sans-serif;font-size:14px;\n",
    "  font-weight:normal;overflow:hidden;padding:10px 5px;word-break:normal;}\n",
    ".tg .tg-0pky{border-color:inherit;text-align:left;vertical-align:top}\n",
    ".tg .tg-y698{background-color:#efefef;border-color:inherit;text-align:left;vertical-align:top}\n",
    "</style>\n",
    "<table class=\"tg\">\n",
    "<thead>\n",
    "  <tr>\n",
    "    <th class=\"tg-0pky\">In Python</th>\n",
    "    <th class=\"tg-0pky\">With SQL</th>\n",
    "  </tr>\n",
    "</thead>\n",
    "<tbody>\n",
    "  <tr>\n",
    "    <td class=\"tg-0pky\"><div class=\"lm-Widget p-Widget jp-RenderedHTMLCommon jp-RenderedMarkdown jp-MarkdownOutput\" data-mime-type=\"text/markdown\"><pre style=\"\"><code class=\"cm-s-jupyter language-python\"><span class=\"cm-variable\">replace_dict</span> <span class=\"cm-operator\">=</span> { <span class=\"cm-string\">'boomer'</span>: <span class=\"cm-number\">1960</span>, <span class=\"cm-string\">'genx'</span>: <span class=\"cm-number\">1980</span>, <span class=\"cm-string\">'geny'</span>: <span class=\"cm-number\">1994</span>,<span class=\"cm-string\">'genz'</span>:<span class=\"cm-number\">2023</span>,<span class=\"cm-string\">\"missing\"</span>:<span class=\"cm-number\">2030</span>}\n",
    "<span class=\"cm-variable\">df</span>[<span class=\"cm-string\">'birth_year'</span>] <span class=\"cm-operator\">=</span> <span class=\"cm-variable\">pd</span>.<span class=\"cm-property\">cut</span>(<span class=\"cm-variable\">df</span>[<span class=\"cm-string\">'birth_year'</span>],<span class=\"cm-variable\">bins</span><span class=\"cm-operator\">=</span>[<span class=\"cm-number\">1</span>]<span class=\"cm-operator\">+</span><span class=\"cm-builtin\">list</span>(<span class=\"cm-variable\">replace_dict</span>.<span class=\"cm-property\">values</span>()),<span class=\"cm-variable\">labels</span><span class=\"cm-operator\">=</span><span class=\"cm-builtin\">list</span>(<span class=\"cm-variable\">replace_dict</span>.<span class=\"cm-property\">keys</span>()))\n",
    "\n",
    "<span class=\"cm-variable\">df</span>.<span class=\"cm-property\">groupby</span>(<span class=\"cm-string\">'birth_year'</span>,<span class=\"cm-variable\">as_index</span><span class=\"cm-operator\">=</span><span class=\"cm-keyword\">False</span>)[<span class=\"cm-string\">'tripduration'</span>].<span class=\"cm-property\">count</span>()\n",
    "</code></pre>\n",
    "</div></td>\n",
    "    <td class=\"tg-0pky\"><div class=\"lm-Widget p-Widget jp-RenderedHTMLCommon jp-RenderedMarkdown jp-MarkdownOutput\" data-mime-type=\"text/markdown\"><pre><code class=\"cm-s-jupyter language-sql\"><span class=\"cm-keyword\">SELECT</span>  \n",
    "    EXTRACT<span class=\"cm-bracket\">(</span><span class=\"cm-builtin\">year</span> <span class=\"cm-keyword\">FROM</span> starttime<span class=\"cm-bracket\">)</span> <span class=\"cm-keyword\">AS</span> <span class=\"cm-builtin\">year</span><span class=\"cm-punctuation\">,</span>\n",
    "    <span class=\"cm-keyword\">COUNT</span><span class=\"cm-bracket\">(</span>CASE WHEN birth_year<span class=\"cm-operator\">&gt;=</span><span class=\"cm-number\">1940</span> <span class=\"cm-keyword\">AND</span> birth_year<span class=\"cm-operator\">&lt;</span><span class=\"cm-number\">1959</span> THEN <span class=\"cm-number\">1</span> END<span class=\"cm-bracket\">)</span> <span class=\"cm-keyword\">AS</span> boomer<span class=\"cm-punctuation\">,</span>\n",
    "    <span class=\"cm-keyword\">COUNT</span><span class=\"cm-bracket\">(</span>CASE WHEN birth_year<span class=\"cm-operator\">&gt;=</span><span class=\"cm-number\">1960</span> <span class=\"cm-keyword\">AND</span> birth_year<span class=\"cm-operator\">&lt;</span><span class=\"cm-number\">1979</span> THEN <span class=\"cm-number\">1</span> END<span class=\"cm-bracket\">)</span> <span class=\"cm-keyword\">AS</span> genx<span class=\"cm-punctuation\">,</span>\n",
    "    <span class=\"cm-keyword\">COUNT</span><span class=\"cm-bracket\">(</span>CASE WHEN birth_year<span class=\"cm-operator\">&gt;=</span><span class=\"cm-number\">1980</span> <span class=\"cm-keyword\">AND</span> birth_year<span class=\"cm-operator\">&lt;</span><span class=\"cm-number\">1994</span> THEN <span class=\"cm-number\">1</span> END<span class=\"cm-bracket\">)</span> <span class=\"cm-keyword\">AS</span> geny<span class=\"cm-punctuation\">,</span>\n",
    "    <span class=\"cm-keyword\">COUNT</span><span class=\"cm-bracket\">(</span>CASE WHEN birth_year<span class=\"cm-operator\">&gt;=</span><span class=\"cm-number\">1995</span> <span class=\"cm-keyword\">AND</span> birth_year<span class=\"cm-operator\">&lt;</span><span class=\"cm-number\">2012</span> THEN <span class=\"cm-number\">1</span> END<span class=\"cm-bracket\">)</span> <span class=\"cm-keyword\">AS</span> genz\n",
    "<span class=\"cm-keyword\">FROM</span> \n",
    "    `citibike<span class=\"cm-operator\">-</span>project<span class=\"cm-operator\">-</span><span class=\"cm-number\">330415</span><span class=\"cm-variable-2\">.CITIBIKE</span><span class=\"cm-variable-2\">.citibike_trips</span>` \n",
    "<span class=\"cm-keyword\">GROUP</span> <span class=\"cm-keyword\">BY</span> \n",
    "    <span class=\"cm-builtin\">year</span>\n",
    "<span class=\"cm-keyword\">HAVING</span> \n",
    "    <span class=\"cm-builtin\">year</span> <span class=\"cm-keyword\">IS</span> <span class=\"cm-keyword\">NOT</span> <span class=\"cm-atom\">NULL</span> <span class=\"cm-keyword\">AND</span> <span class=\"cm-builtin\">year</span> <span class=\"cm-operator\">!=</span> <span class=\"cm-number\">2013</span> <span class=\"cm-keyword\">AND</span> <span class=\"cm-builtin\">year</span> <span class=\"cm-operator\">!=</span> <span class=\"cm-number\">2018</span>\n",
    "<span class=\"cm-keyword\">ORDER</span> <span class=\"cm-keyword\">BY</span>\n",
    "    <span class=\"cm-builtin\">year</span> <span class=\"cm-keyword\">ASC</span>\n",
    "</code></pre>\n",
    "</div></td>\n",
    "  </tr>\n",
    "  <tr>\n",
    "    <td class=\"tg-y698\">3 Lines</td>\n",
    "    <td class=\"tg-y698\">14 Lines</td>\n",
    "  </tr>\n",
    "</tbody>\n",
    "</table>"
   ]
  },
  {
   "cell_type": "markdown",
   "id": "addb2695",
   "metadata": {},
   "source": [
    "<a class=\"anchor\" id=\"third-question\"></a>\n",
    "# Q3: Which gender uses Citi Bike most often and what's the trend❓"
   ]
  },
  {
   "cell_type": "markdown",
   "id": "901834d3",
   "metadata": {},
   "source": [
    "### pandas  - 2 lines of code"
   ]
  },
  {
   "cell_type": "markdown",
   "id": "3346e7a8",
   "metadata": {},
   "source": [
    "Group by gender and year, count how many trip per gender per year"
   ]
  },
  {
   "cell_type": "code",
   "execution_count": 9,
   "id": "61f30794-2e9e-425e-983a-e15fefcfbf97",
   "metadata": {
    "tags": []
   },
   "outputs": [
    {
     "data": {
      "text/plain": [
       "start_year  gender \n",
       "2014        female      571\n",
       "            male       2053\n",
       "            unknown     268\n",
       "2015        female      601\n",
       "            male       2036\n",
       "            unknown     430\n",
       "2016        female      569\n",
       "            male       1912\n",
       "            unknown     359\n",
       "dtype: int64"
      ]
     },
     "execution_count": 9,
     "metadata": {},
     "output_type": "execute_result"
    }
   ],
   "source": [
    "df['start_year'] = df.starttime.dt.year\n",
    "df[df.start_year != 2013].groupby(['start_year','gender']).size() "
   ]
  },
  {
   "cell_type": "markdown",
   "id": "483d11de",
   "metadata": {},
   "source": [
    "## <h2 align=\"center\"> 💡 2 lines of pandas vs 16 lines required with SQL approach [below](https://www.kaggle.com/code/cjinquan/citibike-analysis-sql?scriptVersionId=78471031&cellId=11) </h2>"
   ]
  },
  {
   "cell_type": "markdown",
   "id": "640e32f4-4721-4ab8-b217-ba1b472357b6",
   "metadata": {},
   "source": [
    "<table class=\"tg\">\n",
    "<thead>\n",
    "  <tr>\n",
    "    <th class=\"tg-0pky\">In Python</th>\n",
    "    <th class=\"tg-0pky\">In SQL</th>\n",
    "  </tr>\n",
    "</thead>\n",
    "<tbody>\n",
    "  <tr>\n",
    "    <td class=\"tg-0pky\"><div class=\"lm-Widget p-Widget jp-RenderedHTMLCommon jp-RenderedMarkdown jp-MarkdownOutput\" data-mime-type=\"text/markdown\"><pre><code class=\"cm-s-jupyter language-python\"><span class=\"cm-variable\">df</span>[<span class=\"cm-string\">'start_year'</span>] <span class=\"cm-operator\">=</span> <span class=\"cm-variable\">df</span>.<span class=\"cm-property\">starttime</span>.<span class=\"cm-property\">dt</span>.<span class=\"cm-property\">year</span>\n",
    "<span class=\"cm-variable\">df</span>[<span class=\"cm-variable\">df</span>.<span class=\"cm-property\">start_year</span> <span class=\"cm-operator\">!=</span> <span class=\"cm-number\">2013</span>].<span class=\"cm-property\">groupby</span>([<span class=\"cm-string\">'start_year'</span>,<span class=\"cm-string\">'gender'</span>]).<span class=\"cm-property\">size</span>() \n",
    "</code></pre>\n",
    "</div></td>\n",
    "    <td class=\"tg-0pky\"><div class=\"lm-Widget p-Widget jp-RenderedHTMLCommon jp-RenderedMarkdown jp-MarkdownOutput\" data-mime-type=\"text/markdown\"><pre><code class=\"cm-s-jupyter language-sql\"><span class=\"cm-keyword\">SELECT</span>  \n",
    "    EXTRACT<span class=\"cm-bracket\">(</span> <span class=\"cm-builtin\">year</span> <span class=\"cm-keyword\">FROM</span> starttime<span class=\"cm-bracket\">)</span> <span class=\"cm-keyword\">AS</span> <span class=\"cm-builtin\">year</span><span class=\"cm-punctuation\">,</span>\n",
    "    <span class=\"cm-keyword\">COUNT</span><span class=\"cm-bracket\">(</span>CASE WHEN gender<span class=\"cm-operator\">=</span> <span class=\"cm-string\">\"female\"</span> THEN <span class=\"cm-number\">1</span> END<span class=\"cm-bracket\">)</span> <span class=\"cm-keyword\">AS</span> female<span class=\"cm-punctuation\">,</span>\n",
    "    ROUND<span class=\"cm-bracket\">(</span><span class=\"cm-keyword\">COUNT</span><span class=\"cm-bracket\">(</span>CASE WHEN gender<span class=\"cm-operator\">=</span> <span class=\"cm-string\">\"female\"</span> THEN <span class=\"cm-number\">1</span> END<span class=\"cm-bracket\">)</span><span class=\"cm-operator\">/</span><span class=\"cm-keyword\">COUNT</span><span class=\"cm-bracket\">(</span>gender<span class=\"cm-bracket\">)</span><span class=\"cm-operator\">*</span><span class=\"cm-number\">100</span><span class=\"cm-punctuation\">,</span> <span class=\"cm-number\">2</span><span class=\"cm-bracket\">)</span> <span class=\"cm-keyword\">AS</span> female_percentage<span class=\"cm-punctuation\">,</span>\n",
    "    <span class=\"cm-keyword\">COUNT</span><span class=\"cm-bracket\">(</span>CASE WHEN gender <span class=\"cm-operator\">=</span> <span class=\"cm-string\">\"male\"</span> THEN <span class=\"cm-number\">1</span> END<span class=\"cm-bracket\">)</span> <span class=\"cm-keyword\">AS</span> male<span class=\"cm-punctuation\">,</span>\n",
    "    ROUND<span class=\"cm-bracket\">(</span><span class=\"cm-keyword\">COUNT</span><span class=\"cm-bracket\">(</span>CASE WHEN gender <span class=\"cm-operator\">=</span> <span class=\"cm-string\">\"male\"</span> THEN <span class=\"cm-number\">1</span> END<span class=\"cm-bracket\">)</span><span class=\"cm-operator\">/</span><span class=\"cm-keyword\">COUNT</span><span class=\"cm-bracket\">(</span>gender<span class=\"cm-bracket\">)</span><span class=\"cm-operator\">*</span><span class=\"cm-number\">100</span><span class=\"cm-punctuation\">,</span> <span class=\"cm-number\">2</span><span class=\"cm-bracket\">)</span> <span class=\"cm-keyword\">AS</span> male_percentage\n",
    "<span class=\"cm-keyword\">FROM</span> \n",
    "    `citibike<span class=\"cm-operator\">-</span>project<span class=\"cm-operator\">-</span><span class=\"cm-number\">330415</span><span class=\"cm-variable-2\">.CITIBIKE</span><span class=\"cm-variable-2\">.citibike_trips</span>` \n",
    "<span class=\"cm-keyword\">GROUP</span> <span class=\"cm-keyword\">BY</span> \n",
    "    <span class=\"cm-builtin\">year</span>\n",
    "<span class=\"cm-keyword\">HAVING</span> \n",
    "    <span class=\"cm-builtin\">year</span> <span class=\"cm-keyword\">IS</span> <span class=\"cm-keyword\">NOT</span> <span class=\"cm-atom\">NULL</span> <span class=\"cm-keyword\">AND</span> <span class=\"cm-builtin\">year</span> <span class=\"cm-operator\">!=</span> <span class=\"cm-number\">2013</span> <span class=\"cm-keyword\">AND</span> <span class=\"cm-builtin\">year</span> <span class=\"cm-operator\">!=</span> <span class=\"cm-number\">2018</span>\n",
    "<span class=\"cm-keyword\">ORDER</span> <span class=\"cm-keyword\">BY</span>\n",
    "    <span class=\"cm-builtin\">year</span> <span class=\"cm-keyword\">ASC</span>\n",
    "</code></pre>\n",
    "</div></td>\n",
    "  </tr>\n",
    "    \n",
    "  <tr>\n",
    "    <td class=\"tg-0pky\">2 Lines<br></td>\n",
    "    <td class=\"tg-0pky\">16 Lines</td>\n",
    "  </tr>\n",
    "</tbody>\n",
    "</table>"
   ]
  },
  {
   "cell_type": "markdown",
   "id": "c33b336d",
   "metadata": {},
   "source": [
    "&nbsp;"
   ]
  },
  {
   "cell_type": "markdown",
   "id": "daa315b8",
   "metadata": {},
   "source": [
    "<a class=\"anchor\" id=\"fourth-question\"></a>\n",
    "#  ❓Q4: Which day of the week is the most popular ❓"
   ]
  },
  {
   "cell_type": "markdown",
   "id": "9c8a8c3c",
   "metadata": {},
   "source": [
    "### pandas - 1 line"
   ]
  },
  {
   "cell_type": "markdown",
   "id": "3c63de6f",
   "metadata": {},
   "source": [
    "Group records by day of week and count how many trips there are"
   ]
  },
  {
   "cell_type": "code",
   "execution_count": 10,
   "id": "daf46129-e262-4931-9d81-ef300eb4e6c4",
   "metadata": {
    "tags": []
   },
   "outputs": [
    {
     "data": {
      "text/plain": [
       "starttime\n",
       "0    1632\n",
       "1    1653\n",
       "2    1643\n",
       "3    1723\n",
       "4    1643\n",
       "5    1314\n",
       "6    1281\n",
       "dtype: int64"
      ]
     },
     "execution_count": 10,
     "metadata": {},
     "output_type": "execute_result"
    }
   ],
   "source": [
    "df.groupby(df.starttime.dt.day_of_week).size()"
   ]
  },
  {
   "cell_type": "markdown",
   "id": "2735c491",
   "metadata": {},
   "source": [
    "## <h2 align=\"center\"> 💡 1 line of pandas vs 11 lines of code required with SQL approach [below](https://www.kaggle.com/code/cjinquan/citibike-analysis-sql?scriptVersionId=78471031&cellId=16) </h2>"
   ]
  },
  {
   "cell_type": "markdown",
   "id": "1c6b5d1d",
   "metadata": {},
   "source": [
    "<style type=\"text/css\">\n",
    ".tg  {border-collapse:collapse;border-spacing:0;}\n",
    ".tg td{border-color:black;border-style:solid;border-width:1px;font-family:Arial, sans-serif;font-size:14px;\n",
    "  overflow:hidden;padding:10px 5px;word-break:normal;}\n",
    ".tg th{border-color:black;border-style:solid;border-width:1px;font-family:Arial, sans-serif;font-size:14px;\n",
    "  font-weight:normal;overflow:hidden;padding:10px 5px;word-break:normal;}\n",
    ".tg .tg-0pky{border-color:inherit;text-align:left;vertical-align:top}\n",
    ".tg .tg-y698{background-color:#efefef;border-color:inherit;text-align:left;vertical-align:top}\n",
    "</style>\n",
    "<table class=\"tg\">\n",
    "<thead>\n",
    "  <tr>\n",
    "    <th class=\"tg-0pky\">In Python</th>\n",
    "    <th class=\"tg-0pky\">With SQL</th>\n",
    "  </tr>\n",
    "</thead>\n",
    "<tbody>\n",
    "  <tr>\n",
    "    <td class=\"tg-0pky\"><div class=\"lm-Widget p-Widget jp-RenderedHTMLCommon jp-RenderedMarkdown jp-MarkdownOutput\" data-mime-type=\"text/markdown\"><pre style=\"\"><code class=\"cm-s-jupyter language-python\"><span class=\"cm-variable\">df</span>.<span class=\"cm-property\">groupby</span>(<span class=\"cm-variable\">df</span>.<span class=\"cm-property\">starttime</span>.<span class=\"cm-property\">dt</span>.<span class=\"cm-property\">day_of_week</span>).<span class=\"cm-property\">size</span>()\n",
    "</code></pre>\n",
    "</div></td>\n",
    "    <td class=\"tg-0pky\"><div class=\"lm-Widget p-Widget jp-Cell jp-MarkdownCell jp-Notebook-cell jp-mod-rendered\"><div class=\"lm-Widget p-Widget jp-CellHeader jp-Cell-header\"></div><div class=\"lm-Widget p-Widget lm-Panel p-Panel jp-Cell-inputWrapper\"><div class=\"lm-Widget p-Widget jp-Collapser jp-InputCollapser jp-Cell-inputCollapser\"><div class=\"jp-Collapser-child\"></div></div><div class=\"lm-Widget p-Widget jp-InputArea jp-Cell-inputArea\"><div class=\"lm-Widget p-Widget jp-InputPrompt jp-InputArea-prompt\"></div><div class=\"lm-Widget p-Widget jp-CodeMirrorEditor jp-Editor jp-InputArea-editor lm-mod-hidden p-mod-hidden\" data-type=\"inline\" aria-hidden=\"true\"><div class=\"CodeMirror cm-s-jupyter CodeMirror-wrap\"><div style=\"overflow: hidden; position: relative; width: 3px; height: 0px; top: 191.875px; left: 152.699px;\"><textarea autocorrect=\"off\" autocapitalize=\"off\" spellcheck=\"false\" tabindex=\"0\" style=\"position: absolute; bottom: -1em; padding: 0px; width: 1000px; height: 1em; outline: none;\"></textarea></div><div class=\"CodeMirror-vscrollbar\" tabindex=\"-1\" cm-not-content=\"true\" style=\"bottom: 0px; display: block;\"><div style=\"min-width: 1px; height: 89px;\"></div></div><div class=\"CodeMirror-hscrollbar\" tabindex=\"-1\" cm-not-content=\"true\"><div style=\"height: 100%; min-height: 1px; width: 0px;\"></div></div><div class=\"CodeMirror-scrollbar-filler\" cm-not-content=\"true\"></div><div class=\"CodeMirror-gutter-filler\" cm-not-content=\"true\"></div><div class=\"CodeMirror-scroll\" tabindex=\"-1\" draggable=\"false\"><div class=\"CodeMirror-sizer\" style=\"margin-left: 0px; padding-right: 14px; padding-bottom: 0px; margin-bottom: -14px; border-right-width: 36px; min-height: 231px;\"><div style=\"position: relative; top: 0px;\"><div class=\"CodeMirror-lines\" role=\"presentation\"><div role=\"presentation\" style=\"position: relative; outline: none;\"><div class=\"CodeMirror-measure\"><pre class=\"CodeMirror-line-like\"><span>xxxxxxxxxx</span></pre></div><div class=\"CodeMirror-measure\"></div><div style=\"position: relative; z-index: 1;\"></div><div class=\"CodeMirror-cursors\" style=\"visibility: hidden;\"><div class=\"CodeMirror-cursor\" style=\"left: 152.699px; top: 186.875px; height: 16.9886px;\">&nbsp;</div></div><div class=\"CodeMirror-code\" role=\"presentation\" style=\"\"><pre class=\" CodeMirror-line \" role=\"presentation\"><span role=\"presentation\" style=\"padding-right: 0.1px;\"><span class=\"cm-comment\">```sql</span></span></pre><pre class=\" CodeMirror-line \" role=\"presentation\"><span role=\"presentation\" style=\"padding-right: 0.1px;\"><span class=\"cm-keyword\">SELECT</span> &nbsp;</span></pre><pre class=\" CodeMirror-line \" role=\"presentation\"><span role=\"presentation\" style=\"padding-right: 0.1px;\"> &nbsp;  EXTRACT <span class=\"cm-bracket\">(</span> dayofweek <span class=\"cm-keyword\">FROM</span> starttime<span class=\"cm-bracket\">)</span> <span class=\"cm-keyword\">AS</span> day_of_week<span class=\"cm-punctuation\">,</span></span></pre><pre class=\" CodeMirror-line \" role=\"presentation\"><span role=\"presentation\" style=\"padding-right: 0.1px;\"> &nbsp; &nbsp;<span class=\"cm-keyword\">COUNT</span><span class=\"cm-bracket\">(</span><span class=\"cm-operator\">*</span><span class=\"cm-bracket\">)</span> <span class=\"cm-keyword\">AS</span> number_of_trip</span></pre><pre class=\" CodeMirror-line \" role=\"presentation\"><span role=\"presentation\" style=\"padding-right: 0.1px;\"><span class=\"cm-keyword\">FROM</span> </span></pre><pre class=\" CodeMirror-line \" role=\"presentation\"><span role=\"presentation\" style=\"padding-right: 0.1px;\"> &nbsp;  `citibike<span class=\"cm-operator\">-</span>project<span class=\"cm-operator\">-</span><span class=\"cm-number\">330415</span><span class=\"cm-variable-2\">.CITIBIKE.citibike_trips</span>` </span></pre><pre class=\" CodeMirror-line \" role=\"presentation\"><span role=\"presentation\" style=\"padding-right: 0.1px;\"><span class=\"cm-keyword\">GROUP</span> <span class=\"cm-keyword\">BY</span> </span></pre><pre class=\" CodeMirror-line \" role=\"presentation\"><span role=\"presentation\" style=\"padding-right: 0.1px;\"> &nbsp;  day_of_week</span></pre><pre class=\" CodeMirror-line \" role=\"presentation\"><span role=\"presentation\" style=\"padding-right: 0.1px;\"><span class=\"cm-keyword\">HAVING</span></span></pre><pre class=\" CodeMirror-line \" role=\"presentation\"><span role=\"presentation\" style=\"padding-right: 0.1px;\"> &nbsp;  day_of_week <span class=\"cm-keyword\">IS</span> <span class=\"cm-keyword\">NOT</span> <span class=\"cm-atom\">NULL</span> </span></pre><pre class=\" CodeMirror-line \" role=\"presentation\"><span role=\"presentation\" style=\"padding-right: 0.1px;\"><span class=\"cm-keyword\">ORDER</span> <span class=\"cm-keyword\">BY</span> </span></pre><pre class=\" CodeMirror-line \" role=\"presentation\"><span role=\"presentation\" style=\"padding-right: 0.1px;\"> &nbsp;  day_of_week <span class=\"cm-keyword\">ASC</span></span></pre><pre class=\" CodeMirror-line \" role=\"presentation\"><span role=\"presentation\" style=\"padding-right: 0.1px;\"><span class=\"cm-comment\">```</span></span></pre></div></div></div></div></div><div style=\"position: absolute; height: 36px; width: 1px; border-bottom: 0px solid transparent; top: 231px;\"></div><div class=\"CodeMirror-gutters\" style=\"display: none; height: 267px;\"></div></div></div></div><div class=\"lm-Widget p-Widget jp-RenderedHTMLCommon jp-RenderedMarkdown jp-MarkdownOutput\" data-mime-type=\"text/markdown\"><pre style=\"\"><code class=\"cm-s-jupyter language-sql\"><span class=\"cm-keyword\">SELECT</span>  \n",
    "    EXTRACT <span class=\"cm-bracket\">(</span> dayofweek <span class=\"cm-keyword\">FROM</span> starttime<span class=\"cm-bracket\">)</span> <span class=\"cm-keyword\">AS</span> day_of_week<span class=\"cm-punctuation\">,</span>\n",
    "    <span class=\"cm-keyword\">COUNT</span><span class=\"cm-bracket\">(</span><span class=\"cm-operator\">*</span><span class=\"cm-bracket\">)</span> <span class=\"cm-keyword\">AS</span> number_of_trip\n",
    "<span class=\"cm-keyword\">FROM</span> \n",
    "    `citibike<span class=\"cm-operator\">-</span>project<span class=\"cm-operator\">-</span><span class=\"cm-number\">330415</span><span class=\"cm-variable-2\">.CITIBIKE</span><span class=\"cm-variable-2\">.citibike_trips</span>` \n",
    "<span class=\"cm-keyword\">GROUP</span> <span class=\"cm-keyword\">BY</span> \n",
    "    day_of_week\n",
    "<span class=\"cm-keyword\">HAVING</span>\n",
    "    day_of_week <span class=\"cm-keyword\">IS</span> <span class=\"cm-keyword\">NOT</span> <span class=\"cm-atom\">NULL</span> \n",
    "<span class=\"cm-keyword\">ORDER</span> <span class=\"cm-keyword\">BY</span> \n",
    "    day_of_week <span class=\"cm-keyword\">ASC</span>\n",
    "</code></pre>\n",
    "</div></div></div><div class=\"lm-Widget p-Widget jp-CellFooter jp-Cell-footer\"></div></div></td>\n",
    "  </tr>\n",
    "  <tr>\n",
    "    <td class=\"tg-y698\">1 Line</td>\n",
    "    <td class=\"tg-y698\">11 Lines</td>\n",
    "  </tr>\n",
    "</tbody>\n",
    "</table>"
   ]
  },
  {
   "cell_type": "markdown",
   "id": "10b9d476",
   "metadata": {},
   "source": [
    "&nbsp;"
   ]
  },
  {
   "cell_type": "markdown",
   "id": "33e62823",
   "metadata": {},
   "source": [
    "<a class=\"anchor\" id=\"fifth-question\"></a>\n",
    "# ❓Q5: What is the average trip duration per day of the week ❓"
   ]
  },
  {
   "cell_type": "markdown",
   "id": "c4bba966",
   "metadata": {},
   "source": [
    "### pandas - 1 line"
   ]
  },
  {
   "cell_type": "markdown",
   "id": "6c5ad716",
   "metadata": {},
   "source": [
    "Group records by day of week then calculate the average duration of trips for each day of the week"
   ]
  },
  {
   "cell_type": "code",
   "execution_count": 11,
   "id": "c4cfae1e",
   "metadata": {
    "tags": []
   },
   "outputs": [
    {
     "data": {
      "text/plain": [
       "starttime\n",
       "0     978.046569\n",
       "1     792.236540\n",
       "2     825.590383\n",
       "3    1129.637261\n",
       "4     878.025563\n",
       "5    1040.140791\n",
       "6    1035.018735\n",
       "Name: tripduration, dtype: float64"
      ]
     },
     "execution_count": 11,
     "metadata": {},
     "output_type": "execute_result"
    }
   ],
   "source": [
    "df.groupby(df.starttime.dt.day_of_week)['tripduration'].mean()"
   ]
  },
  {
   "cell_type": "markdown",
   "id": "8f8dbd10",
   "metadata": {},
   "source": [
    "## <h2 align=\"center\">  💡1 line of pandas vs. 11 lines of code required with SQL approach [below](https://www.kaggle.com/code/cjinquan/citibike-analysis-sql?scriptVersionId=78471031&cellId=21) </h2>"
   ]
  },
  {
   "cell_type": "markdown",
   "id": "67684c2a",
   "metadata": {},
   "source": [
    "<style type=\"text/css\">\n",
    ".tg  {border-collapse:collapse;border-spacing:0;}\n",
    ".tg td{border-color:black;border-style:solid;border-width:1px;font-family:Arial, sans-serif;font-size:14px;\n",
    "  overflow:hidden;padding:10px 5px;word-break:normal;}\n",
    ".tg th{border-color:black;border-style:solid;border-width:1px;font-family:Arial, sans-serif;font-size:14px;\n",
    "  font-weight:normal;overflow:hidden;padding:10px 5px;word-break:normal;}\n",
    ".tg .tg-0pky{border-color:inherit;text-align:left;vertical-align:top}\n",
    ".tg .tg-y698{background-color:#efefef;border-color:inherit;text-align:left;vertical-align:top}\n",
    "</style>\n",
    "<table class=\"tg\">\n",
    "<thead>\n",
    "  <tr>\n",
    "    <th class=\"tg-0pky\">In Python</th>\n",
    "    <th class=\"tg-0pky\">With SQL</th>\n",
    "  </tr>\n",
    "</thead>\n",
    "<tbody>\n",
    "  <tr>\n",
    "    <td class=\"tg-0pky\"><div class=\"lm-Widget p-Widget jp-RenderedHTMLCommon jp-RenderedMarkdown jp-MarkdownOutput\" data-mime-type=\"text/markdown\"><pre><code class=\"cm-s-jupyter language-python\"><span class=\"cm-variable\">df</span>.<span class=\"cm-property\">groupby</span>(<span class=\"cm-variable\">df</span>.<span class=\"cm-property\">starttime</span>.<span class=\"cm-property\">dt</span>.<span class=\"cm-property\">day_of_week</span>)[<span class=\"cm-string\">'tripduration'</span>].<span class=\"cm-property\">mean</span>()\n",
    "</code></pre>\n",
    "</div></td>\n",
    "    <td class=\"tg-0pky\"><div class=\"lm-Widget p-Widget jp-Cell jp-MarkdownCell jp-Notebook-cell jp-mod-rendered\"><div class=\"lm-Widget p-Widget jp-CellHeader jp-Cell-header\"></div><div class=\"lm-Widget p-Widget lm-Panel p-Panel jp-Cell-inputWrapper\"><div class=\"lm-Widget p-Widget jp-Collapser jp-InputCollapser jp-Cell-inputCollapser\"><div class=\"jp-Collapser-child\"></div></div><div class=\"lm-Widget p-Widget jp-InputArea jp-Cell-inputArea\"><div class=\"lm-Widget p-Widget jp-InputPrompt jp-InputArea-prompt\"></div><div class=\"lm-Widget p-Widget jp-CodeMirrorEditor jp-Editor jp-InputArea-editor lm-mod-hidden p-mod-hidden\" data-type=\"inline\" aria-hidden=\"true\"><div class=\"CodeMirror cm-s-jupyter CodeMirror-wrap\"><div style=\"overflow: hidden; position: relative; width: 3px; height: 0px; top: 89.9432px; left: 426.634px;\"><textarea autocorrect=\"off\" autocapitalize=\"off\" spellcheck=\"false\" tabindex=\"0\" style=\"position: absolute; bottom: -1em; padding: 0px; width: 1000px; height: 1em; outline: none;\"></textarea></div><div class=\"CodeMirror-vscrollbar\" tabindex=\"-1\" cm-not-content=\"true\" style=\"bottom: 0px;\"><div style=\"min-width: 1px; height: 0px;\"></div></div><div class=\"CodeMirror-hscrollbar\" tabindex=\"-1\" cm-not-content=\"true\"><div style=\"height: 100%; min-height: 1px; width: 0px;\"></div></div><div class=\"CodeMirror-scrollbar-filler\" cm-not-content=\"true\"></div><div class=\"CodeMirror-gutter-filler\" cm-not-content=\"true\"></div><div class=\"CodeMirror-scroll\" tabindex=\"-1\" draggable=\"false\"><div class=\"CodeMirror-sizer\" style=\"margin-left: 0px; padding-right: 0px; padding-bottom: 0px; margin-bottom: -14px; border-right-width: 36px; min-height: 231px;\"><div style=\"position: relative; top: 0px;\"><div class=\"CodeMirror-lines\" role=\"presentation\"><div role=\"presentation\" style=\"position: relative; outline: none;\"><div class=\"CodeMirror-measure\"><pre class=\"CodeMirror-line-like\">x</pre></div><div class=\"CodeMirror-measure\"></div><div style=\"position: relative; z-index: 1;\"></div><div class=\"CodeMirror-cursors\" style=\"\"><div class=\"CodeMirror-cursor\" style=\"left: 426.634px; top: 84.9432px; height: 16.9886px;\">&nbsp;</div></div><div class=\"CodeMirror-code\" role=\"presentation\" style=\"\"><pre class=\" CodeMirror-line \" role=\"presentation\"><span role=\"presentation\" style=\"padding-right: 0.1px;\"><span class=\"cm-comment\">```sql</span></span></pre><pre class=\" CodeMirror-line \" role=\"presentation\"><span role=\"presentation\" style=\"padding-right: 0.1px;\"><span class=\"cm-keyword\">SELECT</span> &nbsp;</span></pre><pre class=\" CodeMirror-line \" role=\"presentation\"><span role=\"presentation\" style=\"padding-right: 0.1px;\"> &nbsp;  EXTRACT<span class=\"cm-bracket\">(</span>dayofweek <span class=\"cm-keyword\">FROM</span> starttime<span class=\"cm-bracket\">)</span> <span class=\"cm-keyword\">AS</span> day<span class=\"cm-punctuation\">,</span></span></pre><pre class=\" CodeMirror-line \" role=\"presentation\"><span role=\"presentation\" style=\"padding-right: 0.1px;\"> &nbsp;  ROUND<span class=\"cm-bracket\">(</span>AVG<span class=\"cm-bracket\">(</span>tripduration<span class=\"cm-bracket\">)</span><span class=\"cm-punctuation\">,</span> <span class=\"cm-number\">2</span><span class=\"cm-bracket\">)</span> <span class=\"cm-keyword\">AS</span> average_trip_duration_minutes</span></pre><pre class=\" CodeMirror-line \" role=\"presentation\"><span role=\"presentation\" style=\"padding-right: 0.1px;\"><span class=\"cm-keyword\">FROM</span> </span></pre><pre class=\" CodeMirror-line \" role=\"presentation\"><span role=\"presentation\" style=\"padding-right: 0.1px;\"> &nbsp;  `citibike<span class=\"cm-operator\">-</span>project<span class=\"cm-operator\">-</span><span class=\"cm-number\">330415</span><span class=\"cm-variable-2\">.CITIBIKE.citibike_trips</span>` </span></pre><pre class=\" CodeMirror-line \" role=\"presentation\"><span role=\"presentation\" style=\"padding-right: 0.1px;\"><span class=\"cm-keyword\">GROUP</span> <span class=\"cm-keyword\">BY</span> </span></pre><pre class=\" CodeMirror-line \" role=\"presentation\"><span role=\"presentation\" style=\"padding-right: 0.1px;\"> &nbsp;  day</span></pre><pre class=\" CodeMirror-line \" role=\"presentation\"><span role=\"presentation\" style=\"padding-right: 0.1px;\"><span class=\"cm-keyword\">HAVING</span> </span></pre><pre class=\" CodeMirror-line \" role=\"presentation\"><span role=\"presentation\" style=\"padding-right: 0.1px;\"> &nbsp;  day <span class=\"cm-keyword\">IS</span> <span class=\"cm-keyword\">NOT</span> <span class=\"cm-atom\">NULL</span></span></pre><pre class=\" CodeMirror-line \" role=\"presentation\"><span role=\"presentation\" style=\"padding-right: 0.1px;\"><span class=\"cm-keyword\">ORDER</span> <span class=\"cm-keyword\">BY</span> </span></pre><pre class=\" CodeMirror-line \" role=\"presentation\"><span role=\"presentation\" style=\"padding-right: 0.1px;\"> &nbsp;  day <span class=\"cm-keyword\">ASC</span></span></pre><pre class=\" CodeMirror-line \" role=\"presentation\"><span role=\"presentation\" style=\"padding-right: 0.1px;\"><span class=\"cm-comment\">```</span></span></pre></div></div></div></div></div><div style=\"position: absolute; height: 36px; width: 1px; border-bottom: 0px solid transparent; top: 231px;\"></div><div class=\"CodeMirror-gutters\" style=\"display: none; height: 267px;\"></div></div></div></div><div class=\"lm-Widget p-Widget jp-RenderedHTMLCommon jp-RenderedMarkdown jp-MarkdownOutput\" data-mime-type=\"text/markdown\"><pre style=\"\"><code class=\"cm-s-jupyter language-sql\"><span class=\"cm-keyword\">SELECT</span>  \n",
    "    EXTRACT<span class=\"cm-bracket\">(</span>dayofweek <span class=\"cm-keyword\">FROM</span> starttime<span class=\"cm-bracket\">)</span> <span class=\"cm-keyword\">AS</span> day<span class=\"cm-punctuation\">,</span>\n",
    "    ROUND<span class=\"cm-bracket\">(</span>AVG<span class=\"cm-bracket\">(</span>tripduration<span class=\"cm-bracket\">)</span><span class=\"cm-punctuation\">,</span> <span class=\"cm-number\">2</span><span class=\"cm-bracket\">)</span> <span class=\"cm-keyword\">AS</span> average_trip_duration_minutes\n",
    "<span class=\"cm-keyword\">FROM</span> \n",
    "    `citibike<span class=\"cm-operator\">-</span>project<span class=\"cm-operator\">-</span><span class=\"cm-number\">330415</span><span class=\"cm-variable-2\">.CITIBIKE</span><span class=\"cm-variable-2\">.citibike_trips</span>` \n",
    "<span class=\"cm-keyword\">GROUP</span> <span class=\"cm-keyword\">BY</span> \n",
    "    day\n",
    "<span class=\"cm-keyword\">HAVING</span> \n",
    "    day <span class=\"cm-keyword\">IS</span> <span class=\"cm-keyword\">NOT</span> <span class=\"cm-atom\">NULL</span>\n",
    "<span class=\"cm-keyword\">ORDER</span> <span class=\"cm-keyword\">BY</span> \n",
    "    day <span class=\"cm-keyword\">ASC</span>\n",
    "</code></pre>\n",
    "</div></div></div><div class=\"lm-Widget p-Widget jp-CellFooter jp-Cell-footer\"></div></div></td>\n",
    "  </tr>\n",
    "  <tr>\n",
    "    <td class=\"tg-y698\">1 Line</td>\n",
    "    <td class=\"tg-y698\">11 Lines</td>\n",
    "  </tr>\n",
    "</tbody>\n",
    "</table>"
   ]
  },
  {
   "cell_type": "markdown",
   "id": "ea22d0d2",
   "metadata": {},
   "source": [
    "&nbsp;"
   ]
  },
  {
   "cell_type": "markdown",
   "id": "14807d9d",
   "metadata": {},
   "source": [
    "<a class=\"anchor\" id=\"sixth-question\"></a>\n",
    "#  ❓Q6: What is the total number of trips per month for a year (2015) ❓"
   ]
  },
  {
   "cell_type": "markdown",
   "id": "27aaf0e9",
   "metadata": {},
   "source": [
    "### pandas - 1 line of code"
   ]
  },
  {
   "cell_type": "markdown",
   "id": "d85787a3",
   "metadata": {},
   "source": [
    "Group by month, then count trips per month"
   ]
  },
  {
   "cell_type": "code",
   "execution_count": 12,
   "id": "688fb15c",
   "metadata": {
    "tags": []
   },
   "outputs": [
    {
     "data": {
      "text/plain": [
       "starttime\n",
       "1      86\n",
       "2      62\n",
       "3     119\n",
       "4     194\n",
       "5     286\n",
       "6     312\n",
       "7     376\n",
       "8     388\n",
       "9     436\n",
       "10    359\n",
       "11    250\n",
       "12    199\n",
       "dtype: int64"
      ]
     },
     "execution_count": 12,
     "metadata": {},
     "output_type": "execute_result"
    }
   ],
   "source": [
    "df[df['start_year']==2015].groupby(df.starttime.dt.month).size()"
   ]
  },
  {
   "cell_type": "markdown",
   "id": "17b0eb02",
   "metadata": {},
   "source": [
    "## <h2 align=\"center\">💡1 line of pandas vs. 15 lines of code required with SQL approach [below](https://www.kaggle.com/code/cjinquan/citibike-analysis-sql?scriptVersionId=78471031&cellId=26)</h2>"
   ]
  },
  {
   "cell_type": "markdown",
   "id": "55c642d2",
   "metadata": {},
   "source": [
    "<style type=\"text/css\">\n",
    ".tg  {border-collapse:collapse;border-spacing:0;}\n",
    ".tg td{border-color:black;border-style:solid;border-width:1px;font-family:Arial, sans-serif;font-size:14px;\n",
    "  overflow:hidden;padding:10px 5px;word-break:normal;}\n",
    ".tg th{border-color:black;border-style:solid;border-width:1px;font-family:Arial, sans-serif;font-size:14px;\n",
    "  font-weight:normal;overflow:hidden;padding:10px 5px;word-break:normal;}\n",
    ".tg .tg-0pky{border-color:inherit;text-align:left;vertical-align:top}\n",
    ".tg .tg-y698{background-color:#efefef;border-color:inherit;text-align:left;vertical-align:top}\n",
    "</style>\n",
    "<table class=\"tg\">\n",
    "<thead>\n",
    "  <tr>\n",
    "    <th class=\"tg-0pky\">In Python</th>\n",
    "    <th class=\"tg-0pky\">With SQL</th>\n",
    "  </tr>\n",
    "</thead>\n",
    "<tbody>\n",
    "  <tr>\n",
    "    <td class=\"tg-0pky\"><pre style=\"\"><code class=\"cm-s-jupyter language-python\"><span class=\"cm-variable\">df</span>[<span class=\"cm-variable\">df</span>[<span class=\"cm-string\">'start_year'</span>]<span class=\"cm-operator\">==</span><span class=\"cm-number\">2015</span>].<span class=\"cm-property\">groupby</span>(<span class=\"cm-variable\">df</span>.<span class=\"cm-property\">starttime</span>.<span class=\"cm-property\">dt</span>.<span class=\"cm-property\">month</span>).<span class=\"cm-property\">size</span>()\n",
    "</code></pre></td>\n",
    "    <td class=\"tg-0pky\"><div class=\"lm-Widget p-Widget jp-RenderedHTMLCommon jp-RenderedMarkdown jp-MarkdownOutput\" data-mime-type=\"text/markdown\"><pre style=\"\"><code class=\"cm-s-jupyter language-sql\"><span class=\"cm-keyword\">SELECT</span>  \n",
    "    EXTRACT<span class=\"cm-bracket\">(</span><span class=\"cm-builtin\">year</span> <span class=\"cm-keyword\">FROM</span> starttime<span class=\"cm-bracket\">)</span> <span class=\"cm-keyword\">AS</span> <span class=\"cm-builtin\">year</span><span class=\"cm-punctuation\">,</span>\n",
    "    EXTRACT<span class=\"cm-bracket\">(</span>month <span class=\"cm-keyword\">FROM</span> starttime<span class=\"cm-bracket\">)</span> <span class=\"cm-keyword\">AS</span> month<span class=\"cm-punctuation\">,</span>\n",
    "    <span class=\"cm-keyword\">COUNT</span><span class=\"cm-bracket\">(</span><span class=\"cm-operator\">*</span><span class=\"cm-bracket\">)</span> <span class=\"cm-keyword\">AS</span> number_of_trips\n",
    "<span class=\"cm-keyword\">FROM</span> \n",
    "    `citibike<span class=\"cm-operator\">-</span>project<span class=\"cm-operator\">-</span><span class=\"cm-number\">330415</span><span class=\"cm-variable-2\">.CITIBIKE</span><span class=\"cm-variable-2\">.citibike_trips</span>` \n",
    "<span class=\"cm-keyword\">GROUP</span> <span class=\"cm-keyword\">BY</span> \n",
    "    <span class=\"cm-builtin\">year</span><span class=\"cm-punctuation\">,</span> month\n",
    "<span class=\"cm-keyword\">HAVING</span> \n",
    "    month <span class=\"cm-keyword\">IS</span> <span class=\"cm-keyword\">NOT</span> <span class=\"cm-atom\">NULL</span> <span class=\"cm-keyword\">AND</span> \n",
    "    <span class=\"cm-builtin\">year</span> <span class=\"cm-keyword\">IS</span> <span class=\"cm-keyword\">NOT</span> <span class=\"cm-atom\">NULL</span> <span class=\"cm-keyword\">AND</span> \n",
    "    <span class=\"cm-builtin\">year</span> <span class=\"cm-operator\">=</span> <span class=\"cm-number\">2015</span> \n",
    "<span class=\"cm-keyword\">ORDER</span> <span class=\"cm-keyword\">BY</span> \n",
    "    <span class=\"cm-builtin\">year</span> <span class=\"cm-keyword\">ASC</span><span class=\"cm-punctuation\">,</span>\n",
    "    month <span class=\"cm-keyword\">ASC</span>\n",
    "</code></pre>\n",
    "</div></td>\n",
    "  </tr>\n",
    "  <tr>\n",
    "    <td class=\"tg-y698\">1 Line</td>\n",
    "    <td class=\"tg-y698\">11 Lines</td>\n",
    "  </tr>\n",
    "</tbody>\n",
    "</table>"
   ]
  },
  {
   "cell_type": "markdown",
   "id": "aaa750c7",
   "metadata": {},
   "source": [
    "&nbsp;"
   ]
  },
  {
   "cell_type": "markdown",
   "id": "a5cac640",
   "metadata": {},
   "source": [
    "## So in total..."
   ]
  },
  {
   "cell_type": "markdown",
   "id": "b035c73b",
   "metadata": {},
   "source": [
    " <h1 align=\"center\">🔥9 lines of pandas vs. ~70 lines with the SQL🔥</h1>"
   ]
  },
  {
   "cell_type": "markdown",
   "id": "0108bbdc",
   "metadata": {},
   "source": [
    "&nbsp;"
   ]
  },
  {
   "cell_type": "markdown",
   "id": "013198ab",
   "metadata": {},
   "source": [
    "# But what if I want to do more that the simple summary stats above?"
   ]
  },
  {
   "cell_type": "markdown",
   "id": "528e9aba",
   "metadata": {},
   "source": [
    "As part of my analysis I may want to go beyond the 6 questions we've already answered. I may want to do more complex data cleaning and transformation steps that aren't included in the Kaggle analysis. If my operations aren't relational in nature, what do I do? \n",
    "\n",
    "See two examples below:"
   ]
  },
  {
   "cell_type": "markdown",
   "id": "c49cc539",
   "metadata": {},
   "source": [
    "### Drop rows with missing values, sort by trip duration, get the top 10 longest trips"
   ]
  },
  {
   "cell_type": "markdown",
   "id": "f70784f3",
   "metadata": {},
   "source": [
    "A key characteristic of dataframes is that they are ordered, the order is preserved across operations, and we can use indexing to select subsets of data. These characteristics are critical for interactive data science.\n",
    "\n",
    "With pandas, the above prompt can be answered with one highly expressive line of pandas code.  Whereas with SQL, preserving order across operations in nearly impossible and dealing with null values is a very involved.   "
   ]
  },
  {
   "cell_type": "code",
   "execution_count": 13,
   "id": "c9b2a104-7225-433c-944a-127b2e22260e",
   "metadata": {
    "tags": []
   },
   "outputs": [
    {
     "data": {
      "text/html": [
       "<div>\n",
       "<style scoped>\n",
       "    .dataframe tbody tr th:only-of-type {\n",
       "        vertical-align: middle;\n",
       "    }\n",
       "\n",
       "    .dataframe tbody tr th {\n",
       "        vertical-align: top;\n",
       "    }\n",
       "\n",
       "    .dataframe thead th {\n",
       "        text-align: right;\n",
       "    }\n",
       "</style>\n",
       "<table border=\"1\" class=\"dataframe\">\n",
       "  <thead>\n",
       "    <tr style=\"text-align: right;\">\n",
       "      <th></th>\n",
       "      <th>tripduration</th>\n",
       "      <th>starttime</th>\n",
       "      <th>stoptime</th>\n",
       "      <th>start_station_id</th>\n",
       "      <th>start_station_name</th>\n",
       "      <th>start_station_latitude</th>\n",
       "      <th>start_station_longitude</th>\n",
       "      <th>end_station_id</th>\n",
       "      <th>end_station_name</th>\n",
       "      <th>end_station_latitude</th>\n",
       "      <th>end_station_longitude</th>\n",
       "      <th>bikeid</th>\n",
       "      <th>usertype</th>\n",
       "      <th>birth_year</th>\n",
       "      <th>gender</th>\n",
       "      <th>start_year</th>\n",
       "    </tr>\n",
       "  </thead>\n",
       "  <tbody>\n",
       "    <tr>\n",
       "      <th>1266</th>\n",
       "      <td>444671</td>\n",
       "      <td>2015-06-04 09:18:00</td>\n",
       "      <td>6/9/15 12:49</td>\n",
       "      <td>72</td>\n",
       "      <td>W 52 St &amp; 11 Ave</td>\n",
       "      <td>40.767272</td>\n",
       "      <td>-73.993929</td>\n",
       "      <td>484</td>\n",
       "      <td>W 44 St &amp; 5 Ave</td>\n",
       "      <td>40.755003</td>\n",
       "      <td>-73.980144</td>\n",
       "      <td>17272</td>\n",
       "      <td>Subscriber</td>\n",
       "      <td>geny</td>\n",
       "      <td>female</td>\n",
       "      <td>2015</td>\n",
       "    </tr>\n",
       "    <tr>\n",
       "      <th>7211</th>\n",
       "      <td>209125</td>\n",
       "      <td>2015-10-19 08:44:00</td>\n",
       "      <td>10/21/15 18:49</td>\n",
       "      <td>83</td>\n",
       "      <td>Atlantic Ave &amp; Fort Greene Pl</td>\n",
       "      <td>40.683826</td>\n",
       "      <td>-73.976323</td>\n",
       "      <td>2001</td>\n",
       "      <td>Sands St &amp; Navy St</td>\n",
       "      <td>40.699773</td>\n",
       "      <td>-73.979927</td>\n",
       "      <td>23115</td>\n",
       "      <td>Subscriber</td>\n",
       "      <td>genx</td>\n",
       "      <td>unknown</td>\n",
       "      <td>2015</td>\n",
       "    </tr>\n",
       "    <tr>\n",
       "      <th>1798</th>\n",
       "      <td>37328</td>\n",
       "      <td>2015-12-10 23:07:00</td>\n",
       "      <td>12/11/15 9:29</td>\n",
       "      <td>72</td>\n",
       "      <td>W 52 St &amp; 11 Ave</td>\n",
       "      <td>40.767272</td>\n",
       "      <td>-73.993929</td>\n",
       "      <td>380</td>\n",
       "      <td>W 4 St &amp; 7 Ave S</td>\n",
       "      <td>40.734011</td>\n",
       "      <td>-74.002939</td>\n",
       "      <td>18186</td>\n",
       "      <td>Subscriber</td>\n",
       "      <td>geny</td>\n",
       "      <td>male</td>\n",
       "      <td>2015</td>\n",
       "    </tr>\n",
       "    <tr>\n",
       "      <th>4632</th>\n",
       "      <td>33396</td>\n",
       "      <td>2015-10-16 08:08:00</td>\n",
       "      <td>10/16/15 17:25</td>\n",
       "      <td>79</td>\n",
       "      <td>Franklin St &amp; W Broadway</td>\n",
       "      <td>40.719116</td>\n",
       "      <td>-74.006667</td>\n",
       "      <td>116</td>\n",
       "      <td>W 17 St &amp; 8 Ave</td>\n",
       "      <td>40.741776</td>\n",
       "      <td>-74.001497</td>\n",
       "      <td>18657</td>\n",
       "      <td>Subscriber</td>\n",
       "      <td>geny</td>\n",
       "      <td>male</td>\n",
       "      <td>2015</td>\n",
       "    </tr>\n",
       "    <tr>\n",
       "      <th>6719</th>\n",
       "      <td>31215</td>\n",
       "      <td>2015-09-25 01:17:00</td>\n",
       "      <td>9/25/15 9:57</td>\n",
       "      <td>83</td>\n",
       "      <td>Atlantic Ave &amp; Fort Greene Pl</td>\n",
       "      <td>40.683826</td>\n",
       "      <td>-73.976323</td>\n",
       "      <td>314</td>\n",
       "      <td>Cadman Plaza West &amp; Montague St</td>\n",
       "      <td>40.693830</td>\n",
       "      <td>-73.990539</td>\n",
       "      <td>23247</td>\n",
       "      <td>Subscriber</td>\n",
       "      <td>genx</td>\n",
       "      <td>male</td>\n",
       "      <td>2015</td>\n",
       "    </tr>\n",
       "    <tr>\n",
       "      <th>6645</th>\n",
       "      <td>23450</td>\n",
       "      <td>2016-07-22 20:46:00</td>\n",
       "      <td>7/23/16 3:17</td>\n",
       "      <td>83</td>\n",
       "      <td>Atlantic Ave &amp; Fort Greene Pl</td>\n",
       "      <td>40.683826</td>\n",
       "      <td>-73.976323</td>\n",
       "      <td>245</td>\n",
       "      <td>Myrtle Ave &amp; St Edwards St</td>\n",
       "      <td>40.693270</td>\n",
       "      <td>-73.977039</td>\n",
       "      <td>25899</td>\n",
       "      <td>Subscriber</td>\n",
       "      <td>geny</td>\n",
       "      <td>male</td>\n",
       "      <td>2016</td>\n",
       "    </tr>\n",
       "    <tr>\n",
       "      <th>6627</th>\n",
       "      <td>19151</td>\n",
       "      <td>2015-09-05 20:16:00</td>\n",
       "      <td>9/6/15 1:35</td>\n",
       "      <td>83</td>\n",
       "      <td>Atlantic Ave &amp; Fort Greene Pl</td>\n",
       "      <td>40.683826</td>\n",
       "      <td>-73.976323</td>\n",
       "      <td>3103</td>\n",
       "      <td>N 11 St &amp; Wythe Ave</td>\n",
       "      <td>40.721533</td>\n",
       "      <td>-73.957824</td>\n",
       "      <td>16570</td>\n",
       "      <td>Subscriber</td>\n",
       "      <td>geny</td>\n",
       "      <td>female</td>\n",
       "      <td>2015</td>\n",
       "    </tr>\n",
       "    <tr>\n",
       "      <th>4335</th>\n",
       "      <td>17890</td>\n",
       "      <td>2013-08-01 18:46:00</td>\n",
       "      <td>8/1/13 23:44</td>\n",
       "      <td>79</td>\n",
       "      <td>Franklin St &amp; W Broadway</td>\n",
       "      <td>40.719116</td>\n",
       "      <td>-74.006667</td>\n",
       "      <td>496</td>\n",
       "      <td>E 16 St &amp; 5 Ave</td>\n",
       "      <td>40.737262</td>\n",
       "      <td>-73.992390</td>\n",
       "      <td>20152</td>\n",
       "      <td>Subscriber</td>\n",
       "      <td>genx</td>\n",
       "      <td>female</td>\n",
       "      <td>2013</td>\n",
       "    </tr>\n",
       "    <tr>\n",
       "      <th>5321</th>\n",
       "      <td>17504</td>\n",
       "      <td>2016-04-13 12:50:00</td>\n",
       "      <td>4/13/16 17:42</td>\n",
       "      <td>79</td>\n",
       "      <td>Franklin St &amp; W Broadway</td>\n",
       "      <td>40.719116</td>\n",
       "      <td>-74.006667</td>\n",
       "      <td>3236</td>\n",
       "      <td>W 42 St &amp; Dyer Ave</td>\n",
       "      <td>40.758985</td>\n",
       "      <td>-73.993800</td>\n",
       "      <td>16900</td>\n",
       "      <td>Subscriber</td>\n",
       "      <td>genx</td>\n",
       "      <td>female</td>\n",
       "      <td>2016</td>\n",
       "    </tr>\n",
       "    <tr>\n",
       "      <th>10344</th>\n",
       "      <td>15095</td>\n",
       "      <td>2016-03-13 13:29:00</td>\n",
       "      <td>3/13/16 17:40</td>\n",
       "      <td>116</td>\n",
       "      <td>W 17 St &amp; 8 Ave</td>\n",
       "      <td>40.741776</td>\n",
       "      <td>-74.001497</td>\n",
       "      <td>212</td>\n",
       "      <td>W 16 St &amp; The High Line</td>\n",
       "      <td>40.743349</td>\n",
       "      <td>-74.006818</td>\n",
       "      <td>20310</td>\n",
       "      <td>Subscriber</td>\n",
       "      <td>geny</td>\n",
       "      <td>male</td>\n",
       "      <td>2016</td>\n",
       "    </tr>\n",
       "  </tbody>\n",
       "</table>\n",
       "</div>"
      ],
      "text/plain": [
       "       tripduration           starttime        stoptime  start_station_id  \\\n",
       "1266         444671 2015-06-04 09:18:00    6/9/15 12:49                72   \n",
       "7211         209125 2015-10-19 08:44:00  10/21/15 18:49                83   \n",
       "1798          37328 2015-12-10 23:07:00   12/11/15 9:29                72   \n",
       "4632          33396 2015-10-16 08:08:00  10/16/15 17:25                79   \n",
       "6719          31215 2015-09-25 01:17:00    9/25/15 9:57                83   \n",
       "6645          23450 2016-07-22 20:46:00    7/23/16 3:17                83   \n",
       "6627          19151 2015-09-05 20:16:00     9/6/15 1:35                83   \n",
       "4335          17890 2013-08-01 18:46:00    8/1/13 23:44                79   \n",
       "5321          17504 2016-04-13 12:50:00   4/13/16 17:42                79   \n",
       "10344         15095 2016-03-13 13:29:00   3/13/16 17:40               116   \n",
       "\n",
       "                  start_station_name  start_station_latitude  \\\n",
       "1266                W 52 St & 11 Ave               40.767272   \n",
       "7211   Atlantic Ave & Fort Greene Pl               40.683826   \n",
       "1798                W 52 St & 11 Ave               40.767272   \n",
       "4632        Franklin St & W Broadway               40.719116   \n",
       "6719   Atlantic Ave & Fort Greene Pl               40.683826   \n",
       "6645   Atlantic Ave & Fort Greene Pl               40.683826   \n",
       "6627   Atlantic Ave & Fort Greene Pl               40.683826   \n",
       "4335        Franklin St & W Broadway               40.719116   \n",
       "5321        Franklin St & W Broadway               40.719116   \n",
       "10344                W 17 St & 8 Ave               40.741776   \n",
       "\n",
       "       start_station_longitude  end_station_id  \\\n",
       "1266                -73.993929             484   \n",
       "7211                -73.976323            2001   \n",
       "1798                -73.993929             380   \n",
       "4632                -74.006667             116   \n",
       "6719                -73.976323             314   \n",
       "6645                -73.976323             245   \n",
       "6627                -73.976323            3103   \n",
       "4335                -74.006667             496   \n",
       "5321                -74.006667            3236   \n",
       "10344               -74.001497             212   \n",
       "\n",
       "                      end_station_name  end_station_latitude  \\\n",
       "1266                   W 44 St & 5 Ave             40.755003   \n",
       "7211                Sands St & Navy St             40.699773   \n",
       "1798                  W 4 St & 7 Ave S             40.734011   \n",
       "4632                   W 17 St & 8 Ave             40.741776   \n",
       "6719   Cadman Plaza West & Montague St             40.693830   \n",
       "6645        Myrtle Ave & St Edwards St             40.693270   \n",
       "6627               N 11 St & Wythe Ave             40.721533   \n",
       "4335                   E 16 St & 5 Ave             40.737262   \n",
       "5321                W 42 St & Dyer Ave             40.758985   \n",
       "10344          W 16 St & The High Line             40.743349   \n",
       "\n",
       "       end_station_longitude  bikeid    usertype birth_year   gender  \\\n",
       "1266              -73.980144   17272  Subscriber       geny   female   \n",
       "7211              -73.979927   23115  Subscriber       genx  unknown   \n",
       "1798              -74.002939   18186  Subscriber       geny     male   \n",
       "4632              -74.001497   18657  Subscriber       geny     male   \n",
       "6719              -73.990539   23247  Subscriber       genx     male   \n",
       "6645              -73.977039   25899  Subscriber       geny     male   \n",
       "6627              -73.957824   16570  Subscriber       geny   female   \n",
       "4335              -73.992390   20152  Subscriber       genx   female   \n",
       "5321              -73.993800   16900  Subscriber       genx   female   \n",
       "10344             -74.006818   20310  Subscriber       geny     male   \n",
       "\n",
       "       start_year  \n",
       "1266         2015  \n",
       "7211         2015  \n",
       "1798         2015  \n",
       "4632         2015  \n",
       "6719         2015  \n",
       "6645         2016  \n",
       "6627         2015  \n",
       "4335         2013  \n",
       "5321         2016  \n",
       "10344        2016  "
      ]
     },
     "execution_count": 13,
     "metadata": {},
     "output_type": "execute_result"
    }
   ],
   "source": [
    "df.dropna(axis=0).sort_values(by='tripduration',ascending=False).head(10)"
   ]
  },
  {
   "cell_type": "markdown",
   "id": "18984f6b",
   "metadata": {},
   "source": [
    "### Create dummies for feature engineering/modeling"
   ]
  },
  {
   "cell_type": "markdown",
   "id": "5f5215e8",
   "metadata": {},
   "source": [
    "Gender values in our data set are 0,1,2 representing male, female, and unknown. \n",
    "\n",
    "A common feature engineering task is to one-hot encode a category in order to do some predictive modeling.\n",
    "\n",
    "In a relational database, users must define a schema upfront before they load data into a table or do their analysis. This makes one-hot encoding particularly challenging in that context, because the schema needs to be updated based on the unknown categories contained in a column. \n",
    "\n",
    "In order to work around these challenges with SQL, a user will have to write a brittle query that will require hard-coding category values and will be difficult to maintain.\n",
    "\n",
    "With Ponder, you can just use get_dummies for one-hot encoding inside of your database."
   ]
  },
  {
   "cell_type": "code",
   "execution_count": 14,
   "id": "8e83b403",
   "metadata": {},
   "outputs": [
    {
     "data": {
      "text/html": [
       "<div>\n",
       "<style scoped>\n",
       "    .dataframe tbody tr th:only-of-type {\n",
       "        vertical-align: middle;\n",
       "    }\n",
       "\n",
       "    .dataframe tbody tr th {\n",
       "        vertical-align: top;\n",
       "    }\n",
       "\n",
       "    .dataframe thead th {\n",
       "        text-align: right;\n",
       "    }\n",
       "</style>\n",
       "<table border=\"1\" class=\"dataframe\">\n",
       "  <thead>\n",
       "    <tr style=\"text-align: right;\">\n",
       "      <th></th>\n",
       "      <th>tripduration</th>\n",
       "      <th>starttime</th>\n",
       "      <th>stoptime</th>\n",
       "      <th>start_station_id</th>\n",
       "      <th>start_station_name</th>\n",
       "      <th>start_station_latitude</th>\n",
       "      <th>start_station_longitude</th>\n",
       "      <th>end_station_id</th>\n",
       "      <th>end_station_name</th>\n",
       "      <th>end_station_latitude</th>\n",
       "      <th>end_station_longitude</th>\n",
       "      <th>bikeid</th>\n",
       "      <th>usertype</th>\n",
       "      <th>birth_year</th>\n",
       "      <th>start_year</th>\n",
       "      <th>gender_female</th>\n",
       "      <th>gender_male</th>\n",
       "      <th>gender_unknown</th>\n",
       "    </tr>\n",
       "  </thead>\n",
       "  <tbody>\n",
       "    <tr>\n",
       "      <th>0</th>\n",
       "      <td>730.0</td>\n",
       "      <td>2015-02-09 08:37:00</td>\n",
       "      <td>2/9/15 8:49</td>\n",
       "      <td>72.0</td>\n",
       "      <td>W 52 St &amp; 11 Ave</td>\n",
       "      <td>40.767272</td>\n",
       "      <td>-73.993929</td>\n",
       "      <td>520.0</td>\n",
       "      <td>W 52 St &amp; 5 Ave</td>\n",
       "      <td>40.759923</td>\n",
       "      <td>-73.976485</td>\n",
       "      <td>18809.0</td>\n",
       "      <td>Subscriber</td>\n",
       "      <td>genx</td>\n",
       "      <td>2015.0</td>\n",
       "      <td>0</td>\n",
       "      <td>1</td>\n",
       "      <td>0</td>\n",
       "    </tr>\n",
       "    <tr>\n",
       "      <th>1</th>\n",
       "      <td>704.0</td>\n",
       "      <td>2013-11-20 20:21:00</td>\n",
       "      <td>11/20/13 20:33</td>\n",
       "      <td>72.0</td>\n",
       "      <td>W 52 St &amp; 11 Ave</td>\n",
       "      <td>40.767272</td>\n",
       "      <td>-73.993929</td>\n",
       "      <td>470.0</td>\n",
       "      <td>W 20 St &amp; 8 Ave</td>\n",
       "      <td>40.743453</td>\n",
       "      <td>-74.000040</td>\n",
       "      <td>20515.0</td>\n",
       "      <td>Subscriber</td>\n",
       "      <td>geny</td>\n",
       "      <td>2013.0</td>\n",
       "      <td>0</td>\n",
       "      <td>1</td>\n",
       "      <td>0</td>\n",
       "    </tr>\n",
       "    <tr>\n",
       "      <th>2</th>\n",
       "      <td>425.0</td>\n",
       "      <td>2016-01-06 17:01:00</td>\n",
       "      <td>1/6/16 17:08</td>\n",
       "      <td>72.0</td>\n",
       "      <td>W 52 St &amp; 11 Ave</td>\n",
       "      <td>40.767272</td>\n",
       "      <td>-73.993929</td>\n",
       "      <td>469.0</td>\n",
       "      <td>Broadway &amp; W 53 St</td>\n",
       "      <td>40.763441</td>\n",
       "      <td>-73.982681</td>\n",
       "      <td>17116.0</td>\n",
       "      <td>Subscriber</td>\n",
       "      <td>boomer</td>\n",
       "      <td>2016.0</td>\n",
       "      <td>0</td>\n",
       "      <td>1</td>\n",
       "      <td>0</td>\n",
       "    </tr>\n",
       "    <tr>\n",
       "      <th>3</th>\n",
       "      <td>373.0</td>\n",
       "      <td>2015-11-09 12:50:00</td>\n",
       "      <td>11/9/15 12:56</td>\n",
       "      <td>72.0</td>\n",
       "      <td>W 52 St &amp; 11 Ave</td>\n",
       "      <td>40.767272</td>\n",
       "      <td>-73.993929</td>\n",
       "      <td>469.0</td>\n",
       "      <td>Broadway &amp; W 53 St</td>\n",
       "      <td>40.763441</td>\n",
       "      <td>-73.982681</td>\n",
       "      <td>20892.0</td>\n",
       "      <td>Subscriber</td>\n",
       "      <td>boomer</td>\n",
       "      <td>2015.0</td>\n",
       "      <td>0</td>\n",
       "      <td>1</td>\n",
       "      <td>0</td>\n",
       "    </tr>\n",
       "    <tr>\n",
       "      <th>4</th>\n",
       "      <td>1149.0</td>\n",
       "      <td>2013-08-03 17:14:00</td>\n",
       "      <td>8/3/13 17:33</td>\n",
       "      <td>72.0</td>\n",
       "      <td>W 52 St &amp; 11 Ave</td>\n",
       "      <td>40.767272</td>\n",
       "      <td>-73.993929</td>\n",
       "      <td>325.0</td>\n",
       "      <td>E 19 St &amp; 3 Ave</td>\n",
       "      <td>40.736245</td>\n",
       "      <td>-73.984738</td>\n",
       "      <td>17711.0</td>\n",
       "      <td>Subscriber</td>\n",
       "      <td>geny</td>\n",
       "      <td>2013.0</td>\n",
       "      <td>1</td>\n",
       "      <td>0</td>\n",
       "      <td>0</td>\n",
       "    </tr>\n",
       "    <tr>\n",
       "      <th>...</th>\n",
       "      <td>...</td>\n",
       "      <td>...</td>\n",
       "      <td>...</td>\n",
       "      <td>...</td>\n",
       "      <td>...</td>\n",
       "      <td>...</td>\n",
       "      <td>...</td>\n",
       "      <td>...</td>\n",
       "      <td>...</td>\n",
       "      <td>...</td>\n",
       "      <td>...</td>\n",
       "      <td>...</td>\n",
       "      <td>...</td>\n",
       "      <td>...</td>\n",
       "      <td>...</td>\n",
       "      <td>...</td>\n",
       "      <td>...</td>\n",
       "      <td>...</td>\n",
       "    </tr>\n",
       "    <tr>\n",
       "      <th>1001027</th>\n",
       "      <td>NaN</td>\n",
       "      <td>NaT</td>\n",
       "      <td>None</td>\n",
       "      <td>NaN</td>\n",
       "      <td>None</td>\n",
       "      <td>NaN</td>\n",
       "      <td>NaN</td>\n",
       "      <td>NaN</td>\n",
       "      <td>None</td>\n",
       "      <td>NaN</td>\n",
       "      <td>NaN</td>\n",
       "      <td>NaN</td>\n",
       "      <td>None</td>\n",
       "      <td>NaN</td>\n",
       "      <td>NaN</td>\n",
       "      <td>0</td>\n",
       "      <td>0</td>\n",
       "      <td>0</td>\n",
       "    </tr>\n",
       "    <tr>\n",
       "      <th>1001028</th>\n",
       "      <td>NaN</td>\n",
       "      <td>NaT</td>\n",
       "      <td>None</td>\n",
       "      <td>NaN</td>\n",
       "      <td>None</td>\n",
       "      <td>NaN</td>\n",
       "      <td>NaN</td>\n",
       "      <td>NaN</td>\n",
       "      <td>None</td>\n",
       "      <td>NaN</td>\n",
       "      <td>NaN</td>\n",
       "      <td>NaN</td>\n",
       "      <td>None</td>\n",
       "      <td>NaN</td>\n",
       "      <td>NaN</td>\n",
       "      <td>0</td>\n",
       "      <td>0</td>\n",
       "      <td>0</td>\n",
       "    </tr>\n",
       "    <tr>\n",
       "      <th>1001029</th>\n",
       "      <td>NaN</td>\n",
       "      <td>NaT</td>\n",
       "      <td>None</td>\n",
       "      <td>NaN</td>\n",
       "      <td>None</td>\n",
       "      <td>NaN</td>\n",
       "      <td>NaN</td>\n",
       "      <td>NaN</td>\n",
       "      <td>None</td>\n",
       "      <td>NaN</td>\n",
       "      <td>NaN</td>\n",
       "      <td>NaN</td>\n",
       "      <td>None</td>\n",
       "      <td>NaN</td>\n",
       "      <td>NaN</td>\n",
       "      <td>0</td>\n",
       "      <td>0</td>\n",
       "      <td>0</td>\n",
       "    </tr>\n",
       "    <tr>\n",
       "      <th>1001030</th>\n",
       "      <td>NaN</td>\n",
       "      <td>NaT</td>\n",
       "      <td>None</td>\n",
       "      <td>NaN</td>\n",
       "      <td>None</td>\n",
       "      <td>NaN</td>\n",
       "      <td>NaN</td>\n",
       "      <td>NaN</td>\n",
       "      <td>None</td>\n",
       "      <td>NaN</td>\n",
       "      <td>NaN</td>\n",
       "      <td>NaN</td>\n",
       "      <td>None</td>\n",
       "      <td>NaN</td>\n",
       "      <td>NaN</td>\n",
       "      <td>0</td>\n",
       "      <td>0</td>\n",
       "      <td>0</td>\n",
       "    </tr>\n",
       "    <tr>\n",
       "      <th>1001031</th>\n",
       "      <td>NaN</td>\n",
       "      <td>NaT</td>\n",
       "      <td>None</td>\n",
       "      <td>NaN</td>\n",
       "      <td>None</td>\n",
       "      <td>NaN</td>\n",
       "      <td>NaN</td>\n",
       "      <td>NaN</td>\n",
       "      <td>None</td>\n",
       "      <td>NaN</td>\n",
       "      <td>NaN</td>\n",
       "      <td>NaN</td>\n",
       "      <td>None</td>\n",
       "      <td>NaN</td>\n",
       "      <td>NaN</td>\n",
       "      <td>0</td>\n",
       "      <td>0</td>\n",
       "      <td>0</td>\n",
       "    </tr>\n",
       "  </tbody>\n",
       "</table>\n",
       "<p>1001032 rows x 18 columns</p>\n",
       "</div>"
      ],
      "text/plain": [
       "         tripduration           starttime        stoptime  start_station_id  \\\n",
       "0               730.0 2015-02-09 08:37:00     2/9/15 8:49              72.0   \n",
       "1               704.0 2013-11-20 20:21:00  11/20/13 20:33              72.0   \n",
       "2               425.0 2016-01-06 17:01:00    1/6/16 17:08              72.0   \n",
       "3               373.0 2015-11-09 12:50:00   11/9/15 12:56              72.0   \n",
       "4              1149.0 2013-08-03 17:14:00    8/3/13 17:33              72.0   \n",
       "...               ...                 ...             ...               ...   \n",
       "1001027           NaN                 NaT            None               NaN   \n",
       "1001028           NaN                 NaT            None               NaN   \n",
       "1001029           NaN                 NaT            None               NaN   \n",
       "1001030           NaN                 NaT            None               NaN   \n",
       "1001031           NaN                 NaT            None               NaN   \n",
       "\n",
       "        start_station_name  start_station_latitude  start_station_longitude  \\\n",
       "0         W 52 St & 11 Ave               40.767272               -73.993929   \n",
       "1         W 52 St & 11 Ave               40.767272               -73.993929   \n",
       "2         W 52 St & 11 Ave               40.767272               -73.993929   \n",
       "3         W 52 St & 11 Ave               40.767272               -73.993929   \n",
       "4         W 52 St & 11 Ave               40.767272               -73.993929   \n",
       "...                    ...                     ...                      ...   \n",
       "1001027               None                     NaN                      NaN   \n",
       "1001028               None                     NaN                      NaN   \n",
       "1001029               None                     NaN                      NaN   \n",
       "1001030               None                     NaN                      NaN   \n",
       "1001031               None                     NaN                      NaN   \n",
       "\n",
       "         end_station_id    end_station_name  end_station_latitude  \\\n",
       "0                 520.0     W 52 St & 5 Ave             40.759923   \n",
       "1                 470.0     W 20 St & 8 Ave             40.743453   \n",
       "2                 469.0  Broadway & W 53 St             40.763441   \n",
       "3                 469.0  Broadway & W 53 St             40.763441   \n",
       "4                 325.0     E 19 St & 3 Ave             40.736245   \n",
       "...                 ...                 ...                   ...   \n",
       "1001027             NaN                None                   NaN   \n",
       "1001028             NaN                None                   NaN   \n",
       "1001029             NaN                None                   NaN   \n",
       "1001030             NaN                None                   NaN   \n",
       "1001031             NaN                None                   NaN   \n",
       "\n",
       "         end_station_longitude   bikeid    usertype birth_year  start_year  \\\n",
       "0                   -73.976485  18809.0  Subscriber       genx      2015.0   \n",
       "1                   -74.000040  20515.0  Subscriber       geny      2013.0   \n",
       "2                   -73.982681  17116.0  Subscriber     boomer      2016.0   \n",
       "3                   -73.982681  20892.0  Subscriber     boomer      2015.0   \n",
       "4                   -73.984738  17711.0  Subscriber       geny      2013.0   \n",
       "...                        ...      ...         ...        ...         ...   \n",
       "1001027                    NaN      NaN        None        NaN         NaN   \n",
       "1001028                    NaN      NaN        None        NaN         NaN   \n",
       "1001029                    NaN      NaN        None        NaN         NaN   \n",
       "1001030                    NaN      NaN        None        NaN         NaN   \n",
       "1001031                    NaN      NaN        None        NaN         NaN   \n",
       "\n",
       "         gender_female  gender_male  gender_unknown  \n",
       "0                    0            1               0  \n",
       "1                    0            1               0  \n",
       "2                    0            1               0  \n",
       "3                    0            1               0  \n",
       "4                    1            0               0  \n",
       "...                ...          ...             ...  \n",
       "1001027              0            0               0  \n",
       "1001028              0            0               0  \n",
       "1001029              0            0               0  \n",
       "1001030              0            0               0  \n",
       "1001031              0            0               0  \n",
       "\n",
       "[1001032 rows x 18 columns]"
      ]
     },
     "execution_count": 14,
     "metadata": {},
     "output_type": "execute_result"
    }
   ],
   "source": [
    "pd.get_dummies(df,columns=\"gender\")"
   ]
  },
  {
   "cell_type": "markdown",
   "id": "f39396cf",
   "metadata": {},
   "source": [
    "For a more detailed comparison of one-hot encoding in Pandas vs SQL, check out our blogpost [here](https://ponder.io/pandas-vs-sql-part-2-pandas-is-more-concise/#2.-One-hot-encoding)"
   ]
  },
  {
   "cell_type": "markdown",
   "id": "a122dec0",
   "metadata": {},
   "source": [
    "&nbsp;"
   ]
  },
  {
   "cell_type": "markdown",
   "id": "86aa5888",
   "metadata": {},
   "source": [
    "##  💡 Ponder gives you a high fidelity pandas experience for your databases 💡\n",
    "\n",
    "* We answered 6 questions from a Kaggle notebook to demonstrate how it is often more concise and easier to express queries in pandas than SQL with fewer lines of code. \n",
    "\n",
    "* Showed you how Ponder can help you explore your data using almost 10X less code \n",
    "* Demonstrated how certain dataframe operations, such as `get_dummmies`, are extremely challenging to do or even impossible to do in SQL."
   ]
  },
  {
   "cell_type": "markdown",
   "id": "b0f4b4cc",
   "metadata": {},
   "source": [
    "### <h1><center>To try Ponder for free, sign up for an account at [app.ponder.io/signup](https://app.ponder.io/signup) !</center></h1>"
   ]
  }
 ],
 "metadata": {
  "_notebook_id_": "cc5d8947-4f39-4f15-830b-4ffb031ca8db",
  "kernelspec": {
   "display_name": "Python 3 (ipykernel)",
   "language": "python",
   "name": "python3"
  },
  "language_info": {
   "codemirror_mode": {
    "name": "ipython",
    "version": 3
   },
   "file_extension": ".py",
   "mimetype": "text/x-python",
   "name": "python",
   "nbconvert_exporter": "python",
   "pygments_lexer": "ipython3",
   "version": "3.10.6"
  }
 },
 "nbformat": 4,
 "nbformat_minor": 5
}
