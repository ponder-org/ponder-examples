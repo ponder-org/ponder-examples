{
 "cells": [
  {
   "cell_type": "markdown",
   "id": "320e4130-b4ac-4eb3-bf09-289c797609c4",
   "metadata": {},
   "source": [
    "## Using Ponder for Healthcare Data Analysis"
   ]
  },
  {
   "cell_type": "markdown",
   "id": "6a6ce75c-4527-487f-9eea-505f39c96165",
   "metadata": {},
   "source": [
    "With the growth of electronic health records, healthcare providers store, process, and analyze information about patients, their medical history, treatment, and outcomes. Effective analysis of electronic health records has shown to improve the patient care experience, support clinical decision-making, and advance the frontiers of medical research.\n",
    "\n",
    "In this post, we will walk through a real-world analysis scenario of how you can use Ponder to analyze electronic health records directly in your data warehouse. You can download the notebook associated with this post [here](https://github.com/ponder-org/ponder-blog/blob/main/MIMIC-III%20Health%20Record%20Analysis.ipynb).\n",
    "\n",
    "\n",
    "### The MIMIC-III Clinical Dataset\n",
    "\n",
    "In this blog post, we will be looking at the [MIMIC-III demo dataset](https://physionet.org/content/mimiciii-demo/1.4/). The MIMIC-III Clinical Database contains deidentified health-related data of patients who stayed in an intensive care unit (ICU) at the Beth Israel Deaconess Medical Center in Boston. The demo dataset contains records for 100 patients across three tables `PATIENTS`, `ICUSTAYS`, and `ADMISSIONS`. \n",
    "\n",
    "Citation: \n",
    "```\n",
    "Johnson, A. E. W., Pollard, T. J., Shen, L., Lehman, L. H., Feng, M., Ghassemi, M., Moody, B., Szolovits, P., Celi, L. A., & Mark, R. G. (2016). MIMIC-III, a freely accessible critical care database. Scientific data, 3, 160035.\n",
    "```"
   ]
  },
  {
   "cell_type": "markdown",
   "id": "3f5f6dbc-c5d4-44b3-9226-790660df76af",
   "metadata": {},
   "source": [
    "### What is Ponder? \n",
    "\n",
    "Ponder lets you run pandas directly in your data warehouse. Data teams can interact with their data through their familiar pandas-native experience, while enjoying the scalability and security benefits that comes with a modern cloud data warehouses. You can learn more about Ponder in our [recent blogpost](https://ponder.io/run-pandas-on-1tb-directly-in-your-data-warehouse/) and [sign up here](https://ponder.io/product/) to try out Ponder today. "
   ]
  },
  {
   "cell_type": "code",
   "execution_count": 1,
   "id": "90243e71-4cf0-4971-a95e-3f29e12449fc",
   "metadata": {
    "tags": []
   },
   "outputs": [],
   "source": [
    "import os; os.chdir(\"..\")\n",
    "import credential"
   ]
  },
  {
   "cell_type": "markdown",
   "id": "67954aeb-fb48-4a93-80bb-6332964eeccd",
   "metadata": {},
   "source": [
    "Ponder uses your data warehouse as an engine, so we first need to establish a connection with Snowflake in order to start querying the data. The code below shows how you can set up the database connection."
   ]
  },
  {
   "cell_type": "code",
   "execution_count": 2,
   "id": "5d94741f-f687-44c9-812d-c394b2b84f23",
   "metadata": {
    "tags": []
   },
   "outputs": [
    {
     "name": "stderr",
     "output_type": "stream",
     "text": [
      "2023-03-17 09:57:40,424 - INFO - Establishing connection to service.ponder.io\n"
     ]
    },
    {
     "name": "stdout",
     "output_type": "stream",
     "text": [
      "Connection encrypted with TLSv1.3\n",
      "Connected to\n",
      "       ___               __\n",
      "      / _ \\___  ___  ___/ /__ ____\n",
      "     / ___/ _ \\/ _ \\/ _  / -_) __/\n",
      "    /_/___\\___/_//_/\\_,_/\\__/_/\n",
      "      / __/__ _____  _____ ____\n",
      "     _\\ \\/ -_) __/ |/ / -_) __/\n",
      "    /___/\\__/_/  |___/\\__/_/\n",
      "\n",
      "\n"
     ]
    }
   ],
   "source": [
    "import ponder.snowflake\n",
    "import modin.pandas as pd\n",
    "credential.params[\"database\"] = \"MIMIC3\"\n",
    "snowflake_con = ponder.snowflake.connect(user=credential.params[\"user\"],\n",
    "                                         password=credential.params[\"password\"],\n",
    "                                         account=credential.params[\"account\"],\n",
    "                                         role=credential.params[\"role\"],\n",
    "                                         database=credential.params[\"database\"],\n",
    "                                         schema=credential.params[\"schema\"],\n",
    "                                         warehouse=credential.params[\"warehouse\"])\n",
    "ponder.snowflake.init(snowflake_con,enable_ssl=True)"
   ]
  },
  {
   "cell_type": "code",
   "execution_count": 3,
   "id": "092f9911-0678-4f9c-ab0d-1e6d4a86f294",
   "metadata": {
    "tags": []
   },
   "outputs": [],
   "source": [
    "import modin.pandas as pd"
   ]
  },
  {
   "cell_type": "markdown",
   "id": "ae81c74d-f1d4-4067-9ef2-5031a34caf09",
   "metadata": {},
   "source": [
    "Once we have connected to the warehouse, we can use the `pd.read_sql` command to connect to our `ICUSTAYS` and `PATIENTS` table. Note that this creates a dataframe that points to those tables without the data being loaded in memory!"
   ]
  },
  {
   "cell_type": "code",
   "execution_count": 4,
   "id": "c309356f-14f8-469a-9257-b944b8951410",
   "metadata": {
    "tags": []
   },
   "outputs": [
    {
     "name": "stderr",
     "output_type": "stream",
     "text": [
      "2023-03-17 09:57:42,078 - INFO - Setting max rows transferred out of Snowflake to : 10000\n"
     ]
    }
   ],
   "source": [
    "icu = pd.read_sql(\"ICUSTAYS\",con=snowflake_con)\n",
    "patients = pd.read_sql(\"PATIENTS\",con=snowflake_con)"
   ]
  },
  {
   "cell_type": "markdown",
   "id": "36bf114a-bcd2-4b2e-aad7-563a472fd114",
   "metadata": {},
   "source": [
    "Now we have connected to the two tables in our warehouse, we can operate on it just like you typically do with any pandas dataframe. Here, we join the two tables on the patient identifier `subject_id`."
   ]
  },
  {
   "cell_type": "code",
   "execution_count": 5,
   "id": "68823bb5-fcd1-4f92-b767-e5ac83dc3df7",
   "metadata": {
    "tags": []
   },
   "outputs": [],
   "source": [
    "df = patients.merge(icu,on=\"subject_id\")"
   ]
  },
  {
   "cell_type": "markdown",
   "id": "324347fd-3ec6-4c6a-a132-6a85964771d0",
   "metadata": {},
   "source": [
    "We drop the `row_id` columns, which is just a record ID from the database."
   ]
  },
  {
   "cell_type": "code",
   "execution_count": 6,
   "id": "31448ed8-c6d5-4a20-8c5f-fa1d3eee8617",
   "metadata": {
    "tags": []
   },
   "outputs": [],
   "source": [
    "df = df.drop(list(df.filter(regex=\"row_id\")),axis=1)"
   ]
  },
  {
   "cell_type": "markdown",
   "id": "3688ff29-25b4-4e23-885a-ed290bfd3166",
   "metadata": {
    "tags": []
   },
   "source": [
    "### Exploratory Data Analysis: Dataset Overview"
   ]
  },
  {
   "cell_type": "markdown",
   "id": "9d903497-4805-43ee-82ec-2acc0c4afa34",
   "metadata": {
    "tags": []
   },
   "source": [
    "Exploratory data analysis is a important first step in any data science project that help uncover trends, patterns, and insights that inform subsequent analyses.\n",
    "\n",
    "To start off, let's look at the descriptive statistics to get an overview of the dataset."
   ]
  },
  {
   "cell_type": "code",
   "execution_count": 7,
   "id": "9a7fc3b9-50db-49da-a18a-8865a3356f31",
   "metadata": {
    "tags": []
   },
   "outputs": [
    {
     "data": {
      "text/html": [
       "<div>\n",
       "<style scoped>\n",
       "    .dataframe tbody tr th:only-of-type {\n",
       "        vertical-align: middle;\n",
       "    }\n",
       "\n",
       "    .dataframe tbody tr th {\n",
       "        vertical-align: top;\n",
       "    }\n",
       "\n",
       "    .dataframe thead th {\n",
       "        text-align: right;\n",
       "    }\n",
       "</style>\n",
       "<table border=\"1\" class=\"dataframe\">\n",
       "  <thead>\n",
       "    <tr style=\"text-align: right;\">\n",
       "      <th></th>\n",
       "      <th>subject_id</th>\n",
       "      <th>expire_flag</th>\n",
       "      <th>hadm_id</th>\n",
       "      <th>icustay_id</th>\n",
       "      <th>first_wardid</th>\n",
       "      <th>last_wardid</th>\n",
       "      <th>los</th>\n",
       "    </tr>\n",
       "  </thead>\n",
       "  <tbody>\n",
       "    <tr>\n",
       "      <th>count</th>\n",
       "      <td>136.000000</td>\n",
       "      <td>136.0</td>\n",
       "      <td>136.000000</td>\n",
       "      <td>136.000000</td>\n",
       "      <td>136.000000</td>\n",
       "      <td>136.000000</td>\n",
       "      <td>136.000000</td>\n",
       "    </tr>\n",
       "    <tr>\n",
       "      <th>mean</th>\n",
       "      <td>28263.485294</td>\n",
       "      <td>1.0</td>\n",
       "      <td>153259.566176</td>\n",
       "      <td>250980.470588</td>\n",
       "      <td>34.470588</td>\n",
       "      <td>34.022059</td>\n",
       "      <td>4.452457</td>\n",
       "    </tr>\n",
       "    <tr>\n",
       "      <th>std</th>\n",
       "      <td>16008.281510</td>\n",
       "      <td>0.0</td>\n",
       "      <td>28054.220280</td>\n",
       "      <td>28455.125832</td>\n",
       "      <td>18.876182</td>\n",
       "      <td>19.280951</td>\n",
       "      <td>6.196828</td>\n",
       "    </tr>\n",
       "    <tr>\n",
       "      <th>min</th>\n",
       "      <td>10006.000000</td>\n",
       "      <td>1.0</td>\n",
       "      <td>100375.000000</td>\n",
       "      <td>201006.000000</td>\n",
       "      <td>7.000000</td>\n",
       "      <td>7.000000</td>\n",
       "      <td>0.105900</td>\n",
       "    </tr>\n",
       "    <tr>\n",
       "      <th>25%</th>\n",
       "      <td>10089.750000</td>\n",
       "      <td>1.0</td>\n",
       "      <td>129028.000000</td>\n",
       "      <td>224359.250000</td>\n",
       "      <td>14.750000</td>\n",
       "      <td>14.000000</td>\n",
       "      <td>1.233525</td>\n",
       "    </tr>\n",
       "    <tr>\n",
       "      <th>50%</th>\n",
       "      <td>40307.000000</td>\n",
       "      <td>1.0</td>\n",
       "      <td>157724.000000</td>\n",
       "      <td>250055.000000</td>\n",
       "      <td>33.000000</td>\n",
       "      <td>33.000000</td>\n",
       "      <td>2.111450</td>\n",
       "    </tr>\n",
       "    <tr>\n",
       "      <th>75%</th>\n",
       "      <td>42207.000000</td>\n",
       "      <td>1.0</td>\n",
       "      <td>174896.500000</td>\n",
       "      <td>277279.250000</td>\n",
       "      <td>52.000000</td>\n",
       "      <td>52.000000</td>\n",
       "      <td>4.329050</td>\n",
       "    </tr>\n",
       "    <tr>\n",
       "      <th>max</th>\n",
       "      <td>44228.000000</td>\n",
       "      <td>1.0</td>\n",
       "      <td>199395.000000</td>\n",
       "      <td>298685.000000</td>\n",
       "      <td>57.000000</td>\n",
       "      <td>57.000000</td>\n",
       "      <td>35.406500</td>\n",
       "    </tr>\n",
       "  </tbody>\n",
       "</table>\n",
       "</div>"
      ],
      "text/plain": [
       "         subject_id  expire_flag        hadm_id     icustay_id  first_wardid  \\\n",
       "count    136.000000        136.0     136.000000     136.000000    136.000000   \n",
       "mean   28263.485294          1.0  153259.566176  250980.470588     34.470588   \n",
       "std    16008.281510          0.0   28054.220280   28455.125832     18.876182   \n",
       "min    10006.000000          1.0  100375.000000  201006.000000      7.000000   \n",
       "25%    10089.750000          1.0  129028.000000  224359.250000     14.750000   \n",
       "50%    40307.000000          1.0  157724.000000  250055.000000     33.000000   \n",
       "75%    42207.000000          1.0  174896.500000  277279.250000     52.000000   \n",
       "max    44228.000000          1.0  199395.000000  298685.000000     57.000000   \n",
       "\n",
       "       last_wardid         los  \n",
       "count   136.000000  136.000000  \n",
       "mean     34.022059    4.452457  \n",
       "std      19.280951    6.196828  \n",
       "min       7.000000    0.105900  \n",
       "25%      14.000000    1.233525  \n",
       "50%      33.000000    2.111450  \n",
       "75%      52.000000    4.329050  \n",
       "max      57.000000   35.406500  "
      ]
     },
     "execution_count": 7,
     "metadata": {},
     "output_type": "execute_result"
    }
   ],
   "source": [
    "df.describe()"
   ]
  },
  {
   "cell_type": "markdown",
   "id": "64c23611-2a6f-41bb-ae5d-d58c22340737",
   "metadata": {},
   "source": [
    "Next, we print out a summary of our dataframe including the data types and non-null values of each column."
   ]
  },
  {
   "cell_type": "code",
   "execution_count": 8,
   "id": "7692a0af-de2f-42d1-9110-15ce104c2c5c",
   "metadata": {
    "tags": []
   },
   "outputs": [
    {
     "name": "stdout",
     "output_type": "stream",
     "text": [
      "<class 'modin.pandas.dataframe.DataFrame'>\n",
      "RangeIndex: 136 entries, 0 to 135\n",
      "Data columns (total 17 columns):\n",
      " #   Column          Non-Null Count  Dtype  \n",
      "---  ------          --------------  -----  \n",
      " 0   subject_id      136 non-null    int32  \n",
      " 1   gender          136 non-null    object \n",
      " 2   dob             136 non-null    object \n",
      " 3   dod             136 non-null    object \n",
      " 4   dod_hosp        88 non-null     object \n",
      " 5   dod_ssn         108 non-null    object \n",
      " 6   expire_flag     136 non-null    int8   \n",
      " 7   hadm_id         136 non-null    int32  \n",
      " 8   icustay_id      136 non-null    int32  \n",
      " 9   dbsource        136 non-null    object \n",
      " 10  first_careunit  136 non-null    object \n",
      " 11  last_careunit   136 non-null    object \n",
      " 12  first_wardid    136 non-null    int8   \n",
      " 13  last_wardid     136 non-null    int8   \n",
      " 14  intime          136 non-null    object \n",
      " 15  outtime         136 non-null    object \n",
      " 16  los             136 non-null    float64\n",
      "dtypes: float64(1), int32(3), int8(3), object(10)"
     ]
    }
   ],
   "source": [
    "df.info()"
   ]
  },
  {
   "cell_type": "markdown",
   "id": "86949b99-ee09-4f80-aede-61fc6de6c2a8",
   "metadata": {},
   "source": [
    "We want to understand the correlation between the patient's age and their average length of stay in the ICU. To do this, we must first convert the timestamps into datetime objects."
   ]
  },
  {
   "cell_type": "code",
   "execution_count": 9,
   "id": "5344da61-915d-43cf-894a-484876450748",
   "metadata": {},
   "outputs": [],
   "source": [
    "df[\"intime\"] = pd.to_datetime(df[\"intime\"])\n",
    "df[\"outtime\"] = pd.to_datetime(df[\"outtime\"])\n",
    "df[\"dob\"] = pd.to_datetime(df[\"dob\"])"
   ]
  },
  {
   "cell_type": "markdown",
   "id": "ef662f05-08ba-4239-8f14-a92f561386ad",
   "metadata": {
    "tags": []
   },
   "source": [
    "Then to compute the patient's length of stay, we simply subtract the the time the patient exits the ICU (`outtime`) from the time they enter (`intime`)."
   ]
  },
  {
   "cell_type": "code",
   "execution_count": 10,
   "id": "5f72ca6b-ae9a-4a68-a391-83b065785004",
   "metadata": {
    "tags": []
   },
   "outputs": [],
   "source": [
    "df[\"length_of_stay\"] = (df[\"outtime\"]-df[\"intime\"])/pd.Timedelta('1 hour')"
   ]
  },
  {
   "cell_type": "code",
   "execution_count": 11,
   "id": "d6245c38-4fce-4596-bec0-a09b5aed3678",
   "metadata": {
    "tags": []
   },
   "outputs": [],
   "source": [
    "df[\"age\"] = df[\"intime\"].dt.year-df[\"dob\"].dt.year"
   ]
  },
  {
   "cell_type": "markdown",
   "id": "b66ea947-8204-4ba7-b453-43430a0311e7",
   "metadata": {},
   "source": [
    "Finally, we filter out outlier entries where age is listed as above 100."
   ]
  },
  {
   "cell_type": "code",
   "execution_count": 12,
   "id": "50c62f3f-a804-4efd-89bb-cf689a870055",
   "metadata": {
    "tags": []
   },
   "outputs": [],
   "source": [
    "df = df[df[\"age\"]<100]"
   ]
  },
  {
   "cell_type": "markdown",
   "id": "00395e03-1357-487c-b3d9-58e2d6372d56",
   "metadata": {
    "tags": []
   },
   "source": [
    "To look at the correlation between these variables, we plot them on a scatterplot."
   ]
  },
  {
   "cell_type": "code",
   "execution_count": 13,
   "id": "66ac1e04-4581-4292-8b7a-b88faa76edf5",
   "metadata": {
    "tags": []
   },
   "outputs": [
    {
     "data": {
      "text/plain": [
       "<Axes: xlabel='age', ylabel='length_of_stay'>"
      ]
     },
     "execution_count": 13,
     "metadata": {},
     "output_type": "execute_result"
    },
    {
     "data": {
      "image/png": "[encoded data removed]",
      "text/plain": [
       "<Figure size 640x480 with 1 Axes>"
      ]
     },
     "metadata": {},
     "output_type": "display_data"
    }
   ],
   "source": [
    "df.plot(\"age\",\"length_of_stay\",kind=\"scatter\")"
   ]
  },
  {
   "cell_type": "markdown",
   "id": "debf1c42-f981-4f2b-8cb0-905f6ba14412",
   "metadata": {},
   "source": [
    "We see here that there is a concentrated cluster of ICU patients between 50-90 and most patients don't stay for more than 200 hours, but there are some wild outliers to this distribution."
   ]
  },
  {
   "cell_type": "markdown",
   "id": "4b55a21b-81f4-4b69-b1bd-9363f0367b88",
   "metadata": {},
   "source": [
    "---"
   ]
  },
  {
   "cell_type": "markdown",
   "id": "e11e904c-6a70-4a49-b90f-7f1b39ec981e",
   "metadata": {},
   "source": [
    "**How would you do this in SQL?**\n",
    "\n",
    "With Ponder, you can work directly with pandas while we run it on your data warehouse for you. \n",
    "There's no need to write a single line of SQL. Note that our example draw from [this tutorial](https://mimic.mit.edu/docs/iv/tutorials/bigquery/#tldr) written by MIT researchers who developed MIMIC, here is the equivalent SQL query from the same post:\n",
    "\n",
    "```sql\n",
    "WITH re AS (\n",
    "SELECT\n",
    "  DATETIME_DIFF(icu.outtime, icu.intime, HOUR) AS icu_length_of_stay,\n",
    "  DATE_DIFF(DATE(icu.intime), DATE(pat.dob), YEAR) AS age\n",
    "FROM `physionet-data.mimiciii_demo.icustays` AS icu\n",
    "INNER JOIN `physionet-data.mimiciii_demo.patients` AS pat\n",
    "  ON icu.subject_id = pat.subject_id)\n",
    "SELECT\n",
    "  age,\n",
    "  AVG(icu_length_of_stay) AS stay\n",
    "FROM re\n",
    "WHERE age < 100\n",
    "GROUP BY age\n",
    "ORDER BY age\n",
    "```"
   ]
  },
  {
   "cell_type": "markdown",
   "id": "80cc01f1-8a05-442e-bf76-224bea536f32",
   "metadata": {},
   "source": [
    "Note that the pandas query is just as easy (if not easier) to write than the SQL query. Moreover, visualization is much more integrated and seamless with Ponder than by working with SQL. \n",
    "\n",
    "The [MIMIC tutorial](https://mimic.mit.edu/docs/iv/tutorials/bigquery/#tldr) shows that to plot visualizations in BigQuery you would need to export the data from your Query Editor as a CSV, then the author used Google Sheets to plot the final result. With Ponder, visualization is just a single line of code via pandas's `df.plot` — fully integrated with the rest of your data analysis workflow."
   ]
  },
  {
   "cell_type": "markdown",
   "id": "9f45b305-9871-483d-97ef-beb0258cde24",
   "metadata": {},
   "source": [
    "---"
   ]
  },
  {
   "cell_type": "markdown",
   "id": "5fae36c1-8c10-48ef-8de4-323d8ce1cbec",
   "metadata": {},
   "source": [
    "Outside of the ICU stay information, we also want to look at the hospital admissions record to understand what happened *before* the patients were admitted to the ICU. "
   ]
  },
  {
   "cell_type": "code",
   "execution_count": 14,
   "id": "17b76fe7-4d6d-4eb4-bebe-55cc643b69f3",
   "metadata": {
    "tags": []
   },
   "outputs": [],
   "source": [
    "admissions = pd.read_sql(\"ADMISSIONS\",con=snowflake_con)"
   ]
  },
  {
   "cell_type": "markdown",
   "id": "a469aa20-0a4e-4451-862b-3170bb05e450",
   "metadata": {},
   "source": [
    "Here, we incorporate the admissions table to look at how long the patient stayed at the hospital before they were admitted to the ICU. "
   ]
  },
  {
   "cell_type": "code",
   "execution_count": 15,
   "id": "8514feca-f6b3-4186-bd32-ef07ba8efed4",
   "metadata": {
    "tags": []
   },
   "outputs": [],
   "source": [
    "df = df.merge(admissions,on=[\"hadm_id\",\"subject_id\"])"
   ]
  },
  {
   "cell_type": "code",
   "execution_count": 16,
   "id": "bf8025c3-8657-41a7-8feb-6afab251ccfd",
   "metadata": {
    "tags": []
   },
   "outputs": [],
   "source": [
    "df[\"pre_icu_length_of_stay\"]= (df[\"intime\"]-df[\"admittime\"])/pd.Timedelta('1 day')"
   ]
  },
  {
   "cell_type": "markdown",
   "id": "f1f76750-cbfe-4809-875f-08f7b394c5ac",
   "metadata": {
    "tags": []
   },
   "source": [
    "By plotting the distribution of pre-ICU length of stay, we learn that most patients were admitted to the ICU within a day of being admitted to the hospital. This reflects the fact that ICU typically caters to patients with severe or life-threatening conditions requiring immediate attention."
   ]
  },
  {
   "cell_type": "code",
   "execution_count": 17,
   "id": "60ba61f7-fa60-4a6d-8b06-1282d2f64382",
   "metadata": {
    "tags": []
   },
   "outputs": [
    {
     "name": "stderr",
     "output_type": "stream",
     "text": [
      "UserWarning: `Series.hist_series` is not currently supported by DbmsOnDbms, defaulting to pandas implementation.\n",
      "Please refer to https://modin.readthedocs.io/en/stable/supported_apis/defaulting_to_pandas.html for explanation.\n"
     ]
    },
    {
     "data": {
      "text/plain": [
       "<Axes: >"
      ]
     },
     "execution_count": 17,
     "metadata": {},
     "output_type": "execute_result"
    },
    {
     "data": {
      "image/png": "[encoded data removed]",
      "text/plain": [
       "<Figure size 640x480 with 1 Axes>"
      ]
     },
     "metadata": {},
     "output_type": "display_data"
    }
   ],
   "source": [
    "df[\"pre_icu_length_of_stay\"].hist()"
   ]
  },
  {
   "cell_type": "code",
   "execution_count": 18,
   "id": "5cdeb9af-660a-4daa-98c5-f9e86699e9bd",
   "metadata": {
    "tags": []
   },
   "outputs": [
    {
     "name": "stdout",
     "output_type": "stream",
     "text": [
      "Percentage of ICU admissions within 1 day:         81.10%\n"
     ]
    }
   ],
   "source": [
    "print(f\"Percentage of ICU admissions within 1 day: \\\n",
    "        {len(df[df['pre_icu_length_of_stay']<1])/len(df)*100:.2f}%\")"
   ]
  },
  {
   "cell_type": "markdown",
   "id": "345f3bc3-1f93-48ee-8cae-e8dad2b04a45",
   "metadata": {},
   "source": [
    "You can find the SQL that performs a similar query on BigQuery in [this tutorial](https://mimic.mit.edu/docs/iii/tutorials/intro-to-mimic-iii-bq/#solution-to-step-4)."
   ]
  },
  {
   "cell_type": "markdown",
   "id": "e754e277-bb7a-4a9c-a81a-01fc0bff60df",
   "metadata": {},
   "source": [
    "### Working with Text: Parsing through clinical diagnosis"
   ]
  },
  {
   "cell_type": "markdown",
   "id": "d3a6921b-4104-4327-9699-fe058d2ad9ef",
   "metadata": {},
   "source": [
    "Electronic health records can include both structured data (such as clinical measurements of temperature, blood pressure, etc.) and unstructured data (such as imaging, physician notes, etc.). For example, take a look at the [`diagnosis` column](https://mimic.mit.edu/docs/iii/tables/admissions/#diagnosis), which contains free-text diagnosis assigned by the clinician:"
   ]
  },
  {
   "cell_type": "code",
   "execution_count": 19,
   "id": "2b704957-4b20-41a9-abbb-1d963a0ea0d2",
   "metadata": {
    "tags": []
   },
   "outputs": [
    {
     "data": {
      "text/plain": [
       "0                                                 SEPSIS\n",
       "1                                            HEPATITIS B\n",
       "2                                                 SEPSIS\n",
       "3                                       HUMERAL FRACTURE\n",
       "4                                    ALCOHOLIC HEPATITIS\n",
       "                             ...                        \n",
       "122                                  SHORTNESS OF BREATH\n",
       "123                                 PERICARDIAL EFFUSION\n",
       "124    ACUTE RESPIRATORY DISTRESS SYNDROME;ACUTE RENA...\n",
       "125                                          BRADYCARDIA\n",
       "126                                          CHOLANGITIS\n",
       "Name: diagnosis, Length: 127, dtype: object"
      ]
     },
     "execution_count": 19,
     "metadata": {},
     "output_type": "execute_result"
    }
   ],
   "source": [
    "df.diagnosis"
   ]
  },
  {
   "cell_type": "markdown",
   "id": "53b578a7-0e72-4793-b363-1df5ac3d8ec9",
   "metadata": {},
   "source": [
    "Thankfully, it is easy to work with text data in pandas, since pandas comes with a [convenient set of functions](https://pandas.pydata.org/docs/user_guide/text.html) for operating with string and object type columns. \n",
    "\n",
    "Here, we normalize the text by replacing special characters and custom separators with spaces. Then we combine all diagnosis of all the patients together to determine what is the top 5 words that are used in the diagnosis."
   ]
  },
  {
   "cell_type": "code",
   "execution_count": 20,
   "id": "1748639f-04b5-45e6-b836-2433b66fa29d",
   "metadata": {
    "tags": []
   },
   "outputs": [],
   "source": [
    "df.diagnosis = df.diagnosis.str.replace(\";\",\" \").str.strip()\n",
    "all_diagnosis_str = df.diagnosis.str.cat(sep=\" \")\n",
    "\n",
    "subs = {\"\\\\\":\" \", \"-\":\"\", \"/\":\"\", \"?\":\"\"}\n",
    "for s in subs.keys(): \n",
    "    all_diagnosis_str = all_diagnosis_str.replace(s, subs[s])\n",
    "\n",
    "all_diagnosis = all_diagnosis_str.split(\" \")"
   ]
  },
  {
   "cell_type": "code",
   "execution_count": 21,
   "id": "24a34764-f442-4cc1-8b87-ed96ace34651",
   "metadata": {
    "tags": []
   },
   "outputs": [
    {
     "data": {
      "text/plain": [
       "[('FAILURE', 12), ('SEPSIS', 11), ('PNEUMONIA', 9), ('BLEED', 8), ('ACUTE', 7)]"
      ]
     },
     "execution_count": 21,
     "metadata": {},
     "output_type": "execute_result"
    }
   ],
   "source": [
    "import collections\n",
    "c = collections.Counter(all_diagnosis)\n",
    "c.most_common(5)"
   ]
  },
  {
   "cell_type": "code",
   "execution_count": 22,
   "id": "96753257-acd4-4ba9-b81b-19dc0a2af53c",
   "metadata": {
    "tags": []
   },
   "outputs": [
    {
     "name": "stdout",
     "output_type": "stream",
     "text": [
      "Top 5 most common diagnostic terms are: ['FAILURE', 'SEPSIS', 'PNEUMONIA', 'BLEED', 'ACUTE']\n"
     ]
    }
   ],
   "source": [
    "top_5_keyword = sorted(c, key=c.get, reverse=True)[:5]\n",
    "print(f\"Top 5 most common diagnostic terms are: {top_5_keyword}\")"
   ]
  },
  {
   "cell_type": "markdown",
   "id": "e621db1a-d5b5-403c-8b1d-801ae96e84bf",
   "metadata": {
    "tags": []
   },
   "source": [
    "Based on these top five words, we create a binary feature that indicates the presence of each diagnostic term. "
   ]
  },
  {
   "cell_type": "code",
   "execution_count": 23,
   "id": "2d26eee2-671a-4ff8-ac22-62612c1a1ced",
   "metadata": {
    "tags": []
   },
   "outputs": [],
   "source": [
    "for keyword in top_5_keyword:\n",
    "    df[keyword]=df['diagnosis'].str.contains(keyword)"
   ]
  },
  {
   "cell_type": "markdown",
   "id": "2efde8c8-f661-4984-8f37-4e79dcc35086",
   "metadata": {},
   "source": [
    "### Machine Learning: Mortality prediction of ICU Patients"
   ]
  },
  {
   "cell_type": "markdown",
   "id": "74b295bc-41db-4cda-b143-7bc6cd640e09",
   "metadata": {},
   "source": [
    "[Survivial analysis](https://www.nature.com/articles/s41746-022-00679-6) and [mortality prediction](https://www.ncbi.nlm.nih.gov/pmc/articles/PMC4321691/) are common use cases by researchers and clinicians for analyzing electronic health data, especially as it pertains to ICU stays.\n",
    "\n",
    "Now with all the diagnostic features we created, we build a basic machine learning model to predict the likelihood of survival of patients. "
   ]
  },
  {
   "cell_type": "markdown",
   "id": "bafb693f-03dc-4376-81ec-e891e5cb5b6e",
   "metadata": {},
   "source": [
    "The `hospital_expire_flag` is a binary attribute that captures whether a patient died in the hospital. By printing out the [value counts](https://pandas.pydata.org/docs/reference/api/pandas.Series.value_counts.html) of this attribute, we see that about a third of ICU patients die in the hospital. "
   ]
  },
  {
   "cell_type": "code",
   "execution_count": 24,
   "id": "21aef8ae-47d8-4c77-8e04-270304c41d4e",
   "metadata": {
    "tags": []
   },
   "outputs": [
    {
     "data": {
      "text/plain": [
       "0    85\n",
       "1    42\n",
       "Name: hospital_expire_flag, dtype: int64"
      ]
     },
     "execution_count": 24,
     "metadata": {},
     "output_type": "execute_result"
    }
   ],
   "source": [
    "df[\"hospital_expire_flag\"].value_counts()"
   ]
  },
  {
   "cell_type": "markdown",
   "id": "3611f957-131c-4537-b79d-03026a109046",
   "metadata": {
    "tags": []
   },
   "source": [
    "We build a binary classification model, where `X` is our features (i.e., presence of diagnostic terms) and `y` is the target (i.e., predict if patient dies in the hospital). "
   ]
  },
  {
   "cell_type": "code",
   "execution_count": 25,
   "id": "2d11b951-5b4c-4a98-ae4c-883fbccd56a7",
   "metadata": {
    "tags": []
   },
   "outputs": [],
   "source": [
    "X = df[top_5_keyword].astype(int)\n",
    "y = df['hospital_expire_flag']"
   ]
  },
  {
   "cell_type": "code",
   "execution_count": 26,
   "id": "35155531-c8ff-4ed1-9a3e-e457176f9f20",
   "metadata": {
    "tags": []
   },
   "outputs": [
    {
     "data": {
      "text/html": [
       "<div>\n",
       "<style scoped>\n",
       "    .dataframe tbody tr th:only-of-type {\n",
       "        vertical-align: middle;\n",
       "    }\n",
       "\n",
       "    .dataframe tbody tr th {\n",
       "        vertical-align: top;\n",
       "    }\n",
       "\n",
       "    .dataframe thead th {\n",
       "        text-align: right;\n",
       "    }\n",
       "</style>\n",
       "<table border=\"1\" class=\"dataframe\">\n",
       "  <thead>\n",
       "    <tr style=\"text-align: right;\">\n",
       "      <th></th>\n",
       "      <th>FAILURE</th>\n",
       "      <th>SEPSIS</th>\n",
       "      <th>PNEUMONIA</th>\n",
       "      <th>BLEED</th>\n",
       "      <th>ACUTE</th>\n",
       "    </tr>\n",
       "  </thead>\n",
       "  <tbody>\n",
       "    <tr>\n",
       "      <th>0</th>\n",
       "      <td>0</td>\n",
       "      <td>1</td>\n",
       "      <td>0</td>\n",
       "      <td>0</td>\n",
       "      <td>0</td>\n",
       "    </tr>\n",
       "    <tr>\n",
       "      <th>1</th>\n",
       "      <td>0</td>\n",
       "      <td>0</td>\n",
       "      <td>0</td>\n",
       "      <td>0</td>\n",
       "      <td>0</td>\n",
       "    </tr>\n",
       "    <tr>\n",
       "      <th>2</th>\n",
       "      <td>0</td>\n",
       "      <td>1</td>\n",
       "      <td>0</td>\n",
       "      <td>0</td>\n",
       "      <td>0</td>\n",
       "    </tr>\n",
       "    <tr>\n",
       "      <th>3</th>\n",
       "      <td>0</td>\n",
       "      <td>0</td>\n",
       "      <td>0</td>\n",
       "      <td>0</td>\n",
       "      <td>0</td>\n",
       "    </tr>\n",
       "    <tr>\n",
       "      <th>4</th>\n",
       "      <td>0</td>\n",
       "      <td>0</td>\n",
       "      <td>0</td>\n",
       "      <td>0</td>\n",
       "      <td>0</td>\n",
       "    </tr>\n",
       "    <tr>\n",
       "      <th>...</th>\n",
       "      <td>...</td>\n",
       "      <td>...</td>\n",
       "      <td>...</td>\n",
       "      <td>...</td>\n",
       "      <td>...</td>\n",
       "    </tr>\n",
       "    <tr>\n",
       "      <th>122</th>\n",
       "      <td>0</td>\n",
       "      <td>0</td>\n",
       "      <td>0</td>\n",
       "      <td>0</td>\n",
       "      <td>0</td>\n",
       "    </tr>\n",
       "    <tr>\n",
       "      <th>123</th>\n",
       "      <td>0</td>\n",
       "      <td>0</td>\n",
       "      <td>0</td>\n",
       "      <td>0</td>\n",
       "      <td>0</td>\n",
       "    </tr>\n",
       "    <tr>\n",
       "      <th>124</th>\n",
       "      <td>1</td>\n",
       "      <td>0</td>\n",
       "      <td>0</td>\n",
       "      <td>0</td>\n",
       "      <td>1</td>\n",
       "    </tr>\n",
       "    <tr>\n",
       "      <th>125</th>\n",
       "      <td>0</td>\n",
       "      <td>0</td>\n",
       "      <td>0</td>\n",
       "      <td>0</td>\n",
       "      <td>0</td>\n",
       "    </tr>\n",
       "    <tr>\n",
       "      <th>126</th>\n",
       "      <td>0</td>\n",
       "      <td>0</td>\n",
       "      <td>0</td>\n",
       "      <td>0</td>\n",
       "      <td>0</td>\n",
       "    </tr>\n",
       "  </tbody>\n",
       "</table>\n",
       "<p>127 rows x 5 columns</p>\n",
       "</div>"
      ],
      "text/plain": [
       "     FAILURE  SEPSIS  PNEUMONIA  BLEED  ACUTE\n",
       "0          0       1          0      0      0\n",
       "1          0       0          0      0      0\n",
       "2          0       1          0      0      0\n",
       "3          0       0          0      0      0\n",
       "4          0       0          0      0      0\n",
       "..       ...     ...        ...    ...    ...\n",
       "122        0       0          0      0      0\n",
       "123        0       0          0      0      0\n",
       "124        1       0          0      0      1\n",
       "125        0       0          0      0      0\n",
       "126        0       0          0      0      0\n",
       "\n",
       "[127 rows x 5 columns]"
      ]
     },
     "execution_count": 26,
     "metadata": {},
     "output_type": "execute_result"
    }
   ],
   "source": [
    "X"
   ]
  },
  {
   "cell_type": "code",
   "execution_count": 27,
   "id": "b8c41494-755a-485b-8119-9dfff98213df",
   "metadata": {
    "tags": []
   },
   "outputs": [
    {
     "data": {
      "text/plain": [
       "0      0\n",
       "1      1\n",
       "2      1\n",
       "3      0\n",
       "4      1\n",
       "      ..\n",
       "122    0\n",
       "123    0\n",
       "124    0\n",
       "125    0\n",
       "126    0\n",
       "Name: hospital_expire_flag, Length: 127, dtype: int8"
      ]
     },
     "execution_count": 27,
     "metadata": {},
     "output_type": "execute_result"
    }
   ],
   "source": [
    "y"
   ]
  },
  {
   "cell_type": "markdown",
   "id": "2472fba7-c3ff-4546-93c9-117c61207eef",
   "metadata": {
    "tags": []
   },
   "source": [
    "We split the data into training and test sets. We will hold out 10% of the data for testing the model and use the remaining dataset for training."
   ]
  },
  {
   "cell_type": "code",
   "execution_count": 28,
   "id": "719049a4-0a5b-45da-bbd5-8ff073c95a93",
   "metadata": {
    "tags": []
   },
   "outputs": [],
   "source": [
    "from sklearn.model_selection import train_test_split\n",
    "X_train, X_test, y_train, y_test = train_test_split(X, y,\n",
    "                                   test_size= 0.1,random_state=0)"
   ]
  },
  {
   "cell_type": "markdown",
   "id": "04d26fc8-af43-4f9e-ba75-9db01def50fd",
   "metadata": {},
   "source": [
    "We fit a basic [Naive Bayes classifier](https://scikit-learn.org/stable/modules/naive_bayes.html#naive-bayes) and evaluate the model predictions."
   ]
  },
  {
   "cell_type": "code",
   "execution_count": 29,
   "id": "9e1f2052-7405-496c-b4de-76e031978cb5",
   "metadata": {
    "tags": []
   },
   "outputs": [
    {
     "data": {
      "text/html": [
       "<style>#sk-container-id-1 {color: black;background-color: white;}#sk-container-id-1 pre{padding: 0;}#sk-container-id-1 div.sk-toggleable {background-color: white;}#sk-container-id-1 label.sk-toggleable__label {cursor: pointer;display: block;width: 100%;margin-bottom: 0;padding: 0.3em;box-sizing: border-box;text-align: center;}#sk-container-id-1 label.sk-toggleable__label-arrow:before {content: \"▸\";float: left;margin-right: 0.25em;color: #696969;}#sk-container-id-1 label.sk-toggleable__label-arrow:hover:before {color: black;}#sk-container-id-1 div.sk-estimator:hover label.sk-toggleable__label-arrow:before {color: black;}#sk-container-id-1 div.sk-toggleable__content {max-height: 0;max-width: 0;overflow: hidden;text-align: left;background-color: #f0f8ff;}#sk-container-id-1 div.sk-toggleable__content pre {margin: 0.2em;color: black;border-radius: 0.25em;background-color: #f0f8ff;}#sk-container-id-1 input.sk-toggleable__control:checked~div.sk-toggleable__content {max-height: 200px;max-width: 100%;overflow: auto;}#sk-container-id-1 input.sk-toggleable__control:checked~label.sk-toggleable__label-arrow:before {content: \"▾\";}#sk-container-id-1 div.sk-estimator input.sk-toggleable__control:checked~label.sk-toggleable__label {background-color: #d4ebff;}#sk-container-id-1 div.sk-label input.sk-toggleable__control:checked~label.sk-toggleable__label {background-color: #d4ebff;}#sk-container-id-1 input.sk-hidden--visually {border: 0;clip: rect(1px 1px 1px 1px);clip: rect(1px, 1px, 1px, 1px);height: 1px;margin: -1px;overflow: hidden;padding: 0;position: absolute;width: 1px;}#sk-container-id-1 div.sk-estimator {font-family: monospace;background-color: #f0f8ff;border: 1px dotted black;border-radius: 0.25em;box-sizing: border-box;margin-bottom: 0.5em;}#sk-container-id-1 div.sk-estimator:hover {background-color: #d4ebff;}#sk-container-id-1 div.sk-parallel-item::after {content: \"\";width: 100%;border-bottom: 1px solid gray;flex-grow: 1;}#sk-container-id-1 div.sk-label:hover label.sk-toggleable__label {background-color: #d4ebff;}#sk-container-id-1 div.sk-serial::before {content: \"\";position: absolute;border-left: 1px solid gray;box-sizing: border-box;top: 0;bottom: 0;left: 50%;z-index: 0;}#sk-container-id-1 div.sk-serial {display: flex;flex-direction: column;align-items: center;background-color: white;padding-right: 0.2em;padding-left: 0.2em;position: relative;}#sk-container-id-1 div.sk-item {position: relative;z-index: 1;}#sk-container-id-1 div.sk-parallel {display: flex;align-items: stretch;justify-content: center;background-color: white;position: relative;}#sk-container-id-1 div.sk-item::before, #sk-container-id-1 div.sk-parallel-item::before {content: \"\";position: absolute;border-left: 1px solid gray;box-sizing: border-box;top: 0;bottom: 0;left: 50%;z-index: -1;}#sk-container-id-1 div.sk-parallel-item {display: flex;flex-direction: column;z-index: 1;position: relative;background-color: white;}#sk-container-id-1 div.sk-parallel-item:first-child::after {align-self: flex-end;width: 50%;}#sk-container-id-1 div.sk-parallel-item:last-child::after {align-self: flex-start;width: 50%;}#sk-container-id-1 div.sk-parallel-item:only-child::after {width: 0;}#sk-container-id-1 div.sk-dashed-wrapped {border: 1px dashed gray;margin: 0 0.4em 0.5em 0.4em;box-sizing: border-box;padding-bottom: 0.4em;background-color: white;}#sk-container-id-1 div.sk-label label {font-family: monospace;font-weight: bold;display: inline-block;line-height: 1.2em;}#sk-container-id-1 div.sk-label-container {text-align: center;}#sk-container-id-1 div.sk-container {/* jupyter's `normalize.less` sets `[hidden] { display: none; }` but bootstrap.min.css set `[hidden] { display: none !important; }` so we also need the `!important` here to be able to override the default hidden behavior on the sphinx rendered scikit-learn.org. See: https://github.com/scikit-learn/scikit-learn/issues/21755 */display: inline-block !important;position: relative;}#sk-container-id-1 div.sk-text-repr-fallback {display: none;}</style><div id=\"sk-container-id-1\" class=\"sk-top-container\"><div class=\"sk-text-repr-fallback\"><pre>GaussianNB()</pre><b>In a Jupyter environment, please rerun this cell to show the HTML representation or trust the notebook. <br />On GitHub, the HTML representation is unable to render, please try loading this page with nbviewer.org.</b></div><div class=\"sk-container\" hidden><div class=\"sk-item\"><div class=\"sk-estimator sk-toggleable\"><input class=\"sk-toggleable__control sk-hidden--visually\" id=\"sk-estimator-id-1\" type=\"checkbox\" checked><label for=\"sk-estimator-id-1\" class=\"sk-toggleable__label sk-toggleable__label-arrow\">GaussianNB</label><div class=\"sk-toggleable__content\"><pre>GaussianNB()</pre></div></div></div></div></div>"
      ],
      "text/plain": [
       "GaussianNB()"
      ]
     },
     "execution_count": 29,
     "metadata": {},
     "output_type": "execute_result"
    }
   ],
   "source": [
    "from sklearn.naive_bayes import GaussianNB\n",
    "model = GaussianNB()\n",
    "model.fit(X_train,y_train)"
   ]
  },
  {
   "cell_type": "code",
   "execution_count": 30,
   "id": "dcb50a0d-3f66-4376-a383-597789f83fa0",
   "metadata": {
    "tags": []
   },
   "outputs": [],
   "source": [
    "predictions = model.predict(X_test)"
   ]
  },
  {
   "cell_type": "markdown",
   "id": "27b7df72-4d00-490c-995b-fdd5d25ef26b",
   "metadata": {},
   "source": [
    "Here we plot the confusion matrix to show the number of true positives, true negatives, false positives and false negatives."
   ]
  },
  {
   "cell_type": "code",
   "execution_count": 31,
   "id": "4993b18c-7d2a-49b6-96f5-b4a7c6a38cc2",
   "metadata": {
    "tags": []
   },
   "outputs": [
    {
     "data": {
      "text/plain": [
       "<sklearn.metrics._plot.confusion_matrix.ConfusionMatrixDisplay at 0x15e65aef0>"
      ]
     },
     "execution_count": 31,
     "metadata": {},
     "output_type": "execute_result"
    },
    {
     "data": {
      "image/png": "[encoded data removed]",
      "text/plain": [
       "<Figure size 640x480 with 2 Axes>"
      ]
     },
     "metadata": {},
     "output_type": "display_data"
    }
   ],
   "source": [
    "from sklearn.metrics import confusion_matrix, ConfusionMatrixDisplay\n",
    "cm = confusion_matrix(y_test, predictions)\n",
    "disp = ConfusionMatrixDisplay(confusion_matrix=cm,\n",
    "                              display_labels=model.classes_)\n",
    "disp.plot()"
   ]
  },
  {
   "cell_type": "code",
   "execution_count": 32,
   "id": "0c6fde6b-1126-4625-9c6e-7223eb97c30b",
   "metadata": {
    "tags": []
   },
   "outputs": [
    {
     "name": "stdout",
     "output_type": "stream",
     "text": [
      "Accuracy of the binary classifier = 0.62\n"
     ]
    }
   ],
   "source": [
    "from sklearn.metrics import accuracy_score\n",
    "score = accuracy_score(y_test, predictions)\n",
    "print(f'Accuracy of the binary classifier = {score:0.2f}')"
   ]
  },
  {
   "cell_type": "markdown",
   "id": "6e643bf7-1f66-402f-b059-941adbe3a46c",
   "metadata": {},
   "source": [
    "Of course, we are working with a very small sample here, so this is mostly intended to be an illustrative example."
   ]
  },
  {
   "cell_type": "markdown",
   "id": "b8c2599b-ca5c-4a07-a653-f18866954509",
   "metadata": {},
   "source": [
    "**Why use Ponder for healthcare data analysis?**\n",
    "\n",
    "Now that you've gotten a taste of the types of analysis you could do with Ponder. Let's take a step back and look at why Ponder is an excellent fit for clinicians and healthcare providers looking to perform healthcare data analysis in your data warehouse.\n",
    "\n",
    "- **It's secure.** Healthcare data analysis often involves working with sensitive Personal Identifiable Health (PIH) data stored securely by the healthcare provider or hospital. Typically, working with pandas requires pulling the data out of the data warehouse before you can work with pandas on your local machine. This increases the risks of data leakage or unauthorized disclosures. With Ponder, all the pandas operations are being pushed down to the warehouse, with the computation happening entirely in the warehouse. This means that IT teams can enforce the same access and security controls as the warehouse.\n",
    "- **It's scalable.** The volume of healthcare data has been exponential over the past few years and continues to grow. This presents significant opportunities and challenges ahead for health data management. When working with pandas, [scalability bottlenecks related to memory and performance](https://pandas.pydata.org/docs/user_guide/scale.html) often make analyzing large datasets impossible without resorting to big data frameworks such as Spark. With Ponder, you are no longer limited to the confines of in-memory analytics with pandas. Since the computation is happening entirely on the warehouse, Ponder inherits the parallelism and scalability of your warehouse. In fact, we have shown that Ponder works on workloads involving [more than a terabyte of data](https://ponder.io/run-pandas-on-1tb-directly-in-your-data-warehouse/). This is incredibly useful not just for analyzing electronic health records across a large population of patients, but also for large scale genomic analysis, which are often terabyte-scale and more. \n",
    "- **It's plain vanilla pandas.** Python is the de facto tool for data science, used by [one in every two software developers](https://ponder.io/pandas-is-now-as-popular-as-python-was-in-2016/) and [more than 90%](https://storage.googleapis.com/kaggle-media/surveys/Kaggle%20State%20of%20Machine%20Learning%20and%20Data%20Science%20Report%202022.pdf) of all data scientists. Among healthcare data practitioners and life scientists, it is also rapidly growing in popularity thanks to the increasing number of [health informatics programs](https://www.coursera.org/specializations/health-informatics) offered by [universities](https://healthinformatics.ucsf.edu/) and [online courses](https://www.coursera.org/specializations/genomic-data-science). Ponder gives you the exact same look-and-feel of pandas, but runnning directly in your warehouse, without requiring you to write a single line of SQL or Spark. Our mission at Ponder is to empower a wider number of domain specialist and practitioners to more easily work with the production-scale data in their warehouse, while sticking with their familiar API. "
   ]
  },
  {
   "cell_type": "markdown",
   "id": "5006b4b4-7391-4004-bb27-f22e1857b49d",
   "metadata": {},
   "source": [
    "### Summary"
   ]
  },
  {
   "cell_type": "markdown",
   "id": "f8962746-43c3-4403-857f-89dbba4a65b7",
   "metadata": {},
   "source": [
    "In this post, we saw how Ponder lets you analyze electronic health records with ease by allowing practitioners to: \n",
    "- browse high-level summary and overview of the dataset,\n",
    "- discover patterns and insights based on visualizations and basic statistics,\n",
    "- perform date time operations to compute patient's length of stay,\n",
    "- develop features based on clinician free-text diagnosis,\n",
    "- build a classification model to predict ICU patient mortality.\n",
    "\n",
    "Ponder lets you seamlessly move between feature engineering, visualization, and machine learning — all within the Python data ecosystem, while operating directly on the data in your data warehouse. \n"
   ]
  },
  {
   "cell_type": "markdown",
   "id": "27f73629-412b-49a6-932f-2878c5aafd5c",
   "metadata": {},
   "source": [
    "Looking to try Ponder on your next healthcare data analysis project? Sign up [here](http://ponder.io/product) to get started in using Ponder!"
   ]
  }
 ],
 "metadata": {
  "kernelspec": {
   "display_name": "Python 3 (ipykernel)",
   "language": "python",
   "name": "python3"
  },
  "language_info": {
   "codemirror_mode": {
    "name": "ipython",
    "version": 3
   },
   "file_extension": ".py",
   "mimetype": "text/x-python",
   "name": "python",
   "nbconvert_exporter": "python",
   "pygments_lexer": "ipython3",
   "version": "3.10.6"
  }
 },
 "nbformat": 4,
 "nbformat_minor": 5
}
