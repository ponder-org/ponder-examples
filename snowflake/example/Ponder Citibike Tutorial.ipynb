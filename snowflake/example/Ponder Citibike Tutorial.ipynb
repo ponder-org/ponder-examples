{
 "cells": [
  {
   "cell_type": "markdown",
   "id": "8895b4ab",
   "metadata": {},
   "source": [
    "# Ponder Citibike Mobility Analysis"
   ]
  },
  {
   "cell_type": "markdown",
   "id": "87696145-e8ba-45b7-832e-39847f9c9beb",
   "metadata": {},
   "source": [
    "<div class=\"alert alert-block alert-info\"> <b>Before we get started: </b> \n",
    "    <ul style=\"list-style-type: none;margin: 0;padding: 0;\">\n",
    "        <li>✍️ To run this notebook, you need to have Ponder installed and set up on your machine. If you have not done so already, please refer to our <a href=\"https://docs.ponder.io/getting_started/quickstart.html\">Quickstart guide</a> to get started.</li>\n",
    "        <li>📖 Otherwise, if you're just interested in browsing through the notebook, keep reading below!</li>\n",
    "    </ul>\n",
    "</div>"
   ]
  },
  {
   "cell_type": "markdown",
   "id": "6a27064c",
   "metadata": {},
   "source": [
    "Pandas is easy to use, flexible, and concise. Relational databases are scalable and reliable, but force you to use SQL. This demo shows you how Ponder allows your to combine the best of both worlds. With Ponder you can write more concise and maintainable code relative to SQL AND you can do operations that aren't even relational in nature!\n",
    "\n",
    "This notebook shows you how you can use Ponder to unleash your pandas code directly in your database! Ponder gives you a native pandas interface to your data warehouse. If you haven't already, sign up for a free trial account at [***app.ponder.io***](www.app.ponder.io) to try it out!"
   ]
  },
  {
   "cell_type": "markdown",
   "id": "505626d2",
   "metadata": {},
   "source": [
    "# Tutorial Overview"
   ]
  },
  {
   "cell_type": "markdown",
   "id": "af52932c",
   "metadata": {},
   "source": [
    "In this notebook, we will walk through a simple analysis of Citbike bikeshare data to show you how easy it is to use Ponder. The dataset includes specific bikeshare trips in New York City and we'll answer 6 mobility questions inspired by Kevin Chan's [Kaggle notebook](https://www.kaggle.com/code/cjinquan/citibike-analysis-sql/notebook). We use a sample of the public data available [here](https://ride.citibikenyc.com/system-data) for this analysis.\n",
    "\n",
    "**To answer these questions with SQL it takes about 72 lines of code. With Pandas, we can answer these same questions with almost 10X less code.**\n",
    "\n",
    "\n",
    "Specifically we'll show you:\n",
    "\n",
    "#### [How to setup Ponder ](#setup)\n",
    "\n",
    "\n",
    "#### [ How Ponder Works](#how-it-works)\n",
    "\n",
    "\n",
    "#### [The Citbike Use Case](#key-questions)\n",
    "    \n"
   ]
  },
  {
   "cell_type": "markdown",
   "id": "f44d4fec",
   "metadata": {},
   "source": [
    " <h1 align=\"center\">🔥9 lines of pandas vs. ~72 lines with the SQL🔥</h1>"
   ]
  },
  {
   "cell_type": "markdown",
   "id": "847c7c02",
   "metadata": {},
   "source": [
    "&nbsp;"
   ]
  },
  {
   "cell_type": "markdown",
   "id": "f3345a01",
   "metadata": {},
   "source": [
    "<a class=\"anchor\" id=\"setup\"></a>\n",
    "# 🛠️ How to setup Ponder 🛠️"
   ]
  },
  {
   "cell_type": "markdown",
   "id": "af5188c5",
   "metadata": {
    "slideshow": {
     "slide_type": "slide"
    }
   },
   "source": [
    "### Import Requirements "
   ]
  },
  {
   "cell_type": "code",
   "execution_count": null,
   "id": "12522b66",
   "metadata": {
    "tags": []
   },
   "outputs": [],
   "source": [
    "import ponder; ponder.init()\n",
    "import modin.pandas as pd\n",
    "import snowflake.connector"
   ]
  },
  {
   "cell_type": "markdown",
   "id": "70dc5230",
   "metadata": {},
   "source": [
    "###  Configure  Database Connection"
   ]
  },
  {
   "cell_type": "markdown",
   "id": "12537ac3",
   "metadata": {},
   "source": [
    "This example uses your Snowflake database as the backend engine. If you have Snowflake, you can find the documentation for the Snowflake Python Connector [here](https://docs.snowflake.com/en/developer-guide/python-connector/python-connector).\n",
    "\n",
    "If you don't have Snowflake, visit our documentation visit our documentation to [Connect Ponder to your DB](https://docs.ponder.io/getting_started/connection.html) and for a list of other supported databases, orreach out to support@ponder.io."
   ]
  },
  {
   "cell_type": "code",
   "execution_count": null,
   "id": "5e8efceb-b8f3-4b08-a3b2-8239288879a7",
   "metadata": {},
   "outputs": [],
   "source": [
    "import os; os.chdir(\"..\")\n",
    "\n",
    "import credential\n",
    "sfcon = snowflake.connector.connect(\n",
    "    user=credential.params[\"user\"],\n",
    "    password=credential.params[\"password\"],\n",
    "    account=credential.params[\"account\"],\n",
    "    role=credential.params[\"role\"],\n",
    "    database=credential.params[\"database\"],\n",
    "    schema=credential.params[\"schema\"],\n",
    "    warehouse=credential.params[\"warehouse\"]\n",
    ")"
   ]
  },
  {
   "cell_type": "markdown",
   "id": "36dea5f3",
   "metadata": {},
   "source": [
    "### Select Data Source"
   ]
  },
  {
   "cell_type": "markdown",
   "id": "b59e4a4c",
   "metadata": {},
   "source": [
    "Ponder allows you to work with data in flat files as well as in your exisiting database tables. Below, we will use a csv file stored in my local machine.\n",
    "\n",
    "**So how is Ponder different than vanilla pandas?**\n",
    "\n",
    "* With vanilla pandas, the `read_csv()` method pulls the data from disk into a dataframe in your local memory.\n",
    "\n",
    "* With Ponder, the `read_csv()` method automatically creates a database table, configures the schema for your csv file, and loads the data into the warehouse for analysis."
   ]
  },
  {
   "cell_type": "markdown",
   "id": "8c536577-877f-420d-8046-74f2646a7339",
   "metadata": {},
   "source": [
    "Here, we configure Snowflake as the default database connection to use when reading CSVs."
   ]
  },
  {
   "cell_type": "code",
   "execution_count": null,
   "id": "90ad960f-9251-4957-a62b-728ec87acf24",
   "metadata": {},
   "outputs": [],
   "source": [
    "ponder.configure(default_connection=sfcon)"
   ]
  },
  {
   "cell_type": "code",
   "execution_count": null,
   "id": "3531b02e-657e-4613-8537-b12a5680905c",
   "metadata": {
    "tags": []
   },
   "outputs": [],
   "source": [
    "df = pd.read_csv('example/citibike_ponder_demo.csv',on_bad_lines='skip')"
   ]
  },
  {
   "cell_type": "markdown",
   "id": "3f3433db",
   "metadata": {},
   "source": [
    "When we print the dataframe, we see that our dataframe contains Citibike trips and associated details, including pickup/drop of stations and times."
   ]
  },
  {
   "cell_type": "code",
   "execution_count": null,
   "id": "a21fff42-6cd2-4c5b-b22f-c7ccb1aa93e6",
   "metadata": {},
   "outputs": [],
   "source": [
    "df"
   ]
  },
  {
   "cell_type": "markdown",
   "id": "507f7394",
   "metadata": {
    "slideshow": {
     "slide_type": "slide"
    },
    "tags": []
   },
   "source": [
    "<a class=\"anchor\" id=\"how-it-works\"></a>\n",
    "#    🧪 How it Works 🧪\n",
    "\n",
    "As you go through the rest of this notebook, it may seem like any other pandas tutorial notebook, and that is the magic of Ponder! \n",
    "\n",
    "Ponder gives you a pandas interface for your data warehouse. As you run each code block, Ponder automatically compiles your pandas code into SQL and runs it directly in your database. None of the computation is done in your local python enviornment!\n",
    "\n",
    "Dont believe us? Try operating on a large dataset that doesn't fit into your local RAM and run a memory profiler to see how Ponder can help you scale up your workflows! And for more background on what we've been building, check out this [Ponder Overview Blogpost](https://ponder.io/run-pandas-on-1tb-directly-in-your-data-warehouse/) for more "
   ]
  },
  {
   "cell_type": "markdown",
   "id": "c0d1a2b9",
   "metadata": {},
   "source": [
    "&nbsp;"
   ]
  },
  {
   "cell_type": "markdown",
   "id": "ae7c8e93",
   "metadata": {},
   "source": [
    "<a class=\"anchor\" id=\"key-questions\"></a>\n",
    "# 6 Mobility Trend Questions Answered"
   ]
  },
  {
   "cell_type": "markdown",
   "id": "220a78f4",
   "metadata": {},
   "source": [
    "The following 6 exploratory questions were answered using SQL in the bikeshare analysis on Kaggle, so we'll walk you through how you can do the same with Ponder + pandas."
   ]
  },
  {
   "cell_type": "markdown",
   "id": "583e85e3-f6e3-4f23-b4c6-90e9b5e02f70",
   "metadata": {},
   "source": [
    "\n",
    "\n",
    "* [What time fram does the data set contain?](#first-question)\n",
    "* [Which age group uses Citi Bike most often and the trend?](#second-question)\n",
    "* [Which gender uses Citi Bike most often and the trend?](#third-question)\n",
    "* [Which day of the week is Citi Bike most utilized?](#fourth-question)\n",
    "* [What is the average trip duration per day of the week?](#fifth-question)\n",
    "* [What is the total number of trips per month?](#sixth-question)"
   ]
  },
  {
   "cell_type": "markdown",
   "id": "534f5d5f",
   "metadata": {},
   "source": [
    "Preview the data before analysis"
   ]
  },
  {
   "cell_type": "code",
   "execution_count": null,
   "id": "563b1e62-411d-4ee1-b7c3-2a8d11c41bbc",
   "metadata": {
    "tags": []
   },
   "outputs": [],
   "source": [
    "df.head()"
   ]
  },
  {
   "cell_type": "code",
   "execution_count": null,
   "id": "bf6f28b8-c44d-4a36-a551-8258dc0e9bdf",
   "metadata": {
    "tags": []
   },
   "outputs": [],
   "source": [
    "df.dtypes"
   ]
  },
  {
   "cell_type": "markdown",
   "id": "d2642f4e",
   "metadata": {},
   "source": [
    "We have quite a few mobility time series related questions, so above we convert our trip start time variable `started_at` to a datetime type for simplifying our analysis."
   ]
  },
  {
   "cell_type": "code",
   "execution_count": null,
   "id": "cad9106c",
   "metadata": {},
   "outputs": [],
   "source": [
    "df['started_at'] = pd.to_datetime(df.started_at,format=\"%m/%d/%y %H:%M\")"
   ]
  },
  {
   "cell_type": "markdown",
   "id": "a16fd184",
   "metadata": {},
   "source": [
    "<a class=\"anchor\" id=\"first-question\"></a>\n",
    "# ❓Q1: What time frame does the data set contain ❓"
   ]
  },
  {
   "cell_type": "markdown",
   "id": "f662f0bf",
   "metadata": {},
   "source": [
    "### pandas  - 1 line of code"
   ]
  },
  {
   "cell_type": "markdown",
   "id": "5a50145a",
   "metadata": {},
   "source": [
    "Calculate the min and max values of trip starts."
   ]
  },
  {
   "cell_type": "code",
   "execution_count": null,
   "id": "556ab786",
   "metadata": {
    "tags": []
   },
   "outputs": [],
   "source": [
    "df.started_at.min(),df.started_at.max()"
   ]
  },
  {
   "cell_type": "markdown",
   "id": "bd884f68",
   "metadata": {},
   "source": [
    "## <h2 align=\"center\"> 💡 5 lines of code required using SQL Approach! See [here](https://www.kaggle.com/code/cjinquan/citibike-analysis-sql?scriptVersionId=78471031&cellId=4) </h2>"
   ]
  },
  {
   "cell_type": "markdown",
   "id": "5e6290ac",
   "metadata": {},
   "source": [
    "&nbsp;"
   ]
  },
  {
   "cell_type": "markdown",
   "id": "0cf5468f",
   "metadata": {},
   "source": [
    "<a class=\"anchor\" id=\"second-question\"></a>\n",
    "# ❓Q2: Which age group uses CitiBike most often & what is the trend ❓"
   ]
  },
  {
   "cell_type": "markdown",
   "id": "ff60b4f9",
   "metadata": {},
   "source": [
    "### pandas - 3 lines of code"
   ]
  },
  {
   "cell_type": "markdown",
   "id": "db79e72c",
   "metadata": {},
   "source": [
    "Define mappings of birth years to age groups, replace birth years with age groups, calcualte how many trips per age group per year"
   ]
  },
  {
   "cell_type": "code",
   "execution_count": null,
   "id": "8be38237",
   "metadata": {
    "tags": []
   },
   "outputs": [],
   "source": [
    "replace_dict = { 'boomer': 1960, 'genx': 1980, 'geny': 1994,'genz':2023,\"missing\":2030}\n",
    "df['birth_year'] = pd.cut(df['birth_year'],bins=[1]+list(replace_dict.values()),labels=list(replace_dict.keys()))\n",
    "\n",
    "df.groupby('birth_year',as_index=False)['tripduration'].count()"
   ]
  },
  {
   "cell_type": "markdown",
   "id": "4db48e48-fa0f-4866-a136-2627c1d8b18d",
   "metadata": {
    "tags": []
   },
   "source": [
    "## <h2 align=\"center\"> 💡 14 lines of code required using SQL Approach! See [here](https://www.kaggle.com/code/cjinquan/citibike-analysis-sql?scriptVersionId=78471031&cellId=4) </h2>"
   ]
  },
  {
   "cell_type": "markdown",
   "id": "addb2695",
   "metadata": {},
   "source": [
    "<a class=\"anchor\" id=\"third-question\"></a>\n",
    "# Q3: Which gender uses Citi Bike most often and what's the trend❓"
   ]
  },
  {
   "cell_type": "markdown",
   "id": "901834d3",
   "metadata": {},
   "source": [
    "### pandas  - 2 lines of code"
   ]
  },
  {
   "cell_type": "markdown",
   "id": "3346e7a8",
   "metadata": {},
   "source": [
    "Group by gender and year, count how many trip per gender per year, and then normalize to a % "
   ]
  },
  {
   "cell_type": "code",
   "execution_count": null,
   "id": "61f30794-2e9e-425e-983a-e15fefcfbf97",
   "metadata": {
    "tags": []
   },
   "outputs": [],
   "source": [
    "df['start_year'] = df.started_at.dt.year\n",
    "df.groupby(['start_year','gender']).size() "
   ]
  },
  {
   "cell_type": "markdown",
   "id": "483d11de",
   "metadata": {},
   "source": [
    "## <h2 align=\"center\"> 💡 16 lines of code required with SQL + standard database connection! See [here](https://www.kaggle.com/code/cjinquan/citibike-analysis-sql?scriptVersionId=78471031&cellId=11) </h2>"
   ]
  },
  {
   "cell_type": "markdown",
   "id": "640e32f4-4721-4ab8-b217-ba1b472357b6",
   "metadata": {},
   "source": [
    "<table class=\"tg\">\n",
    "<thead>\n",
    "  <tr>\n",
    "    <th class=\"tg-0pky\">In Python</th>\n",
    "    <th class=\"tg-0pky\">In SQL</th>\n",
    "  </tr>\n",
    "</thead>\n",
    "<tbody>\n",
    "  <tr>\n",
    "    <td class=\"tg-0pky\"><pre style=\"\"><code class=\"cm-s-jupyter language-python\"><span class=\"cm-variable\">df</span>[<span class=\"cm-string\">'start_year'</span>] <span class=\"cm-operator\">=</span> <span class=\"cm-variable\">df</span>.<span class=\"cm-property\">started_at</span>.<span class=\"cm-property\">dt</span>.<span class=\"cm-property\">year</span>\n",
    "<span class=\"cm-variable\">df</span>.<span class=\"cm-property\">groupby</span>([<span class=\"cm-string\">'start_year'</span>,<span class=\"cm-string\">'gender'</span>]).<span class=\"cm-property\">size</span>()\n",
    "</code></pre></td>\n",
    "    <td class=\"tg-0pky\"><pre style=\"\"><code class=\"cm-s-jupyter language-sql\"><span class=\"cm-keyword\">SELECT</span>  \n",
    "    EXTRACT<span class=\"cm-bracket\">(</span> <span class=\"cm-builtin\">year</span> <span class=\"cm-keyword\">FROM</span> starttime<span class=\"cm-bracket\">)</span> <span class=\"cm-keyword\">AS</span> <span class=\"cm-builtin\">year</span><span class=\"cm-punctuation\">,</span>\n",
    "    <span class=\"cm-keyword\">COUNT</span><span class=\"cm-bracket\">(</span>CASE WHEN gender<span class=\"cm-operator\">=</span> <span class=\"cm-string\">\"female\"</span> THEN <span class=\"cm-number\">1</span> END<span class=\"cm-bracket\">)</span> <span class=\"cm-keyword\">AS</span> female<span class=\"cm-punctuation\">,</span>\n",
    "    ROUND<span class=\"cm-bracket\">(</span><span class=\"cm-keyword\">COUNT</span><span class=\"cm-bracket\">(</span>CASE WHEN gender<span class=\"cm-operator\">=</span> <span class=\"cm-string\">\"female\"</span> THEN <span class=\"cm-number\">1</span> END<span class=\"cm-bracket\">)</span><span class=\"cm-operator\">/</span><span class=\"cm-keyword\">COUNT</span><span class=\"cm-bracket\">(</span>gender<span class=\"cm-bracket\">)</span><span class=\"cm-operator\">*</span><span class=\"cm-number\">100</span><span class=\"cm-punctuation\">,</span> <span class=\"cm-number\">2</span><span class=\"cm-bracket\">)</span> <span class=\"cm-keyword\">AS</span> female_percentage<span class=\"cm-punctuation\">,</span>\n",
    "    <span class=\"cm-keyword\">COUNT</span><span class=\"cm-bracket\">(</span>CASE WHEN gender <span class=\"cm-operator\">=</span> <span class=\"cm-string\">\"male\"</span> THEN <span class=\"cm-number\">1</span> END<span class=\"cm-bracket\">)</span> <span class=\"cm-keyword\">AS</span> male<span class=\"cm-punctuation\">,</span>\n",
    "    ROUND<span class=\"cm-bracket\">(</span><span class=\"cm-keyword\">COUNT</span><span class=\"cm-bracket\">(</span>CASE WHEN gender <span class=\"cm-operator\">=</span> <span class=\"cm-string\">\"male\"</span> THEN <span class=\"cm-number\">1</span> END<span class=\"cm-bracket\">)</span><span class=\"cm-operator\">/</span><span class=\"cm-keyword\">COUNT</span><span class=\"cm-bracket\">(</span>gender<span class=\"cm-bracket\">)</span><span class=\"cm-operator\">*</span><span class=\"cm-number\">100</span><span class=\"cm-punctuation\">,</span> <span class=\"cm-number\">2</span><span class=\"cm-bracket\">)</span> <span class=\"cm-keyword\">AS</span> male_percentage\n",
    "<span class=\"cm-keyword\">FROM</span> \n",
    "    `citibike<span class=\"cm-operator\">-</span>project<span class=\"cm-operator\">-</span><span class=\"cm-number\">330415</span><span class=\"cm-variable-2\">.CITIBIKE</span><span class=\"cm-variable-2\">.citibike_trips</span>` \n",
    "<span class=\"cm-keyword\">GROUP</span> <span class=\"cm-keyword\">BY</span> \n",
    "    <span class=\"cm-builtin\">year</span>\n",
    "<span class=\"cm-keyword\">HAVING</span> \n",
    "    <span class=\"cm-builtin\">year</span> <span class=\"cm-keyword\">IS</span> <span class=\"cm-keyword\">NOT</span> <span class=\"cm-atom\">NULL</span> <span class=\"cm-keyword\">AND</span> <span class=\"cm-builtin\">year</span> <span class=\"cm-operator\">!=</span> <span class=\"cm-number\">2013</span> <span class=\"cm-keyword\">AND</span> <span class=\"cm-builtin\">year</span> <span class=\"cm-operator\">!=</span> <span class=\"cm-number\">2018</span>\n",
    "<span class=\"cm-keyword\">ORDER</span> <span class=\"cm-keyword\">BY</span>\n",
    "    <span class=\"cm-builtin\">year</span> <span class=\"cm-keyword\">ASC</span>\n",
    "</code></pre></td>\n",
    "  </tr>\n",
    "    \n",
    "  <tr>\n",
    "    <td class=\"tg-0pky\">2 lines of code<br></td>\n",
    "    <td class=\"tg-0pky\">16 lines of code</td>\n",
    "  </tr>\n",
    "</tbody>\n",
    "</table>"
   ]
  },
  {
   "cell_type": "markdown",
   "id": "c33b336d",
   "metadata": {},
   "source": [
    "&nbsp;"
   ]
  },
  {
   "cell_type": "markdown",
   "id": "daa315b8",
   "metadata": {},
   "source": [
    "<a class=\"anchor\" id=\"fourth-question\"></a>\n",
    "#  ❓Q4: Which day of the week is the most popular ❓"
   ]
  },
  {
   "cell_type": "markdown",
   "id": "9c8a8c3c",
   "metadata": {},
   "source": [
    "### pandas - 1 line"
   ]
  },
  {
   "cell_type": "markdown",
   "id": "3c63de6f",
   "metadata": {},
   "source": [
    "Group records by day of week and count how many trips there are"
   ]
  },
  {
   "cell_type": "code",
   "execution_count": null,
   "id": "daf46129-e262-4931-9d81-ef300eb4e6c4",
   "metadata": {
    "tags": []
   },
   "outputs": [],
   "source": [
    "df.groupby(df.started_at.dt.day_of_week).size()"
   ]
  },
  {
   "cell_type": "markdown",
   "id": "2735c491",
   "metadata": {},
   "source": [
    "## <h2 align=\"center\"> 💡 11 lines of code required with SQL approach! See [here](https://www.kaggle.com/code/cjinquan/citibike-analysis-sql?scriptVersionId=78471031&cellId=16) </h2>"
   ]
  },
  {
   "cell_type": "markdown",
   "id": "10b9d476",
   "metadata": {},
   "source": [
    "&nbsp;"
   ]
  },
  {
   "cell_type": "markdown",
   "id": "33e62823",
   "metadata": {},
   "source": [
    "<a class=\"anchor\" id=\"fifth-question\"></a>\n",
    "# ❓Q5: What is the average trip duration per day of the week ❓"
   ]
  },
  {
   "cell_type": "markdown",
   "id": "c4bba966",
   "metadata": {},
   "source": [
    "### pandas - 1 line"
   ]
  },
  {
   "cell_type": "markdown",
   "id": "6c5ad716",
   "metadata": {},
   "source": [
    "Group records by day of week then calculate the average duration of trips for each day of the week"
   ]
  },
  {
   "cell_type": "code",
   "execution_count": null,
   "id": "c4cfae1e",
   "metadata": {
    "tags": []
   },
   "outputs": [],
   "source": [
    "df.groupby(df.started_at.dt.day_of_week)['tripduration'].mean()"
   ]
  },
  {
   "cell_type": "markdown",
   "id": "8f8dbd10",
   "metadata": {},
   "source": [
    "## <h2 align=\"center\">  💡11 lines of code required with SQL approach! See [here]() </h2>"
   ]
  },
  {
   "cell_type": "markdown",
   "id": "ea22d0d2",
   "metadata": {},
   "source": [
    "&nbsp;"
   ]
  },
  {
   "cell_type": "markdown",
   "id": "14807d9d",
   "metadata": {},
   "source": [
    "<a class=\"anchor\" id=\"sixth-question\"></a>\n",
    "#  ❓Q6: What is the total number of trips per month ❓"
   ]
  },
  {
   "cell_type": "markdown",
   "id": "27aaf0e9",
   "metadata": {},
   "source": [
    "### pandas - 1 line of code"
   ]
  },
  {
   "cell_type": "markdown",
   "id": "d85787a3",
   "metadata": {},
   "source": [
    "Group by month, then count trips per month"
   ]
  },
  {
   "cell_type": "code",
   "execution_count": null,
   "id": "688fb15c",
   "metadata": {
    "tags": []
   },
   "outputs": [],
   "source": [
    "df.groupby(df.started_at.dt.month).size()"
   ]
  },
  {
   "cell_type": "markdown",
   "id": "17b0eb02",
   "metadata": {},
   "source": [
    "## <h2 align=\"center\">💡15 lines of code required with SQL approach! See [here]()</h2>"
   ]
  },
  {
   "cell_type": "markdown",
   "id": "aaa750c7",
   "metadata": {},
   "source": [
    "&nbsp;"
   ]
  },
  {
   "cell_type": "markdown",
   "id": "a5cac640",
   "metadata": {},
   "source": [
    "## So in total..."
   ]
  },
  {
   "attachments": {},
   "cell_type": "markdown",
   "id": "b035c73b",
   "metadata": {},
   "source": [
    " <h1 align=\"center\">🔥9 lines of pandas vs. ~72 lines with the SQL🔥</h1>"
   ]
  },
  {
   "cell_type": "markdown",
   "id": "0108bbdc",
   "metadata": {},
   "source": [
    "&nbsp;"
   ]
  },
  {
   "cell_type": "markdown",
   "id": "013198ab",
   "metadata": {},
   "source": [
    "# But what if I want to do the following in SQL ?"
   ]
  },
  {
   "cell_type": "markdown",
   "id": "528e9aba",
   "metadata": {},
   "source": [
    "As part of my analysis I may want to go beyond the 6 questions we've already answered. I may want to do more complex data cleaning and transformation steps that aren't included in the Kaggle analysis. If my operations aren't relational in nature, what do I do? \n",
    "\n",
    "See two examples below:"
   ]
  },
  {
   "cell_type": "markdown",
   "id": "c49cc539",
   "metadata": {},
   "source": [
    "### Drop rows with missing values, sort by trip duration, get the top 10 longest trips"
   ]
  },
  {
   "cell_type": "markdown",
   "id": "f70784f3",
   "metadata": {},
   "source": [
    "A key characteristic of dataframes is that they are ordered, the order is preserved across operations, and we can use indexing to select subsets of data. These characteristics are critical for interactive data science.\n",
    "\n",
    "With pandas, the above prompt can be answered with one highly expressive line of pandas code.  Whereas with SQL, preserving order across operations in nearly impossible and dealing with null values is a very involved.   "
   ]
  },
  {
   "cell_type": "code",
   "execution_count": null,
   "id": "c9b2a104-7225-433c-944a-127b2e22260e",
   "metadata": {
    "tags": []
   },
   "outputs": [],
   "source": [
    "df.dropna(axis=0).sort_values(by='tripduration',ascending=False).head(10)"
   ]
  },
  {
   "cell_type": "markdown",
   "id": "18984f6b",
   "metadata": {},
   "source": [
    "### Create dummies for feature engineering/modeling"
   ]
  },
  {
   "cell_type": "markdown",
   "id": "5f5215e8",
   "metadata": {},
   "source": [
    "Gender values in our data set are 0,1,2 representing male, female, and unknown. \n",
    "\n",
    "A common feature engineering task is to one-hot encode a category in order to do some predictive modeling.\n",
    "\n",
    "In a relational database, users must define a schema upfront before they load data into a table or do their analysis. This makes one-hot encoding particularly challenging in that context, because the schema needs to be updated based on the unknown categories contained in a column. \n",
    "\n",
    "In order to work around these challenges with SQL, a user will have to write a brittle query that will require hard-coding category values and will be difficult to maintain.\n",
    "\n",
    "With Ponder, you can just use get_dummies for one-hot encoding inside of your database."
   ]
  },
  {
   "cell_type": "code",
   "execution_count": null,
   "id": "8e83b403",
   "metadata": {},
   "outputs": [],
   "source": [
    "pd.get_dummies(df,columns=\"gender\")"
   ]
  },
  {
   "cell_type": "markdown",
   "id": "f39396cf",
   "metadata": {},
   "source": [
    "For a more detailed comparison of one-hot encoding in Pandas vs SQL, check out our blogpost [here](https://ponder.io/pandas-vs-sql-part-2-pandas-is-more-concise/#2.-One-hot-encoding)"
   ]
  },
  {
   "cell_type": "markdown",
   "id": "a122dec0",
   "metadata": {},
   "source": [
    "&nbsp;"
   ]
  },
  {
   "cell_type": "markdown",
   "id": "86aa5888",
   "metadata": {},
   "source": [
    "##  💡 Ponder gives you a high fidelity pandas experience for your databases 💡\n",
    "\n",
    "* We answered 6 questions from a Kaggle notebook to demonstrate how it is often more concise and easier to express queries in pandas than SQL with fewer lines of code. \n",
    "\n",
    "* Showed you how Ponder can help you explore your data using almost 10X less code \n",
    "* Demonstrated how certain dataframe operations, such as `get_dummmies`, are extremely challenging to do or even impossible to do in SQL."
   ]
  },
  {
   "cell_type": "markdown",
   "id": "b0f4b4cc",
   "metadata": {},
   "source": [
    "### <h1><center>To try Ponder for free, sign up for an account at [app.ponder.io](app.ponder.io) !</center></h1>"
   ]
  }
 ],
 "metadata": {
  "_notebook_id_": "cc5d8947-4f39-4f15-830b-4ffb031ca8db",
  "kernelspec": {
   "display_name": "Python 3 (ipykernel)",
   "language": "python",
   "name": "python3"
  },
  "language_info": {
   "codemirror_mode": {
    "name": "ipython",
    "version": 3
   },
   "file_extension": ".py",
   "mimetype": "text/x-python",
   "name": "python",
   "nbconvert_exporter": "python",
   "pygments_lexer": "ipython3",
   "version": "3.10.9"
  }
 },
 "nbformat": 4,
 "nbformat_minor": 5
}
