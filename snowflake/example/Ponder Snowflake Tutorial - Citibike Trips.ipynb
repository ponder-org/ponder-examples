{
 "cells": [
  {
   "cell_type": "markdown",
   "id": "8895b4ab",
   "metadata": {},
   "source": [
    "# Ponder Citibike Mobility Analysis"
   ]
  },
  {
   "cell_type": "markdown",
   "id": "87696145-e8ba-45b7-832e-39847f9c9beb",
   "metadata": {},
   "source": [
    "<div class=\"alert alert-block alert-info\"> <b>Before we get started: </b> \n",
    "    <ul style=\"list-style-type: none;margin: 0;padding: 0;\">\n",
    "        <li>✍️ To run this notebook, you need to have Ponder installed and set up on your machine. If you have not done so already, please refer to our <a href=\"https://docs.ponder.io/getting_started/quickstart.html\">Quickstart guide</a> to get started.</li>\n",
    "        <li>📖 Otherwise, if you're just interested in browsing through the notebook, keep reading below!</li>\n",
    "    </ul>\n",
    "</div>"
   ]
  },
  {
   "cell_type": "markdown",
   "id": "6a27064c",
   "metadata": {},
   "source": [
    "Pandas is easy to use, flexible, and concise. Relational databases are scalable and reliable, but force you to use SQL. This demo shows you how Ponder allows your to combine the best of both worlds. With Ponder you can write more concise and maintainable code relative to SQL AND you can do operations that aren't even relational in nature!\n",
    "\n",
    "This notebook shows you how you can use Ponder to unleash your pandas code directly in your database! Ponder gives you a native pandas interface to your data warehouse. If you haven't already, sign up for a free trial account at [***app.ponder.io***](www.app.ponder.io) to try it out!"
   ]
  },
  {
   "cell_type": "markdown",
   "id": "505626d2",
   "metadata": {},
   "source": [
    "# Tutorial Overview"
   ]
  },
  {
   "cell_type": "markdown",
   "id": "af52932c",
   "metadata": {},
   "source": [
    "In this notebook, we will walk through a simple analysis of Citbike bikeshare data to show you how easy it is to use Ponder. The dataset includes specific bikeshare trips in New York City and we'll answer 6 mobility questions inspired by Kevin Chan's [Kaggle notebook](https://www.kaggle.com/code/cjinquan/citibike-analysis-sql/notebook). We use a sample of the public data available [here](https://console.cloud.google.com/bigquery?p=bigquery-public-data&d=new_york_citibike&page=dataset&project=geocoding-314221&ws=!1m4!1m3!3m2!1sbigquery-public-data!2snew_york_citibike) for this analysis.\n",
    "\n",
    "**To answer these questions with SQL it takes about 72 lines of code. With Pandas, we can answer these same questions with almost 10X less code.**\n",
    "\n",
    "\n",
    "Specifically we'll show you:\n",
    "\n",
    "#### [How to setup Ponder ](#setup)\n",
    "\n",
    "\n",
    "#### [ How Ponder Works](#how-it-works)\n",
    "\n",
    "\n",
    "#### [The Citbike Use Case](#key-questions)\n",
    "    \n"
   ]
  },
  {
   "cell_type": "markdown",
   "id": "f44d4fec",
   "metadata": {},
   "source": [
    " <h1 align=\"center\">🔥9 lines of pandas vs. ~70 lines with the SQL🔥</h1>"
   ]
  },
  {
   "cell_type": "markdown",
   "id": "847c7c02",
   "metadata": {},
   "source": [
    "&nbsp;"
   ]
  },
  {
   "cell_type": "markdown",
   "id": "f3345a01",
   "metadata": {},
   "source": [
    "<a class=\"anchor\" id=\"setup\"></a>\n",
    "# 🛠️ How to setup Ponder 🛠️"
   ]
  },
  {
   "cell_type": "markdown",
   "id": "af5188c5",
   "metadata": {
    "slideshow": {
     "slide_type": "slide"
    }
   },
   "source": [
    "### Import Requirements "
   ]
  },
  {
   "cell_type": "code",
   "execution_count": 1,
   "id": "12522b66",
   "metadata": {
    "tags": []
   },
   "outputs": [
    {
     "name": "stdout",
     "output_type": "stream",
     "text": [
      "2023-05-23 13:09:29,833 - authenticate_and_verify - WARNING - New version of Ponder is available! `pip install --upgrade ponder` to install!\n"
     ]
    }
   ],
   "source": [
    "import ponder; ponder.init()\n",
    "import modin.pandas as pd\n",
    "import snowflake.connector"
   ]
  },
  {
   "cell_type": "markdown",
   "id": "70dc5230",
   "metadata": {},
   "source": [
    "###  Configure  Database Connection"
   ]
  },
  {
   "cell_type": "markdown",
   "id": "12537ac3",
   "metadata": {},
   "source": [
    "This example uses your Snowflake database as the backend engine. If you have Snowflake, you can find the documentation for the Snowflake Python Connector [here](https://docs.snowflake.com/en/developer-guide/python-connector/python-connector).\n",
    "\n",
    "If you don't have Snowflake, visit our documentation visit our documentation to [Connect Ponder to your DB](https://docs.ponder.io/getting_started/connection.html) and for a list of other supported databases, orreach out to support@ponder.io."
   ]
  },
  {
   "cell_type": "code",
   "execution_count": null,
   "id": "5e8efceb-b8f3-4b08-a3b2-8239288879a7",
   "metadata": {},
   "outputs": [],
   "source": [
    "import os; os.chdir(\"..\")\n",
    "\n",
    "import credential\n",
    "sfcon = snowflake.connector.connect(\n",
    "    user=credential.params[\"user\"],\n",
    "    password=credential.params[\"password\"],\n",
    "    account=credential.params[\"account\"],\n",
    "    role=credential.params[\"role\"],\n",
    "    database=credential.params[\"database\"],\n",
    "    schema=credential.params[\"schema\"],\n",
    "    warehouse=credential.params[\"warehouse\"]\n",
    ")"
   ]
  },
  {
   "cell_type": "markdown",
   "id": "36dea5f3",
   "metadata": {},
   "source": [
    "### Select Data Source"
   ]
  },
  {
   "cell_type": "markdown",
   "id": "b59e4a4c",
   "metadata": {},
   "source": [
    "Ponder allows you to work with data in flat files as well as in your exisiting database tables. Below, we will use a csv file stored in my local machine.\n",
    "\n",
    "**So how is Ponder different than vanilla pandas?**\n",
    "\n",
    "* With vanilla pandas, the `read_csv()` method pulls the data from disk into a dataframe in your local memory.\n",
    "\n",
    "* With Ponder, the `read_csv()` method automatically creates a database table, configures the schema for your csv file, and loads the data into the warehouse for analysis."
   ]
  },
  {
   "cell_type": "markdown",
   "id": "8c536577-877f-420d-8046-74f2646a7339",
   "metadata": {},
   "source": [
    "Here, we configure Snowflake as the default database connection to use when reading CSVs."
   ]
  },
  {
   "cell_type": "code",
   "execution_count": 6,
   "id": "90ad960f-9251-4957-a62b-728ec87acf24",
   "metadata": {},
   "outputs": [],
   "source": [
    "ponder.configure(default_connection=sfcon)"
   ]
  },
  {
   "cell_type": "code",
   "execution_count": null,
   "id": "2b13e640",
   "metadata": {},
   "outputs": [],
   "source": [
    "df = pd.read_csv('example/citibike_tutorial.csv',on_bad_lines='skip')"
   ]
  },
  {
   "cell_type": "markdown",
   "id": "507f7394",
   "metadata": {
    "slideshow": {
     "slide_type": "slide"
    },
    "tags": []
   },
   "source": [
    "<a class=\"anchor\" id=\"how-it-works\"></a>\n",
    "#    🧪 How it Works 🧪\n",
    "\n",
    "As you go through the rest of this notebook, it may seem like any other pandas tutorial notebook, and that is the magic of Ponder! \n",
    "\n",
    "Ponder gives you a pandas interface for your data warehouse. As you run each code block, Ponder automatically compiles your pandas code into SQL and runs it directly in your database. None of the computation is done in your local python enviornment!\n",
    "\n",
    "Dont believe us? Try operating on a large dataset that doesn't fit into your local RAM and run a memory profiler to see how Ponder can help you scale up your workflows! And for more background on what we've been building, check out this [Ponder Overview Blogpost](https://ponder.io/run-pandas-on-1tb-directly-in-your-data-warehouse/) for more "
   ]
  },
  {
   "cell_type": "markdown",
   "id": "3f3433db",
   "metadata": {},
   "source": [
    "When we print the dataframe, we see that our dataframe contains Citibike trips and associated details, including pickup/drop of stations and times."
   ]
  },
  {
   "cell_type": "code",
   "execution_count": 9,
   "id": "a21fff42-6cd2-4c5b-b22f-c7ccb1aa93e6",
   "metadata": {},
   "outputs": [
    {
     "data": {
      "text/html": [
       "<div>\n",
       "<style scoped>\n",
       "    .dataframe tbody tr th:only-of-type {\n",
       "        vertical-align: middle;\n",
       "    }\n",
       "\n",
       "    .dataframe tbody tr th {\n",
       "        vertical-align: top;\n",
       "    }\n",
       "\n",
       "    .dataframe thead th {\n",
       "        text-align: right;\n",
       "    }\n",
       "</style>\n",
       "<table border=\"1\" class=\"dataframe\">\n",
       "  <thead>\n",
       "    <tr style=\"text-align: right;\">\n",
       "      <th></th>\n",
       "      <th>tripduration</th>\n",
       "      <th>starttime</th>\n",
       "      <th>stoptime</th>\n",
       "      <th>start_station_id</th>\n",
       "      <th>start_station_name</th>\n",
       "      <th>start_station_latitude</th>\n",
       "      <th>start_station_longitude</th>\n",
       "      <th>end_station_id</th>\n",
       "      <th>end_station_name</th>\n",
       "      <th>end_station_latitude</th>\n",
       "      <th>end_station_longitude</th>\n",
       "      <th>bikeid</th>\n",
       "      <th>usertype</th>\n",
       "      <th>birth_year</th>\n",
       "      <th>gender</th>\n",
       "    </tr>\n",
       "  </thead>\n",
       "  <tbody>\n",
       "    <tr>\n",
       "      <th>0</th>\n",
       "      <td>616</td>\n",
       "      <td>9/20/16 18:12</td>\n",
       "      <td>9/20/16 18:22</td>\n",
       "      <td>369</td>\n",
       "      <td>Washington Pl &amp; 6 Ave</td>\n",
       "      <td>40.732241</td>\n",
       "      <td>-74.000264</td>\n",
       "      <td>473</td>\n",
       "      <td>Rivington St &amp; Chrystie St</td>\n",
       "      <td>40.721101</td>\n",
       "      <td>-73.991925</td>\n",
       "      <td>22404</td>\n",
       "      <td>Subscriber</td>\n",
       "      <td>1988.0</td>\n",
       "      <td>male</td>\n",
       "    </tr>\n",
       "    <tr>\n",
       "      <th>1</th>\n",
       "      <td>582</td>\n",
       "      <td>8/20/16 22:29</td>\n",
       "      <td>8/20/16 22:39</td>\n",
       "      <td>369</td>\n",
       "      <td>Washington Pl &amp; 6 Ave</td>\n",
       "      <td>40.732241</td>\n",
       "      <td>-74.000264</td>\n",
       "      <td>498</td>\n",
       "      <td>Broadway &amp; W 32 St</td>\n",
       "      <td>40.748549</td>\n",
       "      <td>-73.988084</td>\n",
       "      <td>17498</td>\n",
       "      <td>Subscriber</td>\n",
       "      <td>1996.0</td>\n",
       "      <td>male</td>\n",
       "    </tr>\n",
       "    <tr>\n",
       "      <th>2</th>\n",
       "      <td>669</td>\n",
       "      <td>3/15/14 22:31</td>\n",
       "      <td>3/15/14 22:42</td>\n",
       "      <td>369</td>\n",
       "      <td>Washington Pl &amp; 6 Ave</td>\n",
       "      <td>40.732241</td>\n",
       "      <td>-74.000264</td>\n",
       "      <td>511</td>\n",
       "      <td>E 14 St &amp; Avenue B</td>\n",
       "      <td>40.729387</td>\n",
       "      <td>-73.977724</td>\n",
       "      <td>17111</td>\n",
       "      <td>Subscriber</td>\n",
       "      <td>1992.0</td>\n",
       "      <td>female</td>\n",
       "    </tr>\n",
       "    <tr>\n",
       "      <th>3</th>\n",
       "      <td>352</td>\n",
       "      <td>10/15/15 8:56</td>\n",
       "      <td>10/15/15 9:02</td>\n",
       "      <td>298</td>\n",
       "      <td>3 Ave &amp; Schermerhorn St</td>\n",
       "      <td>40.686832</td>\n",
       "      <td>-73.979677</td>\n",
       "      <td>392</td>\n",
       "      <td>Jay St &amp; Tech Pl</td>\n",
       "      <td>40.695065</td>\n",
       "      <td>-73.987167</td>\n",
       "      <td>19014</td>\n",
       "      <td>Subscriber</td>\n",
       "      <td>1976.0</td>\n",
       "      <td>male</td>\n",
       "    </tr>\n",
       "    <tr>\n",
       "      <th>4</th>\n",
       "      <td>2092</td>\n",
       "      <td>9/28/16 13:12</td>\n",
       "      <td>9/28/16 13:47</td>\n",
       "      <td>298</td>\n",
       "      <td>3 Ave &amp; Schermerhorn St</td>\n",
       "      <td>40.686832</td>\n",
       "      <td>-73.979677</td>\n",
       "      <td>330</td>\n",
       "      <td>Reade St &amp; Broadway</td>\n",
       "      <td>40.714505</td>\n",
       "      <td>-74.005628</td>\n",
       "      <td>23004</td>\n",
       "      <td>Subscriber</td>\n",
       "      <td>1984.0</td>\n",
       "      <td>male</td>\n",
       "    </tr>\n",
       "  </tbody>\n",
       "</table>\n",
       "</div>"
      ],
      "text/plain": [
       "   tripduration      starttime       stoptime  start_station_id  \\\n",
       "0           616  9/20/16 18:12  9/20/16 18:22               369   \n",
       "1           582  8/20/16 22:29  8/20/16 22:39               369   \n",
       "2           669  3/15/14 22:31  3/15/14 22:42               369   \n",
       "3           352  10/15/15 8:56  10/15/15 9:02               298   \n",
       "4          2092  9/28/16 13:12  9/28/16 13:47               298   \n",
       "\n",
       "        start_station_name  start_station_latitude  start_station_longitude  \\\n",
       "0    Washington Pl & 6 Ave               40.732241               -74.000264   \n",
       "1    Washington Pl & 6 Ave               40.732241               -74.000264   \n",
       "2    Washington Pl & 6 Ave               40.732241               -74.000264   \n",
       "3  3 Ave & Schermerhorn St               40.686832               -73.979677   \n",
       "4  3 Ave & Schermerhorn St               40.686832               -73.979677   \n",
       "\n",
       "   end_station_id            end_station_name  end_station_latitude  \\\n",
       "0             473  Rivington St & Chrystie St             40.721101   \n",
       "1             498          Broadway & W 32 St             40.748549   \n",
       "2             511          E 14 St & Avenue B             40.729387   \n",
       "3             392            Jay St & Tech Pl             40.695065   \n",
       "4             330         Reade St & Broadway             40.714505   \n",
       "\n",
       "   end_station_longitude  bikeid    usertype  birth_year  gender  \n",
       "0             -73.991925   22404  Subscriber      1988.0    male  \n",
       "1             -73.988084   17498  Subscriber      1996.0    male  \n",
       "2             -73.977724   17111  Subscriber      1992.0  female  \n",
       "3             -73.987167   19014  Subscriber      1976.0    male  \n",
       "4             -74.005628   23004  Subscriber      1984.0    male  "
      ]
     },
     "execution_count": 9,
     "metadata": {},
     "output_type": "execute_result"
    }
   ],
   "source": [
    "df.head()"
   ]
  },
  {
   "cell_type": "markdown",
   "id": "c0d1a2b9",
   "metadata": {},
   "source": [
    "&nbsp;"
   ]
  },
  {
   "cell_type": "markdown",
   "id": "ae7c8e93",
   "metadata": {},
   "source": [
    "<a class=\"anchor\" id=\"key-questions\"></a>\n",
    "# 6 Mobility Trend Questions Answered"
   ]
  },
  {
   "cell_type": "markdown",
   "id": "220a78f4",
   "metadata": {},
   "source": [
    "The following 6 exploratory questions were answered using SQL in the bikeshare analysis on Kaggle, so we'll walk you through how you can do the same with Ponder + pandas."
   ]
  },
  {
   "cell_type": "markdown",
   "id": "583e85e3-f6e3-4f23-b4c6-90e9b5e02f70",
   "metadata": {},
   "source": [
    "\n",
    "\n",
    "* [What time fram does the data set contain?](#first-question)\n",
    "* [Which age group uses Citi Bike most often and the trend?](#second-question)\n",
    "* [Which gender uses Citi Bike most often and the trend?](#third-question)\n",
    "* [Which day of the week is Citi Bike most utilized?](#fourth-question)\n",
    "* [What is the average trip duration per day of the week?](#fifth-question)\n",
    "* [What is the total number of trips per month?](#sixth-question)"
   ]
  },
  {
   "cell_type": "markdown",
   "id": "d2642f4e",
   "metadata": {},
   "source": [
    "We have quite a few mobility time series related questions, so above we convert our trip start time variable `starttime` to a datetime type for simplifying our analysis."
   ]
  },
  {
   "cell_type": "code",
   "execution_count": 11,
   "id": "cad9106c",
   "metadata": {},
   "outputs": [],
   "source": [
    "df['starttime'] = pd.to_datetime(df.starttime,format=\"%m/%d/%y %H:%M\")"
   ]
  },
  {
   "cell_type": "markdown",
   "id": "a16fd184",
   "metadata": {},
   "source": [
    "<a class=\"anchor\" id=\"first-question\"></a>\n",
    "# ❓Q1: What time frame does the data set contain ❓"
   ]
  },
  {
   "cell_type": "markdown",
   "id": "f662f0bf",
   "metadata": {},
   "source": [
    "### pandas  - 1 line of code"
   ]
  },
  {
   "cell_type": "markdown",
   "id": "5a50145a",
   "metadata": {},
   "source": [
    "Calculate the min and max values of trip starts."
   ]
  },
  {
   "cell_type": "code",
   "execution_count": 12,
   "id": "556ab786",
   "metadata": {
    "tags": []
   },
   "outputs": [
    {
     "data": {
      "text/plain": [
       "(Timestamp('2013-07-01 00:00:00'), Timestamp('2016-09-30 23:57:00'))"
      ]
     },
     "execution_count": 12,
     "metadata": {},
     "output_type": "execute_result"
    }
   ],
   "source": [
    "df.starttime.min(),df.starttime.max()"
   ]
  },
  {
   "cell_type": "markdown",
   "id": "bd884f68",
   "metadata": {},
   "source": [
    "## <h2 align=\"center\"> 💡 5 lines of code required using SQL Approach [below](https://www.kaggle.com/code/cjinquan/citibike-analysis-sql?scriptVersionId=78471031&cellId=4) </h2>"
   ]
  },
  {
   "cell_type": "markdown",
   "id": "f7d680be",
   "metadata": {},
   "source": [
    "<style type=\"text/css\">\n",
    ".tg  {border-collapse:collapse;border-spacing:0;}\n",
    ".tg td{border-color:black;border-style:solid;border-width:1px;font-family:Arial, sans-serif;font-size:14px;\n",
    "  overflow:hidden;padding:10px 5px;word-break:normal;}\n",
    ".tg th{border-color:black;border-style:solid;border-width:1px;font-family:Arial, sans-serif;font-size:14px;\n",
    "  font-weight:normal;overflow:hidden;padding:10px 5px;word-break:normal;}\n",
    ".tg .tg-0pky{border-color:inherit;text-align:left;vertical-align:top}\n",
    ".tg .tg-y698{background-color:#efefef;border-color:inherit;text-align:left;vertical-align:top}\n",
    "</style>\n",
    "<table class=\"tg\">\n",
    "<thead>\n",
    "  <tr>\n",
    "    <th class=\"tg-0pky\">In Python</th>\n",
    "    <th class=\"tg-0pky\">With SQL</th>\n",
    "  </tr>\n",
    "</thead>\n",
    "<tbody>\n",
    "  <tr>\n",
    "    <td class=\"tg-0pky\">df.starttime.min(),df.starttime.max()</td>\n",
    "    <td class=\"tg-0pky\">SELECT  <br><br>        MAX(DATE(starttime)) AS max_date,<br><br>        MIN(DATE(starttime)) AS min_date<br><br>    FROM <br><br>       <span style=\"font-weight:400;font-style:normal\">'citibike-project-330415.CITIBIKE.citibike_trips'</span></td>\n",
    "  </tr>\n",
    "  <tr>\n",
    "    <td class=\"tg-y698\">1 Line </td>\n",
    "    <td class=\"tg-y698\">5 Lines</td>\n",
    "  </tr>\n",
    "</tbody>\n",
    "</table>"
   ]
  },
  {
   "cell_type": "markdown",
   "id": "5e6290ac",
   "metadata": {},
   "source": [
    "&nbsp;"
   ]
  },
  {
   "cell_type": "markdown",
   "id": "0cf5468f",
   "metadata": {},
   "source": [
    "<a class=\"anchor\" id=\"second-question\"></a>\n",
    "# ❓Q2: Which age group uses CitiBike most often & what is the trend ❓"
   ]
  },
  {
   "cell_type": "markdown",
   "id": "ff60b4f9",
   "metadata": {},
   "source": [
    "### pandas - 3 lines of code"
   ]
  },
  {
   "cell_type": "markdown",
   "id": "db79e72c",
   "metadata": {},
   "source": [
    "Define mappings of birth years to age groups, replace birth years with age groups, calcualte how many trips per age group per year"
   ]
  },
  {
   "cell_type": "code",
   "execution_count": 13,
   "id": "8be38237",
   "metadata": {
    "tags": []
   },
   "outputs": [
    {
     "data": {
      "text/html": [
       "<div>\n",
       "<style scoped>\n",
       "    .dataframe tbody tr th:only-of-type {\n",
       "        vertical-align: middle;\n",
       "    }\n",
       "\n",
       "    .dataframe tbody tr th {\n",
       "        vertical-align: top;\n",
       "    }\n",
       "\n",
       "    .dataframe thead th {\n",
       "        text-align: right;\n",
       "    }\n",
       "</style>\n",
       "<table border=\"1\" class=\"dataframe\">\n",
       "  <thead>\n",
       "    <tr style=\"text-align: right;\">\n",
       "      <th></th>\n",
       "      <th>birth_year</th>\n",
       "      <th>tripduration</th>\n",
       "    </tr>\n",
       "  </thead>\n",
       "  <tbody>\n",
       "    <tr>\n",
       "      <th>0</th>\n",
       "      <td>boomer</td>\n",
       "      <td>94665</td>\n",
       "    </tr>\n",
       "    <tr>\n",
       "      <th>1</th>\n",
       "      <td>genx</td>\n",
       "      <td>385055</td>\n",
       "    </tr>\n",
       "    <tr>\n",
       "      <th>2</th>\n",
       "      <td>geny</td>\n",
       "      <td>388611</td>\n",
       "    </tr>\n",
       "    <tr>\n",
       "      <th>3</th>\n",
       "      <td>genz</td>\n",
       "      <td>10753</td>\n",
       "    </tr>\n",
       "  </tbody>\n",
       "</table>\n",
       "</div>"
      ],
      "text/plain": [
       "  birth_year  tripduration\n",
       "0     boomer         94665\n",
       "1       genx        385055\n",
       "2       geny        388611\n",
       "3       genz         10753"
      ]
     },
     "execution_count": 13,
     "metadata": {},
     "output_type": "execute_result"
    }
   ],
   "source": [
    "replace_dict = { 'boomer': 1960, 'genx': 1980, 'geny': 1994,'genz':2023,\"missing\":2030}\n",
    "df['birth_year'] = pd.cut(df['birth_year'],bins=[1]+list(replace_dict.values()),labels=list(replace_dict.keys()))\n",
    "\n",
    "df.groupby('birth_year',as_index=False)['tripduration'].count()"
   ]
  },
  {
   "cell_type": "markdown",
   "id": "4db48e48-fa0f-4866-a136-2627c1d8b18d",
   "metadata": {
    "tags": []
   },
   "source": [
    "### <h2 align=\"center\"> 💡 3 lines of pandas vs. 14 lines of code required using SQL approach [below](https://www.kaggle.com/code/cjinquan/citibike-analysis-sql?scriptVersionId=78471031&cellId=4) </h2>"
   ]
  },
  {
   "cell_type": "markdown",
   "id": "e6889de1",
   "metadata": {},
   "source": [
    "<style type=\"text/css\">\n",
    ".tg  {border-collapse:collapse;border-spacing:0;}\n",
    ".tg td{border-color:black;border-style:solid;border-width:1px;font-family:Arial, sans-serif;font-size:14px;\n",
    "  overflow:hidden;padding:10px 5px;word-break:normal;}\n",
    ".tg th{border-color:black;border-style:solid;border-width:1px;font-family:Arial, sans-serif;font-size:14px;\n",
    "  font-weight:normal;overflow:hidden;padding:10px 5px;word-break:normal;}\n",
    ".tg .tg-0pky{border-color:inherit;text-align:left;vertical-align:top}\n",
    ".tg .tg-y698{background-color:#efefef;border-color:inherit;text-align:left;vertical-align:top}\n",
    "</style>\n",
    "<table class=\"tg\">\n",
    "<thead>\n",
    "  <tr>\n",
    "    <th class=\"tg-0pky\">In Python</th>\n",
    "    <th class=\"tg-0pky\">With SQL</th>\n",
    "  </tr>\n",
    "</thead>\n",
    "<tbody>\n",
    "  <tr>\n",
    "    <td class=\"tg-0pky\">replace_dict = { 'boomer': 1960, 'genx': 1980, 'geny': 1994,'genz':2023,\"missing\":2030}<br>df['birth_year'] = pd.cut(df['birth_year'],bins=[1]+list(replace_dict.values()),labels=list(replace_dict.keys()))<br><br>df.groupby('birth_year',as_index=False)['tripduration'].count()<br></td>\n",
    "    <td class=\"tg-0pky\">SELECT  <br><br>        EXTRACT(year FROM starttime) AS year,<br><br>        COUNT(CASE WHEN birth_year&gt;=1940 AND birth_year&lt;1959 THEN 1 END) AS boomer,<br><br>        COUNT(CASE WHEN birth_year&gt;=1960 AND birth_year&lt;1979 THEN 1 END) AS genx,<br><br>        COUNT(CASE WHEN birth_year&gt;=1980 AND birth_year&lt;1994 THEN 1 END) AS geny,<br><br>        COUNT(CASE WHEN birth_year&gt;=1995 AND birth_year&lt;2012 THEN 1 END) AS genz<br><br><br>    FROM <br><br>        `citibike-project-330415.CITIBIKE.citibike_trips` <br><br>    GROUP BY <br><br>        year<br><br>    HAVING <br><br>        year IS NOT NULL AND year != 2013 AND year != 2018<br><br>    ORDER BY<br><br>        year ASC<br></td>\n",
    "  </tr>\n",
    "  <tr>\n",
    "    <td class=\"tg-y698\">3 Lines</td>\n",
    "    <td class=\"tg-y698\">14 Lines</td>\n",
    "  </tr>\n",
    "</tbody>\n",
    "</table>"
   ]
  },
  {
   "cell_type": "markdown",
   "id": "addb2695",
   "metadata": {},
   "source": [
    "<a class=\"anchor\" id=\"third-question\"></a>\n",
    "# Q3: Which gender uses Citi Bike most often and what's the trend❓"
   ]
  },
  {
   "cell_type": "markdown",
   "id": "901834d3",
   "metadata": {},
   "source": [
    "### pandas  - 2 lines of code"
   ]
  },
  {
   "cell_type": "markdown",
   "id": "3346e7a8",
   "metadata": {},
   "source": [
    "Group by gender and year, count how many trip per gender per year"
   ]
  },
  {
   "cell_type": "code",
   "execution_count": 28,
   "id": "61f30794-2e9e-425e-983a-e15fefcfbf97",
   "metadata": {
    "tags": []
   },
   "outputs": [
    {
     "data": {
      "text/plain": [
       "start_year  gender \n",
       "2014        female      49816\n",
       "            male       169068\n",
       "            unknown     23972\n",
       "2015        female      59882\n",
       "            male       198921\n",
       "            unknown     39787\n",
       "2016        female      66222\n",
       "            male       203057\n",
       "            unknown     39335\n",
       "dtype: int64"
      ]
     },
     "execution_count": 28,
     "metadata": {},
     "output_type": "execute_result"
    }
   ],
   "source": [
    "df['start_year'] = df.starttime.dt.year\n",
    "df[df.start_year != 2013].groupby(['start_year','gender']).size() "
   ]
  },
  {
   "cell_type": "markdown",
   "id": "483d11de",
   "metadata": {},
   "source": [
    "## <h2 align=\"center\"> 💡 2 lines of pandas vs 16 lines required with SQL approach [below](https://www.kaggle.com/code/cjinquan/citibike-analysis-sql?scriptVersionId=78471031&cellId=11) </h2>"
   ]
  },
  {
   "cell_type": "markdown",
   "id": "640e32f4-4721-4ab8-b217-ba1b472357b6",
   "metadata": {},
   "source": [
    "<table class=\"tg\">\n",
    "<thead>\n",
    "  <tr>\n",
    "    <th class=\"tg-0pky\">In Python</th>\n",
    "    <th class=\"tg-0pky\">In SQL</th>\n",
    "  </tr>\n",
    "</thead>\n",
    "<tbody>\n",
    "  <tr>\n",
    "    <td class=\"tg-0pky\"><pre style=\"\"><code class=\"cm-s-jupyter language-python\"><span class=\"cm-variable\">df</span>[<span class=\"cm-string\">'start_year'</span>] <span class=\"cm-operator\">=</span> <span class=\"cm-variable\">df</span>.<span class=\"cm-property\">starttime</span>.<span class=\"cm-property\">dt</span>.<span class=\"cm-property\">year</span>\n",
    "<span class=\"cm-variable\">df</span>.<span class=\"cm-property\">groupby</span>([<span class=\"cm-string\">'start_year'</span>,<span class=\"cm-string\">'gender'</span>]).<span class=\"cm-property\">size</span>()\n",
    "</code></pre></td>\n",
    "    <td class=\"tg-0pky\"><pre style=\"\"><code class=\"cm-s-jupyter language-sql\"><span class=\"cm-keyword\">SELECT</span>  \n",
    "    EXTRACT<span class=\"cm-bracket\">(</span> <span class=\"cm-builtin\">year</span> <span class=\"cm-keyword\">FROM</span> starttime<span class=\"cm-bracket\">)</span> <span class=\"cm-keyword\">AS</span> <span class=\"cm-builtin\">year</span><span class=\"cm-punctuation\">,</span>\n",
    "    <span class=\"cm-keyword\">COUNT</span><span class=\"cm-bracket\">(</span>CASE WHEN gender<span class=\"cm-operator\">=</span> <span class=\"cm-string\">\"female\"</span> THEN <span class=\"cm-number\">1</span> END<span class=\"cm-bracket\">)</span> <span class=\"cm-keyword\">AS</span> female<span class=\"cm-punctuation\">,</span>\n",
    "    ROUND<span class=\"cm-bracket\">(</span><span class=\"cm-keyword\">COUNT</span><span class=\"cm-bracket\">(</span>CASE WHEN gender<span class=\"cm-operator\">=</span> <span class=\"cm-string\">\"female\"</span> THEN <span class=\"cm-number\">1</span> END<span class=\"cm-bracket\">)</span><span class=\"cm-operator\">/</span><span class=\"cm-keyword\">COUNT</span><span class=\"cm-bracket\">(</span>gender<span class=\"cm-bracket\">)</span><span class=\"cm-operator\">*</span><span class=\"cm-number\">100</span><span class=\"cm-punctuation\">,</span> <span class=\"cm-number\">2</span><span class=\"cm-bracket\">)</span> <span class=\"cm-keyword\">AS</span> female_percentage<span class=\"cm-punctuation\">,</span>\n",
    "    <span class=\"cm-keyword\">COUNT</span><span class=\"cm-bracket\">(</span>CASE WHEN gender <span class=\"cm-operator\">=</span> <span class=\"cm-string\">\"male\"</span> THEN <span class=\"cm-number\">1</span> END<span class=\"cm-bracket\">)</span> <span class=\"cm-keyword\">AS</span> male<span class=\"cm-punctuation\">,</span>\n",
    "    ROUND<span class=\"cm-bracket\">(</span><span class=\"cm-keyword\">COUNT</span><span class=\"cm-bracket\">(</span>CASE WHEN gender <span class=\"cm-operator\">=</span> <span class=\"cm-string\">\"male\"</span> THEN <span class=\"cm-number\">1</span> END<span class=\"cm-bracket\">)</span><span class=\"cm-operator\">/</span><span class=\"cm-keyword\">COUNT</span><span class=\"cm-bracket\">(</span>gender<span class=\"cm-bracket\">)</span><span class=\"cm-operator\">*</span><span class=\"cm-number\">100</span><span class=\"cm-punctuation\">,</span> <span class=\"cm-number\">2</span><span class=\"cm-bracket\">)</span> <span class=\"cm-keyword\">AS</span> male_percentage\n",
    "<span class=\"cm-keyword\">FROM</span> \n",
    "    `citibike<span class=\"cm-operator\">-</span>project<span class=\"cm-operator\">-</span><span class=\"cm-number\">330415</span><span class=\"cm-variable-2\">.CITIBIKE</span><span class=\"cm-variable-2\">.citibike_trips</span>` \n",
    "<span class=\"cm-keyword\">GROUP</span> <span class=\"cm-keyword\">BY</span> \n",
    "    <span class=\"cm-builtin\">year</span>\n",
    "<span class=\"cm-keyword\">HAVING</span> \n",
    "    <span class=\"cm-builtin\">year</span> <span class=\"cm-keyword\">IS</span> <span class=\"cm-keyword\">NOT</span> <span class=\"cm-atom\">NULL</span> <span class=\"cm-keyword\">AND</span> <span class=\"cm-builtin\">year</span> <span class=\"cm-operator\">!=</span> <span class=\"cm-number\">2013</span> <span class=\"cm-keyword\">AND</span> <span class=\"cm-builtin\">year</span> <span class=\"cm-operator\">!=</span> <span class=\"cm-number\">2018</span>\n",
    "<span class=\"cm-keyword\">ORDER</span> <span class=\"cm-keyword\">BY</span>\n",
    "    <span class=\"cm-builtin\">year</span> <span class=\"cm-keyword\">ASC</span>\n",
    "</code></pre></td>\n",
    "  </tr>\n",
    "    \n",
    "  <tr>\n",
    "    <td class=\"tg-0pky\">2 Lines<br></td>\n",
    "    <td class=\"tg-0pky\">16 Lines</td>\n",
    "  </tr>\n",
    "</tbody>\n",
    "</table>"
   ]
  },
  {
   "cell_type": "markdown",
   "id": "c33b336d",
   "metadata": {},
   "source": [
    "&nbsp;"
   ]
  },
  {
   "cell_type": "markdown",
   "id": "daa315b8",
   "metadata": {},
   "source": [
    "<a class=\"anchor\" id=\"fourth-question\"></a>\n",
    "#  ❓Q4: Which day of the week is the most popular ❓"
   ]
  },
  {
   "cell_type": "markdown",
   "id": "9c8a8c3c",
   "metadata": {},
   "source": [
    "### pandas - 1 line"
   ]
  },
  {
   "cell_type": "markdown",
   "id": "3c63de6f",
   "metadata": {},
   "source": [
    "Group records by day of week and count how many trips there are"
   ]
  },
  {
   "cell_type": "code",
   "execution_count": 22,
   "id": "daf46129-e262-4931-9d81-ef300eb4e6c4",
   "metadata": {
    "tags": []
   },
   "outputs": [
    {
     "data": {
      "text/plain": [
       "starttime\n",
       "0    145702\n",
       "1    153066\n",
       "2    157988\n",
       "3    154676\n",
       "4    149662\n",
       "5    121801\n",
       "6    118137\n",
       "dtype: int64"
      ]
     },
     "execution_count": 22,
     "metadata": {},
     "output_type": "execute_result"
    }
   ],
   "source": [
    "df.groupby(df.starttime.dt.day_of_week).size()"
   ]
  },
  {
   "cell_type": "markdown",
   "id": "2735c491",
   "metadata": {},
   "source": [
    "## <h2 align=\"center\"> 💡 1 line of pandas vs 11 lines of code required with SQL approach [below](https://www.kaggle.com/code/cjinquan/citibike-analysis-sql?scriptVersionId=78471031&cellId=16) </h2>"
   ]
  },
  {
   "cell_type": "markdown",
   "id": "1c6b5d1d",
   "metadata": {},
   "source": [
    "<style type=\"text/css\">\n",
    ".tg  {border-collapse:collapse;border-spacing:0;}\n",
    ".tg td{border-color:black;border-style:solid;border-width:1px;font-family:Arial, sans-serif;font-size:14px;\n",
    "  overflow:hidden;padding:10px 5px;word-break:normal;}\n",
    ".tg th{border-color:black;border-style:solid;border-width:1px;font-family:Arial, sans-serif;font-size:14px;\n",
    "  font-weight:normal;overflow:hidden;padding:10px 5px;word-break:normal;}\n",
    ".tg .tg-0pky{border-color:inherit;text-align:left;vertical-align:top}\n",
    ".tg .tg-y698{background-color:#efefef;border-color:inherit;text-align:left;vertical-align:top}\n",
    "</style>\n",
    "<table class=\"tg\">\n",
    "<thead>\n",
    "  <tr>\n",
    "    <th class=\"tg-0pky\">In Python</th>\n",
    "    <th class=\"tg-0pky\">With SQL</th>\n",
    "  </tr>\n",
    "</thead>\n",
    "<tbody>\n",
    "  <tr>\n",
    "    <td class=\"tg-0pky\">df.groupby(df.starttime.dt.day_of_week).size()<br><br></td>\n",
    "    <td class=\"tg-0pky\">SELECT  <br><br><br>        EXTRACT ( dayofweek FROM starttime) AS day_of_week,<br><br><br>        COUNT(*) AS number_of_trip<br><br><br>    FROM <br><br><br>        `citibike-project-330415.CITIBIKE.citibike_trips` <br><br><br>    GROUP BY <br><br><br>        day_of_week<br><br><br>    HAVING<br><br><br>        day_of_week IS NOT NULL <br><br><br>    ORDER BY <br><br><br>        day_of_week ASC<br></td>\n",
    "  </tr>\n",
    "  <tr>\n",
    "    <td class=\"tg-y698\">1 Line</td>\n",
    "    <td class=\"tg-y698\">11 Lines</td>\n",
    "  </tr>\n",
    "</tbody>\n",
    "</table>"
   ]
  },
  {
   "cell_type": "markdown",
   "id": "10b9d476",
   "metadata": {},
   "source": [
    "&nbsp;"
   ]
  },
  {
   "cell_type": "markdown",
   "id": "33e62823",
   "metadata": {},
   "source": [
    "<a class=\"anchor\" id=\"fifth-question\"></a>\n",
    "# ❓Q5: What is the average trip duration per day of the week ❓"
   ]
  },
  {
   "cell_type": "markdown",
   "id": "c4bba966",
   "metadata": {},
   "source": [
    "### pandas - 1 line"
   ]
  },
  {
   "cell_type": "markdown",
   "id": "6c5ad716",
   "metadata": {},
   "source": [
    "Group records by day of week then calculate the average duration of trips for each day of the week"
   ]
  },
  {
   "cell_type": "code",
   "execution_count": 24,
   "id": "c4cfae1e",
   "metadata": {
    "tags": []
   },
   "outputs": [
    {
     "data": {
      "text/plain": [
       "starttime\n",
       "0     887.048881\n",
       "1     850.023983\n",
       "2     863.566176\n",
       "3     855.236055\n",
       "4     889.788971\n",
       "5    1138.640561\n",
       "6    1125.504829\n",
       "Name: tripduration, dtype: float64"
      ]
     },
     "execution_count": 24,
     "metadata": {},
     "output_type": "execute_result"
    }
   ],
   "source": [
    "df.groupby(df.starttime.dt.day_of_week)['tripduration'].mean()"
   ]
  },
  {
   "cell_type": "markdown",
   "id": "8f8dbd10",
   "metadata": {},
   "source": [
    "## <h2 align=\"center\">  💡1 line of pandas vs. 11 lines of code required with SQL approach [below]() </h2>"
   ]
  },
  {
   "cell_type": "markdown",
   "id": "67684c2a",
   "metadata": {},
   "source": [
    "<style type=\"text/css\">\n",
    ".tg  {border-collapse:collapse;border-spacing:0;}\n",
    ".tg td{border-color:black;border-style:solid;border-width:1px;font-family:Arial, sans-serif;font-size:14px;\n",
    "  overflow:hidden;padding:10px 5px;word-break:normal;}\n",
    ".tg th{border-color:black;border-style:solid;border-width:1px;font-family:Arial, sans-serif;font-size:14px;\n",
    "  font-weight:normal;overflow:hidden;padding:10px 5px;word-break:normal;}\n",
    ".tg .tg-0pky{border-color:inherit;text-align:left;vertical-align:top}\n",
    ".tg .tg-y698{background-color:#efefef;border-color:inherit;text-align:left;vertical-align:top}\n",
    "</style>\n",
    "<table class=\"tg\">\n",
    "<thead>\n",
    "  <tr>\n",
    "    <th class=\"tg-0pky\">In Python</th>\n",
    "    <th class=\"tg-0pky\">With SQL</th>\n",
    "  </tr>\n",
    "</thead>\n",
    "<tbody>\n",
    "  <tr>\n",
    "    <td class=\"tg-0pky\">df.groupby(df.starttime.dt.day_of_week)['tripduration'].mean()<br></td>\n",
    "    <td class=\"tg-0pky\">SELECT  <br><br><br>        EXTRACT(dayofweek FROM starttime) AS day,<br><br><br>        ROUND(AVG(tripduration), 2) AS average_trip_duration_minutes<br><br><br>    FROM <br><br><br>        `citibike-project-330415.CITIBIKE.citibike_trips` <br><br><br>    GROUP BY <br><br><br>        day<br><br><br>    HAVING <br><br><br>        day IS NOT NULL<br><br><br>    ORDER BY <br><br><br>        day ASC<br></td>\n",
    "  </tr>\n",
    "  <tr>\n",
    "    <td class=\"tg-y698\">1 Line</td>\n",
    "    <td class=\"tg-y698\">11 Lines</td>\n",
    "  </tr>\n",
    "</tbody>\n",
    "</table>"
   ]
  },
  {
   "cell_type": "markdown",
   "id": "ea22d0d2",
   "metadata": {},
   "source": [
    "&nbsp;"
   ]
  },
  {
   "cell_type": "markdown",
   "id": "14807d9d",
   "metadata": {},
   "source": [
    "<a class=\"anchor\" id=\"sixth-question\"></a>\n",
    "#  ❓Q6: What is the total number of trips per month for a year (2015) ❓"
   ]
  },
  {
   "cell_type": "markdown",
   "id": "27aaf0e9",
   "metadata": {},
   "source": [
    "### pandas - 1 line of code"
   ]
  },
  {
   "cell_type": "markdown",
   "id": "d85787a3",
   "metadata": {},
   "source": [
    "Group by month, then count trips per month"
   ]
  },
  {
   "cell_type": "code",
   "execution_count": 27,
   "id": "688fb15c",
   "metadata": {
    "tags": []
   },
   "outputs": [
    {
     "data": {
      "text/plain": [
       "starttime\n",
       "1      8722\n",
       "2      5989\n",
       "3     10180\n",
       "4     19649\n",
       "5     28979\n",
       "6     28292\n",
       "7     32840\n",
       "8     35388\n",
       "9     38535\n",
       "10    36304\n",
       "11    29709\n",
       "12    24003\n",
       "dtype: int64"
      ]
     },
     "execution_count": 27,
     "metadata": {},
     "output_type": "execute_result"
    }
   ],
   "source": [
    "df[df['start_year']==2015].groupby(df.starttime.dt.month).size()"
   ]
  },
  {
   "cell_type": "markdown",
   "id": "17b0eb02",
   "metadata": {},
   "source": [
    "## <h2 align=\"center\">💡1 line of pandas vs. 15 lines of code required with SQL approach [below]()</h2>"
   ]
  },
  {
   "cell_type": "markdown",
   "id": "55c642d2",
   "metadata": {},
   "source": [
    "<style type=\"text/css\">\n",
    ".tg  {border-collapse:collapse;border-spacing:0;}\n",
    ".tg td{border-color:black;border-style:solid;border-width:1px;font-family:Arial, sans-serif;font-size:14px;\n",
    "  overflow:hidden;padding:10px 5px;word-break:normal;}\n",
    ".tg th{border-color:black;border-style:solid;border-width:1px;font-family:Arial, sans-serif;font-size:14px;\n",
    "  font-weight:normal;overflow:hidden;padding:10px 5px;word-break:normal;}\n",
    ".tg .tg-0pky{border-color:inherit;text-align:left;vertical-align:top}\n",
    ".tg .tg-y698{background-color:#efefef;border-color:inherit;text-align:left;vertical-align:top}\n",
    "</style>\n",
    "<table class=\"tg\">\n",
    "<thead>\n",
    "  <tr>\n",
    "    <th class=\"tg-0pky\">In Python</th>\n",
    "    <th class=\"tg-0pky\">With SQL</th>\n",
    "  </tr>\n",
    "</thead>\n",
    "<tbody>\n",
    "  <tr>\n",
    "    <td class=\"tg-0pky\">df[df['start_year']==2015].groupby(df.starttime.dt.month).size()<br></td>\n",
    "    <td class=\"tg-0pky\">SELECT  <br><br><br>        EXTRACT(year FROM starttime) AS year,<br><br><br>        EXTRACT(month FROM starttime) AS month,<br><br><br>        COUNT(*) AS number_of_trips<br><br><br>    FROM <br><br><br>        `citibike-project-330415.CITIBIKE.citibike_trips` <br><br><br>    GROUP BY <br><br><br>        year, month<br><br><br>    HAVING <br><br><br>        month IS NOT NULL AND <br><br><br>        year IS NOT NULL AND <br><br><br>        year = 2015 <br><br><br>    ORDER BY <br><br><br>        year ASC,<br><br><br>        month ASC<br></td>\n",
    "  </tr>\n",
    "  <tr>\n",
    "    <td class=\"tg-y698\">1 Line</td>\n",
    "    <td class=\"tg-y698\">11 Lines</td>\n",
    "  </tr>\n",
    "</tbody>\n",
    "</table>"
   ]
  },
  {
   "cell_type": "markdown",
   "id": "aaa750c7",
   "metadata": {},
   "source": [
    "&nbsp;"
   ]
  },
  {
   "cell_type": "markdown",
   "id": "a5cac640",
   "metadata": {},
   "source": [
    "## So in total..."
   ]
  },
  {
   "cell_type": "markdown",
   "id": "b035c73b",
   "metadata": {},
   "source": [
    " <h1 align=\"center\">🔥9 lines of pandas vs. ~70 lines with the SQL🔥</h1>"
   ]
  },
  {
   "cell_type": "markdown",
   "id": "0108bbdc",
   "metadata": {},
   "source": [
    "&nbsp;"
   ]
  },
  {
   "cell_type": "markdown",
   "id": "013198ab",
   "metadata": {},
   "source": [
    "# But what if I want to do more that the simple summary stats above?"
   ]
  },
  {
   "cell_type": "markdown",
   "id": "528e9aba",
   "metadata": {},
   "source": [
    "As part of my analysis I may want to go beyond the 6 questions we've already answered. I may want to do more complex data cleaning and transformation steps that aren't included in the Kaggle analysis. If my operations aren't relational in nature, what do I do? \n",
    "\n",
    "See two examples below:"
   ]
  },
  {
   "cell_type": "markdown",
   "id": "c49cc539",
   "metadata": {},
   "source": [
    "### Drop rows with missing values, sort by trip duration, get the top 10 longest trips"
   ]
  },
  {
   "cell_type": "markdown",
   "id": "f70784f3",
   "metadata": {},
   "source": [
    "A key characteristic of dataframes is that they are ordered, the order is preserved across operations, and we can use indexing to select subsets of data. These characteristics are critical for interactive data science.\n",
    "\n",
    "With pandas, the above prompt can be answered with one highly expressive line of pandas code.  Whereas with SQL, preserving order across operations in nearly impossible and dealing with null values is a very involved.   "
   ]
  },
  {
   "cell_type": "code",
   "execution_count": null,
   "id": "c9b2a104-7225-433c-944a-127b2e22260e",
   "metadata": {
    "tags": []
   },
   "outputs": [],
   "source": [
    "df.dropna(axis=0).sort_values(by='tripduration',ascending=False).head(10)"
   ]
  },
  {
   "cell_type": "markdown",
   "id": "18984f6b",
   "metadata": {},
   "source": [
    "### Create dummies for feature engineering/modeling"
   ]
  },
  {
   "cell_type": "markdown",
   "id": "5f5215e8",
   "metadata": {},
   "source": [
    "Gender values in our data set are 0,1,2 representing male, female, and unknown. \n",
    "\n",
    "A common feature engineering task is to one-hot encode a category in order to do some predictive modeling.\n",
    "\n",
    "In a relational database, users must define a schema upfront before they load data into a table or do their analysis. This makes one-hot encoding particularly challenging in that context, because the schema needs to be updated based on the unknown categories contained in a column. \n",
    "\n",
    "In order to work around these challenges with SQL, a user will have to write a brittle query that will require hard-coding category values and will be difficult to maintain.\n",
    "\n",
    "With Ponder, you can just use get_dummies for one-hot encoding inside of your database."
   ]
  },
  {
   "cell_type": "code",
   "execution_count": null,
   "id": "8e83b403",
   "metadata": {},
   "outputs": [],
   "source": [
    "pd.get_dummies(df,columns=\"gender\")"
   ]
  },
  {
   "cell_type": "markdown",
   "id": "f39396cf",
   "metadata": {},
   "source": [
    "For a more detailed comparison of one-hot encoding in Pandas vs SQL, check out our blogpost [here](https://ponder.io/pandas-vs-sql-part-2-pandas-is-more-concise/#2.-One-hot-encoding)"
   ]
  },
  {
   "cell_type": "markdown",
   "id": "a122dec0",
   "metadata": {},
   "source": [
    "&nbsp;"
   ]
  },
  {
   "cell_type": "markdown",
   "id": "86aa5888",
   "metadata": {},
   "source": [
    "##  💡 Ponder gives you a high fidelity pandas experience for your databases 💡\n",
    "\n",
    "* We answered 6 questions from a Kaggle notebook to demonstrate how it is often more concise and easier to express queries in pandas than SQL with fewer lines of code. \n",
    "\n",
    "* Showed you how Ponder can help you explore your data using almost 10X less code \n",
    "* Demonstrated how certain dataframe operations, such as `get_dummmies`, are extremely challenging to do or even impossible to do in SQL."
   ]
  },
  {
   "cell_type": "markdown",
   "id": "b0f4b4cc",
   "metadata": {},
   "source": [
    "### <h1><center>To try Ponder for free, sign up for an account at [app.ponder.io](app.ponder.io) !</center></h1>"
   ]
  }
 ],
 "metadata": {
  "_notebook_id_": "cc5d8947-4f39-4f15-830b-4ffb031ca8db",
  "kernelspec": {
   "display_name": "ponder",
   "language": "python",
   "name": "ponder"
  },
  "language_info": {
   "codemirror_mode": {
    "name": "ipython",
    "version": 3
   },
   "file_extension": ".py",
   "mimetype": "text/x-python",
   "name": "python",
   "nbconvert_exporter": "python",
   "pygments_lexer": "ipython3",
   "version": "3.10.10"
  }
 },
 "nbformat": 4,
 "nbformat_minor": 5
}
