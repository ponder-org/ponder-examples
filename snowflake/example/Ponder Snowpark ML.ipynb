{
 "cells": [
  {
   "cell_type": "markdown",
   "id": "320e4130-b4ac-4eb3-bf09-289c797609c4",
   "metadata": {},
   "source": [
    "## Using Ponder + Snowpark ML for Healthcare Data Analysis"
   ]
  },
  {
   "cell_type": "markdown",
   "id": "dd69a777-0038-48f5-a790-ec161d0b2e8c",
   "metadata": {},
   "source": [
    "<div class=\"alert alert-block alert-info\"> <b>Before we get started: </b> \n",
    "    <ul style=\"list-style-type: none;margin: 0;padding: 0;\">\n",
    "        <li>✍️ To run this notebook, you need to have Ponder installed and set up on your machine. If you have not done so already, please refer to our <a href=\"https://docs.ponder.io/getting_started/quickstart.html\">Quickstart guide</a> to get started.</li>\n",
    "        <li>📖 Otherwise, if you're just interested in browsing through the notebook, keep reading below!</li>\n",
    "    </ul>\n",
    "</div>"
   ]
  },
  {
   "cell_type": "code",
   "execution_count": null,
   "id": "ffe1464e-23dc-4f81-88c0-76d90ab46d10",
   "metadata": {},
   "outputs": [],
   "source": [
    "#Note: Packages must be installed in this order to avoid pandas version conflicts\n",
    "! pip install snowflake-ml-python \"ponder[snowflake]\" "
   ]
  },
  {
   "cell_type": "markdown",
   "id": "6a6ce75c-4527-487f-9eea-505f39c96165",
   "metadata": {},
   "source": [
    "With the growth of electronic health records, healthcare providers store, process, and analyze information about patients, their medical history, treatment, and outcomes. Effective analysis of electronic health records has been shown to improve the patient care experience, support clinical decision-making, and advance the frontiers of medical research.\n",
    "\n",
    "In this post, we will walk through a end-to-end machine learning workflow to show how you can use Ponder and Snowpark ML to analyze electronic health records directly in your data warehouse. Note that this blogpost builds off of our [earlier blogpost](https://ponder.io/healthcare-analytics-in-python-using-ponder/) and additionally demonstrates how you can use Snowflake's [Snowpark ML modeling API](https://docs.snowflake.com/en/developer-guide/snowpark-ml/snowpark-ml-modeling) to perform machine learning in your database, rather than having to pull your data out of Snowflake to use sklearn in-memory.\n",
    "\n",
    "You can download the notebook associated with this post [here](https://github.com/ponder-org/ponder-blog/blob/main/snowflake/example/Ponder%20Snowpark%20ML.ipynb).\n",
    "\n",
    "<img src=\"https://ponder.io/wp-content/uploads/2023/08/snowpark_ml.png\"></img>\n",
    "\n",
    "### The MIMIC-III Clinical Dataset\n",
    "\n",
    "In this blog post, we will be looking at the [MIMIC-III demo dataset](https://physionet.org/content/mimiciii-demo/1.4/). The MIMIC-III Clinical Database contains deidentified health-related data of patients who stayed in an intensive care unit (ICU) at the Beth Israel Deaconess Medical Center in Boston. The demo dataset contains records for 100 patients across three tables `PATIENTS`, `ICUSTAYS`, and `ADMISSIONS`. \n",
    "\n",
    "Citation: \n",
    "```\n",
    "Johnson, A. E. W., Pollard, T. J., Shen, L., Lehman, L. H., Feng, M., Ghassemi, M., Moody, B., Szolovits, P., Celi, L. A., & Mark, R. G. (2016). MIMIC-III, a freely accessible critical care database. Scientific data, 3, 160035.\n",
    "```\n",
    "\n",
    "You can download the datasets [here](https://github.com/ponder-org/ponder-datasets/tree/main/mimic-iii) or use [our dataset upload script](https://github.com/ponder-org/ponder-notebooks/blob/main/snowflake/populate_mimic3.py) to load it to Snowflake."
   ]
  },
  {
   "cell_type": "markdown",
   "id": "3f5f6dbc-c5d4-44b3-9226-790660df76af",
   "metadata": {},
   "source": [
    "### What is Ponder? \n",
    "\n",
    "Ponder lets you run pandas directly in your data warehouse. Data teams can interact with their data through their familiar pandas-native experience, while enjoying the scalability and security benefits that come with a modern cloud data warehouses. You can learn more about Ponder in our [recent blogpost](https://ponder.io/run-pandas-on-1tb-directly-in-your-data-warehouse/) and [sign up here](https://ponder.io/product/) to try out Ponder today. "
   ]
  },
  {
   "cell_type": "code",
   "execution_count": 1,
   "id": "90243e71-4cf0-4971-a95e-3f29e12449fc",
   "metadata": {
    "tags": []
   },
   "outputs": [],
   "source": [
    "import os; os.chdir(\"..\")\n",
    "import credential"
   ]
  },
  {
   "cell_type": "code",
   "execution_count": 2,
   "id": "7e8bc7a0-bd28-4006-9fb0-cb666b71b623",
   "metadata": {},
   "outputs": [],
   "source": [
    "import ponder\n",
    "ponder.init()"
   ]
  },
  {
   "cell_type": "markdown",
   "id": "67954aeb-fb48-4a93-80bb-6332964eeccd",
   "metadata": {},
   "source": [
    "Ponder uses your data warehouse as an engine, so we first need to establish a connection with Snowflake in order to start querying the data. The code below shows how you can set up the database connection."
   ]
  },
  {
   "cell_type": "code",
   "execution_count": 3,
   "id": "5d94741f-f687-44c9-812d-c394b2b84f23",
   "metadata": {
    "tags": []
   },
   "outputs": [],
   "source": [
    "credential.params[\"database\"] = \"MIMIC3\"\n",
    "import snowflake.connector\n",
    "# Create a Ponder Snowflake Connections object\n",
    "snowflake_con = snowflake.connector.connect(\n",
    "    user=credential.params[\"user\"],\n",
    "    password=credential.params[\"password\"],\n",
    "    account=credential.params[\"account\"],\n",
    "    role=credential.params[\"role\"],\n",
    "    database=credential.params[\"database\"],\n",
    "    schema=credential.params[\"schema\"],\n",
    "    warehouse=credential.params[\"warehouse\"]\n",
    ")"
   ]
  },
  {
   "cell_type": "code",
   "execution_count": 4,
   "id": "092f9911-0678-4f9c-ab0d-1e6d4a86f294",
   "metadata": {
    "tags": []
   },
   "outputs": [],
   "source": [
    "import modin.pandas as pd"
   ]
  },
  {
   "cell_type": "markdown",
   "id": "ae81c74d-f1d4-4067-9ef2-5031a34caf09",
   "metadata": {},
   "source": [
    "Once we have connected to the warehouse, we can use the `pd.read_sql` command to connect to our `ICUSTAYS` and `PATIENTS` table. Note that this creates a dataframe that points to those tables without the data being loaded in memory!"
   ]
  },
  {
   "cell_type": "code",
   "execution_count": 5,
   "id": "5143534f-d0b8-42e8-9b27-69143e04015d",
   "metadata": {},
   "outputs": [],
   "source": [
    "icu = pd.read_sql(\"ICUSTAYS\",con=snowflake_con)\n",
    "patients = pd.read_sql(\"PATIENTS\",con=snowflake_con)"
   ]
  },
  {
   "cell_type": "markdown",
   "id": "e1efc362-1d43-4ea4-9439-55ecc47aaff9",
   "metadata": {},
   "source": [
    "```python\n",
    "# Optional: If you didn't load the dataset to Snowflake earlier, you can run the following commands instead. \n",
    "ponder.configure(default_connection=snowflake_con)\n",
    "icu = pd.read_csv(\"https://github.com/ponder-org/ponder-datasets/blob/main/mimic-iii/ICUSTAYS.csv?raw=True\")\n",
    "patients = pd.read_csv(\"https://github.com/ponder-org/ponder-datasets/blob/main/mimic-iii/PATIENTS.csv?raw=True\")\n",
    "```"
   ]
  },
  {
   "cell_type": "markdown",
   "id": "36bf114a-bcd2-4b2e-aad7-563a472fd114",
   "metadata": {},
   "source": [
    "Now we have connected to the two tables in our warehouse, we can operate on it just like you typically do with any pandas dataframe. Here, we join the two tables on the patient identifier `subject_id`."
   ]
  },
  {
   "cell_type": "code",
   "execution_count": 6,
   "id": "68823bb5-fcd1-4f92-b767-e5ac83dc3df7",
   "metadata": {
    "tags": []
   },
   "outputs": [],
   "source": [
    "df = patients.merge(icu,on=\"subject_id\")"
   ]
  },
  {
   "cell_type": "markdown",
   "id": "324347fd-3ec6-4c6a-a132-6a85964771d0",
   "metadata": {},
   "source": [
    "We drop the `row_id` columns, which is just a record ID from the database."
   ]
  },
  {
   "cell_type": "code",
   "execution_count": 7,
   "id": "31448ed8-c6d5-4a20-8c5f-fa1d3eee8617",
   "metadata": {
    "tags": []
   },
   "outputs": [],
   "source": [
    "df = df.drop(list(df.filter(regex=\"row_id\")),axis=1)"
   ]
  },
  {
   "cell_type": "markdown",
   "id": "3688ff29-25b4-4e23-885a-ed290bfd3166",
   "metadata": {
    "tags": []
   },
   "source": [
    "### Exploratory Data Analysis: Dataset Overview"
   ]
  },
  {
   "cell_type": "markdown",
   "id": "9d903497-4805-43ee-82ec-2acc0c4afa34",
   "metadata": {
    "tags": []
   },
   "source": [
    "Exploratory data analysis is a important first step in any data science project that helps uncover trends, patterns, and insights that inform subsequent analyses.\n",
    "\n",
    "To start off, let's look at the descriptive statistics to get an overview of the dataset."
   ]
  },
  {
   "cell_type": "code",
   "execution_count": 8,
   "id": "9a7fc3b9-50db-49da-a18a-8865a3356f31",
   "metadata": {
    "tags": []
   },
   "outputs": [
    {
     "data": {
      "text/html": [
       "<div>\n",
       "<style scoped>\n",
       "    .dataframe tbody tr th:only-of-type {\n",
       "        vertical-align: middle;\n",
       "    }\n",
       "\n",
       "    .dataframe tbody tr th {\n",
       "        vertical-align: top;\n",
       "    }\n",
       "\n",
       "    .dataframe thead th {\n",
       "        text-align: right;\n",
       "    }\n",
       "</style>\n",
       "<table border=\"1\" class=\"dataframe\">\n",
       "  <thead>\n",
       "    <tr style=\"text-align: right;\">\n",
       "      <th></th>\n",
       "      <th>subject_id</th>\n",
       "      <th>expire_flag</th>\n",
       "      <th>hadm_id</th>\n",
       "      <th>icustay_id</th>\n",
       "      <th>first_wardid</th>\n",
       "      <th>last_wardid</th>\n",
       "      <th>los</th>\n",
       "    </tr>\n",
       "  </thead>\n",
       "  <tbody>\n",
       "    <tr>\n",
       "      <th>count</th>\n",
       "      <td>136.000000</td>\n",
       "      <td>136.0</td>\n",
       "      <td>136.000000</td>\n",
       "      <td>136.000000</td>\n",
       "      <td>136.000000</td>\n",
       "      <td>136.000000</td>\n",
       "      <td>136.000000</td>\n",
       "    </tr>\n",
       "    <tr>\n",
       "      <th>mean</th>\n",
       "      <td>28263.485294</td>\n",
       "      <td>1.0</td>\n",
       "      <td>153259.566176</td>\n",
       "      <td>250980.470588</td>\n",
       "      <td>34.470588</td>\n",
       "      <td>34.022059</td>\n",
       "      <td>4.452457</td>\n",
       "    </tr>\n",
       "    <tr>\n",
       "      <th>std</th>\n",
       "      <td>16008.281510</td>\n",
       "      <td>0.0</td>\n",
       "      <td>28054.220280</td>\n",
       "      <td>28455.125832</td>\n",
       "      <td>18.876182</td>\n",
       "      <td>19.280951</td>\n",
       "      <td>6.196828</td>\n",
       "    </tr>\n",
       "    <tr>\n",
       "      <th>min</th>\n",
       "      <td>10006.000000</td>\n",
       "      <td>1.0</td>\n",
       "      <td>100375.000000</td>\n",
       "      <td>201006.000000</td>\n",
       "      <td>7.000000</td>\n",
       "      <td>7.000000</td>\n",
       "      <td>0.105900</td>\n",
       "    </tr>\n",
       "    <tr>\n",
       "      <th>25%</th>\n",
       "      <td>10089.750000</td>\n",
       "      <td>1.0</td>\n",
       "      <td>129028.000000</td>\n",
       "      <td>224359.250000</td>\n",
       "      <td>14.750000</td>\n",
       "      <td>14.000000</td>\n",
       "      <td>1.233525</td>\n",
       "    </tr>\n",
       "    <tr>\n",
       "      <th>50%</th>\n",
       "      <td>40307.000000</td>\n",
       "      <td>1.0</td>\n",
       "      <td>157724.000000</td>\n",
       "      <td>250055.000000</td>\n",
       "      <td>33.000000</td>\n",
       "      <td>33.000000</td>\n",
       "      <td>2.111450</td>\n",
       "    </tr>\n",
       "    <tr>\n",
       "      <th>75%</th>\n",
       "      <td>42207.000000</td>\n",
       "      <td>1.0</td>\n",
       "      <td>174896.500000</td>\n",
       "      <td>277279.250000</td>\n",
       "      <td>52.000000</td>\n",
       "      <td>52.000000</td>\n",
       "      <td>4.329050</td>\n",
       "    </tr>\n",
       "    <tr>\n",
       "      <th>max</th>\n",
       "      <td>44228.000000</td>\n",
       "      <td>1.0</td>\n",
       "      <td>199395.000000</td>\n",
       "      <td>298685.000000</td>\n",
       "      <td>57.000000</td>\n",
       "      <td>57.000000</td>\n",
       "      <td>35.406500</td>\n",
       "    </tr>\n",
       "  </tbody>\n",
       "</table>\n",
       "</div>"
      ],
      "text/plain": [
       "         subject_id  expire_flag        hadm_id     icustay_id  first_wardid  \\\n",
       "count    136.000000        136.0     136.000000     136.000000    136.000000   \n",
       "mean   28263.485294          1.0  153259.566176  250980.470588     34.470588   \n",
       "std    16008.281510          0.0   28054.220280   28455.125832     18.876182   \n",
       "min    10006.000000          1.0  100375.000000  201006.000000      7.000000   \n",
       "25%    10089.750000          1.0  129028.000000  224359.250000     14.750000   \n",
       "50%    40307.000000          1.0  157724.000000  250055.000000     33.000000   \n",
       "75%    42207.000000          1.0  174896.500000  277279.250000     52.000000   \n",
       "max    44228.000000          1.0  199395.000000  298685.000000     57.000000   \n",
       "\n",
       "       last_wardid         los  \n",
       "count   136.000000  136.000000  \n",
       "mean     34.022059    4.452457  \n",
       "std      19.280951    6.196828  \n",
       "min       7.000000    0.105900  \n",
       "25%      14.000000    1.233525  \n",
       "50%      33.000000    2.111450  \n",
       "75%      52.000000    4.329050  \n",
       "max      57.000000   35.406500  "
      ]
     },
     "execution_count": 8,
     "metadata": {},
     "output_type": "execute_result"
    }
   ],
   "source": [
    "df.describe()"
   ]
  },
  {
   "cell_type": "code",
   "execution_count": 9,
   "id": "c0daae0d-d3d8-4919-893f-b1393eec5f35",
   "metadata": {},
   "outputs": [
    {
     "name": "stdout",
     "output_type": "stream",
     "text": [
      "<class 'modin.pandas.dataframe.DataFrame'>\n",
      "RangeIndex: 136 entries, 0 to 135\n",
      "Data columns (total 17 columns):\n",
      " #   Column          Non-Null Count  Dtype  \n",
      "---  ------          --------------  -----  \n",
      " 0   subject_id      136 non-null    int32  \n",
      " 1   gender          136 non-null    object \n",
      " 2   dob             136 non-null    object \n",
      " 3   dod             136 non-null    object \n",
      " 4   dod_hosp        88 non-null     object \n",
      " 5   dod_ssn         108 non-null    object \n",
      " 6   expire_flag     136 non-null    int8   \n",
      " 7   hadm_id         136 non-null    int32  \n",
      " 8   icustay_id      136 non-null    int32  \n",
      " 9   dbsource        136 non-null    object \n",
      " 10  first_careunit  136 non-null    object \n",
      " 11  last_careunit   136 non-null    object \n",
      " 12  first_wardid    136 non-null    int8   \n",
      " 13  last_wardid     136 non-null    int8   \n",
      " 14  intime          136 non-null    object \n",
      " 15  outtime         136 non-null    object \n",
      " 16  los             136 non-null    float64\n",
      "dtypes: float64(1), int32(3), int8(3), object(10)\n",
      "memory usage: 0.0+ bytes\n"
     ]
    }
   ],
   "source": [
    "df.info()"
   ]
  },
  {
   "cell_type": "markdown",
   "id": "86949b99-ee09-4f80-aede-61fc6de6c2a8",
   "metadata": {},
   "source": [
    "We want to understand the correlation between the patient's age and their average length of stay in the ICU. To do this, we must first convert the timestamps into datetime objects."
   ]
  },
  {
   "cell_type": "code",
   "execution_count": 10,
   "id": "5344da61-915d-43cf-894a-484876450748",
   "metadata": {},
   "outputs": [],
   "source": [
    "df[\"intime\"] = pd.to_datetime(df[\"intime\"])\n",
    "df[\"outtime\"] = pd.to_datetime(df[\"outtime\"])\n",
    "df[\"dob\"] = pd.to_datetime(df[\"dob\"])"
   ]
  },
  {
   "cell_type": "markdown",
   "id": "ef662f05-08ba-4239-8f14-a92f561386ad",
   "metadata": {
    "tags": []
   },
   "source": [
    "Then to compute the patient's length of stay, we simply subtract the the time the patient exits the ICU (`outtime`) from the time they enter (`intime`)."
   ]
  },
  {
   "cell_type": "code",
   "execution_count": 11,
   "id": "5f72ca6b-ae9a-4a68-a391-83b065785004",
   "metadata": {
    "tags": []
   },
   "outputs": [],
   "source": [
    "df[\"length_of_stay\"] = (df[\"outtime\"]-df[\"intime\"])/pd.Timedelta('1 hour')"
   ]
  },
  {
   "cell_type": "code",
   "execution_count": 12,
   "id": "d6245c38-4fce-4596-bec0-a09b5aed3678",
   "metadata": {
    "tags": []
   },
   "outputs": [],
   "source": [
    "df[\"age\"] = df[\"intime\"].dt.year-df[\"dob\"].dt.year"
   ]
  },
  {
   "cell_type": "markdown",
   "id": "b66ea947-8204-4ba7-b453-43430a0311e7",
   "metadata": {},
   "source": [
    "Finally, we filter out outlier entries where age is listed as above 100."
   ]
  },
  {
   "cell_type": "code",
   "execution_count": 13,
   "id": "50c62f3f-a804-4efd-89bb-cf689a870055",
   "metadata": {
    "tags": []
   },
   "outputs": [],
   "source": [
    "df = df[df[\"age\"]<100]"
   ]
  },
  {
   "cell_type": "markdown",
   "id": "00395e03-1357-487c-b3d9-58e2d6372d56",
   "metadata": {
    "tags": []
   },
   "source": [
    "To look at the correlation between these variables, we plot them on a scatterplot."
   ]
  },
  {
   "cell_type": "code",
   "execution_count": 14,
   "id": "66ac1e04-4581-4292-8b7a-b88faa76edf5",
   "metadata": {
    "tags": []
   },
   "outputs": [
    {
     "data": {
      "text/plain": [
       "<Axes: xlabel='age', ylabel='length_of_stay'>"
      ]
     },
     "execution_count": 14,
     "metadata": {},
     "output_type": "execute_result"
    },
    {
     "data": {
      "image/png": "[encoded data removed]",
      "text/plain": [
       "<Figure size 640x480 with 1 Axes>"
      ]
     },
     "metadata": {},
     "output_type": "display_data"
    }
   ],
   "source": [
    "df.plot(\"age\",\"length_of_stay\",kind=\"scatter\")"
   ]
  },
  {
   "cell_type": "markdown",
   "id": "debf1c42-f981-4f2b-8cb0-905f6ba14412",
   "metadata": {},
   "source": [
    "We see here that there is a concentrated cluster of ICU patients between 50-90 and most patients don't stay for more than 200 hours, but there are some wild outliers to this distribution."
   ]
  },
  {
   "cell_type": "markdown",
   "id": "5fae36c1-8c10-48ef-8de4-323d8ce1cbec",
   "metadata": {},
   "source": [
    "Outside of the ICU stay information, we also want to look at the hospital admissions record to understand what happened *before* the patients were admitted to the ICU. "
   ]
  },
  {
   "cell_type": "code",
   "execution_count": 15,
   "id": "39df3025-ff6a-4479-8b40-db21b80a00fa",
   "metadata": {},
   "outputs": [],
   "source": [
    "admissions = pd.read_sql(\"ADMISSIONS\",con=snowflake_con)"
   ]
  },
  {
   "cell_type": "markdown",
   "id": "af296caf-bd5a-4dbf-9c91-6f84fc0d3367",
   "metadata": {},
   "source": [
    "```python\n",
    "#Optional: If you didn't load the dataset to Snowflake earlier, you can run the following commands instead. \n",
    "admissions = pd.read_csv(\"https://github.com/ponder-org/ponder-datasets/blob/main/mimic-iii/ADMISSIONS.csv?raw=True\")\n",
    "```"
   ]
  },
  {
   "cell_type": "markdown",
   "id": "a469aa20-0a4e-4451-862b-3170bb05e450",
   "metadata": {},
   "source": [
    "Here, we incorporate the admissions table to look at how long the patient stayed at the hospital before they were admitted to the ICU. "
   ]
  },
  {
   "cell_type": "code",
   "execution_count": 16,
   "id": "8514feca-f6b3-4186-bd32-ef07ba8efed4",
   "metadata": {
    "tags": []
   },
   "outputs": [],
   "source": [
    "df = df.merge(admissions,on=[\"hadm_id\",\"subject_id\"])"
   ]
  },
  {
   "cell_type": "code",
   "execution_count": 17,
   "id": "bf8025c3-8657-41a7-8feb-6afab251ccfd",
   "metadata": {
    "tags": []
   },
   "outputs": [],
   "source": [
    "df[\"pre_icu_length_of_stay\"]= (df[\"intime\"]-df[\"admittime\"])/pd.Timedelta('1 day')"
   ]
  },
  {
   "cell_type": "markdown",
   "id": "f1f76750-cbfe-4809-875f-08f7b394c5ac",
   "metadata": {
    "tags": []
   },
   "source": [
    "By plotting the distribution of pre-ICU length of stay, we learn that most patients were admitted to the ICU within a day of being admitted to the hospital. This reflects the fact that ICU typically caters to patients with severe or life-threatening conditions requiring immediate attention."
   ]
  },
  {
   "cell_type": "code",
   "execution_count": 18,
   "id": "60ba61f7-fa60-4a6d-8b06-1282d2f64382",
   "metadata": {
    "tags": []
   },
   "outputs": [
    {
     "name": "stderr",
     "output_type": "stream",
     "text": [
      "UserWarning: `Series.hist_series` is not currently supported by DatabaseOnPonder, defaulting to pandas implementation.\n",
      "Please refer to https://modin.readthedocs.io/en/stable/supported_apis/defaulting_to_pandas.html for explanation.\n"
     ]
    },
    {
     "data": {
      "text/plain": [
       "<Axes: >"
      ]
     },
     "execution_count": 18,
     "metadata": {},
     "output_type": "execute_result"
    },
    {
     "data": {
      "image/png": "[encoded data removed]",
      "text/plain": [
       "<Figure size 640x480 with 1 Axes>"
      ]
     },
     "metadata": {},
     "output_type": "display_data"
    }
   ],
   "source": [
    "df[\"pre_icu_length_of_stay\"].hist()"
   ]
  },
  {
   "cell_type": "code",
   "execution_count": 19,
   "id": "5cdeb9af-660a-4daa-98c5-f9e86699e9bd",
   "metadata": {
    "tags": []
   },
   "outputs": [
    {
     "name": "stdout",
     "output_type": "stream",
     "text": [
      "Percentage of ICU admissions within 1 day:         81.10%\n"
     ]
    }
   ],
   "source": [
    "print(f\"Percentage of ICU admissions within 1 day: \\\n",
    "        {len(df[df['pre_icu_length_of_stay']<1])/len(df)*100:.2f}%\")"
   ]
  },
  {
   "cell_type": "markdown",
   "id": "345f3bc3-1f93-48ee-8cae-e8dad2b04a45",
   "metadata": {},
   "source": [
    "You can find the SQL that performs a similar query on BigQuery in [this tutorial](https://mimic.mit.edu/docs/iii/tutorials/intro-to-mimic-iii-bq/#solution-to-step-4)."
   ]
  },
  {
   "cell_type": "markdown",
   "id": "e754e277-bb7a-4a9c-a81a-01fc0bff60df",
   "metadata": {},
   "source": [
    "### Working with Text: Parsing through clinical diagnosis"
   ]
  },
  {
   "cell_type": "markdown",
   "id": "d3a6921b-4104-4327-9699-fe058d2ad9ef",
   "metadata": {},
   "source": [
    "Electronic health records can include both structured data (such as clinical measurements of temperature, blood pressure, etc.) and unstructured data (such as imaging, physician notes, etc.). For example, take a look at the [`diagnosis` column](https://mimic.mit.edu/docs/iii/tables/admissions/#diagnosis), which contains free-text diagnosis assigned by the clinician:"
   ]
  },
  {
   "cell_type": "code",
   "execution_count": 20,
   "id": "2b704957-4b20-41a9-abbb-1d963a0ea0d2",
   "metadata": {
    "tags": []
   },
   "outputs": [
    {
     "data": {
      "text/plain": [
       "0                                                 SEPSIS\n",
       "1                                            HEPATITIS B\n",
       "2                                                 SEPSIS\n",
       "3                                       HUMERAL FRACTURE\n",
       "4                                    ALCOHOLIC HEPATITIS\n",
       "                             ...                        \n",
       "122                                  SHORTNESS OF BREATH\n",
       "123                                 PERICARDIAL EFFUSION\n",
       "124    ACUTE RESPIRATORY DISTRESS SYNDROME;ACUTE RENA...\n",
       "125                                          BRADYCARDIA\n",
       "126                                          CHOLANGITIS\n",
       "Name: diagnosis, Length: 127, dtype: object"
      ]
     },
     "execution_count": 20,
     "metadata": {},
     "output_type": "execute_result"
    }
   ],
   "source": [
    "df.diagnosis"
   ]
  },
  {
   "cell_type": "markdown",
   "id": "53b578a7-0e72-4793-b363-1df5ac3d8ec9",
   "metadata": {},
   "source": [
    "Thankfully, it is easy to work with text data in pandas, since pandas comes with a [convenient set of functions](https://pandas.pydata.org/docs/user_guide/text.html) for operating with string and object type columns. \n",
    "\n",
    "Here, we normalize the text by replacing special characters and custom separators with spaces. Then we combine all diagnoses of all the patients together to determine the top 5 words that are used in the diagnoses."
   ]
  },
  {
   "cell_type": "code",
   "execution_count": 21,
   "id": "1748639f-04b5-45e6-b836-2433b66fa29d",
   "metadata": {
    "tags": []
   },
   "outputs": [],
   "source": [
    "df.diagnosis = df.diagnosis.str.replace(\";\",\" \").str.strip()\n",
    "all_diagnosis_str = df.diagnosis.str.cat(sep=\" \")\n",
    "\n",
    "subs = {\"\\\\\":\" \", \"-\":\"\", \"/\":\"\", \"?\":\"\"}\n",
    "for s in subs.keys(): \n",
    "    all_diagnosis_str = all_diagnosis_str.replace(s, subs[s])\n",
    "\n",
    "all_diagnosis = all_diagnosis_str.split(\" \")"
   ]
  },
  {
   "cell_type": "code",
   "execution_count": 22,
   "id": "24a34764-f442-4cc1-8b87-ed96ace34651",
   "metadata": {
    "tags": []
   },
   "outputs": [
    {
     "data": {
      "text/plain": [
       "[('FAILURE', 12), ('SEPSIS', 11), ('PNEUMONIA', 9), ('BLEED', 8), ('ACUTE', 7)]"
      ]
     },
     "execution_count": 22,
     "metadata": {},
     "output_type": "execute_result"
    }
   ],
   "source": [
    "import collections\n",
    "c = collections.Counter(all_diagnosis)\n",
    "c.most_common(5)"
   ]
  },
  {
   "cell_type": "code",
   "execution_count": 23,
   "id": "96753257-acd4-4ba9-b81b-19dc0a2af53c",
   "metadata": {
    "tags": []
   },
   "outputs": [
    {
     "name": "stdout",
     "output_type": "stream",
     "text": [
      "Top 5 most common diagnostic terms are: ['FAILURE', 'SEPSIS', 'PNEUMONIA', 'BLEED', 'ACUTE']\n"
     ]
    }
   ],
   "source": [
    "top_5_keyword = sorted(c, key=c.get, reverse=True)[:5]\n",
    "print(f\"Top 5 most common diagnostic terms are: {top_5_keyword}\")"
   ]
  },
  {
   "cell_type": "markdown",
   "id": "e621db1a-d5b5-403c-8b1d-801ae96e84bf",
   "metadata": {
    "tags": []
   },
   "source": [
    "Based on these top five words, we create a binary feature that indicates the presence of each diagnostic term. "
   ]
  },
  {
   "cell_type": "code",
   "execution_count": 24,
   "id": "2d26eee2-671a-4ff8-ac22-62612c1a1ced",
   "metadata": {
    "tags": []
   },
   "outputs": [],
   "source": [
    "for keyword in top_5_keyword:\n",
    "    df[keyword]=df['diagnosis'].str.contains(keyword)"
   ]
  },
  {
   "cell_type": "markdown",
   "id": "74b295bc-41db-4cda-b143-7bc6cd640e09",
   "metadata": {},
   "source": [
    "[Survivial analysis](https://www.nature.com/articles/s41746-022-00679-6) and [mortality prediction](https://www.ncbi.nlm.nih.gov/pmc/articles/PMC4321691/) are common use cases by researchers and clinicians for analyzing electronic health data, especially as it pertains to ICU stays.\n",
    "\n",
    "Now with all the diagnostic features we created, we build a basic machine learning model to predict the likelihood of survival of patients. "
   ]
  },
  {
   "cell_type": "markdown",
   "id": "bafb693f-03dc-4376-81ec-e891e5cb5b6e",
   "metadata": {},
   "source": [
    "The `hospital_expire_flag` is a binary attribute that captures whether a patient died in the hospital. By printing out the [value counts](https://pandas.pydata.org/docs/reference/api/pandas.Series.value_counts.html) of this attribute, we see that about a third of ICU patients die in the hospital. "
   ]
  },
  {
   "cell_type": "code",
   "execution_count": 25,
   "id": "f633ce17-4bc8-4be1-84aa-222e9262c42d",
   "metadata": {},
   "outputs": [
    {
     "data": {
      "text/plain": [
       "hospital_expire_flag\n",
       "0    85\n",
       "1    42\n",
       "Name: count, dtype: int64"
      ]
     },
     "execution_count": 25,
     "metadata": {},
     "output_type": "execute_result"
    }
   ],
   "source": [
    "df[\"hospital_expire_flag\"].value_counts()"
   ]
  },
  {
   "cell_type": "code",
   "execution_count": 26,
   "id": "d66678d4-5110-4088-bbef-98c59093c253",
   "metadata": {},
   "outputs": [],
   "source": [
    "X = df[top_5_keyword].astype(int)\n",
    "y = df['hospital_expire_flag']"
   ]
  },
  {
   "cell_type": "code",
   "execution_count": 27,
   "id": "7049b491-40a7-4acc-969e-eca85aed3f3f",
   "metadata": {},
   "outputs": [],
   "source": [
    "dataset = pd.concat([X,y],axis=1)\n",
    "dataset = dataset.rename(columns={\"hospital_expire_flag\":\"TARGET\"})"
   ]
  },
  {
   "cell_type": "code",
   "execution_count": 28,
   "id": "16025626-e2b2-49eb-bc9f-baf4ab2cfa1e",
   "metadata": {},
   "outputs": [
    {
     "data": {
      "text/html": [
       "<div>\n",
       "<style scoped>\n",
       "    .dataframe tbody tr th:only-of-type {\n",
       "        vertical-align: middle;\n",
       "    }\n",
       "\n",
       "    .dataframe tbody tr th {\n",
       "        vertical-align: top;\n",
       "    }\n",
       "\n",
       "    .dataframe thead th {\n",
       "        text-align: right;\n",
       "    }\n",
       "</style>\n",
       "<table border=\"1\" class=\"dataframe\">\n",
       "  <thead>\n",
       "    <tr style=\"text-align: right;\">\n",
       "      <th></th>\n",
       "      <th>FAILURE</th>\n",
       "      <th>SEPSIS</th>\n",
       "      <th>PNEUMONIA</th>\n",
       "      <th>BLEED</th>\n",
       "      <th>ACUTE</th>\n",
       "      <th>TARGET</th>\n",
       "    </tr>\n",
       "  </thead>\n",
       "  <tbody>\n",
       "    <tr>\n",
       "      <th>0</th>\n",
       "      <td>0</td>\n",
       "      <td>1</td>\n",
       "      <td>0</td>\n",
       "      <td>0</td>\n",
       "      <td>0</td>\n",
       "      <td>0</td>\n",
       "    </tr>\n",
       "    <tr>\n",
       "      <th>1</th>\n",
       "      <td>0</td>\n",
       "      <td>0</td>\n",
       "      <td>0</td>\n",
       "      <td>0</td>\n",
       "      <td>0</td>\n",
       "      <td>1</td>\n",
       "    </tr>\n",
       "    <tr>\n",
       "      <th>2</th>\n",
       "      <td>0</td>\n",
       "      <td>1</td>\n",
       "      <td>0</td>\n",
       "      <td>0</td>\n",
       "      <td>0</td>\n",
       "      <td>1</td>\n",
       "    </tr>\n",
       "    <tr>\n",
       "      <th>3</th>\n",
       "      <td>0</td>\n",
       "      <td>0</td>\n",
       "      <td>0</td>\n",
       "      <td>0</td>\n",
       "      <td>0</td>\n",
       "      <td>0</td>\n",
       "    </tr>\n",
       "    <tr>\n",
       "      <th>4</th>\n",
       "      <td>0</td>\n",
       "      <td>0</td>\n",
       "      <td>0</td>\n",
       "      <td>0</td>\n",
       "      <td>0</td>\n",
       "      <td>1</td>\n",
       "    </tr>\n",
       "    <tr>\n",
       "      <th>...</th>\n",
       "      <td>...</td>\n",
       "      <td>...</td>\n",
       "      <td>...</td>\n",
       "      <td>...</td>\n",
       "      <td>...</td>\n",
       "      <td>...</td>\n",
       "    </tr>\n",
       "    <tr>\n",
       "      <th>122</th>\n",
       "      <td>0</td>\n",
       "      <td>0</td>\n",
       "      <td>0</td>\n",
       "      <td>0</td>\n",
       "      <td>0</td>\n",
       "      <td>0</td>\n",
       "    </tr>\n",
       "    <tr>\n",
       "      <th>123</th>\n",
       "      <td>0</td>\n",
       "      <td>0</td>\n",
       "      <td>0</td>\n",
       "      <td>0</td>\n",
       "      <td>0</td>\n",
       "      <td>0</td>\n",
       "    </tr>\n",
       "    <tr>\n",
       "      <th>124</th>\n",
       "      <td>1</td>\n",
       "      <td>0</td>\n",
       "      <td>0</td>\n",
       "      <td>0</td>\n",
       "      <td>1</td>\n",
       "      <td>0</td>\n",
       "    </tr>\n",
       "    <tr>\n",
       "      <th>125</th>\n",
       "      <td>0</td>\n",
       "      <td>0</td>\n",
       "      <td>0</td>\n",
       "      <td>0</td>\n",
       "      <td>0</td>\n",
       "      <td>0</td>\n",
       "    </tr>\n",
       "    <tr>\n",
       "      <th>126</th>\n",
       "      <td>0</td>\n",
       "      <td>0</td>\n",
       "      <td>0</td>\n",
       "      <td>0</td>\n",
       "      <td>0</td>\n",
       "      <td>0</td>\n",
       "    </tr>\n",
       "  </tbody>\n",
       "</table>\n",
       "<p>127 rows x 6 columns</p>\n",
       "</div>"
      ],
      "text/plain": [
       "     FAILURE  SEPSIS  PNEUMONIA  BLEED  ACUTE  TARGET\n",
       "0          0       1          0      0      0       0\n",
       "1          0       0          0      0      0       1\n",
       "2          0       1          0      0      0       1\n",
       "3          0       0          0      0      0       0\n",
       "4          0       0          0      0      0       1\n",
       "..       ...     ...        ...    ...    ...     ...\n",
       "122        0       0          0      0      0       0\n",
       "123        0       0          0      0      0       0\n",
       "124        1       0          0      0      1       0\n",
       "125        0       0          0      0      0       0\n",
       "126        0       0          0      0      0       0\n",
       "\n",
       "[127 rows x 6 columns]"
      ]
     },
     "execution_count": 28,
     "metadata": {},
     "output_type": "execute_result"
    }
   ],
   "source": [
    "dataset"
   ]
  },
  {
   "cell_type": "markdown",
   "id": "f1ee6e5b-cd56-4870-8ff6-7477d6b3ca68",
   "metadata": {},
   "source": [
    "We save the result of our preprocessed data as a table in Snowflake called `ICU_MORTALITY`. This allow us to use Snowpark with the dataset we've preprocessed with Ponder."
   ]
  },
  {
   "cell_type": "code",
   "execution_count": 29,
   "id": "e37d000a-18c2-44a5-a97b-0508d18fabd4",
   "metadata": {},
   "outputs": [],
   "source": [
    "dataset.to_sql(\"ICU_MORTALITY\",con=snowflake_con, index = None, if_exists=\"replace\")"
   ]
  },
  {
   "cell_type": "markdown",
   "id": "2efde8c8-f661-4984-8f37-4e79dcc35086",
   "metadata": {},
   "source": [
    "### Machine Learning in the Database with Snowpark ML: Mortality prediction of ICU Patients"
   ]
  },
  {
   "cell_type": "markdown",
   "id": "d6d47bc1-18c5-4df0-8a63-5b991e5971fa",
   "metadata": {},
   "source": [
    "Next, we build a machine learning model with Snowpark ML to predict patient mortality of ICU patients."
   ]
  },
  {
   "cell_type": "markdown",
   "id": "3066cffb-f80d-43a0-8d07-f8a07560651f",
   "metadata": {},
   "source": [
    "### What is Snowpark ML Modeling? \n",
    "Snowpark ML Modeling gives users a Python interface for preprocessing and training models. Similar to how Ponder runs all your pandas operations directly in Snowflake, Snowpark ML modeling runs all your Python ML operations directly in Snowflake. Unlike Ponder, this is done by registering your Python models as user-defined function to be executed on the database. This means that data doesn't leave your warehouse and you inherit the scale, performance, and security you get with Snowflake. (Note: While Snowpark ML supports preprocessing procedures, since we already performed all the preprocessing in pandas using Ponder, we only use the modeling APIs here)"
   ]
  },
  {
   "cell_type": "markdown",
   "id": "3611f957-131c-4537-b79d-03026a109046",
   "metadata": {
    "tags": []
   },
   "source": [
    "We build a binary classification model, where `X` is our features (i.e., presence of diagnostic terms) and `y` is the target (i.e., predict if patient dies in the hospital). "
   ]
  },
  {
   "cell_type": "markdown",
   "id": "d25c54eb-5683-4e6f-b2bc-23fd8a9b90b5",
   "metadata": {},
   "source": [
    "First, we use Snowpark to load in the `ICU_MORTALITY` table from earlier."
   ]
  },
  {
   "cell_type": "code",
   "execution_count": 30,
   "id": "f36f6ae7-acc4-434e-9c82-5244171e7f27",
   "metadata": {},
   "outputs": [],
   "source": [
    "from snowflake.snowpark import Session\n",
    "session = Session.builder.configs(credential.params).create()"
   ]
  },
  {
   "cell_type": "code",
   "execution_count": 31,
   "id": "76e867c1-f0f6-4296-9603-4b1f33a6abaf",
   "metadata": {},
   "outputs": [
    {
     "name": "stdout",
     "output_type": "stream",
     "text": [
      "---------------------------------------------------------------------\n",
      "|\"FAILURE\"  |\"SEPSIS\"  |\"PNEUMONIA\"  |\"BLEED\"  |\"ACUTE\"  |\"TARGET\"  |\n",
      "---------------------------------------------------------------------\n",
      "|0          |1         |0            |0        |0        |0         |\n",
      "|0          |0         |0            |0        |0        |1         |\n",
      "|0          |1         |0            |0        |0        |1         |\n",
      "|0          |0         |0            |0        |0        |0         |\n",
      "|0          |0         |0            |0        |0        |1         |\n",
      "|0          |0         |0            |0        |0        |0         |\n",
      "|0          |0         |0            |0        |0        |0         |\n",
      "|0          |0         |0            |0        |0        |0         |\n",
      "|0          |0         |0            |0        |0        |0         |\n",
      "|0          |0         |0            |0        |0        |0         |\n",
      "---------------------------------------------------------------------\n",
      "\n"
     ]
    }
   ],
   "source": [
    "dataset = session.table(\"ICU_MORTALITY\")\n",
    "dataset.show()"
   ]
  },
  {
   "cell_type": "markdown",
   "id": "2472fba7-c3ff-4546-93c9-117c61207eef",
   "metadata": {
    "tags": []
   },
   "source": [
    "Next, we split the data into training and test sets. We hold out 10% of the data for testing the model and use the remaining dataset for training."
   ]
  },
  {
   "cell_type": "markdown",
   "id": "6fa58fdc-5fd4-41f8-aac8-6957a7faf3d6",
   "metadata": {},
   "source": [
    "This is the sci-kit learn code for performing the same task as below: "
   ]
  },
  {
   "cell_type": "markdown",
   "id": "35aea34c-6553-48a2-b7e9-d693afb752a1",
   "metadata": {},
   "source": [
    "```python\n",
    "from sklearn.model_selection import train_test_split\n",
    "X_train, X_test, y_train, y_test = train_test_split(X, y, test_size= 0.1,random_state=0)\n",
    "from sklearn.naive_bayes import GaussianNB\n",
    "model = GaussianNB()\n",
    "model.fit(X_train,y_train)\n",
    "predictions = model.predict(X_test)\n",
    "```"
   ]
  },
  {
   "cell_type": "markdown",
   "id": "c26634cd-dc79-4a35-8209-0b56cbc2104f",
   "metadata": {},
   "source": [
    "(Note: It seems like Snowpark ML's `random_split` work slightly differently than sklearn's `train_test_split`. The weights had to be set as 0.88/0.11 to equal size of the 0.9/0.1 split that we did with sklearn.)"
   ]
  },
  {
   "cell_type": "code",
   "execution_count": 33,
   "id": "4e219e43-8895-445b-9c2d-c2e17c153fa1",
   "metadata": {},
   "outputs": [],
   "source": [
    "# Split the data into train and test sets\n",
    "train_df, test_df = dataset.random_split(weights=[0.88, 0.12], seed=0)"
   ]
  },
  {
   "cell_type": "code",
   "execution_count": 34,
   "id": "b18010fc-2bf9-41de-8d18-77899120f1b0",
   "metadata": {},
   "outputs": [
    {
     "name": "stdout",
     "output_type": "stream",
     "text": [
      "Training size: 114 , Test size: 13\n"
     ]
    }
   ],
   "source": [
    "print (f\"Training size: {train_df.count()} , Test size: {test_df.count()}\")"
   ]
  },
  {
   "cell_type": "markdown",
   "id": "fbb73536-dcd1-484e-b70f-a3cd9cb4f5ef",
   "metadata": {},
   "source": [
    "Now, we are ready to build our model. The Snowpark ML API is largely inspired by three popular Python ML libraries: scikit-learn, xgboost, and lightgbm. In this blogpost, we will only be using the scikit-learn APIs. We will show the corresponding code for performing the same operation in scikit-learn. You may note some key differences, in particular, in the model initialization step, Snowpark requires that you specify the input and label columns upfront (i.e., input being the features and label being the target variable you are trying to predict). In scikit-learn, you will notice that this happens on the `fit` step rather than in the model definition step. You can read more about the API differences [here](https://docs.snowflake.com/en/developer-guide/snowpark-ml/snowpark-ml-modeling#general-api-differences)."
   ]
  },
  {
   "cell_type": "code",
   "execution_count": 35,
   "id": "c4ec05c7-3f96-4d27-ae50-79dc6a51df96",
   "metadata": {},
   "outputs": [],
   "source": [
    "from snowflake.ml.modeling.naive_bayes import GaussianNB"
   ]
  },
  {
   "cell_type": "code",
   "execution_count": 36,
   "id": "db5e71a6-ef83-4743-bcbd-0391f526b125",
   "metadata": {},
   "outputs": [],
   "source": [
    "model = GaussianNB(input_cols=['FAILURE', 'SEPSIS', 'PNEUMONIA', 'BLEED', 'ACUTE'],label_cols=\"TARGET\")"
   ]
  },
  {
   "cell_type": "markdown",
   "id": "04d26fc8-af43-4f9e-ba75-9db01def50fd",
   "metadata": {},
   "source": [
    "We fit a basic [Naive Bayes classifier](https://scikit-learn.org/stable/modules/naive_bayes.html#naive-bayes) and evaluate the model predictions."
   ]
  },
  {
   "cell_type": "code",
   "execution_count": 37,
   "id": "6f9b9ee1-c389-450d-ba9f-30a8423a654d",
   "metadata": {},
   "outputs": [],
   "source": [
    "model = model.fit(train_df)"
   ]
  },
  {
   "cell_type": "code",
   "execution_count": 38,
   "id": "fd0e932f-e492-43f9-ae35-b0755c873305",
   "metadata": {},
   "outputs": [],
   "source": [
    "predictions = model.predict(test_df)"
   ]
  },
  {
   "cell_type": "markdown",
   "id": "b481285f-fcbf-4f2a-a370-6616b5b06cae",
   "metadata": {},
   "source": [
    "After the predict step, we can print out the Snowpark dataframe. Here we see that a new column called `OUTPUT_TARGET` has been created, which includes the predictions made by the model (remember that `TARGET` is the true labels from our original dataset)."
   ]
  },
  {
   "cell_type": "code",
   "execution_count": 39,
   "id": "8d4b427c-7723-4a20-a6c7-5fb3c7c45837",
   "metadata": {},
   "outputs": [
    {
     "name": "stdout",
     "output_type": "stream",
     "text": [
      "---------------------------------------------------------------------------------------\n",
      "|\"TARGET\"  |\"SEPSIS\"  |\"PNEUMONIA\"  |\"ACUTE\"  |\"BLEED\"  |\"FAILURE\"  |\"OUTPUT_TARGET\"  |\n",
      "---------------------------------------------------------------------------------------\n",
      "|1         |0         |0            |0        |1        |0          |1                |\n",
      "|0         |0         |0            |0        |0        |0          |1                |\n",
      "|1         |0         |0            |0        |0        |0          |1                |\n",
      "|1         |0         |0            |0        |0        |0          |1                |\n",
      "|0         |1         |1            |0        |0        |0          |0                |\n",
      "|0         |0         |0            |0        |0        |0          |1                |\n",
      "|0         |0         |1            |0        |0        |0          |0                |\n",
      "|0         |0         |0            |0        |0        |0          |1                |\n",
      "|0         |1         |0            |0        |0        |0          |0                |\n",
      "|1         |0         |0            |0        |0        |0          |1                |\n",
      "---------------------------------------------------------------------------------------\n",
      "\n"
     ]
    }
   ],
   "source": [
    "predictions.show()"
   ]
  },
  {
   "cell_type": "markdown",
   "id": "27b7df72-4d00-490c-995b-fdd5d25ef26b",
   "metadata": {},
   "source": [
    "In the quick preview above, we can see that the model was able to predict the target correctly for most of the rows, but there are two rows that are incorrectly predicted (rows 2 and 8). So how well did our model do? \n",
    "\n",
    "To understand this, we plot the confusion matrix to show the number of true positives, true negatives, false positives and false negatives."
   ]
  },
  {
   "cell_type": "markdown",
   "id": "1df2d789-ec46-431b-b9f3-cfec027bf0a6",
   "metadata": {},
   "source": [
    "Here is the corresponding code with sklearn:"
   ]
  },
  {
   "cell_type": "markdown",
   "id": "f3b83127-7771-4d7d-bd76-780a79e1998b",
   "metadata": {},
   "source": [
    "```python\n",
    "from sklearn.metrics import confusion_matrix, ConfusionMatrixDisplay\n",
    "cm = confusion_matrix(y_test, predictions)\n",
    "disp = ConfusionMatrixDisplay(confusion_matrix=cm, display_labels=model.classes_)\n",
    "disp.plot()\n",
    "```"
   ]
  },
  {
   "cell_type": "markdown",
   "id": "41935fca-6032-4dc8-a457-9c7767e235cd",
   "metadata": {},
   "source": [
    "We compute the confusion matrix with Snowpark: "
   ]
  },
  {
   "cell_type": "code",
   "execution_count": 40,
   "id": "5cda7cbe-a3ff-4d58-ac31-0629100d5b64",
   "metadata": {},
   "outputs": [
    {
     "data": {
      "text/plain": [
       "array([[3., 6.],\n",
       "       [0., 4.]])"
      ]
     },
     "execution_count": 40,
     "metadata": {},
     "output_type": "execute_result"
    }
   ],
   "source": [
    "from snowflake.ml.modeling.metrics import confusion_matrix\n",
    "cm = confusion_matrix(df= predictions, y_pred_col_name= \"OUTPUT_TARGET\", y_true_col_name=\"TARGET\")\n",
    "cm"
   ]
  },
  {
   "cell_type": "markdown",
   "id": "8defbe79-ec0d-4dc8-b0e3-64c045392d71",
   "metadata": {},
   "source": [
    "Since Snowpark ML doesn't currently support plotting confusion matrices, we use the `ConfusionMatrixDisplay` from sklearn."
   ]
  },
  {
   "cell_type": "code",
   "execution_count": 41,
   "id": "c591b4b2-d467-4615-8970-cacf52957d26",
   "metadata": {},
   "outputs": [
    {
     "data": {
      "text/plain": [
       "<sklearn.metrics._plot.confusion_matrix.ConfusionMatrixDisplay at 0x14b10f8b0>"
      ]
     },
     "execution_count": 41,
     "metadata": {},
     "output_type": "execute_result"
    },
    {
     "data": {
      "image/png": "[encoded data removed]",
      "text/plain": [
       "<Figure size 640x480 with 2 Axes>"
      ]
     },
     "metadata": {},
     "output_type": "display_data"
    }
   ],
   "source": [
    "from sklearn.metrics import ConfusionMatrixDisplay\n",
    "disp = ConfusionMatrixDisplay(confusion_matrix=cm)\n",
    "disp.plot()"
   ]
  },
  {
   "cell_type": "markdown",
   "id": "97dcce99-9075-4f04-856f-858e2117a1dc",
   "metadata": {},
   "source": [
    "Finally, we compute the accuracy score to see how well the model did. This is the code for sklearn: "
   ]
  },
  {
   "cell_type": "markdown",
   "id": "d09008ad-eee3-4334-b826-86d1184d6737",
   "metadata": {},
   "source": [
    "```python\n",
    "from sklearn.metrics import accuracy_score\n",
    "score = accuracy_score(y_test, predictions)\n",
    "print(f'Accuracy of the binary classifier = {score:0.2f}')\n",
    "```"
   ]
  },
  {
   "cell_type": "markdown",
   "id": "f484661b-ebad-4e99-baff-bc97a0e0a100",
   "metadata": {},
   "source": [
    "Running this with Snowpark ML: "
   ]
  },
  {
   "cell_type": "code",
   "execution_count": 42,
   "id": "c6c2972e-ca32-4bdc-af80-fb16d4d3b1b2",
   "metadata": {},
   "outputs": [
    {
     "name": "stdout",
     "output_type": "stream",
     "text": [
      "Accuracy of the binary classifier = 0.54\n"
     ]
    }
   ],
   "source": [
    "from snowflake.ml.modeling.metrics import accuracy_score\n",
    "score = accuracy_score(df= predictions, y_pred_col_names= \"OUTPUT_TARGET\", y_true_col_names=\"TARGET\")\n",
    "print(f'Accuracy of the binary classifier = {score:0.2f}')"
   ]
  },
  {
   "cell_type": "markdown",
   "id": "6e643bf7-1f66-402f-b059-941adbe3a46c",
   "metadata": {},
   "source": [
    "Of course, we are working with a very small sample here, so this is mostly intended to be an illustrative example."
   ]
  },
  {
   "cell_type": "markdown",
   "id": "b8c2599b-ca5c-4a07-a653-f18866954509",
   "metadata": {},
   "source": [
    "**Why Ponder + Snowpark ML?**\n",
    "\n",
    "In this post, we saw how Ponder lets you analyze electronic health records with ease by allowing practitioners to: \n",
    "- browse high-level summary and overview of the dataset,\n",
    "- discover patterns and insights based on visualizations and basic statistics,\n",
    "- perform date time operations to compute patient's length of stay,\n",
    "- develop features based on clinician free-text diagnosis.\n",
    "\n",
    "Finally, we saw how Ponder integrates with Snowpark ML, enabling us to build a classification model to predict ICU patient mortality using a sklearn-like interface. With Ponder + Snowpark ML, you can seamlessly move between data analysis, transformation, feature engineering, visualization, and machine learning — all within the Python data ecosystem, while operating directly on the data in your data warehouse. \n"
   ]
  },
  {
   "cell_type": "markdown",
   "id": "27f73629-412b-49a6-932f-2878c5aafd5c",
   "metadata": {},
   "source": [
    "Looking to try Ponder for your project? Sign up [here](https://app.ponder.io/signup) to get started in using Ponder!"
   ]
  }
 ],
 "metadata": {
  "kernelspec": {
   "display_name": "Python 3 (ipykernel)",
   "language": "python",
   "name": "python3"
  },
  "language_info": {
   "codemirror_mode": {
    "name": "ipython",
    "version": 3
   },
   "file_extension": ".py",
   "mimetype": "text/x-python",
   "name": "python",
   "nbconvert_exporter": "python",
   "pygments_lexer": "ipython3",
   "version": "3.10.6"
  }
 },
 "nbformat": 4,
 "nbformat_minor": 5
}
