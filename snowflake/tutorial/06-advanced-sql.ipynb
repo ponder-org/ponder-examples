{
 "cells": [
  {
   "cell_type": "markdown",
   "id": "10931462-726a-45b0-b335-01f942a03a46",
   "metadata": {},
   "source": [
    "# Tutorial 6: Advanced Usage - Working with SQL"
   ]
  },
  {
   "cell_type": "markdown",
   "id": "42201643-37bd-472c-b3f7-ba10cfeb309a",
   "metadata": {},
   "source": [
    "In this tutorial, we will showcase a few tips and tricks that helps you more easily move between Ponder and SQL. We will be using the [MIMIC-III demo dataset](https://physionet.org/content/mimiciii-demo/1.4/) as an example dataset. The MIMIC-III Clinical Database contains deidentified health-related data of patients who stayed in an intensive care unit (ICU) at the Beth Israel Deaconess Medical Center in Boston. The demo dataset contains records for 100 patients across three tables `PATIENTS`, `ICUSTAYS`, and `ADMISSIONS`. "
   ]
  },
  {
   "cell_type": "markdown",
   "id": "e13d4e70-9c07-4d8c-ae20-64a1fc60115f",
   "metadata": {
    "tags": []
   },
   "source": [
    "### Data Definition (DDL) with SQLAlchemy"
   ]
  },
  {
   "cell_type": "markdown",
   "id": "6119561b-0c30-45a6-8527-8d3a97dd1d5a",
   "metadata": {},
   "source": [
    "In SQL, DDL statements involve modifications to the database schema, e.g., `CREATE`, `ALTER`, `DROP`. Oftentimes, you may want to run a DDL statement alongside your analysis, either via an external query editor or through SQLAlchemy. \n",
    "\n"
   ]
  },
  {
   "cell_type": "code",
   "execution_count": 1,
   "id": "83b09b76-6230-42a0-bd92-6955f2532201",
   "metadata": {},
   "outputs": [],
   "source": [
    "# Install SQLAlchemy if you don't have it already\n",
    "! pip install --upgrade snowflake-sqlalchemy --quiet"
   ]
  },
  {
   "cell_type": "code",
   "execution_count": 2,
   "id": "33b74b11-940d-4950-8f77-ff4c416551ef",
   "metadata": {
    "tags": []
   },
   "outputs": [],
   "source": [
    "import os; os.chdir(\"..\");"
   ]
  },
  {
   "cell_type": "code",
   "execution_count": 3,
   "id": "d97c4782-f733-4837-8d41-76a967aedec7",
   "metadata": {
    "tags": []
   },
   "outputs": [],
   "source": [
    "import credential\n",
    "\n",
    "from snowflake.sqlalchemy import URL\n",
    "from sqlalchemy import create_engine\n",
    "engine = create_engine(URL(\n",
    "    account = credential.params[\"account\"],\n",
    "    user = credential.params[\"user\"],\n",
    "    password = credential.params[\"password\"],\n",
    "    database = credential.params[\"database\"],\n",
    "    schema = credential.params[\"schema\"],\n",
    "    warehouse = credential.params[\"warehouse\"],\n",
    "    role=credential.params[\"role\"],\n",
    "))\n",
    "connection = engine.connect()"
   ]
  },
  {
   "cell_type": "markdown",
   "id": "bc3020f9-9694-4af2-9063-cddd19266ca0",
   "metadata": {},
   "source": [
    "Then we can run the SQL query directly to create a new database named `MIMIC3`"
   ]
  },
  {
   "cell_type": "code",
   "execution_count": 4,
   "id": "ac5d670a-a171-47e0-9491-a6072acc2d2d",
   "metadata": {
    "tags": []
   },
   "outputs": [
    {
     "data": {
      "text/plain": [
       "<sqlalchemy.engine.cursor.LegacyCursorResult at 0x105ca7910>"
      ]
     },
     "execution_count": 4,
     "metadata": {},
     "output_type": "execute_result"
    }
   ],
   "source": [
    "connection.execute(\"CREATE DATABASE IF NOT EXISTS MIMIC3;\") "
   ]
  },
  {
   "cell_type": "markdown",
   "id": "7b3bde16-fe9f-4160-99b4-a4d56a1e7009",
   "metadata": {},
   "source": [
    "Now if we print out the database, we can see the new table MIMIC3 added: "
   ]
  },
  {
   "cell_type": "code",
   "execution_count": 5,
   "id": "f2c656e5-b145-446b-a4ab-3065e60c4ce7",
   "metadata": {
    "tags": []
   },
   "outputs": [],
   "source": [
    "ret = connection.execute(\"SHOW DATABASES;\") "
   ]
  },
  {
   "cell_type": "code",
   "execution_count": 6,
   "id": "fa1fb52b-32af-4901-9534-94edde038786",
   "metadata": {
    "tags": []
   },
   "outputs": [
    {
     "data": {
      "text/html": [
       "<div>\n",
       "<style scoped>\n",
       "    .dataframe tbody tr th:only-of-type {\n",
       "        vertical-align: middle;\n",
       "    }\n",
       "\n",
       "    .dataframe tbody tr th {\n",
       "        vertical-align: top;\n",
       "    }\n",
       "\n",
       "    .dataframe thead th {\n",
       "        text-align: right;\n",
       "    }\n",
       "</style>\n",
       "<table border=\"1\" class=\"dataframe\">\n",
       "  <thead>\n",
       "    <tr style=\"text-align: right;\">\n",
       "      <th></th>\n",
       "      <th>created_on</th>\n",
       "      <th>name</th>\n",
       "      <th>is_default</th>\n",
       "      <th>is_current</th>\n",
       "      <th>origin</th>\n",
       "      <th>owner</th>\n",
       "      <th>comment</th>\n",
       "      <th>options</th>\n",
       "      <th>retention_time</th>\n",
       "    </tr>\n",
       "  </thead>\n",
       "  <tbody>\n",
       "    <tr>\n",
       "      <th>0</th>\n",
       "      <td>2023-01-25 16:54:24-08:00</td>\n",
       "      <td>BOOKS</td>\n",
       "      <td>N</td>\n",
       "      <td>N</td>\n",
       "      <td></td>\n",
       "      <td>ACCOUNTADMIN</td>\n",
       "      <td></td>\n",
       "      <td></td>\n",
       "      <td>1</td>\n",
       "    </tr>\n",
       "    <tr>\n",
       "      <th>1</th>\n",
       "      <td>2023-02-09 18:29:33.032000-08:00</td>\n",
       "      <td>CUSTOMER</td>\n",
       "      <td>N</td>\n",
       "      <td>N</td>\n",
       "      <td></td>\n",
       "      <td>ACCOUNTADMIN</td>\n",
       "      <td></td>\n",
       "      <td></td>\n",
       "      <td>1</td>\n",
       "    </tr>\n",
       "    <tr>\n",
       "      <th>2</th>\n",
       "      <td>2023-03-13 20:19:42.684000-07:00</td>\n",
       "      <td>MIMIC3</td>\n",
       "      <td>N</td>\n",
       "      <td>N</td>\n",
       "      <td></td>\n",
       "      <td>ACCOUNTADMIN</td>\n",
       "      <td></td>\n",
       "      <td></td>\n",
       "      <td>1</td>\n",
       "    </tr>\n",
       "    <tr>\n",
       "      <th>3</th>\n",
       "      <td>2023-01-11 17:38:46.515000-08:00</td>\n",
       "      <td>SNOWFLAKE</td>\n",
       "      <td>N</td>\n",
       "      <td>N</td>\n",
       "      <td>SNOWFLAKE.ACCOUNT_USAGE</td>\n",
       "      <td></td>\n",
       "      <td></td>\n",
       "      <td></td>\n",
       "      <td>1</td>\n",
       "    </tr>\n",
       "    <tr>\n",
       "      <th>4</th>\n",
       "      <td>2023-01-11 17:38:49.125000-08:00</td>\n",
       "      <td>SNOWFLAKE_SAMPLE_DATA</td>\n",
       "      <td>N</td>\n",
       "      <td>N</td>\n",
       "      <td>SFSALESSHARED.SFC_SAMPLES_PROD3.SAMPLE_DATA</td>\n",
       "      <td>ACCOUNTADMIN</td>\n",
       "      <td>Provided by Snowflake during account provisioning</td>\n",
       "      <td></td>\n",
       "      <td>1</td>\n",
       "    </tr>\n",
       "    <tr>\n",
       "      <th>5</th>\n",
       "      <td>2023-01-17 19:15:35.905000-08:00</td>\n",
       "      <td>TEST</td>\n",
       "      <td>N</td>\n",
       "      <td>Y</td>\n",
       "      <td></td>\n",
       "      <td>ACCOUNTADMIN</td>\n",
       "      <td></td>\n",
       "      <td></td>\n",
       "      <td>1</td>\n",
       "    </tr>\n",
       "  </tbody>\n",
       "</table>\n",
       "</div>"
      ],
      "text/plain": [
       "                        created_on                   name is_default  \\\n",
       "0        2023-01-25 16:54:24-08:00                  BOOKS          N   \n",
       "1 2023-02-09 18:29:33.032000-08:00               CUSTOMER          N   \n",
       "2 2023-03-13 20:19:42.684000-07:00                 MIMIC3          N   \n",
       "3 2023-01-11 17:38:46.515000-08:00              SNOWFLAKE          N   \n",
       "4 2023-01-11 17:38:49.125000-08:00  SNOWFLAKE_SAMPLE_DATA          N   \n",
       "5 2023-01-17 19:15:35.905000-08:00                   TEST          N   \n",
       "\n",
       "  is_current                                       origin         owner  \\\n",
       "0          N                                               ACCOUNTADMIN   \n",
       "1          N                                               ACCOUNTADMIN   \n",
       "2          N                                               ACCOUNTADMIN   \n",
       "3          N                      SNOWFLAKE.ACCOUNT_USAGE                 \n",
       "4          N  SFSALESSHARED.SFC_SAMPLES_PROD3.SAMPLE_DATA  ACCOUNTADMIN   \n",
       "5          Y                                               ACCOUNTADMIN   \n",
       "\n",
       "                                             comment options retention_time  \n",
       "0                                                                         1  \n",
       "1                                                                         1  \n",
       "2                                                                         1  \n",
       "3                                                                         1  \n",
       "4  Provided by Snowflake during account provisioning                      1  \n",
       "5                                                                         1  "
      ]
     },
     "execution_count": 6,
     "metadata": {},
     "output_type": "execute_result"
    }
   ],
   "source": [
    "import pandas\n",
    "pandas.DataFrame(ret.all())"
   ]
  },
  {
   "cell_type": "markdown",
   "id": "500047be-bb6a-496a-83cc-c169a58f4194",
   "metadata": {},
   "source": [
    "### Existing SQL DML with Ponder"
   ]
  },
  {
   "cell_type": "code",
   "execution_count": 7,
   "id": "2481eb90-3934-443c-9c4e-c7996b875f73",
   "metadata": {},
   "outputs": [],
   "source": [
    "import os; os.chdir(\"..\")"
   ]
  },
  {
   "cell_type": "markdown",
   "id": "16afc971-155e-4efd-8175-9c2c0940122c",
   "metadata": {},
   "source": [
    "We will be using a few example tables for the remainder of this tutorial. You can run this python script to populate the required datasets to your database. This will populate three different tables `PATIENTS`, `ADMISSIONS`, and `ICUSTAYS` to your database. "
   ]
  },
  {
   "cell_type": "code",
   "execution_count": null,
   "id": "e222b37f-ca2a-4ef7-b7c3-d0b795eb5942",
   "metadata": {},
   "outputs": [],
   "source": [
    "!python populate_mimic3.py > /dev/null 2>&1"
   ]
  },
  {
   "cell_type": "markdown",
   "id": "19310b11-3fe3-46b3-8f03-9e939ff4a2c1",
   "metadata": {},
   "source": [
    "Oftentime, you may already have an existing SQL script that you've been using to join and denormalize some tables or perform some pre-aggregation or ETL before you perform your analysis. You want to reuse that SQL code while working with Ponder for the remaining analysis workflow. In this example, we show how you can feed this into the `pd.read_sql` to operate on the resulting table."
   ]
  },
  {
   "cell_type": "code",
   "execution_count": 8,
   "id": "488f3d7b-c470-4349-b41f-5dd1a96122e3",
   "metadata": {
    "tags": []
   },
   "outputs": [],
   "source": [
    "import credential\n",
    "import ponder.snowflake\n",
    "import modin.pandas as pd\n",
    "credential.params[\"database\"] = \"MIMIC3\"\n",
    "snowflake_con = ponder.snowflake.connect(user=credential.params[\"user\"],password=credential.params[\"password\"],account=credential.params[\"account\"],role=credential.params[\"role\"],database=credential.params[\"database\"],schema=credential.params[\"schema\"],warehouse=credential.params[\"warehouse\"])\n",
    "ponder.snowflake.init(snowflake_con)"
   ]
  },
  {
   "cell_type": "markdown",
   "id": "846673b7-00bc-454d-b84b-4f87319edca5",
   "metadata": {},
   "source": [
    "For example, we may want to use [this existing SQL query](https://mimic.mit.edu/docs/iii/tutorials/intro-to-mimic-iii/#5-patient-age-and-mortality) from the MIT MIMIC-III tutorial to jumpstart our analysis. "
   ]
  },
  {
   "cell_type": "code",
   "execution_count": 9,
   "id": "51691fd9-958d-4a6c-8ba7-76386892727c",
   "metadata": {},
   "outputs": [],
   "source": [
    "df = pd.read_sql('''SELECT p.\"subject_id\", p.\"dob\", a.\"hadm_id\",\n",
    "                    a.\"admittime\", p.\"expire_flag\"\n",
    "                    FROM MIMIC3.PUBLIC.ADMISSIONS as a\n",
    "                    INNER JOIN MIMIC3.PUBLIC.PATIENTS as p\n",
    "                    ON p.\"subject_id\" = a.\"subject_id\"''', con = snowflake_con)"
   ]
  },
  {
   "cell_type": "code",
   "execution_count": 10,
   "id": "377809f1-8759-43be-9621-7b0516df077d",
   "metadata": {
    "tags": []
   },
   "outputs": [
    {
     "data": {
      "text/html": [
       "<div>\n",
       "<style scoped>\n",
       "    .dataframe tbody tr th:only-of-type {\n",
       "        vertical-align: middle;\n",
       "    }\n",
       "\n",
       "    .dataframe tbody tr th {\n",
       "        vertical-align: top;\n",
       "    }\n",
       "\n",
       "    .dataframe thead th {\n",
       "        text-align: right;\n",
       "    }\n",
       "</style>\n",
       "<table border=\"1\" class=\"dataframe\">\n",
       "  <thead>\n",
       "    <tr style=\"text-align: right;\">\n",
       "      <th></th>\n",
       "      <th>subject_id</th>\n",
       "      <th>dob</th>\n",
       "      <th>hadm_id</th>\n",
       "      <th>admittime</th>\n",
       "      <th>expire_flag</th>\n",
       "    </tr>\n",
       "  </thead>\n",
       "  <tbody>\n",
       "    <tr>\n",
       "      <th>0</th>\n",
       "      <td>10006</td>\n",
       "      <td>2094-03-05 00:00:00</td>\n",
       "      <td>142345</td>\n",
       "      <td>2164-10-23 21:09:00</td>\n",
       "      <td>1</td>\n",
       "    </tr>\n",
       "    <tr>\n",
       "      <th>1</th>\n",
       "      <td>10011</td>\n",
       "      <td>2090-06-05 00:00:00</td>\n",
       "      <td>105331</td>\n",
       "      <td>2126-08-14 22:32:00</td>\n",
       "      <td>1</td>\n",
       "    </tr>\n",
       "    <tr>\n",
       "      <th>2</th>\n",
       "      <td>10013</td>\n",
       "      <td>2038-09-03 00:00:00</td>\n",
       "      <td>165520</td>\n",
       "      <td>2125-10-04 23:36:00</td>\n",
       "      <td>1</td>\n",
       "    </tr>\n",
       "    <tr>\n",
       "      <th>3</th>\n",
       "      <td>10017</td>\n",
       "      <td>2075-09-21 00:00:00</td>\n",
       "      <td>199207</td>\n",
       "      <td>2149-05-26 17:19:00</td>\n",
       "      <td>1</td>\n",
       "    </tr>\n",
       "    <tr>\n",
       "      <th>4</th>\n",
       "      <td>10019</td>\n",
       "      <td>2114-06-20 00:00:00</td>\n",
       "      <td>177759</td>\n",
       "      <td>2163-05-14 20:43:00</td>\n",
       "      <td>1</td>\n",
       "    </tr>\n",
       "    <tr>\n",
       "      <th>...</th>\n",
       "      <td>...</td>\n",
       "      <td>...</td>\n",
       "      <td>...</td>\n",
       "      <td>...</td>\n",
       "      <td>...</td>\n",
       "    </tr>\n",
       "    <tr>\n",
       "      <th>124</th>\n",
       "      <td>44083</td>\n",
       "      <td>2057-11-15 00:00:00</td>\n",
       "      <td>198330</td>\n",
       "      <td>2112-05-28 15:45:00</td>\n",
       "      <td>1</td>\n",
       "    </tr>\n",
       "    <tr>\n",
       "      <th>125</th>\n",
       "      <td>44154</td>\n",
       "      <td>1878-05-14 00:00:00</td>\n",
       "      <td>174245</td>\n",
       "      <td>2178-05-14 20:29:00</td>\n",
       "      <td>1</td>\n",
       "    </tr>\n",
       "    <tr>\n",
       "      <th>126</th>\n",
       "      <td>44212</td>\n",
       "      <td>2078-06-16 00:00:00</td>\n",
       "      <td>163189</td>\n",
       "      <td>2123-11-24 14:14:00</td>\n",
       "      <td>1</td>\n",
       "    </tr>\n",
       "    <tr>\n",
       "      <th>127</th>\n",
       "      <td>44222</td>\n",
       "      <td>2107-06-27 00:00:00</td>\n",
       "      <td>192189</td>\n",
       "      <td>2180-07-19 06:55:00</td>\n",
       "      <td>1</td>\n",
       "    </tr>\n",
       "    <tr>\n",
       "      <th>128</th>\n",
       "      <td>44228</td>\n",
       "      <td>2112-10-22 00:00:00</td>\n",
       "      <td>103379</td>\n",
       "      <td>2170-12-15 03:14:00</td>\n",
       "      <td>1</td>\n",
       "    </tr>\n",
       "  </tbody>\n",
       "</table>\n",
       "<p>129 rows x 5 columns</p>\n",
       "</div>"
      ],
      "text/plain": [
       "     subject_id                  dob  hadm_id            admittime  \\\n",
       "0         10006  2094-03-05 00:00:00   142345  2164-10-23 21:09:00   \n",
       "1         10011  2090-06-05 00:00:00   105331  2126-08-14 22:32:00   \n",
       "2         10013  2038-09-03 00:00:00   165520  2125-10-04 23:36:00   \n",
       "3         10017  2075-09-21 00:00:00   199207  2149-05-26 17:19:00   \n",
       "4         10019  2114-06-20 00:00:00   177759  2163-05-14 20:43:00   \n",
       "..          ...                  ...      ...                  ...   \n",
       "124       44083  2057-11-15 00:00:00   198330  2112-05-28 15:45:00   \n",
       "125       44154  1878-05-14 00:00:00   174245  2178-05-14 20:29:00   \n",
       "126       44212  2078-06-16 00:00:00   163189  2123-11-24 14:14:00   \n",
       "127       44222  2107-06-27 00:00:00   192189  2180-07-19 06:55:00   \n",
       "128       44228  2112-10-22 00:00:00   103379  2170-12-15 03:14:00   \n",
       "\n",
       "     expire_flag  \n",
       "0              1  \n",
       "1              1  \n",
       "2              1  \n",
       "3              1  \n",
       "4              1  \n",
       "..           ...  \n",
       "124            1  \n",
       "125            1  \n",
       "126            1  \n",
       "127            1  \n",
       "128            1  \n",
       "\n",
       "[129 rows x 5 columns]"
      ]
     },
     "execution_count": 10,
     "metadata": {},
     "output_type": "execute_result"
    }
   ],
   "source": [
    "df"
   ]
  },
  {
   "cell_type": "markdown",
   "id": "99e022f1-8bbf-4f97-b265-173415c00f6f",
   "metadata": {},
   "source": [
    "Then we can continue using Ponder by writing pandas as always."
   ]
  },
  {
   "cell_type": "code",
   "execution_count": 11,
   "id": "7880e9c7-0ac8-4208-b9ea-18e9c9990e1b",
   "metadata": {
    "tags": []
   },
   "outputs": [],
   "source": [
    "df[\"dob\"] = pd.to_datetime(df[\"dob\"])\n",
    "df[\"admittime\"] = pd.to_datetime(df[\"admittime\"])"
   ]
  },
  {
   "cell_type": "code",
   "execution_count": 12,
   "id": "c8e01754-4685-418e-8d62-927914bfe894",
   "metadata": {
    "tags": []
   },
   "outputs": [],
   "source": [
    "df[\"age\"] = df[\"admittime\"].dt.year  - df[\"dob\"].dt.year"
   ]
  },
  {
   "cell_type": "code",
   "execution_count": 13,
   "id": "9a9efb8f-3f08-4c1f-a5a6-7ad76806d142",
   "metadata": {
    "tags": []
   },
   "outputs": [
    {
     "data": {
      "text/plain": [
       "0       70\n",
       "1       36\n",
       "2       87\n",
       "3       74\n",
       "4       49\n",
       "      ... \n",
       "124     55\n",
       "125    300\n",
       "126     45\n",
       "127     73\n",
       "128     58\n",
       "Name: age, Length: 129, dtype: int32"
      ]
     },
     "execution_count": 13,
     "metadata": {},
     "output_type": "execute_result"
    }
   ],
   "source": [
    "df[\"age\"]"
   ]
  },
  {
   "cell_type": "markdown",
   "id": "5b6d7a31-9713-4932-b08e-26f6f4867601",
   "metadata": {},
   "source": [
    "### Working with multiple tables"
   ]
  },
  {
   "cell_type": "markdown",
   "id": "626f2c71-3a51-4e88-b38e-45b6c9197469",
   "metadata": {},
   "source": [
    "With Ponder, you can work with multiple tables at the same time by creating different dataframes using the `read_sql` or `read_csv` command."
   ]
  },
  {
   "cell_type": "code",
   "execution_count": 14,
   "id": "12f6b2e2-4e65-4aeb-9c66-e8656af36304",
   "metadata": {},
   "outputs": [],
   "source": [
    "patients = pd.read_sql(\"PATIENTS\", con=snowflake_con)\n",
    "admissions = pd.read_sql(\"ADMISSIONS\", con=snowflake_con)"
   ]
  },
  {
   "cell_type": "markdown",
   "id": "8bc6eb01-50fd-4b3c-bb99-b87f220e4915",
   "metadata": {},
   "source": [
    "Now we can work with these two dataframes in pandas. Here, we perform the same query as the SQL query above: \n",
    "```sql\n",
    "SELECT p.\"subject_id\", p.\"dob\", a.\"hadm_id\",\n",
    "        a.\"admittime\", p.\"expire_flag\"\n",
    "        FROM MIMIC3.PUBLIC.ADMISSIONS as a\n",
    "        INNER JOIN MIMIC3.PUBLIC.PATIENTS as p\n",
    "        ON p.\"subject_id\" = a.\"subject_id\"\n",
    "```"
   ]
  },
  {
   "cell_type": "code",
   "execution_count": 16,
   "id": "9a5620ba-ab16-4bcd-803d-023aa50e731e",
   "metadata": {
    "tags": []
   },
   "outputs": [
    {
     "data": {
      "text/html": [
       "<div>\n",
       "<style scoped>\n",
       "    .dataframe tbody tr th:only-of-type {\n",
       "        vertical-align: middle;\n",
       "    }\n",
       "\n",
       "    .dataframe tbody tr th {\n",
       "        vertical-align: top;\n",
       "    }\n",
       "\n",
       "    .dataframe thead th {\n",
       "        text-align: right;\n",
       "    }\n",
       "</style>\n",
       "<table border=\"1\" class=\"dataframe\">\n",
       "  <thead>\n",
       "    <tr style=\"text-align: right;\">\n",
       "      <th></th>\n",
       "      <th>subject_id</th>\n",
       "      <th>dob</th>\n",
       "      <th>hadm_id</th>\n",
       "      <th>admittime</th>\n",
       "      <th>expire_flag</th>\n",
       "    </tr>\n",
       "  </thead>\n",
       "  <tbody>\n",
       "    <tr>\n",
       "      <th>0</th>\n",
       "      <td>10006</td>\n",
       "      <td>2094-03-05 00:00:00</td>\n",
       "      <td>142345</td>\n",
       "      <td>2164-10-23 21:09:00</td>\n",
       "      <td>1</td>\n",
       "    </tr>\n",
       "    <tr>\n",
       "      <th>1</th>\n",
       "      <td>10011</td>\n",
       "      <td>2090-06-05 00:00:00</td>\n",
       "      <td>105331</td>\n",
       "      <td>2126-08-14 22:32:00</td>\n",
       "      <td>1</td>\n",
       "    </tr>\n",
       "    <tr>\n",
       "      <th>2</th>\n",
       "      <td>10013</td>\n",
       "      <td>2038-09-03 00:00:00</td>\n",
       "      <td>165520</td>\n",
       "      <td>2125-10-04 23:36:00</td>\n",
       "      <td>1</td>\n",
       "    </tr>\n",
       "    <tr>\n",
       "      <th>3</th>\n",
       "      <td>10017</td>\n",
       "      <td>2075-09-21 00:00:00</td>\n",
       "      <td>199207</td>\n",
       "      <td>2149-05-26 17:19:00</td>\n",
       "      <td>1</td>\n",
       "    </tr>\n",
       "    <tr>\n",
       "      <th>4</th>\n",
       "      <td>10019</td>\n",
       "      <td>2114-06-20 00:00:00</td>\n",
       "      <td>177759</td>\n",
       "      <td>2163-05-14 20:43:00</td>\n",
       "      <td>1</td>\n",
       "    </tr>\n",
       "    <tr>\n",
       "      <th>...</th>\n",
       "      <td>...</td>\n",
       "      <td>...</td>\n",
       "      <td>...</td>\n",
       "      <td>...</td>\n",
       "      <td>...</td>\n",
       "    </tr>\n",
       "    <tr>\n",
       "      <th>124</th>\n",
       "      <td>44083</td>\n",
       "      <td>2057-11-15 00:00:00</td>\n",
       "      <td>198330</td>\n",
       "      <td>2112-05-28 15:45:00</td>\n",
       "      <td>1</td>\n",
       "    </tr>\n",
       "    <tr>\n",
       "      <th>125</th>\n",
       "      <td>44154</td>\n",
       "      <td>1878-05-14 00:00:00</td>\n",
       "      <td>174245</td>\n",
       "      <td>2178-05-14 20:29:00</td>\n",
       "      <td>1</td>\n",
       "    </tr>\n",
       "    <tr>\n",
       "      <th>126</th>\n",
       "      <td>44212</td>\n",
       "      <td>2078-06-16 00:00:00</td>\n",
       "      <td>163189</td>\n",
       "      <td>2123-11-24 14:14:00</td>\n",
       "      <td>1</td>\n",
       "    </tr>\n",
       "    <tr>\n",
       "      <th>127</th>\n",
       "      <td>44222</td>\n",
       "      <td>2107-06-27 00:00:00</td>\n",
       "      <td>192189</td>\n",
       "      <td>2180-07-19 06:55:00</td>\n",
       "      <td>1</td>\n",
       "    </tr>\n",
       "    <tr>\n",
       "      <th>128</th>\n",
       "      <td>44228</td>\n",
       "      <td>2112-10-22 00:00:00</td>\n",
       "      <td>103379</td>\n",
       "      <td>2170-12-15 03:14:00</td>\n",
       "      <td>1</td>\n",
       "    </tr>\n",
       "  </tbody>\n",
       "</table>\n",
       "<p>129 rows x 5 columns</p>\n",
       "</div>"
      ],
      "text/plain": [
       "     subject_id                  dob  hadm_id            admittime  \\\n",
       "0         10006  2094-03-05 00:00:00   142345  2164-10-23 21:09:00   \n",
       "1         10011  2090-06-05 00:00:00   105331  2126-08-14 22:32:00   \n",
       "2         10013  2038-09-03 00:00:00   165520  2125-10-04 23:36:00   \n",
       "3         10017  2075-09-21 00:00:00   199207  2149-05-26 17:19:00   \n",
       "4         10019  2114-06-20 00:00:00   177759  2163-05-14 20:43:00   \n",
       "..          ...                  ...      ...                  ...   \n",
       "124       44083  2057-11-15 00:00:00   198330  2112-05-28 15:45:00   \n",
       "125       44154  1878-05-14 00:00:00   174245  2178-05-14 20:29:00   \n",
       "126       44212  2078-06-16 00:00:00   163189  2123-11-24 14:14:00   \n",
       "127       44222  2107-06-27 00:00:00   192189  2180-07-19 06:55:00   \n",
       "128       44228  2112-10-22 00:00:00   103379  2170-12-15 03:14:00   \n",
       "\n",
       "     expire_flag  \n",
       "0              1  \n",
       "1              1  \n",
       "2              1  \n",
       "3              1  \n",
       "4              1  \n",
       "..           ...  \n",
       "124            1  \n",
       "125            1  \n",
       "126            1  \n",
       "127            1  \n",
       "128            1  \n",
       "\n",
       "[129 rows x 5 columns]"
      ]
     },
     "execution_count": 16,
     "metadata": {},
     "output_type": "execute_result"
    }
   ],
   "source": [
    "patients.merge(admissions,on=\"subject_id\")[[\"subject_id\", \"dob\", \"hadm_id\",\"admittime\", \"expire_flag\"]]"
   ]
  }
 ],
 "metadata": {
  "kernelspec": {
   "display_name": "Python 3 (ipykernel)",
   "language": "python",
   "name": "python3"
  },
  "language_info": {
   "codemirror_mode": {
    "name": "ipython",
    "version": 3
   },
   "file_extension": ".py",
   "mimetype": "text/x-python",
   "name": "python",
   "nbconvert_exporter": "python",
   "pygments_lexer": "ipython3",
   "version": "3.10.6"
  }
 },
 "nbformat": 4,
 "nbformat_minor": 5
}
