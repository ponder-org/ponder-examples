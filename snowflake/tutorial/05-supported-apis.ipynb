{
 "cells": [
  {
   "cell_type": "markdown",
   "id": "33878454-9235-454f-a409-d96139cb77e9",
   "metadata": {},
   "source": [
    "# Tutorial 5: Supported APIs"
   ]
  },
  {
   "cell_type": "code",
   "execution_count": null,
   "id": "60f9ff72-a3f5-412a-a1c0-4b037711bb9c",
   "metadata": {
    "tags": []
   },
   "outputs": [],
   "source": [
    "import os; os.chdir(\"..\")\n",
    "import credential\n",
    "import ponder.snowflake\n",
    "import modin.pandas as pd\n",
    "snowflake_con = ponder.snowflake.connect(user=credential.params[\"user\"],password=credential.params[\"password\"],account=credential.params[\"account\"],role=credential.params[\"role\"],database=credential.params[\"database\"],schema=credential.params[\"schema\"],warehouse=credential.params[\"warehouse\"])\n",
    "ponder.snowflake.init(snowflake_con,enable_ssl=True)"
   ]
  },
  {
   "cell_type": "markdown",
   "id": "37e504e4-660d-4f0a-9446-7aad1ed3d603",
   "metadata": {},
   "source": [
    "Ponder aims to be a drop-in replacement for pandas, we are working to support as much of the pandas API as possible, but it is possible that certain pandas APIs are not currently supported in Ponder. You can find a full list of pandas APIs we support [here](https://docs.ponder.io/overviewAPI/dataframes.html)."
   ]
  },
  {
   "cell_type": "markdown",
   "id": "168044fa-6340-4288-8865-bad85c70d260",
   "metadata": {},
   "source": [
    "### What happens when an API is not supported in Ponder?"
   ]
  },
  {
   "cell_type": "markdown",
   "id": "d4d47ff3-3f11-41b1-b50f-3370e2ed99b3",
   "metadata": {},
   "source": [
    "In the case where you are using a function that is not yet supported, you will get an `NotImplementedError`. "
   ]
  },
  {
   "cell_type": "code",
   "execution_count": null,
   "id": "9f023bcb-8b11-4dcb-9bb1-bf1c6509ce90",
   "metadata": {
    "tags": []
   },
   "outputs": [],
   "source": [
    "df = pd.read_csv(\"https://raw.githubusercontent.com/ponder-org/ponder-datasets/main/tpch/orders.csv\", header=0)\n",
    "num_df = df.select_dtypes(\"number\")"
   ]
  },
  {
   "cell_type": "markdown",
   "id": "615ba6d4-c050-476a-a925-92ebf46bfa36",
   "metadata": {},
   "source": [
    "For example, here we are using the `.corr()` function to compute the correlation matrix. This is not currently implemented in Ponder, so running this will throw a `NotImplementedError`."
   ]
  },
  {
   "cell_type": "code",
   "execution_count": null,
   "id": "728abee0-81d1-424f-85e5-89ac1723ec42",
   "metadata": {
    "tags": []
   },
   "outputs": [],
   "source": [
    "num_df.corr()"
   ]
  },
  {
   "cell_type": "markdown",
   "id": "beac5319-9160-429d-af5c-41283a03e8fb",
   "metadata": {},
   "source": [
    "If you are running into this error, please send us the specific dataset and APIs that you’re using to support@ponder.io, so that we can suggest a possible solution. "
   ]
  },
  {
   "cell_type": "markdown",
   "id": "f1516af6-bcc4-428a-97a8-ca4292e86484",
   "metadata": {},
   "source": [
    "Note that in such cases, there may be ways to rewrite the query in a different way that leverages the [APIs we support](https://docs.ponder.io/overviewAPI/dataframes.html). "
   ]
  },
  {
   "cell_type": "markdown",
   "id": "db7862d2-8bf2-4d28-8446-382237f05ce9",
   "metadata": {},
   "source": [
    "### Workaround: Defaulting to Pandas"
   ]
  },
  {
   "cell_type": "markdown",
   "id": "65eec275-6dcf-4ec6-906d-457b71d4e8af",
   "metadata": {},
   "source": [
    "Alternatively, you can access the underlying pandas dataframe via the `_to_pandas` helper method. Note that when you call `_to_pandas`, your entire table from your warehouse is now pull into memory since pandas operates in memory. Beware that this can incur a high I/O cost if you have a very large table, so please do so with care. In this case, we have a very small table, so it is ok to default to pandas as a workaround."
   ]
  },
  {
   "cell_type": "code",
   "execution_count": null,
   "id": "b10980d3-d89b-4861-9b05-2ae42192bd01",
   "metadata": {
    "tags": []
   },
   "outputs": [],
   "source": [
    "num_df.shape"
   ]
  },
  {
   "cell_type": "markdown",
   "id": "ca9564cd-ce8b-446f-a46d-c49e37034b6a",
   "metadata": {},
   "source": [
    "Our original dataframe is a Modin DataFrame:"
   ]
  },
  {
   "cell_type": "code",
   "execution_count": null,
   "id": "bcd2fd24-d5bd-4d4a-b74e-416dc13ed799",
   "metadata": {
    "tags": []
   },
   "outputs": [],
   "source": [
    "type(num_df)"
   ]
  },
  {
   "cell_type": "markdown",
   "id": "bdc52e24-d712-4d2b-b204-54c310e7feb8",
   "metadata": {},
   "source": [
    "`_to_pandas` returns a pandas DataFrame:"
   ]
  },
  {
   "cell_type": "code",
   "execution_count": null,
   "id": "627d8616-1580-4fe3-9e76-a21069f027de",
   "metadata": {
    "tags": []
   },
   "outputs": [],
   "source": [
    "type(num_df._to_pandas())"
   ]
  },
  {
   "cell_type": "markdown",
   "id": "2c5c1441-5fe3-45d3-a2b0-4e8b528a8e19",
   "metadata": {
    "tags": []
   },
   "source": [
    "We can then default to using pandas's implementation for `.corr()` to get our result. "
   ]
  },
  {
   "cell_type": "code",
   "execution_count": null,
   "id": "b9e5346f-b0c9-4469-b1f3-fb3c1cd1bb36",
   "metadata": {
    "tags": []
   },
   "outputs": [],
   "source": [
    "num_df._to_pandas().corr()"
   ]
  }
 ],
 "metadata": {
  "kernelspec": {
   "display_name": "Python 3 (ipykernel)",
   "language": "python",
   "name": "python3"
  },
  "language_info": {
   "codemirror_mode": {
    "name": "ipython",
    "version": 3
   },
   "file_extension": ".py",
   "mimetype": "text/x-python",
   "name": "python",
   "nbconvert_exporter": "python",
   "pygments_lexer": "ipython3",
   "version": "3.10.6"
  }
 },
 "nbformat": 4,
 "nbformat_minor": 5
}
