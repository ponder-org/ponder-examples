{
 "cells": [
  {
   "cell_type": "markdown",
   "id": "0f83ca75-7883-4139-b1ad-3c67ba1fbcbf",
   "metadata": {},
   "source": [
    "Ponder uses your data warehouse as an engine, so we need to establish a connection with Snowflake in order to start querying the data. The code below shows how you can configure the database connection in **Snowflake** data warehouses."
   ]
  },
  {
   "cell_type": "markdown",
   "id": "ed3d15a1-4b6d-4885-9528-34fb43540960",
   "metadata": {},
   "source": [
    "<div class=\"alert alert-block alert-info\"> <b>Note: </b> <spam> If can not find the Snowflake account information you need to set up your database connection in <b>ponder.snowflake.connect</b>, please follow our <a href=\"https://docs.ponder.io/resources/SnowflakeInfo.html\">step-by-step guide</a> here for more information. </spam></div>"
   ]
  },
  {
   "cell_type": "markdown",
   "id": "95fb5b0e-1494-4342-9ced-5332d27480ad",
   "metadata": {},
   "source": [
    "## Connect to Snowflake"
   ]
  },
  {
   "cell_type": "code",
   "execution_count": 3,
   "id": "c193b0c1-2133-42e0-b922-eceee95bda74",
   "metadata": {},
   "outputs": [
    {
     "name": "stdout",
     "output_type": "stream",
     "text": [
      "setting client_row_transfer_limit = 10000\n",
      "\n",
      "Connected to\n",
      "       ___               __\n",
      "      / _ \\___  ___  ___/ /__ ____\n",
      "     / ___/ _ \\/ _ \\/ _  / -_) __/\n",
      "    /_/___\\___/_//_/\\_,_/\\__/_/\n",
      "      / __/__ _____  _____ ____\n",
      "     _\\ \\/ -_) __/ |/ / -_) __/\n",
      "    /___/\\__/_/  |___/\\__/_/\n",
      "\n"
     ]
    }
   ],
   "source": [
    "import modin.pandas as pd\n",
    "import ponder.snowflake\n",
    "from ponder.utils.core import Teleporter\n",
    "\n",
    "# Create a Ponder Snowflake Connections object\n",
    "snowflake_con = ponder.snowflake.connect(\n",
    "    user=\"*****\",\n",
    "    password=\"*****\",\n",
    "    account=\"*****\",\n",
    "    role=\"*****\",\n",
    "    database=\"*****\",\n",
    "    schema=\"*****\",\n",
    "    warehouse=\"*****\",\n",
    ")\n",
    "\n",
    "# Initialize the Snowflake connection\n",
    "ponder.snowflake.init(snowflake_con, timeout=1200)\n"
   ]
  }
 ],
 "metadata": {
  "kernelspec": {
   "display_name": "Python 3 (ipykernel)",
   "language": "python",
   "name": "python3"
  },
  "language_info": {
   "codemirror_mode": {
    "name": "ipython",
    "version": 3
   },
   "file_extension": ".py",
   "mimetype": "text/x-python",
   "name": "python",
   "nbconvert_exporter": "python",
   "pygments_lexer": "ipython3",
   "version": "3.10.8"
  }
 },
 "nbformat": 4,
 "nbformat_minor": 5
}
