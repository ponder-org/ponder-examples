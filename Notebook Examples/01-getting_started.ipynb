{
 "cells": [
  {
   "cell_type": "markdown",
   "id": "57c6b83b-d5e8-47f6-81b9-d2c4761ae9e8",
   "metadata": {
    "tags": []
   },
   "source": [
    "## Let's start pondering 🌡️\n",
    "\n",
    "Just to get you warmed up and familiar with this toy dataset, let’s try a few queries. \n",
    "\n",
    "First, let's try to initialize the Ponder connection. "
   ]
  },
  {
   "cell_type": "code",
   "execution_count": null,
   "id": "b74c49b4-999a-4db4-8c91-8ebab230c2a8",
   "metadata": {},
   "outputs": [],
   "source": [
    "import modin.pandas as pd\n",
    "import ponder.snowflake\n",
    "from ponder.utils.core import Teleporter\n",
    "\n",
    "# Initialize snowflake connection here \n",
    "snowflake_con = ponder.snowflake.connect(\n",
    "    user=\"PONDER\",\n",
    "    password=\"***REMOVED***\",\n",
    "    account=\"***REMOVED***\",\n",
    "    role=\"ACCOUNTADMIN\",\n",
    "    database=\"TAXI\",\n",
    "    schema=\"PUBLIC\",\n",
    "    warehouse=\"PONDER\",\n",
    ")\n",
    "ponder.snowflake.init(snowflake_con, timeout=1200)"
   ]
  },
  {
   "cell_type": "markdown",
   "id": "d82a1849-d53c-4c63-a31e-747445fabec2",
   "metadata": {},
   "source": [
    "Now that we have the connection initialized. Let's read the **YELLOW_TRIPDATA_O** table that already exists in your database. This dataset shows yellow taxi trip data in New York city."
   ]
  },
  {
   "cell_type": "code",
   "execution_count": null,
   "id": "6f7737dd-03ae-4b6f-aeaf-378609b9d5d2",
   "metadata": {
    "tags": []
   },
   "outputs": [],
   "source": [
    "df = pd.read_sql(\"YELLOW_TRIPDATA_O\", con='auto')"
   ]
  },
  {
   "cell_type": "markdown",
   "id": "99f190bc-060d-474c-8424-f75f0364ceaf",
   "metadata": {},
   "source": [
    "Now that you have read the dataset, let's see what is in the dataset."
   ]
  },
  {
   "cell_type": "code",
   "execution_count": null,
   "id": "0fab392c-75d4-4a3b-b0b7-f16f72205ba5",
   "metadata": {},
   "outputs": [],
   "source": [
    "df.head()"
   ]
  },
  {
   "cell_type": "markdown",
   "id": "2d6fb989-59bd-4b7f-9ba4-deabc8ea948a",
   "metadata": {},
   "source": [
    "Next, we look at the size of our dataset."
   ]
  },
  {
   "cell_type": "code",
   "execution_count": null,
   "id": "939a8961-d95d-4cd5-9db0-a3cb89fe5702",
   "metadata": {},
   "outputs": [],
   "source": [
    "df.size"
   ]
  },
  {
   "cell_type": "markdown",
   "id": "62c872c0-610b-4c2f-8773-09a70d7091bd",
   "metadata": {},
   "source": [
    "We filter out all trips with more than two passengers."
   ]
  },
  {
   "cell_type": "code",
   "execution_count": null,
   "id": "976ce12e-c866-4649-9239-e08a885f0930",
   "metadata": {},
   "outputs": [],
   "source": [
    "df2= df[df['PASSENGER_COUNT']>2]"
   ]
  },
  {
   "cell_type": "markdown",
   "id": "685aa2bb-60a0-4434-9ea0-6a555383cc66",
   "metadata": {},
   "source": [
    "Finally, we would like to see the most common payment methods in these trips. "
   ]
  },
  {
   "cell_type": "code",
   "execution_count": null,
   "id": "5e78a7e4-322f-4133-af40-9a8e97a50e74",
   "metadata": {},
   "outputs": [],
   "source": [
    "# write your code here\n",
    "df.groupby('PAYMENT_TYPE').count()"
   ]
  }
 ],
 "metadata": {
  "kernelspec": {
   "display_name": "Python 3 (ipykernel)",
   "language": "python",
   "name": "python3"
  },
  "language_info": {
   "codemirror_mode": {
    "name": "ipython",
    "version": 3
   },
   "file_extension": ".py",
   "mimetype": "text/x-python",
   "name": "python",
   "nbconvert_exporter": "python",
   "pygments_lexer": "ipython3",
   "version": "3.10.8"
  }
 },
 "nbformat": 4,
 "nbformat_minor": 5
}
