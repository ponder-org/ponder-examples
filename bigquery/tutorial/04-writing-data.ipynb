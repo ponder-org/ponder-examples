{
 "cells": [
  {
   "cell_type": "markdown",
   "id": "959f612e-92e3-4bde-8f48-22ca66604625",
   "metadata": {},
   "source": [
    "# Tutorial 4: Saving Your Results"
   ]
  },
  {
   "cell_type": "code",
   "execution_count": null,
   "id": "643150ee-2715-4508-8b77-18801ca4c1c9",
   "metadata": {
    "tags": []
   },
   "outputs": [],
   "source": [
    "import os; os.chdir(\"..\")\n",
    "import credential\n",
    "import ponder.bigquery\n",
    "import modin.pandas as pd\n",
    "bigquery_con = ponder.bigquery.connect(user=credential.params[\"user\"],password=credential.params[\"password\"],account=credential.params[\"account\"],role=credential.params[\"role\"],database=credential.params[\"database\"],schema=credential.params[\"schema\"],warehouse=credential.params[\"warehouse\"])\n",
    "ponder.bigquery.init(bigquery_con,enable_ssl=True)"
   ]
  },
  {
   "cell_type": "markdown",
   "id": "267738c2-7b12-4e77-8097-929e77e9dea5",
   "metadata": {},
   "source": [
    "Let's say that you used Ponder to run some analysis and you want to store the results back to the database. In this tutorial, we will show how you can use the ``to_sql`` command to write your dataframe to table in your database. "
   ]
  },
  {
   "cell_type": "code",
   "execution_count": null,
   "id": "f62f06a0-7270-4ab7-a5a8-339bb313537f",
   "metadata": {},
   "outputs": [],
   "source": [
    "df = pd.read_sql(\"PONDER_CITIBIKE\",con=bigquery_con)"
   ]
  },
  {
   "cell_type": "markdown",
   "id": "55bffaf2-1840-48c9-9261-27b8a8e30ec6",
   "metadata": {},
   "source": [
    "After connecting to our `PONDER_CITIBIKE` table, we see that there are a lot of records with missing values. So we drop these rows to clean up our dataset."
   ]
  },
  {
   "cell_type": "code",
   "execution_count": null,
   "id": "758b69fb-e1d8-415d-a28f-0348c8470fba",
   "metadata": {},
   "outputs": [],
   "source": [
    "df_cleaned = df.dropna()"
   ]
  },
  {
   "cell_type": "code",
   "execution_count": null,
   "id": "2b34d144-91a8-4c2e-ab73-f16a94320fb5",
   "metadata": {},
   "outputs": [],
   "source": [
    "df_cleaned"
   ]
  },
  {
   "cell_type": "markdown",
   "id": "cb7fd65b-23d2-4f57-af56-19045d84edb9",
   "metadata": {},
   "source": [
    "Like in pandas, when you are working with a dataframe, you are always working on a temporary copy of the data. \n",
    "\n",
    "By default, all pandas operations returns a copy of the dataframe that was operated on. Ponder never make any modifications to your original data. This is especially important in the data warehouse context as the tables are often regarded as the “source of truth” and can be shared across many teams."
   ]
  },
  {
   "cell_type": "markdown",
   "id": "4c9556ad-40d4-4596-a739-eb515413ee42",
   "metadata": {},
   "source": [
    "This also means that the reference to your dataframe df is only accessible throughout the session. That means that once you exit the session, the dataframe is no longer accessible. \n",
    "\n",
    "So if we plan to use the cleaned up data for our analysis later, we can persist it in a table via `to_sql`."
   ]
  },
  {
   "cell_type": "code",
   "execution_count": null,
   "id": "1bd9d650-2f4e-4bc3-b92f-ced6bab97837",
   "metadata": {},
   "outputs": [],
   "source": [
    "df_cleaned.to_sql(\"PONDER_CITIBIKE_CLEANED\",con=bigquery_con, index=False)"
   ]
  },
  {
   "cell_type": "markdown",
   "id": "8c765dbf-88f5-429f-a4a4-7c765b92ca9f",
   "metadata": {},
   "source": [
    "Now we can access new new table and continue our analysis whereever we want:"
   ]
  },
  {
   "cell_type": "code",
   "execution_count": null,
   "id": "e4eb4377-f6c8-4bbe-b0bd-9bbe19292ff8",
   "metadata": {},
   "outputs": [],
   "source": [
    "pd.read_sql(\"PONDER_CITIBIKE_CLEANED\",\"auto\")"
   ]
  }
 ],
 "metadata": {
  "kernelspec": {
   "display_name": "Python 3 (ipykernel)",
   "language": "python",
   "name": "python3"
  },
  "language_info": {
   "codemirror_mode": {
    "name": "ipython",
    "version": 3
   },
   "file_extension": ".py",
   "mimetype": "text/x-python",
   "name": "python",
   "nbconvert_exporter": "python",
   "pygments_lexer": "ipython3",
   "version": "3.10.6"
  }
 },
 "nbformat": 4,
 "nbformat_minor": 5
}
