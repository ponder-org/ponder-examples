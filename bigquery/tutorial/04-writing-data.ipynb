{
 "cells": [
  {
   "cell_type": "markdown",
   "id": "959f612e-92e3-4bde-8f48-22ca66604625",
   "metadata": {},
   "source": [
    "# Tutorial 4: Saving Your Results"
   ]
  },
  {
   "cell_type": "code",
   "execution_count": null,
   "id": "643150ee-2715-4508-8b77-18801ca4c1c9",
   "metadata": {
    "tags": []
   },
   "outputs": [],
   "source": [
    "import ponder.bigquery\n",
    "import modin.pandas as pd\n",
    "import json; import os \n",
    "creds = json.load(open(os.path.expanduser(\"credential.json\")))\n",
    "bigquery_con = ponder.bigquery.connect(creds, schema = \"TEST\")\n",
    "ponder.bigquery.init(bigquery_con)"
   ]
  },
  {
   "cell_type": "markdown",
   "id": "267738c2-7b12-4e77-8097-929e77e9dea5",
   "metadata": {},
   "source": [
    "Let's say that you used Ponder to run some analysis and you want to store the results back to the database. In this tutorial, we will show how you can use the ``to_sql`` command to write your dataframe to table in your database. "
   ]
  },
  {
   "cell_type": "code",
   "execution_count": null,
   "id": "f62f06a0-7270-4ab7-a5a8-339bb313537f",
   "metadata": {
    "tags": []
   },
   "outputs": [],
   "source": [
    "df = pd.read_sql(\"PONDER_CUSTOMER\",con=bigquery_con)"
   ]
  },
  {
   "cell_type": "markdown",
   "id": "55bffaf2-1840-48c9-9261-27b8a8e30ec6",
   "metadata": {},
   "source": [
    "After connecting to our `PONDER_CUSTOMER` table, we see that the `C_NAME` column needs to cleaned up."
   ]
  },
  {
   "cell_type": "code",
   "execution_count": null,
   "id": "6fde85cd-9350-461c-be7a-b15e4e2a20de",
   "metadata": {
    "tags": []
   },
   "outputs": [],
   "source": [
    "df.C_NAME = df.C_NAME.str.replace(\"Customer#\",'')"
   ]
  },
  {
   "cell_type": "markdown",
   "id": "cb7fd65b-23d2-4f57-af56-19045d84edb9",
   "metadata": {},
   "source": [
    "Like in pandas, when you are working with a dataframe, you are always working on a temporary copy of the data. \n",
    "\n",
    "By default, all pandas operations returns a copy of the dataframe that was operated on. Ponder never make any modifications to your original data. This is especially important in the data warehouse context as the tables are often regarded as the “source of truth” and can be shared across many teams."
   ]
  },
  {
   "cell_type": "markdown",
   "id": "4c9556ad-40d4-4596-a739-eb515413ee42",
   "metadata": {},
   "source": [
    "This also means that the reference to your dataframe df is only accessible throughout the session. That means that once you exit the session, the dataframe is no longer accessible. \n",
    "\n",
    "So if we plan to use the cleaned up data for our analysis later, we can persist it in a table via `to_sql`."
   ]
  },
  {
   "cell_type": "code",
   "execution_count": null,
   "id": "28520769-0e6a-4778-91c8-94f4778a41fb",
   "metadata": {
    "tags": []
   },
   "outputs": [],
   "source": [
    "df"
   ]
  },
  {
   "cell_type": "code",
   "execution_count": null,
   "id": "1bd9d650-2f4e-4bc3-b92f-ced6bab97837",
   "metadata": {},
   "outputs": [],
   "source": [
    "df.to_sql(\"PONDER_CUSTOMER_CLEANED\",con=bigquery_con, index=False)"
   ]
  },
  {
   "cell_type": "markdown",
   "id": "8c765dbf-88f5-429f-a4a4-7c765b92ca9f",
   "metadata": {},
   "source": [
    "Now we can access new new table and continue our analysis whereever we want:"
   ]
  },
  {
   "cell_type": "code",
   "execution_count": null,
   "id": "e4eb4377-f6c8-4bbe-b0bd-9bbe19292ff8",
   "metadata": {},
   "outputs": [],
   "source": [
    "pd.read_sql(\"PONDER_CUSTOMER_CLEANED\",con=bigquery_con)"
   ]
  }
 ],
 "metadata": {
  "kernelspec": {
   "display_name": "Python 3 (ipykernel)",
   "language": "python",
   "name": "python3"
  },
  "language_info": {
   "codemirror_mode": {
    "name": "ipython",
    "version": 3
   },
   "file_extension": ".py",
   "mimetype": "text/x-python",
   "name": "python",
   "nbconvert_exporter": "python",
   "pygments_lexer": "ipython3",
   "version": "3.10.9"
  }
 },
 "nbformat": 4,
 "nbformat_minor": 5
}
