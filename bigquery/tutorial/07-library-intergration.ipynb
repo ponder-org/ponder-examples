{
 "cells": [
  {
   "cell_type": "markdown",
   "id": "0ce9e837-9280-45fb-a21c-b1d08baa12a1",
   "metadata": {},
   "source": [
    "### Tutorial 7: Beyond Pandas: Third-Party Library Integration"
   ]
  },
  {
   "cell_type": "markdown",
   "id": "9485aa6a",
   "metadata": {},
   "source": [
    "To support end-to-end data science workflows, Ponder supports integrations with other commonly used data science libraries in Python. In this tutorial, we will show examples of how you can work with other visualization and machine learning libraries in Python."
   ]
  },
  {
   "cell_type": "code",
   "execution_count": null,
   "id": "760780e4-00d8-4416-8054-a0db8f4a904b",
   "metadata": {
    "tags": []
   },
   "outputs": [],
   "source": [
    "! pip install matplotlib scikit-learn xgboost"
   ]
  },
  {
   "cell_type": "markdown",
   "id": "c06e6870-3a5e-4b25-b693-74f0702b5527",
   "metadata": {},
   "source": [
    "<div class=\"alert alert-block alert-info\"> <b>Note: </b> While Ponder supports pandas operations running on the data warehouse, we do not currently yet support other libraries to run the computation on the warehouse directly. Instead, Ponder pulls the data out of the warehouse and operates it in memory. If the table is exceeds 10k rows, we extract a sample of 10k rows to pull into memory. The focus of this tutorial is to demonstrate how Ponder works well and interoperates with these library. <span>  </span></div>"
   ]
  },
  {
   "cell_type": "markdown",
   "id": "83d0e78d",
   "metadata": {},
   "source": [
    " ## Visualization"
   ]
  },
  {
   "cell_type": "markdown",
   "id": "3dc059d7-6cc4-40f2-851c-0534159fd6d9",
   "metadata": {},
   "source": [
    "Visualization is a critical part of any exploratory data analysis workflow for identifying patterns and trends in your data. Ponder works out of the box with popular plotting libraries in the PyData ecosystem, including sklearn and matplotlib. "
   ]
  },
  {
   "cell_type": "code",
   "execution_count": null,
   "id": "5bc7d1f3-d20b-4f01-9619-b7d4a1cb323f",
   "metadata": {
    "tags": []
   },
   "outputs": [],
   "source": [
    "import os; os.chdir(\"..\")\n",
    "import credential\n",
    "import ponder.bigquery\n",
    "import modin.pandas as pd\n",
    "bigquery_con = ponder.bigquery.connect(user=credential.params[\"user\"],password=credential.params[\"password\"],account=credential.params[\"account\"],role=credential.params[\"role\"],database=credential.params[\"database\"],schema=credential.params[\"schema\"],warehouse=credential.params[\"warehouse\"])\n",
    "ponder.bigquery.init(bigquery_con,enable_ssl=True)"
   ]
  },
  {
   "cell_type": "markdown",
   "id": "bd66a7cb-cd52-409d-85d1-4afe6dece78e",
   "metadata": {},
   "source": [
    "Here is an example of how to plot a histogram with Ponder:"
   ]
  },
  {
   "cell_type": "code",
   "execution_count": null,
   "id": "ebfb9c01-37f9-4df4-94dd-b9f0a6b16693",
   "metadata": {
    "tags": []
   },
   "outputs": [],
   "source": [
    "df = pd.read_sql(\"PONDER_TAXI\",con=bigquery_con)"
   ]
  },
  {
   "cell_type": "code",
   "execution_count": null,
   "id": "7053491e-cdc7-46ba-8dce-6d55280ef376",
   "metadata": {
    "tags": []
   },
   "outputs": [],
   "source": [
    "df[\"TOTAL_AMOUNT\"].plot.hist(bins=100)"
   ]
  },
  {
   "cell_type": "markdown",
   "id": "941dbe47-ef09-4900-b709-e71849acea8c",
   "metadata": {},
   "source": [
    "Here is an example of how to plot a scatterplot with Ponder:"
   ]
  },
  {
   "cell_type": "code",
   "execution_count": null,
   "id": "c5255118-e13f-44a7-b346-b1f7df715928",
   "metadata": {
    "tags": []
   },
   "outputs": [],
   "source": [
    "df = pd.read_csv(\"https://raw.githubusercontent.com/lux-org/lux-datasets/master/data/car.csv\")\n",
    "df.plot(x=\"MilesPerGal\",y=\"Horsepower\",kind=\"scatter\")"
   ]
  },
  {
   "cell_type": "markdown",
   "id": "7f021a25-03b1-497d-89eb-35a07436e0e2",
   "metadata": {},
   "source": [
    "You can also make more elaborate plots by making using of matplotlib's `plt.plot` functionality directly."
   ]
  },
  {
   "cell_type": "code",
   "execution_count": null,
   "id": "e72ccdfd-071c-4946-8100-5191e5c69799",
   "metadata": {
    "tags": []
   },
   "outputs": [],
   "source": [
    "import matplotlib.pyplot as plt"
   ]
  },
  {
   "cell_type": "code",
   "execution_count": null,
   "id": "7ccd3c07-7849-4759-ad9c-bdc5f560ea6e",
   "metadata": {
    "tags": []
   },
   "outputs": [],
   "source": [
    "plt.xlabel(\"MilesPerGal\")\n",
    "plt.ylabel(\"Horsepower\")\n",
    "for country in df.Origin.unique(): \n",
    "    cdf = df[df[\"Origin\"]==country]\n",
    "    plt.plot(cdf[\"MilesPerGal\"],cdf[\"Horsepower\"],'o',label=country)\n",
    "plt.legend()"
   ]
  },
  {
   "cell_type": "markdown",
   "id": "a5ced6c0-d579-4e51-ab76-6e94afd42373",
   "metadata": {},
   "source": [
    "### Machine Learning"
   ]
  },
  {
   "cell_type": "markdown",
   "id": "b44f64dd-606b-4961-b29b-2a15b5681a0b",
   "metadata": {},
   "source": [
    "Ponder integrates with popular libraries used for machine learning including sci-kit learn, XGBoost, HuggingFace, Tensorflow, and more. Ponder also provides the ability to run NumPy on your data warehouse directly, which is the foundation of machine learning training in Python.\n"
   ]
  },
  {
   "cell_type": "code",
   "execution_count": null,
   "id": "d28bec20-6fba-420a-8633-37f2b6bb595e",
   "metadata": {
    "tags": []
   },
   "outputs": [],
   "source": [
    "df = pd.read_csv(\"https://github.com/ponder-org/ponder-datasets/blob/main/USA_Housing.csv?raw=True\")"
   ]
  },
  {
   "cell_type": "code",
   "execution_count": null,
   "id": "29a4712e-b95c-496c-8b55-810d988fb856",
   "metadata": {
    "tags": []
   },
   "outputs": [],
   "source": [
    "X = df.drop(columns=['Price', 'Address'])\n",
    "y = df[['Price']]"
   ]
  },
  {
   "cell_type": "markdown",
   "id": "962ae214-1a99-4d08-9c6c-9fd66272766b",
   "metadata": {},
   "source": [
    "#### Sci-kit Learn"
   ]
  },
  {
   "cell_type": "code",
   "execution_count": null,
   "id": "c5787bd4-e3cd-41cc-a3ea-502011b1ee2b",
   "metadata": {
    "tags": []
   },
   "outputs": [],
   "source": [
    "from sklearn.model_selection import train_test_split\n",
    "from sklearn.impute import SimpleImputer\n",
    "\n",
    "train_X, test_X, train_y, test_y = train_test_split(X, y, test_size=0.25)\n",
    "\n",
    "my_imputer = SimpleImputer()\n",
    "train_X = my_imputer.fit_transform(train_X)\n",
    "test_X = my_imputer.transform(test_X)"
   ]
  },
  {
   "cell_type": "code",
   "execution_count": null,
   "id": "eaa22d0c-2946-4b04-ab48-31ce4c7e9a05",
   "metadata": {
    "tags": []
   },
   "outputs": [],
   "source": [
    "from sklearn.linear_model import LinearRegression\n",
    "from sklearn.metrics import r2_score"
   ]
  },
  {
   "cell_type": "code",
   "execution_count": null,
   "id": "8083a1c9-2836-40a5-866b-f33d4fcfaf80",
   "metadata": {
    "tags": []
   },
   "outputs": [],
   "source": [
    "lr = LinearRegression()\n",
    "lr.fit(train_X, train_y)\n",
    "pred_y = lr.predict(test_X)"
   ]
  },
  {
   "cell_type": "code",
   "execution_count": null,
   "id": "cde9db6e-086c-4d7d-914b-bd9d00eb5bba",
   "metadata": {
    "tags": []
   },
   "outputs": [],
   "source": [
    "print(r2_score(pred_y,test_y)*100)"
   ]
  },
  {
   "cell_type": "markdown",
   "id": "84878ed4-4b1a-48a0-b105-0c8f4c7fcdd8",
   "metadata": {},
   "source": [
    "### XGBoost"
   ]
  },
  {
   "cell_type": "code",
   "execution_count": null,
   "id": "07f8fe26-b718-4a4a-be6a-e1777a704bae",
   "metadata": {
    "tags": []
   },
   "outputs": [],
   "source": [
    "from xgboost import XGBRegressor\n",
    "\n",
    "my_model = XGBRegressor(n_estimators=1000, learning_rate=0.05)\n",
    "my_model.fit(train_X, train_y, early_stopping_rounds=5, \n",
    "             eval_set=[(test_X, test_y)], verbose=False)"
   ]
  },
  {
   "cell_type": "code",
   "execution_count": null,
   "id": "2e9d842d-6a47-4b6b-b423-b42d83e72953",
   "metadata": {
    "tags": []
   },
   "outputs": [],
   "source": [
    "predictions = my_model.predict(test_X)\n",
    "\n",
    "from sklearn.metrics import mean_absolute_error\n",
    "print(\"Mean Absolute Error : \" + str(mean_absolute_error(predictions, test_y)))\n",
    "print(r2_score(predictions,test_y)*100)"
   ]
  }
 ],
 "metadata": {
  "kernelspec": {
   "display_name": "Python 3 (ipykernel)",
   "language": "python",
   "name": "python3"
  },
  "language_info": {
   "codemirror_mode": {
    "name": "ipython",
    "version": 3
   },
   "file_extension": ".py",
   "mimetype": "text/x-python",
   "name": "python",
   "nbconvert_exporter": "python",
   "pygments_lexer": "ipython3",
   "version": "3.10.6"
  }
 },
 "nbformat": 4,
 "nbformat_minor": 5
}
