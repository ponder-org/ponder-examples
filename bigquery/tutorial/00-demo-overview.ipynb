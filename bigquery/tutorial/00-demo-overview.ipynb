{
 "cells": [
  {
   "cell_type": "code",
   "execution_count": null,
   "id": "9827ca90",
   "metadata": {
    "scrolled": true,
    "tags": []
   },
   "outputs": [],
   "source": [
    "import ponder.bigquery\n",
    "import modin.pandas as pd\n",
    "import json; import os; os.chdir(\"..\")\n",
    "creds = json.load(open(os.path.expanduser(\"credential.json\")))\n",
    "bigquery_con = ponder.bigquery.connect(creds, schema = \"TEST\")\n",
    "ponder.bigquery.init(bigquery_con)"
   ]
  },
  {
   "cell_type": "code",
   "execution_count": null,
   "id": "94446efb",
   "metadata": {
    "tags": []
   },
   "outputs": [],
   "source": [
    "df = pd.read_sql(\"PONDER_CUSTOMER\", bigquery_con)"
   ]
  },
  {
   "cell_type": "code",
   "execution_count": null,
   "id": "b667cb92",
   "metadata": {
    "scrolled": true,
    "tags": []
   },
   "outputs": [],
   "source": [
    "df"
   ]
  },
  {
   "cell_type": "markdown",
   "id": "abbec16f",
   "metadata": {},
   "source": [
    "# ⭐Order-related operations ⭐"
   ]
  },
  {
   "cell_type": "code",
   "execution_count": null,
   "id": "ca7bfdde",
   "metadata": {
    "tags": []
   },
   "outputs": [],
   "source": [
    "df.head()"
   ]
  },
  {
   "cell_type": "code",
   "execution_count": null,
   "id": "63e4ebe7",
   "metadata": {
    "tags": []
   },
   "outputs": [],
   "source": [
    "df.tail()"
   ]
  },
  {
   "cell_type": "code",
   "execution_count": null,
   "id": "533bfc25",
   "metadata": {
    "scrolled": true,
    "tags": []
   },
   "outputs": [],
   "source": [
    "df.iloc[9:99]"
   ]
  },
  {
   "cell_type": "code",
   "execution_count": null,
   "id": "14d46d85",
   "metadata": {
    "tags": []
   },
   "outputs": [],
   "source": [
    "df.iloc[2:6, 2:6]"
   ]
  },
  {
   "cell_type": "code",
   "execution_count": null,
   "id": "b36244f5",
   "metadata": {
    "tags": []
   },
   "outputs": [],
   "source": [
    "df_sorted = df.sort_values([\"C_MKTSEGMENT\"])"
   ]
  },
  {
   "cell_type": "code",
   "execution_count": null,
   "id": "ddb56350",
   "metadata": {
    "scrolled": true,
    "tags": []
   },
   "outputs": [],
   "source": [
    "df_sorted"
   ]
  },
  {
   "cell_type": "code",
   "execution_count": null,
   "id": "a0d9bf48",
   "metadata": {
    "tags": []
   },
   "outputs": [],
   "source": [
    "df_sorted.iloc[4:44]"
   ]
  },
  {
   "cell_type": "markdown",
   "id": "ba3c0739",
   "metadata": {},
   "source": [
    "# ⭐ Pandas Index and querying ⭐"
   ]
  },
  {
   "cell_type": "code",
   "execution_count": null,
   "id": "2f82f6cd",
   "metadata": {
    "scrolled": true,
    "tags": []
   },
   "outputs": [],
   "source": [
    "df.set_index(\"C_CUSTKEY\")"
   ]
  },
  {
   "cell_type": "code",
   "execution_count": null,
   "id": "064de735",
   "metadata": {
    "tags": []
   },
   "outputs": [],
   "source": [
    "df.set_index(\"C_CUSTKEY\").loc[[60011, 60022, 60044, 60055, 60033]]"
   ]
  },
  {
   "cell_type": "markdown",
   "id": "07ae2206",
   "metadata": {},
   "source": [
    "# ⭐ Ordered versions of relational operators ⭐"
   ]
  },
  {
   "cell_type": "code",
   "execution_count": null,
   "id": "b62341ce",
   "metadata": {
    "scrolled": true,
    "tags": []
   },
   "outputs": [],
   "source": [
    "df.groupby(\"C_MKTSEGMENT\", sort=False).mean()"
   ]
  },
  {
   "cell_type": "code",
   "execution_count": null,
   "id": "eced58c4",
   "metadata": {
    "tags": []
   },
   "outputs": [],
   "source": [
    "df_sorted.groupby(\"C_MKTSEGMENT\", sort=False).mean()"
   ]
  },
  {
   "cell_type": "markdown",
   "id": "ab2d4eee-db43-479e-a490-fef69588a1d2",
   "metadata": {},
   "source": [
    "# ⭐ Concat ⭐"
   ]
  },
  {
   "cell_type": "code",
   "execution_count": null,
   "id": "04acfbd3-d4ec-461a-a679-22b15cb6abfb",
   "metadata": {
    "tags": []
   },
   "outputs": [],
   "source": [
    "pd.concat([df, df])"
   ]
  },
  {
   "cell_type": "code",
   "execution_count": null,
   "id": "f98a5bd8-92a2-4012-bc60-56d893e6f0b7",
   "metadata": {
    "tags": []
   },
   "outputs": [],
   "source": [
    "pd.concat([df, df]).groupby(\"C_CUSTKEY\").count()"
   ]
  },
  {
   "cell_type": "markdown",
   "id": "43e9f079",
   "metadata": {},
   "source": [
    "# ⭐ One-hot encoding ⭐"
   ]
  },
  {
   "cell_type": "code",
   "execution_count": null,
   "id": "4a077d55",
   "metadata": {
    "scrolled": true,
    "tags": []
   },
   "outputs": [],
   "source": [
    "pd.get_dummies(df, columns=\"C_MKTSEGMENT\")"
   ]
  },
  {
   "cell_type": "code",
   "execution_count": null,
   "id": "65f6c51f",
   "metadata": {
    "scrolled": true,
    "tags": []
   },
   "outputs": [],
   "source": [
    "pd.get_dummies(df_sorted, columns=\"C_MKTSEGMENT\")"
   ]
  },
  {
   "cell_type": "code",
   "execution_count": null,
   "id": "8d074e9a",
   "metadata": {
    "tags": []
   },
   "outputs": [],
   "source": [
    "# filter by types\n",
    "df_numeric = df.select_dtypes(\"number\")"
   ]
  },
  {
   "cell_type": "code",
   "execution_count": null,
   "id": "9fc92963",
   "metadata": {
    "tags": []
   },
   "outputs": [],
   "source": [
    "df_numeric"
   ]
  },
  {
   "cell_type": "code",
   "execution_count": null,
   "id": "addd05fa",
   "metadata": {
    "tags": []
   },
   "outputs": [],
   "source": [
    "# matrix-like operations beyond natural SQL - normalization\n",
    "(df_numeric - df_numeric.min()) / (df_numeric.max() - df_numeric.min())"
   ]
  },
  {
   "cell_type": "code",
   "execution_count": null,
   "id": "31459bcc",
   "metadata": {
    "tags": []
   },
   "outputs": [],
   "source": [
    "df_orders = pd.read_sql(\"ORDERS\", bigquery_con)"
   ]
  },
  {
   "cell_type": "code",
   "execution_count": null,
   "id": "27a7eba8",
   "metadata": {
    "scrolled": true,
    "tags": []
   },
   "outputs": [],
   "source": [
    "df_orders"
   ]
  },
  {
   "cell_type": "code",
   "execution_count": null,
   "id": "1e52b6fc",
   "metadata": {
    "tags": []
   },
   "outputs": [],
   "source": [
    "joined = df.merge(df_orders, left_on=[\"C_CUSTKEY\"], right_on=[\"O_CUSTKEY\"], how=\"inner\")"
   ]
  },
  {
   "cell_type": "code",
   "execution_count": null,
   "id": "c0137086",
   "metadata": {
    "tags": []
   },
   "outputs": [],
   "source": [
    "joined"
   ]
  },
  {
   "cell_type": "code",
   "execution_count": null,
   "id": "4a50b4c0",
   "metadata": {
    "tags": []
   },
   "outputs": [],
   "source": [
    "joined_sorted = df_sorted.merge(df_orders, left_on=[\"C_CUSTKEY\"], right_on=[\"O_CUSTKEY\"], how=\"inner\")"
   ]
  },
  {
   "cell_type": "code",
   "execution_count": null,
   "id": "16301544",
   "metadata": {
    "tags": []
   },
   "outputs": [],
   "source": [
    "joined_sorted"
   ]
  },
  {
   "cell_type": "markdown",
   "id": "befc5e15",
   "metadata": {},
   "source": [
    "# ⭐ Pandas DatetimeIndex Operations ⭐"
   ]
  },
  {
   "cell_type": "code",
   "execution_count": null,
   "id": "c865f3f9",
   "metadata": {
    "tags": []
   },
   "outputs": [],
   "source": [
    "joined[\"O_ORDERDATE\"]"
   ]
  },
  {
   "cell_type": "code",
   "execution_count": null,
   "id": "4d3b0279",
   "metadata": {
    "tags": []
   },
   "outputs": [],
   "source": [
    "joined[\"O_ORDERDATE\"] = pd.to_datetime(joined[\"O_ORDERDATE\"])"
   ]
  },
  {
   "cell_type": "code",
   "execution_count": null,
   "id": "ef30ea76",
   "metadata": {
    "tags": []
   },
   "outputs": [],
   "source": [
    "joined[\"O_ORDERDATE\"]"
   ]
  },
  {
   "cell_type": "code",
   "execution_count": null,
   "id": "e0a0b70c",
   "metadata": {
    "tags": []
   },
   "outputs": [],
   "source": [
    "dt_index_df = joined.set_index(\"O_ORDERDATE\")"
   ]
  },
  {
   "cell_type": "code",
   "execution_count": null,
   "id": "af5e0350",
   "metadata": {
    "tags": []
   },
   "outputs": [],
   "source": [
    "dt_index_df.index"
   ]
  },
  {
   "cell_type": "code",
   "execution_count": null,
   "id": "bafcfba2",
   "metadata": {
    "tags": []
   },
   "outputs": [],
   "source": [
    "dt_index_df"
   ]
  },
  {
   "cell_type": "code",
   "execution_count": null,
   "id": "c7f2b846",
   "metadata": {
    "tags": []
   },
   "outputs": [],
   "source": [
    "dt_index_df.resample(\"4W\")[\"O_TOTALPRICE\"].mean()"
   ]
  },
  {
   "cell_type": "code",
   "execution_count": null,
   "id": "b6368495",
   "metadata": {
    "tags": []
   },
   "outputs": [],
   "source": [
    "dt_index_df.resample(\"4W\")[\"O_TOTALPRICE\"].mean().to_frame()"
   ]
  }
 ],
 "metadata": {
  "kernelspec": {
   "display_name": "Python 3 (ipykernel)",
   "language": "python",
   "name": "python3"
  },
  "language_info": {
   "codemirror_mode": {
    "name": "ipython",
    "version": 3
   },
   "file_extension": ".py",
   "mimetype": "text/x-python",
   "name": "python",
   "nbconvert_exporter": "python",
   "pygments_lexer": "ipython3",
   "version": "3.10.6"
  }
 },
 "nbformat": 4,
 "nbformat_minor": 5
}
