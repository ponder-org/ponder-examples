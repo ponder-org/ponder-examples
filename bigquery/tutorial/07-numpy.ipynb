{
 "cells": [
  {
   "cell_type": "code",
   "execution_count": null,
   "id": "fc87e13e-b30a-4146-b82d-a49212f8085a",
   "metadata": {},
   "outputs": [],
   "source": []
  },
  {
   "cell_type": "markdown",
   "id": "70f2660c-99e9-4db4-9e4e-e1630667a13b",
   "metadata": {},
   "source": [
    "### Native Support for NumPy"
   ]
  },
  {
   "cell_type": "code",
   "execution_count": 13,
   "id": "84a5c6f9-a2ad-45ef-82be-050f0f3c5f47",
   "metadata": {
    "tags": []
   },
   "outputs": [
    {
     "name": "stderr",
     "output_type": "stream",
     "text": [
      "2023-03-22 19:25:29,316 - INFO - Determining schema for file\n",
      "2023-03-22 19:25:29,572 - INFO - Finished determining schema for file\n"
     ]
    },
    {
     "name": "stdout",
     "output_type": "stream",
     "text": [
      "Creating table in BigQuery...\n",
      "Finished creating table in BigQuery...\n",
      "Finished loading data into BigQuery.\n",
      "Dataframe loading complete.\n"
     ]
    }
   ],
   "source": [
    "df = pd.read_csv(\n",
    "    \"https://raw.githubusercontent.com/ponder-org/ponder-datasets/main/tpch/customer.csv\", \n",
    "    header=0\n",
    ")"
   ]
  },
  {
   "cell_type": "code",
   "execution_count": 7,
   "id": "5ac5c435-f1e8-4d34-aa95-c3167b17fbe7",
   "metadata": {
    "tags": []
   },
   "outputs": [],
   "source": [
    "df = pd.read_sql(\"PONDER_CUSTOMER\", bigquery_con)"
   ]
  },
  {
   "cell_type": "code",
   "execution_count": 8,
   "id": "05a81146-43a0-4ab4-b1b6-1db3ae221cf3",
   "metadata": {
    "tags": []
   },
   "outputs": [],
   "source": [
    "import modin.config as cfg\n",
    "cfg.ExperimentalNumPyAPI.put(True)\n",
    "import modin.numpy as np"
   ]
  },
  {
   "cell_type": "code",
   "execution_count": 11,
   "id": "ff417e43-9de3-4d4e-8ed9-83e05707c2d3",
   "metadata": {
    "tags": []
   },
   "outputs": [],
   "source": [
    "# # this will be Modin's numpy API\n",
    "# df.select_dtypes(\"number\").astype(\"float\").to_numpy()"
   ]
  },
  {
   "cell_type": "code",
   "execution_count": 14,
   "id": "1152fa4f-dbdb-4cb1-88c1-ff3cdf1d7163",
   "metadata": {
    "tags": []
   },
   "outputs": [],
   "source": [
    "arr = df.select_dtypes(\"number\").astype(\"float\").to_numpy()"
   ]
  },
  {
   "cell_type": "code",
   "execution_count": 15,
   "id": "4833cc0e-4aff-403e-a582-59f9fd8e3702",
   "metadata": {
    "tags": []
   },
   "outputs": [
    {
     "ename": "RuntimeError",
     "evalue": "Error in getting table metadata \n            SELECT\n                0, 1, 2\n            FROM (\n                SELECT\n                C_CUSTKEY AS 0, C_NATIONKEY AS 1, C_ACCTBAL AS 2,\n                _PONDER_ROW_NUMBER_ AS _PONDER_ROW_NUMBER_\n            FROM (\n                \n        SELECT\n            C_CUSTKEY AS C_CUSTKEY, C_NATIONKEY AS C_NATIONKEY, C_ACCTBAL AS C_ACCTBAL, _PONDER_ROW_NUMBER_\n        FROM (\n            \n        SELECT\n            CAST(C_CUSTKEY AS FLOAT64) AS C_CUSTKEY, CAST(C_NATIONKEY AS FLOAT64) AS C_NATIONKEY, CAST(C_ACCTBAL AS FLOAT64) AS C_ACCTBAL, _PONDER_ROW_LABELS_, _PONDER_ROW_NUMBER_\n        FROM (\n            SELECT _PONDER_ROW_NUMBER_, _PONDER_ROW_LABELS_, C_CUSTKEY, C_NATIONKEY, C_ACCTBAL FROM (SELECT C_CUSTKEY, C_NAME, C_ADDRESS, C_NATIONKEY, C_PHONE, C_ACCTBAL, C_MKTSEGMENT, C_COMMENT, _PONDER_ROW_NUMBER_, _PONDER_ROW_LABELS_ FROM TEST.PONDER_LCGEZLJGUS ORDER BY _PONDER_ROW_NUMBER_)\n        )\n        \n        )\n        \n            )\n            \n            )\n            ORDER BY _PONDER_ROW_NUMBER_\n            LIMIT 10001 because 400 Syntax error: Unexpected integer literal \"0\" at [6:30]\n\nLocation: US\nJob ID: e96b606b-f809-4cb5-82e2-f1cb7aebf1b8\n",
     "output_type": "error",
     "traceback": [
      "\u001b[0;31m---------------------------------------------------------------------------\u001b[0m",
      "\u001b[0;31mRuntimeError\u001b[0m                              Traceback (most recent call last)",
      "File \u001b[0;32m/opt/conda/lib/python3.10/site-packages/IPython/core/formatters.py:706\u001b[0m, in \u001b[0;36mPlainTextFormatter.__call__\u001b[0;34m(self, obj)\u001b[0m\n\u001b[1;32m    699\u001b[0m stream \u001b[38;5;241m=\u001b[39m StringIO()\n\u001b[1;32m    700\u001b[0m printer \u001b[38;5;241m=\u001b[39m pretty\u001b[38;5;241m.\u001b[39mRepresentationPrinter(stream, \u001b[38;5;28mself\u001b[39m\u001b[38;5;241m.\u001b[39mverbose,\n\u001b[1;32m    701\u001b[0m     \u001b[38;5;28mself\u001b[39m\u001b[38;5;241m.\u001b[39mmax_width, \u001b[38;5;28mself\u001b[39m\u001b[38;5;241m.\u001b[39mnewline,\n\u001b[1;32m    702\u001b[0m     max_seq_length\u001b[38;5;241m=\u001b[39m\u001b[38;5;28mself\u001b[39m\u001b[38;5;241m.\u001b[39mmax_seq_length,\n\u001b[1;32m    703\u001b[0m     singleton_pprinters\u001b[38;5;241m=\u001b[39m\u001b[38;5;28mself\u001b[39m\u001b[38;5;241m.\u001b[39msingleton_printers,\n\u001b[1;32m    704\u001b[0m     type_pprinters\u001b[38;5;241m=\u001b[39m\u001b[38;5;28mself\u001b[39m\u001b[38;5;241m.\u001b[39mtype_printers,\n\u001b[1;32m    705\u001b[0m     deferred_pprinters\u001b[38;5;241m=\u001b[39m\u001b[38;5;28mself\u001b[39m\u001b[38;5;241m.\u001b[39mdeferred_printers)\n\u001b[0;32m--> 706\u001b[0m \u001b[43mprinter\u001b[49m\u001b[38;5;241;43m.\u001b[39;49m\u001b[43mpretty\u001b[49m\u001b[43m(\u001b[49m\u001b[43mobj\u001b[49m\u001b[43m)\u001b[49m\n\u001b[1;32m    707\u001b[0m printer\u001b[38;5;241m.\u001b[39mflush()\n\u001b[1;32m    708\u001b[0m \u001b[38;5;28;01mreturn\u001b[39;00m stream\u001b[38;5;241m.\u001b[39mgetvalue()\n",
      "File \u001b[0;32m/opt/conda/lib/python3.10/site-packages/IPython/lib/pretty.py:410\u001b[0m, in \u001b[0;36mRepresentationPrinter.pretty\u001b[0;34m(self, obj)\u001b[0m\n\u001b[1;32m    407\u001b[0m                         \u001b[38;5;28;01mreturn\u001b[39;00m meth(obj, \u001b[38;5;28mself\u001b[39m, cycle)\n\u001b[1;32m    408\u001b[0m                 \u001b[38;5;28;01mif\u001b[39;00m \u001b[38;5;28mcls\u001b[39m \u001b[38;5;129;01mis\u001b[39;00m \u001b[38;5;129;01mnot\u001b[39;00m \u001b[38;5;28mobject\u001b[39m \\\n\u001b[1;32m    409\u001b[0m                         \u001b[38;5;129;01mand\u001b[39;00m callable(\u001b[38;5;28mcls\u001b[39m\u001b[38;5;241m.\u001b[39m\u001b[38;5;18m__dict__\u001b[39m\u001b[38;5;241m.\u001b[39mget(\u001b[38;5;124m'\u001b[39m\u001b[38;5;124m__repr__\u001b[39m\u001b[38;5;124m'\u001b[39m)):\n\u001b[0;32m--> 410\u001b[0m                     \u001b[38;5;28;01mreturn\u001b[39;00m \u001b[43m_repr_pprint\u001b[49m\u001b[43m(\u001b[49m\u001b[43mobj\u001b[49m\u001b[43m,\u001b[49m\u001b[43m \u001b[49m\u001b[38;5;28;43mself\u001b[39;49m\u001b[43m,\u001b[49m\u001b[43m \u001b[49m\u001b[43mcycle\u001b[49m\u001b[43m)\u001b[49m\n\u001b[1;32m    412\u001b[0m     \u001b[38;5;28;01mreturn\u001b[39;00m _default_pprint(obj, \u001b[38;5;28mself\u001b[39m, cycle)\n\u001b[1;32m    413\u001b[0m \u001b[38;5;28;01mfinally\u001b[39;00m:\n",
      "File \u001b[0;32m/opt/conda/lib/python3.10/site-packages/IPython/lib/pretty.py:778\u001b[0m, in \u001b[0;36m_repr_pprint\u001b[0;34m(obj, p, cycle)\u001b[0m\n\u001b[1;32m    776\u001b[0m \u001b[38;5;250m\u001b[39m\u001b[38;5;124;03m\"\"\"A pprint that just redirects to the normal repr function.\"\"\"\u001b[39;00m\n\u001b[1;32m    777\u001b[0m \u001b[38;5;66;03m# Find newlines and replace them with p.break_()\u001b[39;00m\n\u001b[0;32m--> 778\u001b[0m output \u001b[38;5;241m=\u001b[39m \u001b[38;5;28;43mrepr\u001b[39;49m\u001b[43m(\u001b[49m\u001b[43mobj\u001b[49m\u001b[43m)\u001b[49m\n\u001b[1;32m    779\u001b[0m lines \u001b[38;5;241m=\u001b[39m output\u001b[38;5;241m.\u001b[39msplitlines()\n\u001b[1;32m    780\u001b[0m \u001b[38;5;28;01mwith\u001b[39;00m p\u001b[38;5;241m.\u001b[39mgroup():\n",
      "File \u001b[0;32m/opt/ponder/soda/live/site-packages/modin/numpy/arr.py:2686\u001b[0m, in \u001b[0;36marray.__repr__\u001b[0;34m(self)\u001b[0m\n\u001b[1;32m   2682\u001b[0m \u001b[38;5;28;01mdef\u001b[39;00m \u001b[38;5;21m__repr__\u001b[39m(\u001b[38;5;28mself\u001b[39m):\n\u001b[1;32m   2683\u001b[0m     \u001b[38;5;66;03m# If we are dealing with a small array, we can just collate all the data on the\u001b[39;00m\n\u001b[1;32m   2684\u001b[0m     \u001b[38;5;66;03m# head node and let numpy handle the logic to get a string representation.\u001b[39;00m\n\u001b[1;32m   2685\u001b[0m     \u001b[38;5;28;01mif\u001b[39;00m \u001b[38;5;28mself\u001b[39m\u001b[38;5;241m.\u001b[39msize \u001b[38;5;241m<\u001b[39m\u001b[38;5;241m=\u001b[39m numpy\u001b[38;5;241m.\u001b[39mget_printoptions()[\u001b[38;5;124m\"\u001b[39m\u001b[38;5;124mthreshold\u001b[39m\u001b[38;5;124m\"\u001b[39m]:\n\u001b[0;32m-> 2686\u001b[0m         \u001b[38;5;28;01mreturn\u001b[39;00m \u001b[38;5;28mrepr\u001b[39m(\u001b[38;5;28;43mself\u001b[39;49m\u001b[38;5;241;43m.\u001b[39;49m\u001b[43m_to_numpy\u001b[49m\u001b[43m(\u001b[49m\u001b[43m)\u001b[49m)\n\u001b[1;32m   2687\u001b[0m     arr \u001b[38;5;241m=\u001b[39m \u001b[38;5;28mself\u001b[39m\u001b[38;5;241m.\u001b[39m_build_repr_array()\n\u001b[1;32m   2688\u001b[0m     prev_threshold \u001b[38;5;241m=\u001b[39m numpy\u001b[38;5;241m.\u001b[39mget_printoptions()[\u001b[38;5;124m\"\u001b[39m\u001b[38;5;124mthreshold\u001b[39m\u001b[38;5;124m\"\u001b[39m]\n",
      "File \u001b[0;32m/opt/ponder/soda/live/site-packages/modin/numpy/arr.py:2697\u001b[0m, in \u001b[0;36marray._to_numpy\u001b[0;34m(self)\u001b[0m\n\u001b[1;32m   2696\u001b[0m \u001b[38;5;28;01mdef\u001b[39;00m \u001b[38;5;21m_to_numpy\u001b[39m(\u001b[38;5;28mself\u001b[39m):\n\u001b[0;32m-> 2697\u001b[0m     arr \u001b[38;5;241m=\u001b[39m \u001b[38;5;28;43mself\u001b[39;49m\u001b[38;5;241;43m.\u001b[39;49m\u001b[43m_query_compiler\u001b[49m\u001b[38;5;241;43m.\u001b[39;49m\u001b[43mto_numpy\u001b[49m\u001b[43m(\u001b[49m\u001b[43m)\u001b[49m\n\u001b[1;32m   2698\u001b[0m     \u001b[38;5;28;01mif\u001b[39;00m \u001b[38;5;28mself\u001b[39m\u001b[38;5;241m.\u001b[39m_ndim \u001b[38;5;241m==\u001b[39m \u001b[38;5;241m1\u001b[39m:\n\u001b[1;32m   2699\u001b[0m         arr \u001b[38;5;241m=\u001b[39m arr\u001b[38;5;241m.\u001b[39mflatten()\n",
      "File \u001b[0;32m/opt/ponder/soda/live/site-packages/modin/logging/logger_decorator.py:128\u001b[0m, in \u001b[0;36menable_logging.<locals>.decorator.<locals>.run_and_log\u001b[0;34m(*args, **kwargs)\u001b[0m\n\u001b[1;32m    113\u001b[0m \u001b[38;5;250m\u001b[39m\u001b[38;5;124;03m\"\"\"\u001b[39;00m\n\u001b[1;32m    114\u001b[0m \u001b[38;5;124;03mCompute function with logging if Modin logging is enabled.\u001b[39;00m\n\u001b[1;32m    115\u001b[0m \n\u001b[0;32m   (...)\u001b[0m\n\u001b[1;32m    125\u001b[0m \u001b[38;5;124;03mAny\u001b[39;00m\n\u001b[1;32m    126\u001b[0m \u001b[38;5;124;03m\"\"\"\u001b[39;00m\n\u001b[1;32m    127\u001b[0m \u001b[38;5;28;01mif\u001b[39;00m LogMode\u001b[38;5;241m.\u001b[39mget() \u001b[38;5;241m==\u001b[39m \u001b[38;5;124m\"\u001b[39m\u001b[38;5;124mdisable\u001b[39m\u001b[38;5;124m\"\u001b[39m:\n\u001b[0;32m--> 128\u001b[0m     \u001b[38;5;28;01mreturn\u001b[39;00m \u001b[43mobj\u001b[49m\u001b[43m(\u001b[49m\u001b[38;5;241;43m*\u001b[39;49m\u001b[43margs\u001b[49m\u001b[43m,\u001b[49m\u001b[43m \u001b[49m\u001b[38;5;241;43m*\u001b[39;49m\u001b[38;5;241;43m*\u001b[39;49m\u001b[43mkwargs\u001b[49m\u001b[43m)\u001b[49m\n\u001b[1;32m    130\u001b[0m logger \u001b[38;5;241m=\u001b[39m get_logger()\n\u001b[1;32m    131\u001b[0m logger_level \u001b[38;5;241m=\u001b[39m \u001b[38;5;28mgetattr\u001b[39m(logger, log_level)\n",
      "File \u001b[0;32m/opt/ponder/soda/live/site-packages/ponder/query_compiler.py:150\u001b[0m, in \u001b[0;36mClientQueryCompiler.to_numpy\u001b[0;34m(self, **kwargs)\u001b[0m\n\u001b[1;32m    148\u001b[0m value \u001b[38;5;241m=\u001b[39m \u001b[38;5;28mself\u001b[39m\u001b[38;5;241m.\u001b[39m_service\u001b[38;5;241m.\u001b[39mto_numpy(\u001b[38;5;28mself\u001b[39m\u001b[38;5;241m.\u001b[39m_id, \u001b[38;5;241m*\u001b[39m\u001b[38;5;241m*\u001b[39mkwargs)\n\u001b[1;32m    149\u001b[0m \u001b[38;5;28;01mif\u001b[39;00m \u001b[38;5;28misinstance\u001b[39m(value, \u001b[38;5;167;01mException\u001b[39;00m):\n\u001b[0;32m--> 150\u001b[0m     \u001b[38;5;28;01mraise\u001b[39;00m value\n\u001b[1;32m    151\u001b[0m \u001b[38;5;28;01mreturn\u001b[39;00m value\n",
      "\u001b[0;31mRuntimeError\u001b[0m: Error in getting table metadata \n            SELECT\n                0, 1, 2\n            FROM (\n                SELECT\n                C_CUSTKEY AS 0, C_NATIONKEY AS 1, C_ACCTBAL AS 2,\n                _PONDER_ROW_NUMBER_ AS _PONDER_ROW_NUMBER_\n            FROM (\n                \n        SELECT\n            C_CUSTKEY AS C_CUSTKEY, C_NATIONKEY AS C_NATIONKEY, C_ACCTBAL AS C_ACCTBAL, _PONDER_ROW_NUMBER_\n        FROM (\n            \n        SELECT\n            CAST(C_CUSTKEY AS FLOAT64) AS C_CUSTKEY, CAST(C_NATIONKEY AS FLOAT64) AS C_NATIONKEY, CAST(C_ACCTBAL AS FLOAT64) AS C_ACCTBAL, _PONDER_ROW_LABELS_, _PONDER_ROW_NUMBER_\n        FROM (\n            SELECT _PONDER_ROW_NUMBER_, _PONDER_ROW_LABELS_, C_CUSTKEY, C_NATIONKEY, C_ACCTBAL FROM (SELECT C_CUSTKEY, C_NAME, C_ADDRESS, C_NATIONKEY, C_PHONE, C_ACCTBAL, C_MKTSEGMENT, C_COMMENT, _PONDER_ROW_NUMBER_, _PONDER_ROW_LABELS_ FROM TEST.PONDER_LCGEZLJGUS ORDER BY _PONDER_ROW_NUMBER_)\n        )\n        \n        )\n        \n            )\n            \n            )\n            ORDER BY _PONDER_ROW_NUMBER_\n            LIMIT 10001 because 400 Syntax error: Unexpected integer literal \"0\" at [6:30]\n\nLocation: US\nJob ID: e96b606b-f809-4cb5-82e2-f1cb7aebf1b8\n"
     ]
    }
   ],
   "source": [
    "arr"
   ]
  }
 ],
 "metadata": {
  "kernelspec": {
   "display_name": "Python 3 (ipykernel)",
   "language": "python",
   "name": "python3"
  },
  "language_info": {
   "codemirror_mode": {
    "name": "ipython",
    "version": 3
   },
   "file_extension": ".py",
   "mimetype": "text/x-python",
   "name": "python",
   "nbconvert_exporter": "python",
   "pygments_lexer": "ipython3",
   "version": "3.10.9"
  }
 },
 "nbformat": 4,
 "nbformat_minor": 5
}
