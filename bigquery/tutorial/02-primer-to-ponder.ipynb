{
 "cells": [
  {
   "cell_type": "markdown",
   "id": "e3a4634b-df94-4e97-96cf-9a42e5e22d8b",
   "metadata": {},
   "source": [
    "# Tutorial 2: Primer to Ponder"
   ]
  },
  {
   "cell_type": "code",
   "execution_count": 1,
   "id": "f2e16db8-8366-4e05-bc86-db5cbe8061c7",
   "metadata": {
    "tags": []
   },
   "outputs": [
    {
     "name": "stderr",
     "output_type": "stream",
     "text": [
      "2023-03-22 20:05:03,175 - INFO - Establishing connection to pushdown.ponder-internal.io\n"
     ]
    },
    {
     "name": "stdout",
     "output_type": "stream",
     "text": [
      "\n",
      "Connected to\n",
      "       ___               __\n",
      "      / _ \\___  ___  ___/ /__ ____\n",
      "     / ___/ _ \\/ _ \\/ _  / -_) __/\n",
      "    /_/___\\___/_//_/\\_,_/\\__/_/\n",
      "      / __/__ _____  _____ ____\n",
      "     _\\ \\/ -_) __/ |/ / -_) __/\n",
      "    /___/\\__/_/  |___/\\__/_/\n",
      "\n"
     ]
    }
   ],
   "source": [
    "import ponder.bigquery\n",
    "import modin.pandas as pd\n",
    "import json; import os; os.chdir(\"..\")\n",
    "creds = json.load(open(os.path.expanduser(\"credential.json\")))\n",
    "bigquery_con = ponder.bigquery.connect(creds, schema = \"TEST\")\n",
    "ponder.bigquery.init(bigquery_con)"
   ]
  },
  {
   "cell_type": "markdown",
   "id": "9ad0bfb9-6398-4107-9b11-028e240c722b",
   "metadata": {},
   "source": [
    "## What is Ponder?"
   ]
  },
  {
   "cell_type": "markdown",
   "id": "e2a005e4-0e8e-4189-a525-8cf5f2d49cbe",
   "metadata": {},
   "source": [
    "Ponder lets you run your pandas code directly in your data warehouse. This means that you can continue to write pandas, but with the scalability and security benefits of a modern data warehouse. \n",
    "\n",
    "### Key Features\n",
    "\n",
    "- **Data science at all scales**: With Ponder's technology, the same pandas workflows can be run at all scales, from megabytes to terabytes, without changing a single line of code. \n",
    "\n",
    "- **No change to user workflow:** Data scientists can continue running their existing pandas workflows and writing pandas code in their favorite IDE of choice, and benefit from seamless scalability improvements.\n",
    "\n",
    "- **Simplify your data infrastructure:** No need to set up and maintain compute infrastructure required for other parallel processing frameworks (e.g., Spark, Ray, Dask, etc.) to perform large scale data analysis with pandas.\n",
    "\n",
    "- **Guaranteed security:** All your pandas workflows will be executed in BigQuery, thus benefiting from the rigorous security guarantees offered by BigQuery."
   ]
  },
  {
   "cell_type": "markdown",
   "id": "982e72d6-5524-4896-8ee0-6909a2b36ae6",
   "metadata": {},
   "source": [
    "In the following sections, we will showcase some examples of how Ponder works and how it can be used in your work."
   ]
  },
  {
   "cell_type": "markdown",
   "id": "6ebfe52d-2e42-476c-80ea-e51c3ccddd2e",
   "metadata": {},
   "source": [
    "### Demo 1: Write SQL no more, Ponder in action!"
   ]
  },
  {
   "cell_type": "markdown",
   "id": "1d0ac7cf-e337-43d3-95d1-ccb9614aee5a",
   "metadata": {},
   "source": [
    "Under the hood, pandas operations are automatically compiled down to SQL queries that get pushed to BigQuery. Queries are executed directly on BigQuery, with users benefiting from the performance, scalability, and security benefits provided by BigQuery as the computation engine.  "
   ]
  },
  {
   "cell_type": "markdown",
   "id": "b8c5ee5e-20cc-4f90-8cbe-30053785ddc1",
   "metadata": {},
   "source": [
    "Here is an architecture of how Ponder works: \n",
    "\n",
    "<img src=\"https://ponder.io/wp-content/uploads/2023/01/Group-362.png\" width=\"75%\"></img>\n"
   ]
  },
  {
   "cell_type": "markdown",
   "id": "a557836c-9147-4372-a6e4-8ebe1a1d3e4e",
   "metadata": {},
   "source": [
    "To show you that this is actually running in the data warehouse, you can log onto your [BigQuery web interface](https://console.cloud.google.com/bigquery). The pandas operations you execute on Ponder correspond to the SQL queries shown on the `Project History` page in BigQuery web interface."
   ]
  },
  {
   "cell_type": "code",
   "execution_count": 2,
   "id": "2ba594ec-6059-4f92-b25f-ebd0c5eb0ca8",
   "metadata": {
    "tags": []
   },
   "outputs": [],
   "source": [
    "df = pd.read_sql(\"PONDER_CUSTOMER\", bigquery_con)"
   ]
  },
  {
   "cell_type": "markdown",
   "id": "7a25e4dd-5d42-4fe4-a010-c2c50d851b87",
   "metadata": {},
   "source": [
    "You can look at the corresponding SQL queries for the pandas operations ran in Ponder by going to `Project History` in your BigQuery web interface. The history page lets you view and drill into the details of queries executed in your BigQuery account."
   ]
  },
  {
   "cell_type": "markdown",
   "id": "13ff8707-2ce5-425e-bf38-64dcd7f885ef",
   "metadata": {},
   "source": [
    "<img src=\"img/bigquery_history.png\" width=\"150%\"></img>"
   ]
  },
  {
   "cell_type": "markdown",
   "id": "41204a3e-48d4-466d-a39a-79dcc8d7fe9b",
   "metadata": {},
   "source": [
    "In this case, you can see that as we connected to the table via `pd.read_sql`, this corresponding SQL query was generated: "
   ]
  },
  {
   "cell_type": "markdown",
   "id": "c6fa82cc-5a16-477a-8200-34de1c2b8b06",
   "metadata": {},
   "source": [
    "```sql\n",
    "CREATE TEMP TABLE `Ponder_scbxxccwrd` AS SELECT *,  ROW_NUMBER() OVER (ORDER BY 1) -1  AS _PONDER_ROW_NUMBER_,  ROW_NUMBER() OVER (ORDER BY 1) -1  AS  _PONDER_ROW_LABELS_  FROM TEST.`PONDER_CUSTOMER`\n",
    "```"
   ]
  },
  {
   "cell_type": "markdown",
   "id": "c415b038-4d16-4db7-97a0-bd8c79c7a82b",
   "metadata": {},
   "source": [
    "You might recall that in the last tutorial, we performed z-score normalization on all the numerical columns. "
   ]
  },
  {
   "cell_type": "code",
   "execution_count": 3,
   "id": "fd3f2587-1b63-4d5c-a997-eca14f47f41d",
   "metadata": {
    "tags": []
   },
   "outputs": [
    {
     "data": {
      "text/html": [
       "<div>\n",
       "<style scoped>\n",
       "    .dataframe tbody tr th:only-of-type {\n",
       "        vertical-align: middle;\n",
       "    }\n",
       "\n",
       "    .dataframe tbody tr th {\n",
       "        vertical-align: top;\n",
       "    }\n",
       "\n",
       "    .dataframe thead th {\n",
       "        text-align: right;\n",
       "    }\n",
       "</style>\n",
       "<table border=\"1\" class=\"dataframe\">\n",
       "  <thead>\n",
       "    <tr style=\"text-align: right;\">\n",
       "      <th></th>\n",
       "      <th>C_CUSTKEY</th>\n",
       "      <th>C_NATIONKEY</th>\n",
       "      <th>C_ACCTBAL</th>\n",
       "    </tr>\n",
       "  </thead>\n",
       "  <tbody>\n",
       "    <tr>\n",
       "      <th>0</th>\n",
       "      <td>1.085777</td>\n",
       "      <td>-1.475931</td>\n",
       "      <td>-0.233359</td>\n",
       "    </tr>\n",
       "    <tr>\n",
       "      <th>1</th>\n",
       "      <td>1.016838</td>\n",
       "      <td>-1.475931</td>\n",
       "      <td>-1.124393</td>\n",
       "    </tr>\n",
       "    <tr>\n",
       "      <th>2</th>\n",
       "      <td>-1.120246</td>\n",
       "      <td>-1.475931</td>\n",
       "      <td>0.403928</td>\n",
       "    </tr>\n",
       "    <tr>\n",
       "      <th>3</th>\n",
       "      <td>0.396395</td>\n",
       "      <td>-1.475931</td>\n",
       "      <td>0.539912</td>\n",
       "    </tr>\n",
       "    <tr>\n",
       "      <th>4</th>\n",
       "      <td>-0.982369</td>\n",
       "      <td>-1.475931</td>\n",
       "      <td>-1.561128</td>\n",
       "    </tr>\n",
       "    <tr>\n",
       "      <th>...</th>\n",
       "      <td>...</td>\n",
       "      <td>...</td>\n",
       "      <td>...</td>\n",
       "    </tr>\n",
       "    <tr>\n",
       "      <th>95</th>\n",
       "      <td>0.258518</td>\n",
       "      <td>1.507058</td>\n",
       "      <td>0.678901</td>\n",
       "    </tr>\n",
       "    <tr>\n",
       "      <th>96</th>\n",
       "      <td>0.982369</td>\n",
       "      <td>1.636753</td>\n",
       "      <td>-0.328580</td>\n",
       "    </tr>\n",
       "    <tr>\n",
       "      <th>97</th>\n",
       "      <td>0.292987</td>\n",
       "      <td>1.636753</td>\n",
       "      <td>-0.627605</td>\n",
       "    </tr>\n",
       "    <tr>\n",
       "      <th>98</th>\n",
       "      <td>-0.603209</td>\n",
       "      <td>1.636753</td>\n",
       "      <td>-1.480908</td>\n",
       "    </tr>\n",
       "    <tr>\n",
       "      <th>99</th>\n",
       "      <td>-0.810024</td>\n",
       "      <td>1.636753</td>\n",
       "      <td>0.511046</td>\n",
       "    </tr>\n",
       "  </tbody>\n",
       "</table>\n",
       "<p>100 rows x 3 columns</p>\n",
       "</div>"
      ],
      "text/plain": [
       "    C_CUSTKEY  C_NATIONKEY  C_ACCTBAL\n",
       "0    1.085777    -1.475931  -0.233359\n",
       "1    1.016838    -1.475931  -1.124393\n",
       "2   -1.120246    -1.475931   0.403928\n",
       "3    0.396395    -1.475931   0.539912\n",
       "4   -0.982369    -1.475931  -1.561128\n",
       "..        ...          ...        ...\n",
       "95   0.258518     1.507058   0.678901\n",
       "96   0.982369     1.636753  -0.328580\n",
       "97   0.292987     1.636753  -0.627605\n",
       "98  -0.603209     1.636753  -1.480908\n",
       "99  -0.810024     1.636753   0.511046\n",
       "\n",
       "[100 rows x 3 columns]"
      ]
     },
     "execution_count": 3,
     "metadata": {},
     "output_type": "execute_result"
    }
   ],
   "source": [
    "x = df.select_dtypes(include='number').columns\n",
    "(df[x] - df[x].mean())/df[x].std()"
   ]
  },
  {
   "cell_type": "markdown",
   "id": "4ee43e51-59ee-463f-8fd1-28aa787b2f05",
   "metadata": {},
   "source": [
    "Now take a look at BigQuery's `Query History`, the corresponding SQL query is 150+ lines long!!"
   ]
  },
  {
   "cell_type": "markdown",
   "id": "cf7f32f7-28b2-4769-9195-7220d30acbc0",
   "metadata": {},
   "source": [
    "```sql\n",
    "SELECT \n",
    "  _PONDER_ROW_LABELS_, \n",
    "  C_CUSTKEY, \n",
    "  C_NATIONKEY, \n",
    "  C_ACCTBAL \n",
    "FROM \n",
    "  (\n",
    "    SELECT \n",
    "      * \n",
    "    FROM \n",
    "      (\n",
    "        SELECT \n",
    "          _PONDER_ROW_NUMBER_, \n",
    "          _PONDER_ROW_LABELS_, \n",
    "          C_CUSTKEY / C_CUSTKEY_ponder_right AS C_CUSTKEY, \n",
    "          C_NATIONKEY / C_NATIONKEY_ponder_right AS C_NATIONKEY, \n",
    "          C_ACCTBAL / C_ACCTBAL_ponder_right AS C_ACCTBAL \n",
    "        FROM \n",
    "          (\n",
    "            SELECT \n",
    "              _PONDER_ROW_NUMBER_, \n",
    "              _PONDER_ROW_LABELS_, \n",
    "              C_CUSTKEY - C_CUSTKEY_ponder_right AS C_CUSTKEY, \n",
    "              C_NATIONKEY - C_NATIONKEY_ponder_right AS C_NATIONKEY, \n",
    "              C_ACCTBAL - C_ACCTBAL_ponder_right AS C_ACCTBAL \n",
    "            FROM \n",
    "              (\n",
    "                SELECT \n",
    "                  _PONDER_ROW_NUMBER_, \n",
    "                  _PONDER_ROW_LABELS_, \n",
    "                  C_CUSTKEY, \n",
    "                  C_NATIONKEY, \n",
    "                  C_ACCTBAL \n",
    "                FROM \n",
    "                  (\n",
    "                    SELECT \n",
    "                      C_CUSTKEY, \n",
    "                      C_NAME, \n",
    "                      C_ADDRESS, \n",
    "                      C_NATIONKEY, \n",
    "                      C_PHONE, \n",
    "                      C_ACCTBAL, \n",
    "                      C_MKTSEGMENT, \n",
    "                      C_COMMENT, \n",
    "                      _PONDER_ROW_NUMBER_, \n",
    "                      _PONDER_ROW_LABELS_ \n",
    "                    FROM \n",
    "                      Ponder_scbxxccwrd \n",
    "                    ORDER BY \n",
    "                      _PONDER_ROW_NUMBER_\n",
    "                  )\n",
    "              ) AS _PONDER_LEFT_ CROSS \n",
    "              JOIN (\n",
    "                SELECT \n",
    "                  C_CUSTKEY AS C_CUSTKEY_ponder_right, \n",
    "                  C_NATIONKEY AS C_NATIONKEY_ponder_right, \n",
    "                  C_ACCTBAL AS C_ACCTBAL_ponder_right \n",
    "                FROM \n",
    "                  (\n",
    "                    SELECT \n",
    "                      0 AS _PONDER_ROW_NUMBER_, \n",
    "                      0 AS _PONDER_ROW_LABELS_, \n",
    "                      AVG(C_CUSTKEY) AS C_CUSTKEY, \n",
    "                      AVG(C_NATIONKEY) AS C_NATIONKEY, \n",
    "                      AVG(C_ACCTBAL) AS C_ACCTBAL \n",
    "                    FROM \n",
    "                      (\n",
    "                        SELECT \n",
    "                          CAST(C_CUSTKEY AS FLOAT64) AS C_CUSTKEY, \n",
    "                          CAST(C_NATIONKEY AS FLOAT64) AS C_NATIONKEY, \n",
    "                          CAST(C_ACCTBAL AS FLOAT64) AS C_ACCTBAL, \n",
    "                          _PONDER_ROW_LABELS_, \n",
    "                          _PONDER_ROW_NUMBER_ \n",
    "                        FROM \n",
    "                          (\n",
    "                            SELECT \n",
    "                              _PONDER_ROW_NUMBER_, \n",
    "                              _PONDER_ROW_LABELS_, \n",
    "                              C_CUSTKEY, \n",
    "                              C_NATIONKEY, \n",
    "                              C_ACCTBAL \n",
    "                            FROM \n",
    "                              (\n",
    "                                SELECT \n",
    "                                  C_CUSTKEY, \n",
    "                                  C_NAME, \n",
    "                                  C_ADDRESS, \n",
    "                                  C_NATIONKEY, \n",
    "                                  C_PHONE, \n",
    "                                  C_ACCTBAL, \n",
    "                                  C_MKTSEGMENT, \n",
    "                                  C_COMMENT, \n",
    "                                  _PONDER_ROW_NUMBER_, \n",
    "                                  _PONDER_ROW_LABELS_ \n",
    "                                FROM \n",
    "                                  Ponder_scbxxccwrd \n",
    "                                ORDER BY \n",
    "                                  _PONDER_ROW_NUMBER_\n",
    "                              )\n",
    "                          )\n",
    "                      ) \n",
    "                    LIMIT \n",
    "                      1\n",
    "                  )\n",
    "              ) AS _PONDER_RIGHT_\n",
    "          ) AS _PONDER_LEFT_ CROSS \n",
    "          JOIN (\n",
    "            SELECT \n",
    "              C_CUSTKEY AS C_CUSTKEY_ponder_right, \n",
    "              C_NATIONKEY AS C_NATIONKEY_ponder_right, \n",
    "              C_ACCTBAL AS C_ACCTBAL_ponder_right \n",
    "            FROM \n",
    "              (\n",
    "                SELECT \n",
    "                  0 AS _PONDER_ROW_NUMBER_, \n",
    "                  0 AS _PONDER_ROW_LABELS_, \n",
    "                  STDDEV(C_CUSTKEY) AS C_CUSTKEY, \n",
    "                  STDDEV(C_NATIONKEY) AS C_NATIONKEY, \n",
    "                  STDDEV(C_ACCTBAL) AS C_ACCTBAL \n",
    "                FROM \n",
    "                  (\n",
    "                    SELECT \n",
    "                      _PONDER_ROW_NUMBER_, \n",
    "                      _PONDER_ROW_LABELS_, \n",
    "                      C_CUSTKEY, \n",
    "                      C_NATIONKEY, \n",
    "                      C_ACCTBAL \n",
    "                    FROM \n",
    "                      (\n",
    "                        SELECT \n",
    "                          C_CUSTKEY, \n",
    "                          C_NAME, \n",
    "                          C_ADDRESS, \n",
    "                          C_NATIONKEY, \n",
    "                          C_PHONE, \n",
    "                          C_ACCTBAL, \n",
    "                          C_MKTSEGMENT, \n",
    "                          C_COMMENT, \n",
    "                          _PONDER_ROW_NUMBER_, \n",
    "                          _PONDER_ROW_LABELS_ \n",
    "                        FROM \n",
    "                          Ponder_scbxxccwrd \n",
    "                        ORDER BY \n",
    "                          _PONDER_ROW_NUMBER_\n",
    "                      )\n",
    "                  ) \n",
    "                LIMIT \n",
    "                  1\n",
    "              )\n",
    "          ) AS _PONDER_RIGHT_\n",
    "      ) \n",
    "    WHERE \n",
    "      _PONDER_ROW_NUMBER_ IN (\n",
    "        0, 1, 2, 3, 4, 5, 6, 7, 8, 9, 10, 11, 12, 13, \n",
    "        14, 15, 16, 17, 18, 19, 20, 21, 22, 23, \n",
    "        24, 25, 26, 27, 28, 29, 30, 69, 70, 71, \n",
    "        72, 73, 74, 75, 76, 77, 78, 79, 80, 81, \n",
    "        82, 83, 84, 85, 86, 87, 88, 89, 90, 91, \n",
    "        92, 93, 94, 95, 96, 97, 98, 99\n",
    "      )\n",
    "  ) \n",
    "ORDER BY \n",
    "  _PONDER_ROW_NUMBER_ \n",
    "LIMIT \n",
    "  10001\n",
    "```"
   ]
  },
  {
   "cell_type": "markdown",
   "id": "c101d4a3-e54b-4fc0-8994-20a1c1b75821",
   "metadata": {},
   "source": [
    "In this example, we saw how something as easy to express in pandas in a single line can in fact take *many* lines of SQL to write. \n",
    "\n",
    "Using Ponder leads to huge time-savings since you can think and work natively in pandas when interacting with your data warehouse."
   ]
  },
  {
   "cell_type": "markdown",
   "id": "e5a06841-eb62-4b01-9465-e84624df20f8",
   "metadata": {},
   "source": [
    "### Summary"
   ]
  },
  {
   "cell_type": "markdown",
   "id": "912d10c4-c4c2-4631-8c51-c908a97ca21e",
   "metadata": {},
   "source": [
    "In this tutorial, we saw how Ponder lets you run pandas on BigQuery. \n",
    "\n",
    "Ponder simplifies your experience in working with data. It does this by translating your pandas queries to corresponding SQL queries to run on your data warehouse. Ponder gives you the flexibility of working in pandas directly and often there are queries that are easier to write in pandas than having to craft hundreds of lines of SQL!\n",
    "\n",
    "As we can see, there are many benefits from being able to leverage the pandas API (over writing SQL directly) on your data warehouse, as summarized in this table. \n",
    "\n",
    "|               | pandas | SQL | Ponder |\n",
    "|---------------|--------|-----|--------|\n",
    "| Easy to use   | ✅      | ❌   | ✅      |\n",
    "| Flexible      | ✅      | ❌   | ✅      |\n",
    "| Scalable      | ❌      | ✅   | ✅      |\n",
    "| Secure access | ❌      | ✅   | ✅      |\n",
    "\n",
    "\n",
    "To learn more about Ponder, check out our product blogpost [here](https://ponder.io/run-pandas-on-1tb-directly-in-your-data-warehouse/)."
   ]
  }
 ],
 "metadata": {
  "kernelspec": {
   "display_name": "Python 3 (ipykernel)",
   "language": "python",
   "name": "python3"
  },
  "language_info": {
   "codemirror_mode": {
    "name": "ipython",
    "version": 3
   },
   "file_extension": ".py",
   "mimetype": "text/x-python",
   "name": "python",
   "nbconvert_exporter": "python",
   "pygments_lexer": "ipython3",
   "version": "3.10.6"
  }
 },
 "nbformat": 4,
 "nbformat_minor": 5
}
