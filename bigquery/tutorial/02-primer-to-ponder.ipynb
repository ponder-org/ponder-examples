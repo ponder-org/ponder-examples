{
 "cells": [
  {
   "cell_type": "markdown",
   "id": "e3a4634b-df94-4e97-96cf-9a42e5e22d8b",
   "metadata": {},
   "source": [
    "# Tutorial 2: Primer to Ponder"
   ]
  },
  {
   "cell_type": "code",
   "execution_count": 1,
   "id": "f2e16db8-8366-4e05-bc86-db5cbe8061c7",
   "metadata": {},
   "outputs": [],
   "source": [
    "import ponder.bigquery\n",
    "import modin.pandas as pd\n",
    "import json; import os; os.chdir(\"..\")\n",
    "creds = json.load(open(os.path.expanduser(\"credential.json\")))\n",
    "bigquery_con = ponder.bigquery.connect(creds, schema = \"TEST\")\n",
    "ponder.bigquery.init(bigquery_con)"
   ]
  },
  {
   "cell_type": "markdown",
   "id": "9ad0bfb9-6398-4107-9b11-028e240c722b",
   "metadata": {},
   "source": [
    "## What is Ponder?"
   ]
  },
  {
   "cell_type": "markdown",
   "id": "e2a005e4-0e8e-4189-a525-8cf5f2d49cbe",
   "metadata": {},
   "source": [
    "Ponder lets you run your pandas code directly in your data warehouse. This means that you can continue to write pandas, but with the scalability and security benefits of a modern data warehouse. \n",
    "\n",
    "### Key Features\n",
    "\n",
    "- **Data science at all scales**: With Ponder's technology, the same pandas workflows can be run at all scales, from megabytes to terabytes, without changing a single line of code. \n",
    "\n",
    "- **No change to user workflow:** Data scientists can continue running their existing pandas workflows and writing pandas code in their favorite IDE of choice, and benefit from seamless scalability improvements.\n",
    "\n",
    "- **Simplify your data infrastructure:** No need to set up and maintain compute infrastructure required for other parallel processing frameworks (e.g., Spark, Ray, Dask, etc.) to perform large scale data analysis with pandas.\n",
    "\n",
    "- **Guaranteed security:** All your pandas workflows will be executed in BigQuery, thus benefiting from the rigorous security guarantees offered by BigQuery."
   ]
  },
  {
   "cell_type": "markdown",
   "id": "982e72d6-5524-4896-8ee0-6909a2b36ae6",
   "metadata": {},
   "source": [
    "In the following sections, we will showcase some examples of how Ponder works and how it can be used in your work."
   ]
  },
  {
   "cell_type": "markdown",
   "id": "6ebfe52d-2e42-476c-80ea-e51c3ccddd2e",
   "metadata": {},
   "source": [
    "### Demo 1: Write SQL no more, Ponder in action!"
   ]
  },
  {
   "cell_type": "markdown",
   "id": "1d0ac7cf-e337-43d3-95d1-ccb9614aee5a",
   "metadata": {},
   "source": [
    "Under the hood, pandas operations are automatically compiled down to SQL queries that get pushed to BigQuery. Queries are executed directly on BigQuery, with users benefiting from the performance, scalability, and security benefits provided by BigQuery as the computation engine.  "
   ]
  },
  {
   "cell_type": "markdown",
   "id": "b8c5ee5e-20cc-4f90-8cbe-30053785ddc1",
   "metadata": {},
   "source": [
    "Here is an architecture of how Ponder works: \n",
    "\n",
    "<img src=\"https://ponder.io/wp-content/uploads/2023/01/Group-362.png\" width=\"75%\"></img>\n"
   ]
  },
  {
   "cell_type": "markdown",
   "id": "a557836c-9147-4372-a6e4-8ebe1a1d3e4e",
   "metadata": {},
   "source": [
    "To show you that this is actually running in the data warehouse, you can log onto your [BigQuery web interface](https://console.cloud.google.com/bigquery). The pandas operations you execute on Ponder correspond to the SQL queries shown on the `Project History` page in BigQuery web interface."
   ]
  },
  {
   "cell_type": "code",
   "execution_count": 2,
   "id": "2ba594ec-6059-4f92-b25f-ebd0c5eb0ca8",
   "metadata": {},
   "outputs": [],
   "source": [
    "df = pd.read_sql(\"PONDER_BOOKS\", bigquery_con)"
   ]
  },
  {
   "cell_type": "markdown",
   "id": "7a25e4dd-5d42-4fe4-a010-c2c50d851b87",
   "metadata": {},
   "source": [
    "You can look at the corresponding SQL queries for the pandas operations ran in Ponder by going to `Project History` in your BigQuery web interface. The history page lets you view and drill into the details of queries executed in your BigQuery account in the last 14 days."
   ]
  },
  {
   "cell_type": "markdown",
   "id": "13ff8707-2ce5-425e-bf38-64dcd7f885ef",
   "metadata": {},
   "source": [
    "<img src=\"img/bigquery_history.png\" width=\"150%\"></img>"
   ]
  },
  {
   "cell_type": "markdown",
   "id": "41204a3e-48d4-466d-a39a-79dcc8d7fe9b",
   "metadata": {},
   "source": [
    "In this case, you can see that as we connected to the table via `pd.read_sql`, this corresponding SQL query was generated: "
   ]
  },
  {
   "cell_type": "markdown",
   "id": "c6fa82cc-5a16-477a-8200-34de1c2b8b06",
   "metadata": {},
   "source": [
    "```sql\n",
    "CREATE TEMP TABLE `Ponder_scaywlwqrc` AS SELECT *,  ROW_NUMBER() OVER (ORDER BY 1) -1  AS _PONDER_ROW_NUMBER_,  ROW_NUMBER() OVER (ORDER BY 1) -1  AS  _PONDER_ROW_LABELS_  FROM TEST.`PONDER_BOOKS`\n",
    "```"
   ]
  },
  {
   "cell_type": "markdown",
   "id": "c415b038-4d16-4db7-97a0-bd8c79c7a82b",
   "metadata": {},
   "source": [
    "You might recall that in the last tutorial, we performed z-score normalization on all the numerical columns. (We drop `O_SHIPPRIORITY` since all values are 0.)"
   ]
  },
  {
   "cell_type": "code",
   "execution_count": 3,
   "id": "fd3f2587-1b63-4d5c-a997-eca14f47f41d",
   "metadata": {},
   "outputs": [
    {
     "data": {
      "text/html": [
       "<div>\n",
       "<style scoped>\n",
       "    .dataframe tbody tr th:only-of-type {\n",
       "        vertical-align: middle;\n",
       "    }\n",
       "\n",
       "    .dataframe tbody tr th {\n",
       "        vertical-align: top;\n",
       "    }\n",
       "\n",
       "    .dataframe thead th {\n",
       "        text-align: right;\n",
       "    }\n",
       "</style>\n",
       "<table border=\"1\" class=\"dataframe\">\n",
       "  <thead>\n",
       "    <tr style=\"text-align: right;\">\n",
       "      <th></th>\n",
       "      <th>O_ORDERKEY</th>\n",
       "      <th>O_CUSTKEY</th>\n",
       "      <th>O_TOTALPRICE</th>\n",
       "    </tr>\n",
       "  </thead>\n",
       "  <tbody>\n",
       "    <tr>\n",
       "      <th>0</th>\n",
       "      <td>0.572949</td>\n",
       "      <td>-0.228796</td>\n",
       "      <td>-0.219499</td>\n",
       "    </tr>\n",
       "    <tr>\n",
       "      <th>1</th>\n",
       "      <td>0.988875</td>\n",
       "      <td>-0.496957</td>\n",
       "      <td>2.070435</td>\n",
       "    </tr>\n",
       "    <tr>\n",
       "      <th>2</th>\n",
       "      <td>-1.077758</td>\n",
       "      <td>-0.956663</td>\n",
       "      <td>-1.401348</td>\n",
       "    </tr>\n",
       "    <tr>\n",
       "      <th>3</th>\n",
       "      <td>-1.292708</td>\n",
       "      <td>-0.152178</td>\n",
       "      <td>-1.309820</td>\n",
       "    </tr>\n",
       "    <tr>\n",
       "      <th>4</th>\n",
       "      <td>0.498456</td>\n",
       "      <td>-1.263133</td>\n",
       "      <td>0.583778</td>\n",
       "    </tr>\n",
       "    <tr>\n",
       "      <th>...</th>\n",
       "      <td>...</td>\n",
       "      <td>...</td>\n",
       "      <td>...</td>\n",
       "    </tr>\n",
       "    <tr>\n",
       "      <th>140</th>\n",
       "      <td>0.643352</td>\n",
       "      <td>0.537380</td>\n",
       "      <td>-0.548078</td>\n",
       "    </tr>\n",
       "    <tr>\n",
       "      <th>141</th>\n",
       "      <td>0.652724</td>\n",
       "      <td>1.801569</td>\n",
       "      <td>1.115252</td>\n",
       "    </tr>\n",
       "    <tr>\n",
       "      <th>142</th>\n",
       "      <td>-1.145427</td>\n",
       "      <td>-0.037252</td>\n",
       "      <td>-0.604602</td>\n",
       "    </tr>\n",
       "    <tr>\n",
       "      <th>143</th>\n",
       "      <td>0.008193</td>\n",
       "      <td>1.380173</td>\n",
       "      <td>2.136327</td>\n",
       "    </tr>\n",
       "    <tr>\n",
       "      <th>144</th>\n",
       "      <td>-1.082029</td>\n",
       "      <td>1.226938</td>\n",
       "      <td>0.214418</td>\n",
       "    </tr>\n",
       "  </tbody>\n",
       "</table>\n",
       "<p>145 rows x 3 columns</p>\n",
       "</div>"
      ],
      "text/plain": [
       "     O_ORDERKEY  O_CUSTKEY  O_TOTALPRICE\n",
       "0      0.572949  -0.228796     -0.219499\n",
       "1      0.988875  -0.496957      2.070435\n",
       "2     -1.077758  -0.956663     -1.401348\n",
       "3     -1.292708  -0.152178     -1.309820\n",
       "4      0.498456  -1.263133      0.583778\n",
       "..          ...        ...           ...\n",
       "140    0.643352   0.537380     -0.548078\n",
       "141    0.652724   1.801569      1.115252\n",
       "142   -1.145427  -0.037252     -0.604602\n",
       "143    0.008193   1.380173      2.136327\n",
       "144   -1.082029   1.226938      0.214418\n",
       "\n",
       "[145 rows x 3 columns]"
      ]
     },
     "execution_count": 3,
     "metadata": {},
     "output_type": "execute_result"
    }
   ],
   "source": [
    "x = df.drop(columns=\"O_SHIPPRIORITY\").select_dtypes(include='number').columns\n",
    "(df[x] - df[x].mean())/df[x].std()"
   ]
  },
  {
   "cell_type": "markdown",
   "id": "4ee43e51-59ee-463f-8fd1-28aa787b2f05",
   "metadata": {},
   "source": [
    "Now take a look at BigQuery's `Project History`, the corresponding SQL query is 150+ lines long!!"
   ]
  },
  {
   "cell_type": "markdown",
   "id": "cf7f32f7-28b2-4769-9195-7220d30acbc0",
   "metadata": {},
   "source": [
    "```sql\n",
    "SELECT \n",
    "  _PONDER_ROW_LABELS_, \n",
    "  O_ORDERKEY, \n",
    "  O_CUSTKEY, \n",
    "  O_TOTALPRICE \n",
    "FROM \n",
    "  (\n",
    "    SELECT \n",
    "      * \n",
    "    FROM \n",
    "      (\n",
    "        SELECT \n",
    "          _PONDER_ROW_NUMBER_, \n",
    "          _PONDER_ROW_LABELS_, \n",
    "          O_ORDERKEY / O_ORDERKEY_ponder_right AS O_ORDERKEY, \n",
    "          O_CUSTKEY / O_CUSTKEY_ponder_right AS O_CUSTKEY, \n",
    "          O_TOTALPRICE / O_TOTALPRICE_ponder_right AS O_TOTALPRICE \n",
    "        FROM \n",
    "          (\n",
    "            SELECT \n",
    "              _PONDER_ROW_NUMBER_, \n",
    "              _PONDER_ROW_LABELS_, \n",
    "              O_ORDERKEY - O_ORDERKEY_ponder_right AS O_ORDERKEY, \n",
    "              O_CUSTKEY - O_CUSTKEY_ponder_right AS O_CUSTKEY, \n",
    "              O_TOTALPRICE - O_TOTALPRICE_ponder_right AS O_TOTALPRICE \n",
    "            FROM \n",
    "              (\n",
    "                SELECT \n",
    "                  _PONDER_ROW_NUMBER_, \n",
    "                  _PONDER_ROW_LABELS_, \n",
    "                  O_ORDERKEY, \n",
    "                  O_CUSTKEY, \n",
    "                  O_TOTALPRICE \n",
    "                FROM \n",
    "                  (\n",
    "                    SELECT \n",
    "                      O_ORDERKEY, \n",
    "                      O_CUSTKEY, \n",
    "                      O_ORDERSTATUS, \n",
    "                      O_TOTALPRICE, \n",
    "                      O_ORDERDATE, \n",
    "                      O_ORDERPRIORITY, \n",
    "                      O_CLERK, \n",
    "                      O_SHIPPRIORITY, \n",
    "                      O_COMMENT, \n",
    "                      _PONDER_ROW_NUMBER_, \n",
    "                      _PONDER_ROW_LABELS_ \n",
    "                    FROM \n",
    "                      Ponder_scaywlwqrc \n",
    "                    ORDER BY \n",
    "                      _PONDER_ROW_NUMBER_\n",
    "                  )\n",
    "              ) AS _PONDER_LEFT_ CROSS \n",
    "              JOIN (\n",
    "                SELECT \n",
    "                  O_ORDERKEY AS O_ORDERKEY_ponder_right, \n",
    "                  O_CUSTKEY AS O_CUSTKEY_ponder_right, \n",
    "                  O_TOTALPRICE AS O_TOTALPRICE_ponder_right \n",
    "                FROM \n",
    "                  (\n",
    "                    SELECT \n",
    "                      0 AS _PONDER_ROW_NUMBER_, \n",
    "                      0 AS _PONDER_ROW_LABELS_, \n",
    "                      AVG(O_ORDERKEY) AS O_ORDERKEY, \n",
    "                      AVG(O_CUSTKEY) AS O_CUSTKEY, \n",
    "                      AVG(O_TOTALPRICE) AS O_TOTALPRICE \n",
    "                    FROM \n",
    "                      (\n",
    "                        SELECT \n",
    "                          CAST(O_ORDERKEY AS FLOAT64) AS O_ORDERKEY, \n",
    "                          CAST(O_CUSTKEY AS FLOAT64) AS O_CUSTKEY, \n",
    "                          CAST(O_TOTALPRICE AS FLOAT64) AS O_TOTALPRICE, \n",
    "                          _PONDER_ROW_LABELS_, \n",
    "                          _PONDER_ROW_NUMBER_ \n",
    "                        FROM \n",
    "                          (\n",
    "                            SELECT \n",
    "                              _PONDER_ROW_NUMBER_, \n",
    "                              _PONDER_ROW_LABELS_, \n",
    "                              O_ORDERKEY, \n",
    "                              O_CUSTKEY, \n",
    "                              O_TOTALPRICE \n",
    "                            FROM \n",
    "                              (\n",
    "                                SELECT \n",
    "                                  O_ORDERKEY, \n",
    "                                  O_CUSTKEY, \n",
    "                                  O_ORDERSTATUS, \n",
    "                                  O_TOTALPRICE, \n",
    "                                  O_ORDERDATE, \n",
    "                                  O_ORDERPRIORITY, \n",
    "                                  O_CLERK, \n",
    "                                  O_SHIPPRIORITY, \n",
    "                                  O_COMMENT, \n",
    "                                  _PONDER_ROW_NUMBER_, \n",
    "                                  _PONDER_ROW_LABELS_ \n",
    "                                FROM \n",
    "                                  Ponder_scaywlwqrc \n",
    "                                ORDER BY \n",
    "                                  _PONDER_ROW_NUMBER_\n",
    "                              )\n",
    "                          )\n",
    "                      ) \n",
    "                    LIMIT \n",
    "                      1\n",
    "                  )\n",
    "              ) AS _PONDER_RIGHT_\n",
    "          ) AS _PONDER_LEFT_ CROSS \n",
    "          JOIN (\n",
    "            SELECT \n",
    "              O_ORDERKEY AS O_ORDERKEY_ponder_right, \n",
    "              O_CUSTKEY AS O_CUSTKEY_ponder_right, \n",
    "              O_TOTALPRICE AS O_TOTALPRICE_ponder_right \n",
    "            FROM \n",
    "              (\n",
    "                SELECT \n",
    "                  0 AS _PONDER_ROW_NUMBER_, \n",
    "                  0 AS _PONDER_ROW_LABELS_, \n",
    "                  STDDEV(O_ORDERKEY) AS O_ORDERKEY, \n",
    "                  STDDEV(O_CUSTKEY) AS O_CUSTKEY, \n",
    "                  STDDEV(O_TOTALPRICE) AS O_TOTALPRICE \n",
    "                FROM \n",
    "                  (\n",
    "                    SELECT \n",
    "                      _PONDER_ROW_NUMBER_, \n",
    "                      _PONDER_ROW_LABELS_, \n",
    "                      O_ORDERKEY, \n",
    "                      O_CUSTKEY, \n",
    "                      O_TOTALPRICE \n",
    "                    FROM \n",
    "                      (\n",
    "                        SELECT \n",
    "                          O_ORDERKEY, \n",
    "                          O_CUSTKEY, \n",
    "                          O_ORDERSTATUS, \n",
    "                          O_TOTALPRICE, \n",
    "                          O_ORDERDATE, \n",
    "                          O_ORDERPRIORITY, \n",
    "                          O_CLERK, \n",
    "                          O_SHIPPRIORITY, \n",
    "                          O_COMMENT, \n",
    "                          _PONDER_ROW_NUMBER_, \n",
    "                          _PONDER_ROW_LABELS_ \n",
    "                        FROM \n",
    "                          Ponder_scaywlwqrc \n",
    "                        ORDER BY \n",
    "                          _PONDER_ROW_NUMBER_\n",
    "                      )\n",
    "                  ) \n",
    "                LIMIT \n",
    "                  1\n",
    "              )\n",
    "          ) AS _PONDER_RIGHT_\n",
    "      ) \n",
    "    WHERE \n",
    "      _PONDER_ROW_NUMBER_ IN (\n",
    "        0, 1, 2, 3, 4, 5, 6, 7, 8, 9, 10, 11, 12, 13, \n",
    "        14, 15, 16, 17, 18, 19, 20, 21, 22, 23, \n",
    "        24, 25, 26, 27, 28, 29, 30, 114, 115, 116, \n",
    "        117, 118, 119, 120, 121, 122, 123, 124, \n",
    "        125, 126, 127, 128, 129, 130, 131, 132, \n",
    "        133, 134, 135, 136, 137, 138, 139, 140, \n",
    "        141, 142, 143, 144\n",
    "      )\n",
    "  ) \n",
    "ORDER BY \n",
    "  _PONDER_ROW_NUMBER_ \n",
    "LIMIT \n",
    "  10001\n",
    "```"
   ]
  },
  {
   "cell_type": "markdown",
   "id": "c101d4a3-e54b-4fc0-8994-20a1c1b75821",
   "metadata": {},
   "source": [
    "In this example, we saw how something as easy to express in pandas in a single line can in fact take *many* lines of SQL to write. \n",
    "\n",
    "Using Ponder leads to huge time-savings since you can think and work natively in pandas when interacting with your data warehouse."
   ]
  },
  {
   "cell_type": "markdown",
   "id": "cd28114a-cf73-490b-a176-d5a44c37b3be",
   "metadata": {},
   "source": [
    "### Demo 2: Scaling Ponder on big data"
   ]
  },
  {
   "cell_type": "markdown",
   "id": "5484fa7f-7955-4670-9a91-463008d1cc2a",
   "metadata": {},
   "source": [
    "Ponder is built on our open-source project, [Modin](https://modin.readthedocs.io/en/latest/), which is a faster, more scalable version of pandas. Modin has more than 5M+ downloads to-date and is being adopted in leading data and AI teams. We built Modin and Ponder to address the scalability bottlenecks that practitioners face when using pandas (which is single-threaded and often leads to out-of-memory errors). But unlike other big data frameworks (e.g., Spark, SQL), we let you continue using the same pandas API and semantics, while doing the magic behind the scenes to let you scale on hundreds of GB up to terabytes of data."
   ]
  },
  {
   "cell_type": "code",
   "execution_count": 4,
   "id": "eaca2ee5-b0df-40dd-b479-016f0cedf4d8",
   "metadata": {},
   "outputs": [],
   "source": [
    "import time"
   ]
  },
  {
   "cell_type": "markdown",
   "id": "5a64bc69-efc4-456b-934f-de6d587416bb",
   "metadata": {},
   "source": [
    "In this demo, we perform a series of operations with Ponder and Pandas to compare the performance of working with large datasets. "
   ]
  },
  {
   "cell_type": "markdown",
   "id": "9e902e1b-0589-445d-9168-0d49c3daed57",
   "metadata": {},
   "source": [
    "First, we load in the CSV file which contains the NYC taxi dataset. The size of this CSV file is 22.6MB."
   ]
  },
  {
   "cell_type": "code",
   "execution_count": 5,
   "id": "5e4295af-3cd8-4b5e-a9db-c26c3d712986",
   "metadata": {},
   "outputs": [
    {
     "name": "stdout",
     "output_type": "stream",
     "text": [
      "Creating table in BigQuery...\n",
      "Finished creating table in BigQuery...\n",
      "Finished loading data into BigQuery.\n",
      "Dataframe loading complete.\n"
     ]
    }
   ],
   "source": [
    "df = pd.read_csv(\"https://github.com/ponder-org/ponder-datasets/blob/main/yellow_tripdata_2015-01.csv?raw=True\", on_bad_lines='skip')"
   ]
  },
  {
   "cell_type": "code",
   "execution_count": 6,
   "id": "47016610-d727-456d-af13-22e768123176",
   "metadata": {},
   "outputs": [],
   "source": [
    "start  = time.time()\n",
    "bigdf = pd.concat([df for _ in range(100)])\n",
    "end = time.time()\n",
    "ponder_concat_duration = end - start"
   ]
  },
  {
   "cell_type": "code",
   "execution_count": 7,
   "id": "e93f782e-72e8-4e71-a1ab-77a24c43fcb8",
   "metadata": {},
   "outputs": [
    {
     "name": "stdout",
     "output_type": "stream",
     "text": [
      "Time for concat with Ponder: 1.14 seconds\n"
     ]
    }
   ],
   "source": [
    "print(\"Time for concat with Ponder: {} seconds\".format(round(ponder_concat_duration, 2)))"
   ]
  },
  {
   "cell_type": "code",
   "execution_count": 8,
   "id": "5eb705a2-eb08-4969-881a-5e14fdc435bd",
   "metadata": {},
   "outputs": [
    {
     "data": {
      "text/html": [
       "<div>\n",
       "<style scoped>\n",
       "    .dataframe tbody tr th:only-of-type {\n",
       "        vertical-align: middle;\n",
       "    }\n",
       "\n",
       "    .dataframe tbody tr th {\n",
       "        vertical-align: top;\n",
       "    }\n",
       "\n",
       "    .dataframe thead th {\n",
       "        text-align: right;\n",
       "    }\n",
       "</style>\n",
       "<table border=\"1\" class=\"dataframe\">\n",
       "  <thead>\n",
       "    <tr style=\"text-align: right;\">\n",
       "      <th></th>\n",
       "      <th>VENDORID</th>\n",
       "      <th>TRIP_DISTANCE</th>\n",
       "      <th>RATECODEID</th>\n",
       "      <th>PULOCATIONID</th>\n",
       "      <th>DOLOCATIONID</th>\n",
       "      <th>PAYMENT_TYPE</th>\n",
       "      <th>FARE_AMOUNT</th>\n",
       "      <th>EXTRA</th>\n",
       "      <th>MTA_TAX</th>\n",
       "      <th>TIP_AMOUNT</th>\n",
       "      <th>TOLLS_AMOUNT</th>\n",
       "      <th>IMPROVEMENT_SURCHARGE</th>\n",
       "      <th>TOTAL_AMOUNT</th>\n",
       "    </tr>\n",
       "    <tr>\n",
       "      <th>PASSENGER_COUNT</th>\n",
       "      <th></th>\n",
       "      <th></th>\n",
       "      <th></th>\n",
       "      <th></th>\n",
       "      <th></th>\n",
       "      <th></th>\n",
       "      <th></th>\n",
       "      <th></th>\n",
       "      <th></th>\n",
       "      <th></th>\n",
       "      <th></th>\n",
       "      <th></th>\n",
       "      <th></th>\n",
       "    </tr>\n",
       "  </thead>\n",
       "  <tbody>\n",
       "    <tr>\n",
       "      <th>0</th>\n",
       "      <td>1.130435</td>\n",
       "      <td>2.141739</td>\n",
       "      <td>9.043478</td>\n",
       "      <td>165.130435</td>\n",
       "      <td>154.217391</td>\n",
       "      <td>1.652174</td>\n",
       "      <td>17.150435</td>\n",
       "      <td>0.250000</td>\n",
       "      <td>0.304348</td>\n",
       "      <td>0.948043</td>\n",
       "      <td>0.423913</td>\n",
       "      <td>0.039130</td>\n",
       "      <td>19.357174</td>\n",
       "    </tr>\n",
       "    <tr>\n",
       "      <th>1</th>\n",
       "      <td>1.506007</td>\n",
       "      <td>3.289600</td>\n",
       "      <td>1.045137</td>\n",
       "      <td>155.058457</td>\n",
       "      <td>151.812726</td>\n",
       "      <td>1.510181</td>\n",
       "      <td>12.861238</td>\n",
       "      <td>0.269200</td>\n",
       "      <td>0.496114</td>\n",
       "      <td>1.329329</td>\n",
       "      <td>0.202550</td>\n",
       "      <td>0.150203</td>\n",
       "      <td>15.455671</td>\n",
       "    </tr>\n",
       "    <tr>\n",
       "      <th>2</th>\n",
       "      <td>1.466004</td>\n",
       "      <td>3.608892</td>\n",
       "      <td>1.066553</td>\n",
       "      <td>155.405790</td>\n",
       "      <td>152.076833</td>\n",
       "      <td>1.496764</td>\n",
       "      <td>13.963329</td>\n",
       "      <td>0.289076</td>\n",
       "      <td>0.494514</td>\n",
       "      <td>1.443935</td>\n",
       "      <td>0.319719</td>\n",
       "      <td>0.138124</td>\n",
       "      <td>16.807681</td>\n",
       "    </tr>\n",
       "    <tr>\n",
       "      <th>3</th>\n",
       "      <td>1.491227</td>\n",
       "      <td>3.568215</td>\n",
       "      <td>1.061660</td>\n",
       "      <td>153.808708</td>\n",
       "      <td>151.956543</td>\n",
       "      <td>1.538291</td>\n",
       "      <td>13.929069</td>\n",
       "      <td>0.304526</td>\n",
       "      <td>0.493727</td>\n",
       "      <td>1.324659</td>\n",
       "      <td>0.302686</td>\n",
       "      <td>0.146261</td>\n",
       "      <td>16.652097</td>\n",
       "    </tr>\n",
       "    <tr>\n",
       "      <th>4</th>\n",
       "      <td>1.393275</td>\n",
       "      <td>3.652979</td>\n",
       "      <td>1.101025</td>\n",
       "      <td>153.760427</td>\n",
       "      <td>151.656227</td>\n",
       "      <td>1.603839</td>\n",
       "      <td>14.444529</td>\n",
       "      <td>0.288786</td>\n",
       "      <td>0.492062</td>\n",
       "      <td>1.177842</td>\n",
       "      <td>0.378460</td>\n",
       "      <td>0.116380</td>\n",
       "      <td>17.078130</td>\n",
       "    </tr>\n",
       "    <tr>\n",
       "      <th>5</th>\n",
       "      <td>1.989759</td>\n",
       "      <td>3.456300</td>\n",
       "      <td>1.023275</td>\n",
       "      <td>153.885231</td>\n",
       "      <td>150.142192</td>\n",
       "      <td>1.497080</td>\n",
       "      <td>13.201483</td>\n",
       "      <td>0.288320</td>\n",
       "      <td>0.497757</td>\n",
       "      <td>1.330433</td>\n",
       "      <td>0.248330</td>\n",
       "      <td>0.292383</td>\n",
       "      <td>15.861550</td>\n",
       "    </tr>\n",
       "    <tr>\n",
       "      <th>6</th>\n",
       "      <td>1.998547</td>\n",
       "      <td>3.384467</td>\n",
       "      <td>1.021260</td>\n",
       "      <td>152.325763</td>\n",
       "      <td>150.321933</td>\n",
       "      <td>1.495180</td>\n",
       "      <td>12.905982</td>\n",
       "      <td>0.254259</td>\n",
       "      <td>0.498812</td>\n",
       "      <td>1.305881</td>\n",
       "      <td>0.212104</td>\n",
       "      <td>0.297148</td>\n",
       "      <td>15.474779</td>\n",
       "    </tr>\n",
       "  </tbody>\n",
       "</table>\n",
       "</div>"
      ],
      "text/plain": [
       "                 VENDORID  TRIP_DISTANCE  RATECODEID  PULOCATIONID  \\\n",
       "PASSENGER_COUNT                                                      \n",
       "0                1.130435       2.141739    9.043478    165.130435   \n",
       "1                1.506007       3.289600    1.045137    155.058457   \n",
       "2                1.466004       3.608892    1.066553    155.405790   \n",
       "3                1.491227       3.568215    1.061660    153.808708   \n",
       "4                1.393275       3.652979    1.101025    153.760427   \n",
       "5                1.989759       3.456300    1.023275    153.885231   \n",
       "6                1.998547       3.384467    1.021260    152.325763   \n",
       "\n",
       "                 DOLOCATIONID  PAYMENT_TYPE  FARE_AMOUNT     EXTRA   MTA_TAX  \\\n",
       "PASSENGER_COUNT                                                                \n",
       "0                  154.217391      1.652174    17.150435  0.250000  0.304348   \n",
       "1                  151.812726      1.510181    12.861238  0.269200  0.496114   \n",
       "2                  152.076833      1.496764    13.963329  0.289076  0.494514   \n",
       "3                  151.956543      1.538291    13.929069  0.304526  0.493727   \n",
       "4                  151.656227      1.603839    14.444529  0.288786  0.492062   \n",
       "5                  150.142192      1.497080    13.201483  0.288320  0.497757   \n",
       "6                  150.321933      1.495180    12.905982  0.254259  0.498812   \n",
       "\n",
       "                 TIP_AMOUNT  TOLLS_AMOUNT  IMPROVEMENT_SURCHARGE  TOTAL_AMOUNT  \n",
       "PASSENGER_COUNT                                                                 \n",
       "0                  0.948043      0.423913               0.039130     19.357174  \n",
       "1                  1.329329      0.202550               0.150203     15.455671  \n",
       "2                  1.443935      0.319719               0.138124     16.807681  \n",
       "3                  1.324659      0.302686               0.146261     16.652097  \n",
       "4                  1.177842      0.378460               0.116380     17.078130  \n",
       "5                  1.330433      0.248330               0.292383     15.861550  \n",
       "6                  1.305881      0.212104               0.297148     15.474779  "
      ]
     },
     "metadata": {},
     "output_type": "display_data"
    }
   ],
   "source": [
    "start  = time.time()\n",
    "display(bigdf.groupby(\"PASSENGER_COUNT\").mean())\n",
    "end = time.time()\n",
    "ponder_groupby_duration = end - start"
   ]
  },
  {
   "cell_type": "code",
   "execution_count": 9,
   "id": "c8d23705-5aa7-49c6-9898-36b089a93157",
   "metadata": {},
   "outputs": [
    {
     "name": "stdout",
     "output_type": "stream",
     "text": [
      "Time for groupby.mean with Ponder: 12.47 seconds\n"
     ]
    }
   ],
   "source": [
    "print(\"Time for groupby.mean with Ponder: {} seconds\".format(round(ponder_groupby_duration, 2)))"
   ]
  },
  {
   "cell_type": "code",
   "execution_count": 10,
   "id": "75cafa69-1bb5-4b84-8505-b60a6af8c02d",
   "metadata": {},
   "outputs": [],
   "source": [
    "import pandas as old_pd"
   ]
  },
  {
   "cell_type": "code",
   "execution_count": 11,
   "id": "7f8b8ca0-20c6-42b7-a7d1-3231dc7b127c",
   "metadata": {},
   "outputs": [],
   "source": [
    "pandas_df = old_pd.read_csv(\"https://github.com/ponder-org/ponder-datasets/blob/main/yellow_tripdata_2015-01.csv?raw=True\", on_bad_lines='skip')"
   ]
  },
  {
   "cell_type": "code",
   "execution_count": 12,
   "id": "d23f6b11-d042-4661-937c-04b9ccd9381b",
   "metadata": {},
   "outputs": [],
   "source": [
    "start  = time.time()\n",
    "pandas_bigdf = old_pd.concat([pandas_df for _ in range(100)])\n",
    "end = time.time()\n",
    "pandas_concat_duration = end - start"
   ]
  },
  {
   "cell_type": "code",
   "execution_count": 13,
   "id": "eaed5412-45fb-4e66-b0ed-86a7c181aba4",
   "metadata": {},
   "outputs": [
    {
     "name": "stdout",
     "output_type": "stream",
     "text": [
      "Time for concat with pandas: 2.09 seconds\n"
     ]
    }
   ],
   "source": [
    "print(\"Time for concat with pandas: {} seconds\".format(round(pandas_concat_duration, 2)))"
   ]
  },
  {
   "cell_type": "code",
   "execution_count": 14,
   "id": "1e270626-b3b7-4de7-b02a-09b468f9efd5",
   "metadata": {},
   "outputs": [
    {
     "name": "stderr",
     "output_type": "stream",
     "text": [
      "FutureWarning: The default value of numeric_only in DataFrameGroupBy.mean is deprecated. In a future version, numeric_only will default to False. Either specify numeric_only or select only columns which should be valid for the function.\n"
     ]
    },
    {
     "data": {
      "text/html": [
       "<div>\n",
       "<style scoped>\n",
       "    .dataframe tbody tr th:only-of-type {\n",
       "        vertical-align: middle;\n",
       "    }\n",
       "\n",
       "    .dataframe tbody tr th {\n",
       "        vertical-align: top;\n",
       "    }\n",
       "\n",
       "    .dataframe thead th {\n",
       "        text-align: right;\n",
       "    }\n",
       "</style>\n",
       "<table border=\"1\" class=\"dataframe\">\n",
       "  <thead>\n",
       "    <tr style=\"text-align: right;\">\n",
       "      <th></th>\n",
       "      <th>VENDORID</th>\n",
       "      <th>TRIP_DISTANCE</th>\n",
       "      <th>RATECODEID</th>\n",
       "      <th>PULOCATIONID</th>\n",
       "      <th>DOLOCATIONID</th>\n",
       "      <th>PAYMENT_TYPE</th>\n",
       "      <th>FARE_AMOUNT</th>\n",
       "      <th>EXTRA</th>\n",
       "      <th>MTA_TAX</th>\n",
       "      <th>TIP_AMOUNT</th>\n",
       "      <th>TOLLS_AMOUNT</th>\n",
       "      <th>IMPROVEMENT_SURCHARGE</th>\n",
       "      <th>TOTAL_AMOUNT</th>\n",
       "    </tr>\n",
       "    <tr>\n",
       "      <th>PASSENGER_COUNT</th>\n",
       "      <th></th>\n",
       "      <th></th>\n",
       "      <th></th>\n",
       "      <th></th>\n",
       "      <th></th>\n",
       "      <th></th>\n",
       "      <th></th>\n",
       "      <th></th>\n",
       "      <th></th>\n",
       "      <th></th>\n",
       "      <th></th>\n",
       "      <th></th>\n",
       "      <th></th>\n",
       "    </tr>\n",
       "  </thead>\n",
       "  <tbody>\n",
       "    <tr>\n",
       "      <th>0</th>\n",
       "      <td>1.130435</td>\n",
       "      <td>2.141739</td>\n",
       "      <td>9.043478</td>\n",
       "      <td>165.130435</td>\n",
       "      <td>154.217391</td>\n",
       "      <td>1.652174</td>\n",
       "      <td>17.150435</td>\n",
       "      <td>0.250000</td>\n",
       "      <td>0.304348</td>\n",
       "      <td>0.948043</td>\n",
       "      <td>0.423913</td>\n",
       "      <td>0.039130</td>\n",
       "      <td>19.357174</td>\n",
       "    </tr>\n",
       "    <tr>\n",
       "      <th>1</th>\n",
       "      <td>1.506007</td>\n",
       "      <td>3.289600</td>\n",
       "      <td>1.045137</td>\n",
       "      <td>155.058457</td>\n",
       "      <td>151.812726</td>\n",
       "      <td>1.510181</td>\n",
       "      <td>12.861238</td>\n",
       "      <td>0.269200</td>\n",
       "      <td>0.496114</td>\n",
       "      <td>1.329329</td>\n",
       "      <td>0.202550</td>\n",
       "      <td>0.150203</td>\n",
       "      <td>15.455671</td>\n",
       "    </tr>\n",
       "    <tr>\n",
       "      <th>2</th>\n",
       "      <td>1.466004</td>\n",
       "      <td>3.608892</td>\n",
       "      <td>1.066553</td>\n",
       "      <td>155.405790</td>\n",
       "      <td>152.076833</td>\n",
       "      <td>1.496764</td>\n",
       "      <td>13.963329</td>\n",
       "      <td>0.289076</td>\n",
       "      <td>0.494514</td>\n",
       "      <td>1.443935</td>\n",
       "      <td>0.319719</td>\n",
       "      <td>0.138124</td>\n",
       "      <td>16.807681</td>\n",
       "    </tr>\n",
       "    <tr>\n",
       "      <th>3</th>\n",
       "      <td>1.491227</td>\n",
       "      <td>3.568215</td>\n",
       "      <td>1.061660</td>\n",
       "      <td>153.808708</td>\n",
       "      <td>151.956543</td>\n",
       "      <td>1.538291</td>\n",
       "      <td>13.929069</td>\n",
       "      <td>0.304526</td>\n",
       "      <td>0.493727</td>\n",
       "      <td>1.324659</td>\n",
       "      <td>0.302686</td>\n",
       "      <td>0.146261</td>\n",
       "      <td>16.652097</td>\n",
       "    </tr>\n",
       "    <tr>\n",
       "      <th>4</th>\n",
       "      <td>1.393275</td>\n",
       "      <td>3.652979</td>\n",
       "      <td>1.101025</td>\n",
       "      <td>153.760427</td>\n",
       "      <td>151.656227</td>\n",
       "      <td>1.603839</td>\n",
       "      <td>14.444529</td>\n",
       "      <td>0.288786</td>\n",
       "      <td>0.492062</td>\n",
       "      <td>1.177842</td>\n",
       "      <td>0.378460</td>\n",
       "      <td>0.116380</td>\n",
       "      <td>17.078130</td>\n",
       "    </tr>\n",
       "    <tr>\n",
       "      <th>5</th>\n",
       "      <td>1.989759</td>\n",
       "      <td>3.456300</td>\n",
       "      <td>1.023275</td>\n",
       "      <td>153.885231</td>\n",
       "      <td>150.142192</td>\n",
       "      <td>1.497080</td>\n",
       "      <td>13.201483</td>\n",
       "      <td>0.288320</td>\n",
       "      <td>0.497757</td>\n",
       "      <td>1.330433</td>\n",
       "      <td>0.248330</td>\n",
       "      <td>0.292383</td>\n",
       "      <td>15.861550</td>\n",
       "    </tr>\n",
       "    <tr>\n",
       "      <th>6</th>\n",
       "      <td>1.998547</td>\n",
       "      <td>3.384467</td>\n",
       "      <td>1.021260</td>\n",
       "      <td>152.325763</td>\n",
       "      <td>150.321933</td>\n",
       "      <td>1.495180</td>\n",
       "      <td>12.905982</td>\n",
       "      <td>0.254259</td>\n",
       "      <td>0.498812</td>\n",
       "      <td>1.305881</td>\n",
       "      <td>0.212104</td>\n",
       "      <td>0.297148</td>\n",
       "      <td>15.474779</td>\n",
       "    </tr>\n",
       "  </tbody>\n",
       "</table>\n",
       "</div>"
      ],
      "text/plain": [
       "                 VENDORID  TRIP_DISTANCE  RATECODEID  PULOCATIONID  \\\n",
       "PASSENGER_COUNT                                                      \n",
       "0                1.130435       2.141739    9.043478    165.130435   \n",
       "1                1.506007       3.289600    1.045137    155.058457   \n",
       "2                1.466004       3.608892    1.066553    155.405790   \n",
       "3                1.491227       3.568215    1.061660    153.808708   \n",
       "4                1.393275       3.652979    1.101025    153.760427   \n",
       "5                1.989759       3.456300    1.023275    153.885231   \n",
       "6                1.998547       3.384467    1.021260    152.325763   \n",
       "\n",
       "                 DOLOCATIONID  PAYMENT_TYPE  FARE_AMOUNT     EXTRA   MTA_TAX  \\\n",
       "PASSENGER_COUNT                                                                \n",
       "0                  154.217391      1.652174    17.150435  0.250000  0.304348   \n",
       "1                  151.812726      1.510181    12.861238  0.269200  0.496114   \n",
       "2                  152.076833      1.496764    13.963329  0.289076  0.494514   \n",
       "3                  151.956543      1.538291    13.929069  0.304526  0.493727   \n",
       "4                  151.656227      1.603839    14.444529  0.288786  0.492062   \n",
       "5                  150.142192      1.497080    13.201483  0.288320  0.497757   \n",
       "6                  150.321933      1.495180    12.905982  0.254259  0.498812   \n",
       "\n",
       "                 TIP_AMOUNT  TOLLS_AMOUNT  IMPROVEMENT_SURCHARGE  TOTAL_AMOUNT  \n",
       "PASSENGER_COUNT                                                                 \n",
       "0                  0.948043      0.423913               0.039130     19.357174  \n",
       "1                  1.329329      0.202550               0.150203     15.455671  \n",
       "2                  1.443935      0.319719               0.138124     16.807681  \n",
       "3                  1.324659      0.302686               0.146261     16.652097  \n",
       "4                  1.177842      0.378460               0.116380     17.078130  \n",
       "5                  1.330433      0.248330               0.292383     15.861550  \n",
       "6                  1.305881      0.212104               0.297148     15.474779  "
      ]
     },
     "metadata": {},
     "output_type": "display_data"
    }
   ],
   "source": [
    "start  = time.time()\n",
    "display(pandas_bigdf.groupby(\"PASSENGER_COUNT\").mean())\n",
    "end = time.time()\n",
    "pandas_groupby_duration = end - start"
   ]
  },
  {
   "cell_type": "code",
   "execution_count": 15,
   "id": "3b4a87f5-6890-45fa-b12f-07b3033bf395",
   "metadata": {},
   "outputs": [
    {
     "name": "stdout",
     "output_type": "stream",
     "text": [
      "Time for groupby.mean with pandas: 2.1 seconds\n"
     ]
    }
   ],
   "source": [
    "print(\"Time for groupby.mean with pandas: {} seconds\".format(round(pandas_groupby_duration, 2)))"
   ]
  },
  {
   "cell_type": "code",
   "execution_count": 16,
   "id": "ded4da49-a00c-4aee-a550-d644e7b502d6",
   "metadata": {},
   "outputs": [],
   "source": [
    "# Install matplotlib if you don't already have it\n",
    "! pip install matplotlib --quiet"
   ]
  },
  {
   "cell_type": "code",
   "execution_count": 17,
   "id": "a0222244-44b2-49a6-a435-356b9a02a708",
   "metadata": {},
   "outputs": [
    {
     "data": {
      "image/png": "[encoded data removed]",
      "text/plain": [
       "<Figure size 640x480 with 1 Axes>"
      ]
     },
     "metadata": {},
     "output_type": "display_data"
    }
   ],
   "source": [
    "import numpy as np \n",
    "import matplotlib.pyplot as plt \n",
    "  \n",
    "X = ['Groupby','Concat']\n",
    "t_pandas = [pandas_groupby_duration,pandas_concat_duration]\n",
    "t_ponder = [ponder_groupby_duration,ponder_concat_duration]\n",
    "  \n",
    "X_axis = np.arange(len(X))\n",
    "  \n",
    "plt.bar(X_axis - 0.2, t_pandas, 0.4, label = 'Pandas')\n",
    "plt.bar(X_axis + 0.2, t_ponder, 0.4, label = 'Ponder')\n",
    "  \n",
    "plt.xticks(X_axis, X)\n",
    "plt.xlabel(\"Operations\")\n",
    "plt.ylabel(\"Time [sec]\")\n",
    "plt.title(\"Comparison of Ponder v.s. Pandas\")\n",
    "plt.legend()\n",
    "plt.show()"
   ]
  },
  {
   "cell_type": "markdown",
   "id": "e5a06841-eb62-4b01-9465-e84624df20f8",
   "metadata": {},
   "source": [
    "### Summary"
   ]
  },
  {
   "cell_type": "markdown",
   "id": "912d10c4-c4c2-4631-8c51-c908a97ca21e",
   "metadata": {},
   "source": [
    "In this tutorial, we saw how Ponder lets you run pandas on BigQuery. \n",
    "\n",
    "Demo #1 showed how Ponder simplifies your experience in working with data. It does this by translating your pandas queries to corresponding SQL queries to run on your data warehouse. Ponder gives you the flexibility of working in pandas directly and often there are queries that are easier to write in pandas than having to craft hundreds of lines of SQL!\n",
    "\n",
    "Demo #2 showed the scale benefits you get from using Ponder in working with large datasets. We saw that Ponder leverages the inherent parallelism of the data warehouse to speed up your pandas queries, leading to runtimes that are much faster than vanilla pandas.\n",
    "\n",
    "As we can see, there are many benefits from being able to leverage the pandas API (over writing SQL directly) on your data warehouse, as summarized in this table. \n",
    "\n",
    "|               | pandas | SQL | Ponder |\n",
    "|---------------|--------|-----|--------|\n",
    "| Easy to use   | ✅      | ❌   | ✅      |\n",
    "| Flexible      | ✅      | ❌   | ✅      |\n",
    "| Scalable      | ❌      | ✅   | ✅      |\n",
    "| Secure access | ❌      | ✅   | ✅      |\n",
    "\n",
    "\n",
    "To learn more about Ponder, check out our product blogpost [here](https://ponder.io/run-pandas-on-1tb-directly-in-your-data-warehouse/)."
   ]
  }
 ],
 "metadata": {
  "kernelspec": {
   "display_name": "Python 3 (ipykernel)",
   "language": "python",
   "name": "python3"
  },
  "language_info": {
   "codemirror_mode": {
    "name": "ipython",
    "version": 3
   },
   "file_extension": ".py",
   "mimetype": "text/x-python",
   "name": "python",
   "nbconvert_exporter": "python",
   "pygments_lexer": "ipython3",
   "version": "3.10.6"
  }
 },
 "nbformat": 4,
 "nbformat_minor": 5
}
