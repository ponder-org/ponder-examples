{
 "cells": [
  {
   "cell_type": "markdown",
   "id": "5f0e8cc2-b968-4059-b48a-a99bad1feecb",
   "metadata": {},
   "source": [
    "# Tutorial 8: Running NumPy In Your Data Warehouse"
   ]
  },
  {
   "cell_type": "markdown",
   "id": "28eea415-26b6-423e-b8de-2e37c01a0184",
   "metadata": {},
   "source": [
    "Pandas and NumPy are the two most popular Python data science libraries, used by more than 60% of Python developers. NumPy supports linear algebra operations in Python, and as a result, is the fundamental building block of machine learning."
   ]
  },
  {
   "cell_type": "markdown",
   "id": "f5e5aa6b-259a-4845-baf8-05dea286d2c1",
   "metadata": {},
   "source": [
    "Ponder lets you run NumPy commands directly in your warehouse. This means you can work with the NumPy API to build data and ML pipelines, and let BigQuery take care of scaling and security for you."
   ]
  },
  {
   "cell_type": "markdown",
   "id": "cba60d7b-8399-4574-baf1-1b4c8def6ff4",
   "metadata": {},
   "source": [
    "Here, we'll show a few examples of Ponder in action with NumPy."
   ]
  },
  {
   "cell_type": "code",
   "execution_count": 1,
   "id": "fc87e13e-b30a-4146-b82d-a49212f8085a",
   "metadata": {},
   "outputs": [
    {
     "name": "stderr",
     "output_type": "stream",
     "text": [
      "2023-05-05 13:22:55 - Creating session u_QRcDrWTgfQzYOZyE3FP6ilvw_QS7hNu-DYuHZXJL\n"
     ]
    }
   ],
   "source": [
    "import ponder; ponder.init()\n",
    "import modin.pandas as pd\n",
    "from google.cloud import bigquery\n",
    "from google.cloud.bigquery import dbapi\n",
    "from google.oauth2 import service_account\n",
    "import json\n",
    "bigquery_con = dbapi.Connection(bigquery.Client(credentials=service_account.Credentials.from_service_account_info(json.loads(open(\"../credential.json\").read()),scopes=[\"https://www.googleapis.com/auth/bigquery\"])))\n",
    "ponder.configure(bigquery_dataset='TEST', default_connection=bigquery_con)"
   ]
  },
  {
   "cell_type": "code",
   "execution_count": null,
   "id": "e12c33df-fce1-45b1-8b50-5db1e57b35b8",
   "metadata": {},
   "outputs": [],
   "source": [
    "df = pd.read_sql(\"TEST.PONDER_CUSTOMER\", bigquery_con)"
   ]
  },
  {
   "cell_type": "markdown",
   "id": "7f61b127-fd79-4ac9-980a-84bfd03506ef",
   "metadata": {},
   "source": [
    "<div class=\"alert alert-block alert-info\"> <b>Note: </b> <span>NumPy support is currently part of Modin's experimental API, please drop us a note at <a href\"mailto:support@ponder.io\">support@ponder.io</a> if you run into any issues. Feedback welcome!</span></div>"
   ]
  },
  {
   "cell_type": "code",
   "execution_count": null,
   "id": "05a81146-43a0-4ab4-b1b6-1db3ae221cf3",
   "metadata": {
    "tags": []
   },
   "outputs": [],
   "source": [
    "import modin.config as cfg\n",
    "cfg.ExperimentalNumPyAPI.put(True)\n",
    "import modin.numpy as np"
   ]
  },
  {
   "cell_type": "code",
   "execution_count": null,
   "id": "1152fa4f-dbdb-4cb1-88c1-ff3cdf1d7163",
   "metadata": {
    "tags": []
   },
   "outputs": [],
   "source": [
    "arr = df.select_dtypes(\"number\").to_numpy()"
   ]
  },
  {
   "cell_type": "markdown",
   "id": "16b64eda-5ad1-4398-9861-891f25b714b7",
   "metadata": {},
   "source": [
    "We can convert the numerical values of the dataframe into Modin's NumPy array."
   ]
  },
  {
   "cell_type": "code",
   "execution_count": null,
   "id": "e82312b4-e2a0-4412-9add-db8591d9fd3f",
   "metadata": {},
   "outputs": [],
   "source": [
    "type(arr)"
   ]
  },
  {
   "cell_type": "code",
   "execution_count": null,
   "id": "4833cc0e-4aff-403e-a582-59f9fd8e3702",
   "metadata": {
    "tags": []
   },
   "outputs": [],
   "source": [
    "arr"
   ]
  },
  {
   "cell_type": "markdown",
   "id": "efcbe12c-5bee-47ad-9150-66782d3a374b",
   "metadata": {},
   "source": [
    "We can perform reduce operations such as `np.sum` and `np.mean` across the entire matrix: "
   ]
  },
  {
   "cell_type": "code",
   "execution_count": null,
   "id": "acbdd7ee-5bef-48ee-84dd-b4dfea2b003a",
   "metadata": {
    "tags": []
   },
   "outputs": [],
   "source": [
    "np.sum(arr)"
   ]
  },
  {
   "cell_type": "code",
   "execution_count": null,
   "id": "47e25f45-e363-4eff-b563-cf2f4fb27818",
   "metadata": {
    "tags": []
   },
   "outputs": [],
   "source": [
    "np.mean(arr)"
   ]
  },
  {
   "cell_type": "markdown",
   "id": "42433f63-cdd7-451f-93d7-10eeb70a0939",
   "metadata": {},
   "source": [
    "or we can perform the reduce operation along a specific axis: "
   ]
  },
  {
   "cell_type": "code",
   "execution_count": null,
   "id": "54490f21-89cb-4dcb-a907-44d1937589b2",
   "metadata": {
    "tags": []
   },
   "outputs": [],
   "source": [
    "# mean of every row returning object of same dimensions\n",
    "np.mean(arr, axis=-1, keepdims=True)"
   ]
  },
  {
   "cell_type": "markdown",
   "id": "70c9d47c-c37b-4720-bce0-d345524180a7",
   "metadata": {},
   "source": [
    "We can also do element-wise matrix operations such as addition of two matrices:"
   ]
  },
  {
   "cell_type": "code",
   "execution_count": null,
   "id": "674ea11f-d770-42b4-aaae-c860361e3956",
   "metadata": {
    "tags": []
   },
   "outputs": [],
   "source": [
    "# add an array with an array with reversed columns\n",
    "arr + arr[:,::-1]"
   ]
  },
  {
   "cell_type": "markdown",
   "id": "9daf58e0-b354-4dcc-9e5e-9ffe083e05b9",
   "metadata": {},
   "source": [
    "Putting everything together, we can do both together: "
   ]
  },
  {
   "cell_type": "code",
   "execution_count": null,
   "id": "a5d4fde6-7147-42cc-9131-3755a353bf87",
   "metadata": {
    "tags": []
   },
   "outputs": [],
   "source": [
    "# subtract each element from the average of its row\n",
    "arr - np.mean(arr, axis=-1, keepdims=True)"
   ]
  },
  {
   "cell_type": "markdown",
   "id": "0b796fd3-19f2-4bf4-b872-7d58c65dc0c7",
   "metadata": {},
   "source": [
    "Some additional NumPy operations Ponder currently supports include:\n",
    "\n",
    "- Element-wise matrix operations such as addition, subtraction, multiplication, division, power\n",
    "- Axis-collapsing or reducing operations such as min, max, sum, product, mean\n",
    "- Multi-array operations such as maximum or minimum\n",
    "- And many others, such as where, ravel, and transpose"
   ]
  }
 ],
 "metadata": {
  "kernelspec": {
   "display_name": "Python 3 (ipykernel)",
   "language": "python",
   "name": "python3"
  },
  "language_info": {
   "codemirror_mode": {
    "name": "ipython",
    "version": 3
   },
   "file_extension": ".py",
   "mimetype": "text/x-python",
   "name": "python",
   "nbconvert_exporter": "python",
   "pygments_lexer": "ipython3",
   "version": "3.10.6"
  }
 },
 "nbformat": 4,
 "nbformat_minor": 5
}
