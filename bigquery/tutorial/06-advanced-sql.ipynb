{
 "cells": [
  {
   "cell_type": "markdown",
   "id": "10931462-726a-45b0-b335-01f942a03a46",
   "metadata": {},
   "source": [
    "# Tutorial 6: Advanced Usage - Working with SQL"
   ]
  },
  {
   "cell_type": "markdown",
   "id": "353077fb-34fd-4ee3-a646-fae4c8373c00",
   "metadata": {},
   "source": [
    "<div class=\"alert alert-block alert-info\"> <b>Before we get started: </b> \n",
    "    <ul style=\"list-style-type: none;margin: 0;padding: 0;\">\n",
    "        <li>✍️ To run this notebook, you need to have Ponder installed and set up on your machine. If you have not done so already, please refer to our <a href=\"https://docs.ponder.io/getting_started/quickstart.html\">Quickstart guide</a> to get started.</li>\n",
    "        <li>📖 Otherwise, if you're just interested in browsing through the tutorial, keep reading below!</li>\n",
    "    </ul>\n",
    "</div>"
   ]
  },
  {
   "cell_type": "markdown",
   "id": "42201643-37bd-472c-b3f7-ba10cfeb309a",
   "metadata": {},
   "source": [
    "In this tutorial, we will showcase a few tips and tricks that helps you more easily move between Ponder and SQL. We will be using the [MIMIC-III demo dataset](https://physionet.org/content/mimiciii-demo/1.4/) as an example dataset. The MIMIC-III Clinical Database contains deidentified health-related data of patients who stayed in an intensive care unit (ICU) at the Beth Israel Deaconess Medical Center in Boston. The demo dataset contains records for 100 patients across three tables `PATIENTS`, `ICUSTAYS`, and `ADMISSIONS`. "
   ]
  },
  {
   "cell_type": "markdown",
   "id": "e13d4e70-9c07-4d8c-ae20-64a1fc60115f",
   "metadata": {
    "tags": []
   },
   "source": [
    "### Data Definition (DDL) with SQLAlchemy"
   ]
  },
  {
   "cell_type": "markdown",
   "id": "6119561b-0c30-45a6-8527-8d3a97dd1d5a",
   "metadata": {},
   "source": [
    "In SQL, DDL statements involve modifications to the database schema, e.g., `CREATE`, `ALTER`, `DROP`. Oftentimes, you may want to run a DDL statement alongside your analysis, either via an external query editor or through SQLAlchemy. \n",
    "\n"
   ]
  },
  {
   "cell_type": "code",
   "execution_count": 1,
   "id": "83b09b76-6230-42a0-bd92-6955f2532201",
   "metadata": {},
   "outputs": [],
   "source": [
    "# Install SQLAlchemy if you don't have it already\n",
    "! pip install --upgrade sqlalchemy-bigquery --quiet"
   ]
  },
  {
   "cell_type": "code",
   "execution_count": null,
   "id": "33b74b11-940d-4950-8f77-ff4c416551ef",
   "metadata": {
    "tags": []
   },
   "outputs": [],
   "source": [
    "import os; os.chdir(\"..\");"
   ]
  },
  {
   "cell_type": "code",
   "execution_count": 3,
   "id": "d97c4782-f733-4837-8d41-76a967aedec7",
   "metadata": {
    "tags": []
   },
   "outputs": [],
   "source": [
    "from sqlalchemy import create_engine\n",
    "engine = create_engine('bigquery://', credentials_path='credential.json')\n",
    "connection = engine.connect()"
   ]
  },
  {
   "cell_type": "markdown",
   "id": "bc3020f9-9694-4af2-9063-cddd19266ca0",
   "metadata": {},
   "source": [
    "Then we can run the SQL query directly to create a new dataset named `MIMIC3`"
   ]
  },
  {
   "cell_type": "code",
   "execution_count": null,
   "id": "5335f64e-74df-43a0-ab24-b434f2441dfd",
   "metadata": {},
   "outputs": [],
   "source": [
    "connection.execute(\"CREATE SCHEMA MIMIC3;\") "
   ]
  },
  {
   "cell_type": "markdown",
   "id": "7b3bde16-fe9f-4160-99b4-a4d56a1e7009",
   "metadata": {},
   "source": [
    "Now if we print out the list of datasets in our project, we can see the new dataset MIMIC3 added: "
   ]
  },
  {
   "cell_type": "code",
   "execution_count": 5,
   "id": "f2c656e5-b145-446b-a4ab-3065e60c4ce7",
   "metadata": {
    "tags": []
   },
   "outputs": [],
   "source": [
    "ret = connection.execute(\"SELECT schema_name FROM INFORMATION_SCHEMA.SCHEMATA;\") "
   ]
  },
  {
   "cell_type": "code",
   "execution_count": 6,
   "id": "fa1fb52b-32af-4901-9534-94edde038786",
   "metadata": {
    "tags": []
   },
   "outputs": [
    {
     "data": {
      "text/html": [
       "<div>\n",
       "<style scoped>\n",
       "    .dataframe tbody tr th:only-of-type {\n",
       "        vertical-align: middle;\n",
       "    }\n",
       "\n",
       "    .dataframe tbody tr th {\n",
       "        vertical-align: top;\n",
       "    }\n",
       "\n",
       "    .dataframe thead th {\n",
       "        text-align: right;\n",
       "    }\n",
       "</style>\n",
       "<table border=\"1\" class=\"dataframe\">\n",
       "  <thead>\n",
       "    <tr style=\"text-align: right;\">\n",
       "      <th></th>\n",
       "      <th>schema_name</th>\n",
       "    </tr>\n",
       "  </thead>\n",
       "  <tbody>\n",
       "    <tr>\n",
       "      <th>0</th>\n",
       "      <td>MIMIC3</td>\n",
       "    </tr>\n",
       "    <tr>\n",
       "      <th>1</th>\n",
       "      <td>PONDER</td>\n",
       "    </tr>\n",
       "    <tr>\n",
       "      <th>2</th>\n",
       "      <td>TEST</td>\n",
       "    </tr>\n",
       "  </tbody>\n",
       "</table>\n",
       "</div>"
      ],
      "text/plain": [
       "  schema_name\n",
       "0      MIMIC3\n",
       "1      PONDER\n",
       "2        TEST"
      ]
     },
     "execution_count": 6,
     "metadata": {},
     "output_type": "execute_result"
    }
   ],
   "source": [
    "import pandas\n",
    "pandas.DataFrame(ret.all())"
   ]
  },
  {
   "cell_type": "markdown",
   "id": "500047be-bb6a-496a-83cc-c169a58f4194",
   "metadata": {},
   "source": [
    "### Existing SQL DML with Ponder"
   ]
  },
  {
   "cell_type": "markdown",
   "id": "16afc971-155e-4efd-8175-9c2c0940122c",
   "metadata": {},
   "source": [
    "We will be using a few example tables for the remainder of this tutorial. You can run this python script to populate the required datasets to your database. This will populate three different tables `PATIENTS`, `ADMISSIONS`, and `ICUSTAYS` to your database. "
   ]
  },
  {
   "cell_type": "code",
   "execution_count": null,
   "id": "e222b37f-ca2a-4ef7-b7c3-d0b795eb5942",
   "metadata": {},
   "outputs": [],
   "source": [
    "!python populate_mimic3.py > /dev/null 2>&1"
   ]
  },
  {
   "cell_type": "markdown",
   "id": "19310b11-3fe3-46b3-8f03-9e939ff4a2c1",
   "metadata": {},
   "source": [
    "Oftentime, you may already have an existing SQL script that you've been using to join and denormalize some tables or perform some pre-aggregation or ETL before you perform your analysis. You want to reuse that SQL code while working with Ponder for the remaining analysis workflow. In this example, we show how you can feed this into the `pd.read_sql` to operate on the resulting table."
   ]
  },
  {
   "cell_type": "code",
   "execution_count": 7,
   "id": "488f3d7b-c470-4349-b41f-5dd1a96122e3",
   "metadata": {
    "tags": []
   },
   "outputs": [
    {
     "name": "stdout",
     "output_type": "stream",
     "text": [
      "2023-04-19 00:52:05,997 - <module ponder> - WARNING - New version of Ponder is available! `pip install --upgrade ponder` to install!\n"
     ]
    }
   ],
   "source": [
    "import ponder; ponder.init()\n",
    "import modin.pandas as pd\n",
    "from google.cloud import bigquery\n",
    "from google.cloud.bigquery import dbapi\n",
    "from google.oauth2 import service_account\n",
    "import json\n",
    "bigquery_con = dbapi.Connection(bigquery.Client(credentials=service_account.Credentials.from_service_account_info(json.loads(open(\"credential.json\").read()),scopes=[\"https://www.googleapis.com/auth/bigquery\"])))\n",
    "ponder.configure(bigquery_dataset='MIMIC3', default_connection=bigquery_con)"
   ]
  },
  {
   "cell_type": "markdown",
   "id": "846673b7-00bc-454d-b84b-4f87319edca5",
   "metadata": {},
   "source": [
    "For example, we may want to use [this existing SQL query](https://mimic.mit.edu/docs/iii/tutorials/intro-to-mimic-iii/#5-patient-age-and-mortality) from the MIT MIMIC-III tutorial to jumpstart our analysis. (We recommend that you omit the `;` at the end of the SQL statement to prevent potential errors.)"
   ]
  },
  {
   "cell_type": "code",
   "execution_count": 8,
   "id": "51691fd9-958d-4a6c-8ba7-76386892727c",
   "metadata": {},
   "outputs": [],
   "source": [
    "df = pd.read_sql('''SELECT p.subject_id, p.dob, a.hadm_id,\n",
    "                    a.admittime, p.expire_flag\n",
    "                    FROM `innate-empire-381416.MIMIC3.ADMISSIONS` a\n",
    "                    INNER JOIN `innate-empire-381416.MIMIC3.PATIENTS` p\n",
    "                    ON p.subject_id = a.subject_id''', con = bigquery_con)"
   ]
  },
  {
   "cell_type": "code",
   "execution_count": 9,
   "id": "f6aeee3e-c2ae-4331-80fb-445f1d941994",
   "metadata": {},
   "outputs": [
    {
     "data": {
      "text/html": [
       "<div>\n",
       "<style scoped>\n",
       "    .dataframe tbody tr th:only-of-type {\n",
       "        vertical-align: middle;\n",
       "    }\n",
       "\n",
       "    .dataframe tbody tr th {\n",
       "        vertical-align: top;\n",
       "    }\n",
       "\n",
       "    .dataframe thead th {\n",
       "        text-align: right;\n",
       "    }\n",
       "</style>\n",
       "<table border=\"1\" class=\"dataframe\">\n",
       "  <thead>\n",
       "    <tr style=\"text-align: right;\">\n",
       "      <th></th>\n",
       "      <th>subject_id</th>\n",
       "      <th>dob</th>\n",
       "      <th>hadm_id</th>\n",
       "      <th>admittime</th>\n",
       "      <th>expire_flag</th>\n",
       "    </tr>\n",
       "  </thead>\n",
       "  <tbody>\n",
       "    <tr>\n",
       "      <th>0</th>\n",
       "      <td>10040</td>\n",
       "      <td>2061-10-23 00:00:00</td>\n",
       "      <td>157839</td>\n",
       "      <td>2147-02-23 11:43:00</td>\n",
       "      <td>1</td>\n",
       "    </tr>\n",
       "    <tr>\n",
       "      <th>1</th>\n",
       "      <td>10013</td>\n",
       "      <td>2038-09-03 00:00:00</td>\n",
       "      <td>165520</td>\n",
       "      <td>2125-10-04 23:36:00</td>\n",
       "      <td>1</td>\n",
       "    </tr>\n",
       "    <tr>\n",
       "      <th>2</th>\n",
       "      <td>10042</td>\n",
       "      <td>2076-05-06 00:00:00</td>\n",
       "      <td>148562</td>\n",
       "      <td>2147-02-06 12:38:00</td>\n",
       "      <td>1</td>\n",
       "    </tr>\n",
       "    <tr>\n",
       "      <th>3</th>\n",
       "      <td>10064</td>\n",
       "      <td>2058-04-23 00:00:00</td>\n",
       "      <td>111761</td>\n",
       "      <td>2127-03-19 14:39:00</td>\n",
       "      <td>1</td>\n",
       "    </tr>\n",
       "    <tr>\n",
       "      <th>4</th>\n",
       "      <td>10067</td>\n",
       "      <td>2101-06-10 00:00:00</td>\n",
       "      <td>160442</td>\n",
       "      <td>2130-10-06 01:34:00</td>\n",
       "      <td>1</td>\n",
       "    </tr>\n",
       "    <tr>\n",
       "      <th>...</th>\n",
       "      <td>...</td>\n",
       "      <td>...</td>\n",
       "      <td>...</td>\n",
       "      <td>...</td>\n",
       "      <td>...</td>\n",
       "    </tr>\n",
       "    <tr>\n",
       "      <th>124</th>\n",
       "      <td>10056</td>\n",
       "      <td>2046-02-27 00:00:00</td>\n",
       "      <td>100375</td>\n",
       "      <td>2129-05-02 00:12:00</td>\n",
       "      <td>1</td>\n",
       "    </tr>\n",
       "    <tr>\n",
       "      <th>125</th>\n",
       "      <td>10088</td>\n",
       "      <td>2029-07-09 00:00:00</td>\n",
       "      <td>149044</td>\n",
       "      <td>2107-05-12 18:00:00</td>\n",
       "      <td>1</td>\n",
       "    </tr>\n",
       "    <tr>\n",
       "      <th>126</th>\n",
       "      <td>10088</td>\n",
       "      <td>2029-07-09 00:00:00</td>\n",
       "      <td>169938</td>\n",
       "      <td>2107-01-04 11:59:00</td>\n",
       "      <td>1</td>\n",
       "    </tr>\n",
       "    <tr>\n",
       "      <th>127</th>\n",
       "      <td>10088</td>\n",
       "      <td>2029-07-09 00:00:00</td>\n",
       "      <td>168233</td>\n",
       "      <td>2107-01-29 04:00:00</td>\n",
       "      <td>1</td>\n",
       "    </tr>\n",
       "    <tr>\n",
       "      <th>128</th>\n",
       "      <td>10044</td>\n",
       "      <td>2071-02-11 00:00:00</td>\n",
       "      <td>124073</td>\n",
       "      <td>2152-10-02 16:24:00</td>\n",
       "      <td>1</td>\n",
       "    </tr>\n",
       "  </tbody>\n",
       "</table>\n",
       "<p>129 rows x 5 columns</p>\n",
       "</div>"
      ],
      "text/plain": [
       "     subject_id                  dob  hadm_id            admittime  \\\n",
       "0         10040  2061-10-23 00:00:00   157839  2147-02-23 11:43:00   \n",
       "1         10013  2038-09-03 00:00:00   165520  2125-10-04 23:36:00   \n",
       "2         10042  2076-05-06 00:00:00   148562  2147-02-06 12:38:00   \n",
       "3         10064  2058-04-23 00:00:00   111761  2127-03-19 14:39:00   \n",
       "4         10067  2101-06-10 00:00:00   160442  2130-10-06 01:34:00   \n",
       "..          ...                  ...      ...                  ...   \n",
       "124       10056  2046-02-27 00:00:00   100375  2129-05-02 00:12:00   \n",
       "125       10088  2029-07-09 00:00:00   149044  2107-05-12 18:00:00   \n",
       "126       10088  2029-07-09 00:00:00   169938  2107-01-04 11:59:00   \n",
       "127       10088  2029-07-09 00:00:00   168233  2107-01-29 04:00:00   \n",
       "128       10044  2071-02-11 00:00:00   124073  2152-10-02 16:24:00   \n",
       "\n",
       "     expire_flag  \n",
       "0              1  \n",
       "1              1  \n",
       "2              1  \n",
       "3              1  \n",
       "4              1  \n",
       "..           ...  \n",
       "124            1  \n",
       "125            1  \n",
       "126            1  \n",
       "127            1  \n",
       "128            1  \n",
       "\n",
       "[129 rows x 5 columns]"
      ]
     },
     "execution_count": 9,
     "metadata": {},
     "output_type": "execute_result"
    }
   ],
   "source": [
    "df"
   ]
  },
  {
   "cell_type": "markdown",
   "id": "99e022f1-8bbf-4f97-b265-173415c00f6f",
   "metadata": {},
   "source": [
    "Then we can continue using Ponder by writing pandas as always."
   ]
  },
  {
   "cell_type": "code",
   "execution_count": 31,
   "id": "c8e01754-4685-418e-8d62-927914bfe894",
   "metadata": {
    "tags": []
   },
   "outputs": [],
   "source": [
    "df[\"age\"] = df[\"admittime\"].dt.year  - df[\"dob\"].dt.year"
   ]
  },
  {
   "cell_type": "code",
   "execution_count": 32,
   "id": "9a9efb8f-3f08-4c1f-a5a6-7ad76806d142",
   "metadata": {
    "tags": []
   },
   "outputs": [
    {
     "data": {
      "text/plain": [
       "0      86\n",
       "1      87\n",
       "2      71\n",
       "3      69\n",
       "4      29\n",
       "       ..\n",
       "124    83\n",
       "125    78\n",
       "126    78\n",
       "127    78\n",
       "128    81\n",
       "Name: age, Length: 129, dtype: Int64"
      ]
     },
     "execution_count": 32,
     "metadata": {},
     "output_type": "execute_result"
    }
   ],
   "source": [
    "df[\"age\"]"
   ]
  },
  {
   "cell_type": "markdown",
   "id": "5b6d7a31-9713-4932-b08e-26f6f4867601",
   "metadata": {},
   "source": [
    "### Working with multiple tables"
   ]
  },
  {
   "cell_type": "markdown",
   "id": "626f2c71-3a51-4e88-b38e-45b6c9197469",
   "metadata": {},
   "source": [
    "With Ponder, you can work with multiple tables at the same time by creating different dataframes using the `read_sql` or `read_csv` command."
   ]
  },
  {
   "cell_type": "code",
   "execution_count": 35,
   "id": "12f6b2e2-4e65-4aeb-9c66-e8656af36304",
   "metadata": {},
   "outputs": [],
   "source": [
    "patients = pd.read_sql(\"PATIENTS\", con=bigquery_con)\n",
    "admissions = pd.read_sql(\"ADMISSIONS\", con=bigquery_con)"
   ]
  },
  {
   "cell_type": "markdown",
   "id": "8bc6eb01-50fd-4b3c-bb99-b87f220e4915",
   "metadata": {},
   "source": [
    "Now we can work with these two dataframes in pandas. Here, we perform the same query as the SQL query above: \n",
    "```sql\n",
    "SELECT p.\"subject_id\", p.\"dob\", a.\"hadm_id\",\n",
    "        a.\"admittime\", p.\"expire_flag\"\n",
    "        FROM MIMIC3.PUBLIC.ADMISSIONS as a\n",
    "        INNER JOIN MIMIC3.PUBLIC.PATIENTS as p\n",
    "        ON p.\"subject_id\" = a.\"subject_id\"\n",
    "```"
   ]
  },
  {
   "cell_type": "code",
   "execution_count": 36,
   "id": "9a5620ba-ab16-4bcd-803d-023aa50e731e",
   "metadata": {
    "tags": []
   },
   "outputs": [
    {
     "data": {
      "text/html": [
       "<div>\n",
       "<style scoped>\n",
       "    .dataframe tbody tr th:only-of-type {\n",
       "        vertical-align: middle;\n",
       "    }\n",
       "\n",
       "    .dataframe tbody tr th {\n",
       "        vertical-align: top;\n",
       "    }\n",
       "\n",
       "    .dataframe thead th {\n",
       "        text-align: right;\n",
       "    }\n",
       "</style>\n",
       "<table border=\"1\" class=\"dataframe\">\n",
       "  <thead>\n",
       "    <tr style=\"text-align: right;\">\n",
       "      <th></th>\n",
       "      <th>subject_id</th>\n",
       "      <th>dob</th>\n",
       "      <th>hadm_id</th>\n",
       "      <th>admittime</th>\n",
       "      <th>expire_flag</th>\n",
       "    </tr>\n",
       "  </thead>\n",
       "  <tbody>\n",
       "    <tr>\n",
       "      <th>0</th>\n",
       "      <td>43870</td>\n",
       "      <td>2097-05-16 00:00:00</td>\n",
       "      <td>142633</td>\n",
       "      <td>2186-02-09 21:32:00</td>\n",
       "      <td>1</td>\n",
       "    </tr>\n",
       "    <tr>\n",
       "      <th>1</th>\n",
       "      <td>10112</td>\n",
       "      <td>2069-05-05 00:00:00</td>\n",
       "      <td>188574</td>\n",
       "      <td>2148-01-13 22:32:00</td>\n",
       "      <td>1</td>\n",
       "    </tr>\n",
       "    <tr>\n",
       "      <th>2</th>\n",
       "      <td>10127</td>\n",
       "      <td>2181-04-19 00:00:00</td>\n",
       "      <td>182839</td>\n",
       "      <td>2198-06-28 05:34:00</td>\n",
       "      <td>1</td>\n",
       "    </tr>\n",
       "    <tr>\n",
       "      <th>3</th>\n",
       "      <td>40612</td>\n",
       "      <td>2073-08-13 00:00:00</td>\n",
       "      <td>104697</td>\n",
       "      <td>2159-11-17 03:28:00</td>\n",
       "      <td>1</td>\n",
       "    </tr>\n",
       "    <tr>\n",
       "      <th>4</th>\n",
       "      <td>40687</td>\n",
       "      <td>2073-06-05 00:00:00</td>\n",
       "      <td>129273</td>\n",
       "      <td>2155-03-08 02:35:00</td>\n",
       "      <td>1</td>\n",
       "    </tr>\n",
       "    <tr>\n",
       "      <th>...</th>\n",
       "      <td>...</td>\n",
       "      <td>...</td>\n",
       "      <td>...</td>\n",
       "      <td>...</td>\n",
       "      <td>...</td>\n",
       "    </tr>\n",
       "    <tr>\n",
       "      <th>124</th>\n",
       "      <td>44222</td>\n",
       "      <td>2107-06-27 00:00:00</td>\n",
       "      <td>192189</td>\n",
       "      <td>2180-07-19 06:55:00</td>\n",
       "      <td>1</td>\n",
       "    </tr>\n",
       "    <tr>\n",
       "      <th>125</th>\n",
       "      <td>40177</td>\n",
       "      <td>2082-06-27 00:00:00</td>\n",
       "      <td>198480</td>\n",
       "      <td>2169-05-06 23:16:00</td>\n",
       "      <td>1</td>\n",
       "    </tr>\n",
       "    <tr>\n",
       "      <th>126</th>\n",
       "      <td>44083</td>\n",
       "      <td>2057-11-15 00:00:00</td>\n",
       "      <td>125157</td>\n",
       "      <td>2112-05-04 08:00:00</td>\n",
       "      <td>1</td>\n",
       "    </tr>\n",
       "    <tr>\n",
       "      <th>127</th>\n",
       "      <td>44083</td>\n",
       "      <td>2057-11-15 00:00:00</td>\n",
       "      <td>131048</td>\n",
       "      <td>2112-05-22 15:37:00</td>\n",
       "      <td>1</td>\n",
       "    </tr>\n",
       "    <tr>\n",
       "      <th>128</th>\n",
       "      <td>44083</td>\n",
       "      <td>2057-11-15 00:00:00</td>\n",
       "      <td>198330</td>\n",
       "      <td>2112-05-28 15:45:00</td>\n",
       "      <td>1</td>\n",
       "    </tr>\n",
       "  </tbody>\n",
       "</table>\n",
       "<p>129 rows x 5 columns</p>\n",
       "</div>"
      ],
      "text/plain": [
       "     subject_id                  dob  hadm_id            admittime  \\\n",
       "0         43870  2097-05-16 00:00:00   142633  2186-02-09 21:32:00   \n",
       "1         10112  2069-05-05 00:00:00   188574  2148-01-13 22:32:00   \n",
       "2         10127  2181-04-19 00:00:00   182839  2198-06-28 05:34:00   \n",
       "3         40612  2073-08-13 00:00:00   104697  2159-11-17 03:28:00   \n",
       "4         40687  2073-06-05 00:00:00   129273  2155-03-08 02:35:00   \n",
       "..          ...                  ...      ...                  ...   \n",
       "124       44222  2107-06-27 00:00:00   192189  2180-07-19 06:55:00   \n",
       "125       40177  2082-06-27 00:00:00   198480  2169-05-06 23:16:00   \n",
       "126       44083  2057-11-15 00:00:00   125157  2112-05-04 08:00:00   \n",
       "127       44083  2057-11-15 00:00:00   131048  2112-05-22 15:37:00   \n",
       "128       44083  2057-11-15 00:00:00   198330  2112-05-28 15:45:00   \n",
       "\n",
       "     expire_flag  \n",
       "0              1  \n",
       "1              1  \n",
       "2              1  \n",
       "3              1  \n",
       "4              1  \n",
       "..           ...  \n",
       "124            1  \n",
       "125            1  \n",
       "126            1  \n",
       "127            1  \n",
       "128            1  \n",
       "\n",
       "[129 rows x 5 columns]"
      ]
     },
     "execution_count": 36,
     "metadata": {},
     "output_type": "execute_result"
    }
   ],
   "source": [
    "patients.merge(admissions,on=\"subject_id\")[[\"subject_id\", \"dob\", \"hadm_id\",\"admittime\", \"expire_flag\"]]"
   ]
  }
 ],
 "metadata": {
  "kernelspec": {
   "display_name": "Python 3 (ipykernel)",
   "language": "python",
   "name": "python3"
  },
  "language_info": {
   "codemirror_mode": {
    "name": "ipython",
    "version": 3
   },
   "file_extension": ".py",
   "mimetype": "text/x-python",
   "name": "python",
   "nbconvert_exporter": "python",
   "pygments_lexer": "ipython3",
   "version": "3.10.6"
  }
 },
 "nbformat": 4,
 "nbformat_minor": 5
}
